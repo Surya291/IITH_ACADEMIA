{
 "cells": [
  {
   "cell_type": "code",
   "execution_count": 1,
   "metadata": {},
   "outputs": [],
   "source": [
    "### imports here !!!\n",
    "\n",
    "import numpy as np\n",
    "import matplotlib.pyplot as plt\n",
    "import numpy.random as rand \n",
    "from sympy import Matrix, init_printing\n",
    "pi = np.pi    #### for easier coding\n",
    "exp = np.exp"
   ]
  },
  {
   "cell_type": "markdown",
   "metadata": {},
   "source": [
    "#  Instructions:\n",
    "### Enter parameters , dim is indirectly determined , K = 3"
   ]
  },
  {
   "cell_type": "code",
   "execution_count": 26,
   "metadata": {},
   "outputs": [],
   "source": [
    "################################## \n",
    "## Code for data generation\n",
    "#################################\n",
    "\n",
    "#### mini function to choose which 'k'\n",
    "def generate_K(p1,p2,n):   #### Genrates X , K = no.of mixtures, p1=pi_1, p2 = pi_2 ,p3 = 1 - pi_1 -pi_2\n",
    "    \n",
    "    U = rand.uniform(0,1,size = n)\n",
    "    K = np.zeros((U.shape),dtype = np.uint8)\n",
    "    Color= np.zeros((U.shape),dtype = str) #### colors for plotting data , only for 2D\n",
    "\n",
    "    \n",
    "    for i in range(len(U)):\n",
    "\n",
    "        u = U[i]\n",
    "        if(u<=p1):\n",
    "            K[i] = 0\n",
    "            Color[i] = 'r'\n",
    "        elif (u<= p1+ p2 and u> p1):\n",
    "            K[i] = 1\n",
    "            Color[i] = 'b'\n",
    "        else :\n",
    "            K[i] = 2\n",
    "            Color[i] = 'g'\n",
    "    return K,Color\n",
    "\n",
    "\n",
    "## Generates the whole mixture of points after generating 'k\n",
    "def generate_points_in_mixture(K,M,C):## Generated clusters , M mean matrix , C cov matrix\n",
    "    n = len(K)\n",
    "    \n",
    "    data = np.zeros((n,dim))\n",
    "    \n",
    "    for i in range(n):\n",
    "        \n",
    "        mean = M[K[i]]\n",
    "        cov  = C[K[i]]\n",
    "        data[i] = np.random.multivariate_normal(mean, cov, 1)\n",
    "        \n",
    "    return data\n",
    "\n",
    "\n",
    "####### displays the parameters.\n",
    "def display_param(theta_actual,title):\n",
    "    theta = theta_actual.copy()\n",
    "    \n",
    "    K,_ = np.shape(theta)\n",
    "    \n",
    "   #print(np.shape(theta[0][1])) \n",
    "    \n",
    "    \n",
    "    print('##########################################################')\n",
    "    print('################# %s ##################'%title)\n",
    "    print('##########################################################\\n')\n",
    "    for i in range(K):\n",
    "        print('******************* K = %d *******************'%(i+1) )\n",
    "        print('\\u03C0%d = %.2f' %(i+1,theta[i][0]) )\n",
    "        print ('\\u03BC%d = '%(i+1), end = '')\n",
    "        mean = np.reshape(theta[i][1],(1,dim))\n",
    "        display( Matrix (mean) )\n",
    "        print ('\\u03A3%d = '%(i+1), end = '')\n",
    "        display( Matrix (theta[i][2]) )\n",
    "    "
   ]
  },
  {
   "cell_type": "markdown",
   "metadata": {},
   "source": [
    "### Here Ive generated data , and displayed it.\n",
    "### K is indirectly defined by your inputs of pi_1,pi_2,pi_3 --> K=3\n",
    "\n",
    "## Data generation and displaying actual param\n"
   ]
  },
  {
   "cell_type": "code",
   "execution_count": 31,
   "metadata": {},
   "outputs": [
    {
     "name": "stdout",
     "output_type": "stream",
     "text": [
      "##########################################################\n",
      "################# Ground truth param ##################\n",
      "##########################################################\n",
      "\n",
      "******************* K = 1 *******************\n",
      "π1 = 0.10\n",
      "μ1 = "
     ]
    },
    {
     "data": {
      "text/latex": [
       "$\\displaystyle \\left[\\begin{matrix}-5 & 0\\end{matrix}\\right]$"
      ],
      "text/plain": [
       "Matrix([[-5, 0]])"
      ]
     },
     "metadata": {},
     "output_type": "display_data"
    },
    {
     "name": "stdout",
     "output_type": "stream",
     "text": [
      "Σ1 = "
     ]
    },
    {
     "data": {
      "text/latex": [
       "$\\displaystyle \\left[\\begin{matrix}1.0 & 0.7\\\\0.7 & 1.0\\end{matrix}\\right]$"
      ],
      "text/plain": [
       "Matrix([\n",
       "[1.0, 0.7],\n",
       "[0.7, 1.0]])"
      ]
     },
     "metadata": {},
     "output_type": "display_data"
    },
    {
     "name": "stdout",
     "output_type": "stream",
     "text": [
      "******************* K = 2 *******************\n",
      "π2 = 0.30\n",
      "μ2 = "
     ]
    },
    {
     "data": {
      "text/latex": [
       "$\\displaystyle \\left[\\begin{matrix}0 & 5\\end{matrix}\\right]$"
      ],
      "text/plain": [
       "Matrix([[0, 5]])"
      ]
     },
     "metadata": {},
     "output_type": "display_data"
    },
    {
     "name": "stdout",
     "output_type": "stream",
     "text": [
      "Σ2 = "
     ]
    },
    {
     "data": {
      "text/latex": [
       "$\\displaystyle \\left[\\begin{matrix}1.0 & 0.0\\\\0.0 & 0.4\\end{matrix}\\right]$"
      ],
      "text/plain": [
       "Matrix([\n",
       "[1.0, 0.0],\n",
       "[0.0, 0.4]])"
      ]
     },
     "metadata": {},
     "output_type": "display_data"
    },
    {
     "name": "stdout",
     "output_type": "stream",
     "text": [
      "******************* K = 3 *******************\n",
      "π3 = 0.60\n",
      "μ3 = "
     ]
    },
    {
     "data": {
      "text/latex": [
       "$\\displaystyle \\left[\\begin{matrix}5 & 0\\end{matrix}\\right]$"
      ],
      "text/plain": [
       "Matrix([[5, 0]])"
      ]
     },
     "metadata": {},
     "output_type": "display_data"
    },
    {
     "name": "stdout",
     "output_type": "stream",
     "text": [
      "Σ3 = "
     ]
    },
    {
     "data": {
      "text/latex": [
       "$\\displaystyle \\left[\\begin{matrix}1.0 & 0.0\\\\0.0 & 1.0\\end{matrix}\\right]$"
      ],
      "text/plain": [
       "Matrix([\n",
       "[1.0, 0.0],\n",
       "[0.0, 1.0]])"
      ]
     },
     "metadata": {},
     "output_type": "display_data"
    },
    {
     "data": {
      "image/png": "[encoded data removed]",
      "text/plain": [
       "<Figure size 432x288 with 1 Axes>"
      ]
     },
     "metadata": {
      "needs_background": "light"
     },
     "output_type": "display_data"
    }
   ],
   "source": [
    "#####################################\n",
    "######  Generating Data with the following parameters...\n",
    "### input should be K, and parameters to generate data .\n",
    "#####################################\n",
    "\n",
    "######## Displaying actual parameters : \n",
    "\n",
    "K = 3\n",
    "\n",
    "\n",
    "#Input actual parameters to generate data : \n",
    "\n",
    "'''\n",
    "# For 1D:\n",
    "pi_1 = 0.1\n",
    "mu_1 = np.array([-5])\n",
    "C_1 = np.array([1])\n",
    "\n",
    "pi_2 = 0.2\n",
    "mu_2 = np.array([5])\n",
    "C_2 = np.array([1])\n",
    "\n",
    "pi_3 = 0.7\n",
    "mu_3 = np.array([0])\n",
    "C_3 = np.array([1])\n",
    "\n",
    "'''\n",
    "\n",
    "\n",
    "#For 2D :\n",
    "\n",
    "pi_1 = 0.1\n",
    "mu_1 = np.array([-5,0])\n",
    "dim = mu_1.size\n",
    "C_1  = np.array([[1,0.7],[0.7,1]])\n",
    "\n",
    "pi_2 = 0.3\n",
    "mu_2 = np.array([0,5])\n",
    "C_2  = np.array([[1,0],[0,0.4]])\n",
    "\n",
    "pi_3 = 0.6\n",
    "mu_3 = np.array([5,0])\n",
    "C_3  = np.identity(dim)\n",
    "\n",
    "\n",
    "\n",
    "\n",
    "\n",
    "## For 3D : \n",
    "'''\n",
    "pi_1 = 0.1\n",
    "mu_1 = np.array([-5,0,0])\n",
    "dim = mu_1.size\n",
    "C_1 = np.identity(dim)\n",
    "\n",
    "pi_2 = 0.2\n",
    "mu_2 = np.array([0,5,0])\n",
    "C_2 = np.identity(dim)\n",
    "\n",
    "pi_3 = 0.7\n",
    "mu_3 = np.array([0,0,5])\n",
    "C_3 = np.identity(dim)\n",
    "'''\n",
    "\n",
    "\n",
    "\n",
    "####################################################################################\n",
    "\n",
    "dim = mu_1.size\n",
    "\n",
    "theta_1 = np.array([pi_1,mu_1,C_1])\n",
    "theta_2 = np.array([pi_2,mu_2,C_2])\n",
    "theta_3 = np.array([pi_3,mu_3,C_3])\n",
    "\n",
    "theta_actual = np.array([theta_1,theta_2,theta_3])\n",
    "\n",
    "display_param(theta_actual,'Ground truth param') ### displays parameter\n",
    "\n",
    "######## Creating Data\n",
    "k,color = generate_K(pi_1,pi_2,5000)\n",
    "M = np.array( [mu_1,mu_2,mu_3] )\n",
    "\n",
    "C = np.zeros((K,dim,dim))\n",
    "C[0] = C_1\n",
    "C[1] = C_2\n",
    "C[2] = C_3\n",
    "\n",
    "Data = generate_points_in_mixture(k,M,C) \n",
    "\n",
    "###### Plotting Data :  IMP :Valid for 2 dimensional case..\n",
    "if (dim == 2):\n",
    "    plt.scatter(Data[:,0],Data[:,1],c = color)\n",
    "    plt.title('Data as a gaussian mixture\\n ')\n",
    "    plt.show()\n"
   ]
  },
  {
   "cell_type": "markdown",
   "metadata": {},
   "source": [
    "### Initialising parameters"
   ]
  },
  {
   "cell_type": "code",
   "execution_count": 32,
   "metadata": {},
   "outputs": [
    {
     "name": "stdout",
     "output_type": "stream",
     "text": [
      "##########################################################\n",
      "################# Initialised parameter ##################\n",
      "##########################################################\n",
      "\n",
      "******************* K = 1 *******************\n",
      "π1 = 0.33\n",
      "μ1 = "
     ]
    },
    {
     "data": {
      "text/latex": [
       "$\\displaystyle \\left[\\begin{matrix}-5 & -1\\end{matrix}\\right]$"
      ],
      "text/plain": [
       "Matrix([[-5, -1]])"
      ]
     },
     "metadata": {},
     "output_type": "display_data"
    },
    {
     "name": "stdout",
     "output_type": "stream",
     "text": [
      "Σ1 = "
     ]
    },
    {
     "data": {
      "text/latex": [
       "$\\displaystyle \\left[\\begin{matrix}1.0 & 0.0\\\\0.0 & 1.0\\end{matrix}\\right]$"
      ],
      "text/plain": [
       "Matrix([\n",
       "[1.0, 0.0],\n",
       "[0.0, 1.0]])"
      ]
     },
     "metadata": {},
     "output_type": "display_data"
    },
    {
     "name": "stdout",
     "output_type": "stream",
     "text": [
      "******************* K = 2 *******************\n",
      "π2 = 0.33\n",
      "μ2 = "
     ]
    },
    {
     "data": {
      "text/latex": [
       "$\\displaystyle \\left[\\begin{matrix}1 & 5\\end{matrix}\\right]$"
      ],
      "text/plain": [
       "Matrix([[1, 5]])"
      ]
     },
     "metadata": {},
     "output_type": "display_data"
    },
    {
     "name": "stdout",
     "output_type": "stream",
     "text": [
      "Σ2 = "
     ]
    },
    {
     "data": {
      "text/latex": [
       "$\\displaystyle \\left[\\begin{matrix}1.0 & 0.0\\\\0.0 & 1.0\\end{matrix}\\right]$"
      ],
      "text/plain": [
       "Matrix([\n",
       "[1.0, 0.0],\n",
       "[0.0, 1.0]])"
      ]
     },
     "metadata": {},
     "output_type": "display_data"
    },
    {
     "name": "stdout",
     "output_type": "stream",
     "text": [
      "******************* K = 3 *******************\n",
      "π3 = 0.33\n",
      "μ3 = "
     ]
    },
    {
     "data": {
      "text/latex": [
       "$\\displaystyle \\left[\\begin{matrix}4 & 0\\end{matrix}\\right]$"
      ],
      "text/plain": [
       "Matrix([[4, 0]])"
      ]
     },
     "metadata": {},
     "output_type": "display_data"
    },
    {
     "name": "stdout",
     "output_type": "stream",
     "text": [
      "Σ3 = "
     ]
    },
    {
     "data": {
      "text/latex": [
       "$\\displaystyle \\left[\\begin{matrix}1.0 & 0.0\\\\0.0 & 1.0\\end{matrix}\\right]$"
      ],
      "text/plain": [
       "Matrix([\n",
       "[1.0, 0.0],\n",
       "[0.0, 1.0]])"
      ]
     },
     "metadata": {},
     "output_type": "display_data"
    }
   ],
   "source": [
    "#theta_init = [theta_1,theta_2,theta_3]\n",
    "\n",
    "############ initialising parameters.. as theta_init\n",
    "\n",
    "## For 1 Dim\n",
    "'''\n",
    "pi_1 = 0.1\n",
    "mu_1 = np.array([-5])\n",
    "C_1 = np.array([[1]])\n",
    "\n",
    "pi_2 = 0.2\n",
    "mu_2 = np.array([5])\n",
    "C_2 = np.array([[1]])\n",
    "\n",
    "pi_3 = 0.7\n",
    "mu_3 = np.array([0])\n",
    "C_3 = np.array([[1]])\n",
    "'''\n",
    "\n",
    "#For 2D \n",
    "\n",
    "\n",
    "pi_1 = 0.33\n",
    "mu_1 = np.array([-5,-1])\n",
    "C_1  = np.identity(dim)\n",
    "\n",
    "pi_2 = 0.33\n",
    "mu_2 = np.array([1,5])\n",
    "C_2  = np.identity(dim)\n",
    "\n",
    "pi_3 = 0.33\n",
    "mu_3 = np.array([4,0])\n",
    "C_3  = np.identity(dim)\n",
    "\n",
    "\n",
    "\n",
    "\n",
    "## For 3D : \n",
    "'''\n",
    "pi_1 = 0.33\n",
    "mu_1 = np.array([-7,0,1])\n",
    "dim = mu_1.size\n",
    "C_1 = np.identity(dim)\n",
    "\n",
    "pi_2 = 0.33\n",
    "mu_2 = np.array([1,4,0])\n",
    "C_2 = np.identity(dim)\n",
    "\n",
    "pi_3 = 0.33\n",
    "mu_3 = np.array([-2,0.5,6])\n",
    "C_3 = np.identity(dim)\n",
    "'''\n",
    "\n",
    "\n",
    "\n",
    "theta_1 = np.array([pi_1,mu_1,C_1])\n",
    "theta_2 = np.array([pi_2,mu_2,C_2])\n",
    "theta_3 = np.array([pi_3,mu_3,C_3])\n",
    "\n",
    "theta_init = np.array([theta_1,theta_2,theta_3])\n",
    "\n",
    "display_param(theta_init,'Initialised parameter') ### displays parameter\n"
   ]
  },
  {
   "cell_type": "markdown",
   "metadata": {},
   "source": [
    "###  Code for Expectation Maximisation"
   ]
  },
  {
   "cell_type": "code",
   "execution_count": 19,
   "metadata": {},
   "outputs": [],
   "source": [
    "def find_lkhood(x,Theta_k):\n",
    "    theta_k = Theta_k.copy()\n",
    "    pi_k,mu_k,C_k = theta_k\n",
    "    d = x.size\n",
    "    #print(C_k)\n",
    "        \n",
    "    f_x = pi_k * ( (1/(2*pi))**(d/2) ) * (np.linalg.det(C_k)**-0.5) * exp(-0.5*( (x-mu_k)@np.linalg.inv(C_k)@np.transpose(x-mu_k) ))\n",
    "    #f_x = pi_k* ((1/(2*pi))**(d/2)) * (np.linalg.det(C_k)**-0.5)\n",
    "    return f_x\n",
    "\n",
    "def find_Gamma(X,Theta):  #### finding gamma vector\n",
    "    theta = Theta.copy()\n",
    "    N,d = X.shape\n",
    "    K,_ = np.shape(theta)\n",
    "    \n",
    "    L = np.zeros((N,K))\n",
    "    Sum = np.zeros((N))\n",
    "    for n in range(N):\n",
    "        \n",
    "        for k in range(K):\n",
    "            \n",
    "            L[n][k] = find_lkhood(X[n],theta[k])\n",
    "\n",
    "            Sum[n] = Sum[n] + L[n][k]\n",
    "        L[n,:] = L[n,:]/Sum[n]\n",
    "    \n",
    "    return L,Sum\n",
    "    \n",
    "\n",
    "def find_Logloss(Sum):   ######  finding log loss\n",
    "    log_sum = np.log(Sum)\n",
    "    return np.sum(log_sum)\n",
    "\n",
    "\n",
    "def find_NK(Gamma_actual):\n",
    "    Gamma = Gamma_actual.copy()\n",
    "    N,K = Gamma.shape\n",
    "    NK = np.zeros(K)\n",
    "    \n",
    "    for i in range(K):\n",
    "        NK[i] = np.sum(Gamma[:,i])\n",
    "    return NK\n",
    "    \n",
    "def vectorize_mean(mu_vec,X):\n",
    "    v = np.ones((X.shape))\n",
    "    return mu_vec*v\n",
    "\n",
    "def vector_dot_product(g,x):\n",
    "    n,d = x.shape\n",
    "    x_cap = x.copy()\n",
    "    for i in range(d):\n",
    "        x_cap[:,i] = x_cap[:,i]*g\n",
    "    return(x_cap) \n",
    "\n",
    "    \n",
    "def find_param(X,Gamma_actual,NK_actual):  ########## Finding parameters from gamma matrix\n",
    "    Gamma = Gamma_actual.copy()\n",
    "    NK = NK_actual.copy()\n",
    "    N,K = Gamma.shape\n",
    "    theta = []\n",
    "    for k in range(K):\n",
    "        pi_k = NK[k]/N\n",
    "        mu_k = (np.transpose(X)@(Gamma[:,k]) )/ (NK[k])\n",
    "        \n",
    "        mu_vec = vectorize_mean(mu_k,X)\n",
    "        \n",
    "        C_k = np.transpose(X-mu_vec)@vector_dot_product(Gamma[:,k],(X-mu_vec) )\n",
    "        C_k = C_k/NK[k]\n",
    "        \n",
    "        theta_k = np.array([pi_k,mu_k,C_k])\n",
    "        theta.append(theta_k)\n",
    "        \n",
    "        \n",
    "    return theta\n",
    "\n",
    "\n",
    "def print_parameter(theta,loss,i):     ########### Displaying parameters\n",
    "    K,_ = np.shape(theta)\n",
    "    dim = theta[0][1].size\n",
    "    print('##########################################################')\n",
    "    print('#################### Iteration : %d #######################'%i)\n",
    "    print('################# Log Loss : %.2f ###################'%loss)\n",
    "    print('##########################################################\\n')\n",
    "    for i in range(K):\n",
    "        print('******************* K = %d *******************'%(i+1) )\n",
    "        print('\\u03C0%d = %.2f' %(i+1,theta[i][0]) )\n",
    "        print ('\\u03BC%d = '%(i+1), end = '')\n",
    "        mean = np.reshape(theta[i][1],(1,dim))\n",
    "        display( Matrix (mean) )\n",
    "        print ('\\u03A3%d = '%(i+1), end = '')\n",
    "        display( Matrix (theta[i][2]) )"
   ]
  },
  {
   "cell_type": "markdown",
   "metadata": {},
   "source": [
    "### Bringing everything together.. "
   ]
  },
  {
   "cell_type": "code",
   "execution_count": 33,
   "metadata": {
    "scrolled": false
   },
   "outputs": [
    {
     "name": "stdout",
     "output_type": "stream",
     "text": [
      "##########################################################\n",
      "#################### Iteration : 1 #######################\n",
      "################# Log Loss : -21910.27 ###################\n",
      "##########################################################\n",
      "\n",
      "******************* K = 1 *******************\n",
      "π1 = 0.10\n",
      "μ1 = "
     ]
    },
    {
     "data": {
      "text/latex": [
       "$\\displaystyle \\left[\\begin{matrix}-5.04598364996428 & -0.0210628081003382\\end{matrix}\\right]$"
      ],
      "text/plain": [
       "Matrix([[-5.04598364996428, -0.0210628081003382]])"
      ]
     },
     "metadata": {},
     "output_type": "display_data"
    },
    {
     "name": "stdout",
     "output_type": "stream",
     "text": [
      "Σ1 = "
     ]
    },
    {
     "data": {
      "text/latex": [
       "$\\displaystyle \\left[\\begin{matrix}1.04069702089649 & 0.698032172010868\\\\0.698032172010868 & 0.956483046880678\\end{matrix}\\right]$"
      ],
      "text/plain": [
       "Matrix([\n",
       "[ 1.04069702089649, 0.698032172010868],\n",
       "[0.698032172010868, 0.956483046880678]])"
      ]
     },
     "metadata": {},
     "output_type": "display_data"
    },
    {
     "name": "stdout",
     "output_type": "stream",
     "text": [
      "******************* K = 2 *******************\n",
      "π2 = 0.29\n",
      "μ2 = "
     ]
    },
    {
     "data": {
      "text/latex": [
       "$\\displaystyle \\left[\\begin{matrix}-0.0135822242079122 & 4.99584262140065\\end{matrix}\\right]$"
      ],
      "text/plain": [
       "Matrix([[-0.0135822242079122, 4.99584262140065]])"
      ]
     },
     "metadata": {},
     "output_type": "display_data"
    },
    {
     "name": "stdout",
     "output_type": "stream",
     "text": [
      "Σ2 = "
     ]
    },
    {
     "data": {
      "text/latex": [
       "$\\displaystyle \\left[\\begin{matrix}1.07012203789926 & 0.0368656474633918\\\\0.0368656474633918 & 0.414312009039734\\end{matrix}\\right]$"
      ],
      "text/plain": [
       "Matrix([\n",
       "[  1.07012203789926, 0.0368656474633918],\n",
       "[0.0368656474633918,  0.414312009039734]])"
      ]
     },
     "metadata": {},
     "output_type": "display_data"
    },
    {
     "name": "stdout",
     "output_type": "stream",
     "text": [
      "******************* K = 3 *******************\n",
      "π3 = 0.60\n",
      "μ3 = "
     ]
    },
    {
     "data": {
      "text/latex": [
       "$\\displaystyle \\left[\\begin{matrix}5.00037430084637 & 0.0237024388029925\\end{matrix}\\right]$"
      ],
      "text/plain": [
       "Matrix([[5.00037430084637, 0.0237024388029925]])"
      ]
     },
     "metadata": {},
     "output_type": "display_data"
    },
    {
     "name": "stdout",
     "output_type": "stream",
     "text": [
      "Σ3 = "
     ]
    },
    {
     "data": {
      "text/latex": [
       "$\\displaystyle \\left[\\begin{matrix}1.00604708126622 & 0.0297948808471233\\\\0.0297948808471233 & 1.02818908721645\\end{matrix}\\right]$"
      ],
      "text/plain": [
       "Matrix([\n",
       "[  1.00604708126622, 0.0297948808471233],\n",
       "[0.0297948808471233,   1.02818908721645]])"
      ]
     },
     "metadata": {},
     "output_type": "display_data"
    },
    {
     "name": "stdout",
     "output_type": "stream",
     "text": [
      "##########################################################\n",
      "#################### Iteration : 2 #######################\n",
      "################# Log Loss : -17928.49 ###################\n",
      "##########################################################\n",
      "\n",
      "******************* K = 1 *******************\n",
      "π1 = 0.10\n",
      "μ1 = "
     ]
    },
    {
     "data": {
      "text/latex": [
       "$\\displaystyle \\left[\\begin{matrix}-5.0328380328714 & -0.00688318861591034\\end{matrix}\\right]$"
      ],
      "text/plain": [
       "Matrix([[-5.0328380328714, -0.00688318861591034]])"
      ]
     },
     "metadata": {},
     "output_type": "display_data"
    },
    {
     "name": "stdout",
     "output_type": "stream",
     "text": [
      "Σ1 = "
     ]
    },
    {
     "data": {
      "text/latex": [
       "$\\displaystyle \\left[\\begin{matrix}1.06983747837819 & 0.729823165695302\\\\0.729823165695302 & 0.991085689655971\\end{matrix}\\right]$"
      ],
      "text/plain": [
       "Matrix([\n",
       "[ 1.06983747837819, 0.729823165695302],\n",
       "[0.729823165695302, 0.991085689655971]])"
      ]
     },
     "metadata": {},
     "output_type": "display_data"
    },
    {
     "name": "stdout",
     "output_type": "stream",
     "text": [
      "******************* K = 2 *******************\n",
      "π2 = 0.29\n",
      "μ2 = "
     ]
    },
    {
     "data": {
      "text/latex": [
       "$\\displaystyle \\left[\\begin{matrix}-0.0141633467745915 & 5.00242777583625\\end{matrix}\\right]$"
      ],
      "text/plain": [
       "Matrix([[-0.0141633467745915, 5.00242777583625]])"
      ]
     },
     "metadata": {},
     "output_type": "display_data"
    },
    {
     "name": "stdout",
     "output_type": "stream",
     "text": [
      "Σ2 = "
     ]
    },
    {
     "data": {
      "text/latex": [
       "$\\displaystyle \\left[\\begin{matrix}1.04222509915745 & 0.0360296915331297\\\\0.0360296915331297 & 0.401200387578518\\end{matrix}\\right]$"
      ],
      "text/plain": [
       "Matrix([\n",
       "[  1.04222509915745, 0.0360296915331297],\n",
       "[0.0360296915331297,  0.401200387578518]])"
      ]
     },
     "metadata": {},
     "output_type": "display_data"
    },
    {
     "name": "stdout",
     "output_type": "stream",
     "text": [
      "******************* K = 3 *******************\n",
      "π3 = 0.61\n",
      "μ3 = "
     ]
    },
    {
     "data": {
      "text/latex": [
       "$\\displaystyle \\left[\\begin{matrix}4.99955433755989 & 0.0257663491207064\\end{matrix}\\right]$"
      ],
      "text/plain": [
       "Matrix([[4.99955433755989, 0.0257663491207064]])"
      ]
     },
     "metadata": {},
     "output_type": "display_data"
    },
    {
     "name": "stdout",
     "output_type": "stream",
     "text": [
      "Σ3 = "
     ]
    },
    {
     "data": {
      "text/latex": [
       "$\\displaystyle \\left[\\begin{matrix}1.00662538255463 & 0.0272421902689792\\\\0.0272421902689792 & 1.03412414260289\\end{matrix}\\right]$"
      ],
      "text/plain": [
       "Matrix([\n",
       "[  1.00662538255463, 0.0272421902689792],\n",
       "[0.0272421902689792,   1.03412414260289]])"
      ]
     },
     "metadata": {},
     "output_type": "display_data"
    },
    {
     "name": "stdout",
     "output_type": "stream",
     "text": [
      "##########################################################\n",
      "#################### Iteration : 3 #######################\n",
      "################# Log Loss : -17927.43 ###################\n",
      "##########################################################\n",
      "\n",
      "******************* K = 1 *******************\n",
      "π1 = 0.10\n",
      "μ1 = "
     ]
    },
    {
     "data": {
      "text/latex": [
       "$\\displaystyle \\left[\\begin{matrix}-5.03153103999078 & -0.00534640453715871\\end{matrix}\\right]$"
      ],
      "text/plain": [
       "Matrix([[-5.03153103999078, -0.00534640453715871]])"
      ]
     },
     "metadata": {},
     "output_type": "display_data"
    },
    {
     "name": "stdout",
     "output_type": "stream",
     "text": [
      "Σ1 = "
     ]
    },
    {
     "data": {
      "text/latex": [
       "$\\displaystyle \\left[\\begin{matrix}1.07305979552496 & 0.7335627974039\\\\0.7335627974039 & 0.995461466973777\\end{matrix}\\right]$"
      ],
      "text/plain": [
       "Matrix([\n",
       "[1.07305979552496,   0.7335627974039],\n",
       "[ 0.7335627974039, 0.995461466973777]])"
      ]
     },
     "metadata": {},
     "output_type": "display_data"
    },
    {
     "name": "stdout",
     "output_type": "stream",
     "text": [
      "******************* K = 2 *******************\n",
      "π2 = 0.29\n",
      "μ2 = "
     ]
    },
    {
     "data": {
      "text/latex": [
       "$\\displaystyle \\left[\\begin{matrix}-0.0138046744296454 & 5.00277327254301\\end{matrix}\\right]$"
      ],
      "text/plain": [
       "Matrix([[-0.0138046744296454, 5.00277327254301]])"
      ]
     },
     "metadata": {},
     "output_type": "display_data"
    },
    {
     "name": "stdout",
     "output_type": "stream",
     "text": [
      "Σ2 = "
     ]
    },
    {
     "data": {
      "text/latex": [
       "$\\displaystyle \\left[\\begin{matrix}1.04123630822603 & 0.035361248689787\\\\0.035361248689787 & 0.400617439416538\\end{matrix}\\right]$"
      ],
      "text/plain": [
       "Matrix([\n",
       "[ 1.04123630822603, 0.035361248689787],\n",
       "[0.035361248689787, 0.400617439416538]])"
      ]
     },
     "metadata": {},
     "output_type": "display_data"
    },
    {
     "name": "stdout",
     "output_type": "stream",
     "text": [
      "******************* K = 3 *******************\n",
      "π3 = 0.61\n",
      "μ3 = "
     ]
    },
    {
     "data": {
      "text/latex": [
       "$\\displaystyle \\left[\\begin{matrix}4.99954168484872 & 0.0257882950492667\\end{matrix}\\right]$"
      ],
      "text/plain": [
       "Matrix([[4.99954168484872, 0.0257882950492667]])"
      ]
     },
     "metadata": {},
     "output_type": "display_data"
    },
    {
     "name": "stdout",
     "output_type": "stream",
     "text": [
      "Σ3 = "
     ]
    },
    {
     "data": {
      "text/latex": [
       "$\\displaystyle \\left[\\begin{matrix}1.00664449455842 & 0.027201221240266\\\\0.027201221240266 & 1.03418814813151\\end{matrix}\\right]$"
      ],
      "text/plain": [
       "Matrix([\n",
       "[ 1.00664449455842, 0.027201221240266],\n",
       "[0.027201221240266,  1.03418814813151]])"
      ]
     },
     "metadata": {},
     "output_type": "display_data"
    },
    {
     "name": "stdout",
     "output_type": "stream",
     "text": [
      "##########################################################\n",
      "#################### Iteration : 4 #######################\n",
      "################# Log Loss : -17927.42 ###################\n",
      "##########################################################\n",
      "\n",
      "******************* K = 1 *******************\n",
      "π1 = 0.10\n",
      "μ1 = "
     ]
    },
    {
     "data": {
      "text/latex": [
       "$\\displaystyle \\left[\\begin{matrix}-5.03140264779007 & -0.00519835220559832\\end{matrix}\\right]$"
      ],
      "text/plain": [
       "Matrix([[-5.03140264779007, -0.00519835220559832]])"
      ]
     },
     "metadata": {},
     "output_type": "display_data"
    },
    {
     "name": "stdout",
     "output_type": "stream",
     "text": [
      "Σ1 = "
     ]
    },
    {
     "data": {
      "text/latex": [
       "$\\displaystyle \\left[\\begin{matrix}1.07338758465212 & 0.733936011507042\\\\0.733936011507042 & 0.995889410425692\\end{matrix}\\right]$"
      ],
      "text/plain": [
       "Matrix([\n",
       "[ 1.07338758465212, 0.733936011507042],\n",
       "[0.733936011507042, 0.995889410425692]])"
      ]
     },
     "metadata": {},
     "output_type": "display_data"
    },
    {
     "name": "stdout",
     "output_type": "stream",
     "text": [
      "******************* K = 2 *******************\n",
      "π2 = 0.29\n",
      "μ2 = "
     ]
    },
    {
     "data": {
      "text/latex": [
       "$\\displaystyle \\left[\\begin{matrix}-0.0137678097447979 & 5.00280342483574\\end{matrix}\\right]$"
      ],
      "text/plain": [
       "Matrix([[-0.0137678097447979, 5.00280342483574]])"
      ]
     },
     "metadata": {},
     "output_type": "display_data"
    },
    {
     "name": "stdout",
     "output_type": "stream",
     "text": [
      "Σ2 = "
     ]
    },
    {
     "data": {
      "text/latex": [
       "$\\displaystyle \\left[\\begin{matrix}1.04116015048325 & 0.0352941047375675\\\\0.0352941047375675 & 0.400567034687359\\end{matrix}\\right]$"
      ],
      "text/plain": [
       "Matrix([\n",
       "[  1.04116015048325, 0.0352941047375675],\n",
       "[0.0352941047375675,  0.400567034687359]])"
      ]
     },
     "metadata": {},
     "output_type": "display_data"
    },
    {
     "name": "stdout",
     "output_type": "stream",
     "text": [
      "******************* K = 3 *******************\n",
      "π3 = 0.61\n",
      "μ3 = "
     ]
    },
    {
     "data": {
      "text/latex": [
       "$\\displaystyle \\left[\\begin{matrix}4.99954160328872 & 0.025788410297282\\end{matrix}\\right]$"
      ],
      "text/plain": [
       "Matrix([[4.99954160328872, 0.025788410297282]])"
      ]
     },
     "metadata": {},
     "output_type": "display_data"
    },
    {
     "name": "stdout",
     "output_type": "stream",
     "text": [
      "Σ3 = "
     ]
    },
    {
     "data": {
      "text/latex": [
       "$\\displaystyle \\left[\\begin{matrix}1.00664467281819 & 0.0272009600464283\\\\0.0272009600464283 & 1.03418848225486\\end{matrix}\\right]$"
      ],
      "text/plain": [
       "Matrix([\n",
       "[  1.00664467281819, 0.0272009600464283],\n",
       "[0.0272009600464283,   1.03418848225486]])"
      ]
     },
     "metadata": {},
     "output_type": "display_data"
    }
   ],
   "source": [
    "########### iterations : \n",
    "\n",
    "def EM(Data,theta_init,eps):\n",
    "    Theta = theta_init.copy()\n",
    "    diff = 1e4\n",
    "    t=0\n",
    "    loss_k0 = 1e5\n",
    "    while (abs(diff) > eps):\n",
    "        t = t+1\n",
    "        L,Sum = find_Gamma(Data,Theta)\n",
    "        loss_k1 = find_Logloss(Sum)\n",
    "        NK = find_NK(L)\n",
    "        Theta = find_param(Data,L,NK)\n",
    "        print_parameter(Theta,loss_k1,t)\n",
    "        \n",
    "        diff = loss_k1 - loss_k0\n",
    "        loss_k0 = loss_k1\n",
    "    return Theta\n",
    "        \n",
    "#################################\n",
    "#####   IMPLEMENTATION\n",
    "#################################\n",
    "Theta_final = EM(Data,theta_init,eps = 1)"
   ]
  },
  {
   "cell_type": "markdown",
   "metadata": {},
   "source": [
    "### Summarising results"
   ]
  },
  {
   "cell_type": "code",
   "execution_count": 34,
   "metadata": {},
   "outputs": [
    {
     "name": "stdout",
     "output_type": "stream",
     "text": [
      "##########################################################\n",
      "################# Ground truth param ##################\n",
      "##########################################################\n",
      "\n",
      "******************* K = 1 *******************\n",
      "π1 = 0.10\n",
      "μ1 = "
     ]
    },
    {
     "data": {
      "text/latex": [
       "$\\displaystyle \\left[\\begin{matrix}-5 & 0\\end{matrix}\\right]$"
      ],
      "text/plain": [
       "Matrix([[-5, 0]])"
      ]
     },
     "metadata": {},
     "output_type": "display_data"
    },
    {
     "name": "stdout",
     "output_type": "stream",
     "text": [
      "Σ1 = "
     ]
    },
    {
     "data": {
      "text/latex": [
       "$\\displaystyle \\left[\\begin{matrix}1.0 & 0.7\\\\0.7 & 1.0\\end{matrix}\\right]$"
      ],
      "text/plain": [
       "Matrix([\n",
       "[1.0, 0.7],\n",
       "[0.7, 1.0]])"
      ]
     },
     "metadata": {},
     "output_type": "display_data"
    },
    {
     "name": "stdout",
     "output_type": "stream",
     "text": [
      "******************* K = 2 *******************\n",
      "π2 = 0.30\n",
      "μ2 = "
     ]
    },
    {
     "data": {
      "text/latex": [
       "$\\displaystyle \\left[\\begin{matrix}0 & 5\\end{matrix}\\right]$"
      ],
      "text/plain": [
       "Matrix([[0, 5]])"
      ]
     },
     "metadata": {},
     "output_type": "display_data"
    },
    {
     "name": "stdout",
     "output_type": "stream",
     "text": [
      "Σ2 = "
     ]
    },
    {
     "data": {
      "text/latex": [
       "$\\displaystyle \\left[\\begin{matrix}1.0 & 0.0\\\\0.0 & 0.4\\end{matrix}\\right]$"
      ],
      "text/plain": [
       "Matrix([\n",
       "[1.0, 0.0],\n",
       "[0.0, 0.4]])"
      ]
     },
     "metadata": {},
     "output_type": "display_data"
    },
    {
     "name": "stdout",
     "output_type": "stream",
     "text": [
      "******************* K = 3 *******************\n",
      "π3 = 0.60\n",
      "μ3 = "
     ]
    },
    {
     "data": {
      "text/latex": [
       "$\\displaystyle \\left[\\begin{matrix}5 & 0\\end{matrix}\\right]$"
      ],
      "text/plain": [
       "Matrix([[5, 0]])"
      ]
     },
     "metadata": {},
     "output_type": "display_data"
    },
    {
     "name": "stdout",
     "output_type": "stream",
     "text": [
      "Σ3 = "
     ]
    },
    {
     "data": {
      "text/latex": [
       "$\\displaystyle \\left[\\begin{matrix}1.0 & 0.0\\\\0.0 & 1.0\\end{matrix}\\right]$"
      ],
      "text/plain": [
       "Matrix([\n",
       "[1.0, 0.0],\n",
       "[0.0, 1.0]])"
      ]
     },
     "metadata": {},
     "output_type": "display_data"
    },
    {
     "name": "stdout",
     "output_type": "stream",
     "text": [
      "##########################################################\n",
      "################# Converged param ##################\n",
      "##########################################################\n",
      "\n",
      "******************* K = 1 *******************\n",
      "π1 = 0.10\n",
      "μ1 = "
     ]
    },
    {
     "data": {
      "text/latex": [
       "$\\displaystyle \\left[\\begin{matrix}-5.03140264779007 & -0.00519835220559832\\end{matrix}\\right]$"
      ],
      "text/plain": [
       "Matrix([[-5.03140264779007, -0.00519835220559832]])"
      ]
     },
     "metadata": {},
     "output_type": "display_data"
    },
    {
     "name": "stdout",
     "output_type": "stream",
     "text": [
      "Σ1 = "
     ]
    },
    {
     "data": {
      "text/latex": [
       "$\\displaystyle \\left[\\begin{matrix}1.07338758465212 & 0.733936011507042\\\\0.733936011507042 & 0.995889410425692\\end{matrix}\\right]$"
      ],
      "text/plain": [
       "Matrix([\n",
       "[ 1.07338758465212, 0.733936011507042],\n",
       "[0.733936011507042, 0.995889410425692]])"
      ]
     },
     "metadata": {},
     "output_type": "display_data"
    },
    {
     "name": "stdout",
     "output_type": "stream",
     "text": [
      "******************* K = 2 *******************\n",
      "π2 = 0.29\n",
      "μ2 = "
     ]
    },
    {
     "data": {
      "text/latex": [
       "$\\displaystyle \\left[\\begin{matrix}-0.0137678097447979 & 5.00280342483574\\end{matrix}\\right]$"
      ],
      "text/plain": [
       "Matrix([[-0.0137678097447979, 5.00280342483574]])"
      ]
     },
     "metadata": {},
     "output_type": "display_data"
    },
    {
     "name": "stdout",
     "output_type": "stream",
     "text": [
      "Σ2 = "
     ]
    },
    {
     "data": {
      "text/latex": [
       "$\\displaystyle \\left[\\begin{matrix}1.04116015048325 & 0.0352941047375675\\\\0.0352941047375675 & 0.400567034687359\\end{matrix}\\right]$"
      ],
      "text/plain": [
       "Matrix([\n",
       "[  1.04116015048325, 0.0352941047375675],\n",
       "[0.0352941047375675,  0.400567034687359]])"
      ]
     },
     "metadata": {},
     "output_type": "display_data"
    },
    {
     "name": "stdout",
     "output_type": "stream",
     "text": [
      "******************* K = 3 *******************\n",
      "π3 = 0.61\n",
      "μ3 = "
     ]
    },
    {
     "data": {
      "text/latex": [
       "$\\displaystyle \\left[\\begin{matrix}4.99954160328872 & 0.025788410297282\\end{matrix}\\right]$"
      ],
      "text/plain": [
       "Matrix([[4.99954160328872, 0.025788410297282]])"
      ]
     },
     "metadata": {},
     "output_type": "display_data"
    },
    {
     "name": "stdout",
     "output_type": "stream",
     "text": [
      "Σ3 = "
     ]
    },
    {
     "data": {
      "text/latex": [
       "$\\displaystyle \\left[\\begin{matrix}1.00664467281819 & 0.0272009600464283\\\\0.0272009600464283 & 1.03418848225486\\end{matrix}\\right]$"
      ],
      "text/plain": [
       "Matrix([\n",
       "[  1.00664467281819, 0.0272009600464283],\n",
       "[0.0272009600464283,   1.03418848225486]])"
      ]
     },
     "metadata": {},
     "output_type": "display_data"
    }
   ],
   "source": [
    "display_param(theta_actual,'Ground truth param')\n",
    "display_param(Theta_final,'Converged param')\n"
   ]
  }
 ],
 "metadata": {
  "kernelspec": {
   "display_name": "Python 3",
   "language": "python",
   "name": "python3"
  },
  "language_info": {
   "codemirror_mode": {
    "name": "ipython",
    "version": 3
   },
   "file_extension": ".py",
   "mimetype": "text/x-python",
   "name": "python",
   "nbconvert_exporter": "python",
   "pygments_lexer": "ipython3",
   "version": "3.7.7"
  }
 },
 "nbformat": 4,
 "nbformat_minor": 4
}
