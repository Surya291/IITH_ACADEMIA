{
 "cells": [
  {
   "cell_type": "code",
   "execution_count": 1,
   "metadata": {},
   "outputs": [],
   "source": [
    "import numpy as np\n",
    "import random\n",
    "import matplotlib.pyplot as plt\n",
    "from sympy import Matrix, init_printing\n",
    "random.seed(40)"
   ]
  },
  {
   "cell_type": "markdown",
   "metadata": {},
   "source": [
    "# Problem 1"
   ]
  },
  {
   "cell_type": "code",
   "execution_count": 2,
   "metadata": {},
   "outputs": [],
   "source": [
    "class MLP:\n",
    "    def __init__(self,X_train,Y_train,hidden_nodes = 2):\n",
    "        \n",
    "        \n",
    "        self.X = X_train\n",
    "        self.Y = Y_train\n",
    "\n",
    "        din,n = self.X.shape\n",
    "        \n",
    "\n",
    "\n",
    "        \n",
    "        self.m = hidden_nodes\n",
    "        \n",
    "        #### H -> hidden nodes output\n",
    "        #### W_h -> weights between input and hidden layer\n",
    "        #### W_o -> weights between hidden and output layer\n",
    "        \n",
    "        self.H = np.ones((self.m +1,n))## initialising random weights\n",
    "        self.W_h = np.random.random((din,self.H.shape[0]))\n",
    "        self.W_o = np.random.random((self.H.shape[0],self.Y.shape[0]))\n",
    "\n",
    "        \n",
    "\n",
    "    def forward_pass(self,X):\n",
    "        H = self.H\n",
    "        W_h = self.W_h\n",
    "        W_o = self.W_o\n",
    "\n",
    "        def sigmoid (w,x) :\n",
    "            act = np.transpose(w)@x\n",
    "            return 1/(1+np.exp(-1*act))\n",
    "        \n",
    "        ######################################\n",
    "    \n",
    "        H = sigmoid(W_h,X)\n",
    "        #H[:,0] = np.ones(H[:,0].shape)\n",
    "        H[0,:] = np.ones(H[0,:].shape)\n",
    "        Y_pred = sigmoid(W_o,H) \n",
    "        \n",
    "        return H,Y_pred\n",
    "        \n",
    "        \n",
    "    def back_prop(self,X,Y):\n",
    "        \n",
    "        H = self.H\n",
    "        Y_pred = self.Y_pred\n",
    "        W_o = self.W_o\n",
    "        W_h = self.W_h\n",
    "        \n",
    "        def loss(y,y_hat):\n",
    "            return (-1*(y - y_hat))\n",
    "\n",
    "        def sig_loss(y_hat):\n",
    "            return np.multiply((1 - y_hat) , (y_hat))\n",
    "        \n",
    "        ########################################\n",
    "        \n",
    "        #### Back prop : \n",
    "        W_o_grad = W_o.copy()\n",
    "        W_h_grad = W_h.copy()\n",
    "        W_o_new = W_o.copy()\n",
    "        W_h_new = W_h.copy()\n",
    "        lr = self.lr\n",
    "        \n",
    "        \n",
    "        #### updating output weigths\n",
    "\n",
    "        for i in range(W_o_grad.shape[0]):\n",
    "            for j in range(W_o_grad.shape[1]):\n",
    "\n",
    "                W_o_grad[i][j] = np.mean( loss(Y[j],Y_pred[j]) * sig_loss(Y_pred[j]) * H[i] )\n",
    "\n",
    "                W_o_new[i][j] = W_o[i][j] - (lr* W_o_grad[i][j] ) \n",
    "        \n",
    "\n",
    "        #### Updating input weights \n",
    "        \n",
    "        k = 0   #### TODO for multi dim op\n",
    "        for i in range(W_h_grad.shape[0]):\n",
    "            for j in range(W_h_grad.shape[1]):\n",
    "                W_h_grad[i][j] = np.mean( loss(Y[k],Y_pred[k]) * sig_loss(Y_pred[k]) * W_o[j][k] * sig_loss(H[j]) * X[i] )\n",
    "                W_h_new[i][j] = W_h[i][j] - ( lr*W_h_grad[i][j] )\n",
    "        \n",
    "        \n",
    "        return W_h_new, W_o_new\n",
    "    \n",
    "    \n",
    "    def run_epochs(self,X,Y,epochs,lr,plot = False):\n",
    "        self.lr = lr\n",
    "        \n",
    "        error = np.zeros(epochs)\n",
    "        \n",
    "        for e in range(epochs):\n",
    "            self.H, self.Y_pred, = self.forward_pass(X)\n",
    "            \n",
    "            error[e] =  np.mean((Y - self.Y_pred**2))\n",
    "            \n",
    "            self.W_h, self.W_o = self.back_prop(X,Y)\n",
    "            \n",
    "        if(plot ==True):\n",
    "            n= np.arange(error.size)\n",
    "            plt.xlabel('Epochs')\n",
    "            plt.ylabel('Squared loss')\n",
    "            plt.plot(n,error)\n",
    "            plt.figure()\n",
    "            \n",
    "            \n",
    "    \n",
    "    def test_model(self,X_test):\n",
    "        din,n = X_test.shape\n",
    "        H = np.ones((self.m +1,n))\n",
    "        W_h = self.W_h\n",
    "        W_o = self.W_o\n",
    "        \n",
    "\n",
    "        \n",
    "        def sigmoid (w,x) :\n",
    "            act = np.transpose(w)@x\n",
    "            return 1/(1+np.exp(-1*act))\n",
    "        \n",
    "        ######################################\n",
    "    \n",
    "        H = sigmoid(W_h,X_test)\n",
    "        H[:,0] = np.ones(H[:,0].shape)\n",
    "        Y_pred = sigmoid(W_o,H) \n",
    "        \n",
    "        return Y_pred\n",
    "    \n",
    "\n",
    "\n",
    "        "
   ]
  },
  {
   "cell_type": "code",
   "execution_count": 3,
   "metadata": {},
   "outputs": [],
   "source": [
    "####  Creating a dataset\n",
    "\n",
    "\n",
    "\n",
    "def create_XOR_data(data_size,var):\n",
    "    \n",
    "    A = np.random.binomial(size = data_size, n=1, p= 0.5)\n",
    "    B = np.random.binomial(size = data_size, n=1, p= 0.5)\n",
    "    X = np.array((A,B))\n",
    "    Y = np.logical_xor(X[0],X[1]) + 0\n",
    "    \n",
    "    \n",
    "    color = ['black'*(1-i) + 'cyan'*(i) for i in (Y) ]\n",
    "    \n",
    "    X_noise= X + np.random.normal(0, var, X.shape)\n",
    "    Y_final = Y.reshape((1,Y.shape[0]))\n",
    "    \n",
    "    ### plotting : \n",
    "    plt.scatter(X_noise[0],X_noise[1],color = color)\n",
    "    plt.figure()\n",
    "    \n",
    "    return X_noise,Y_final\n",
    "\n",
    "\n",
    "\n",
    "def create_AND_data(data_size,var):\n",
    "    \n",
    "    A = np.random.binomial(size = data_size, n=1, p= 0.5)\n",
    "    B = np.random.binomial(size = data_size, n=1, p= 0.5)\n",
    "    X = np.array((A,B))\n",
    "    Y = np.logical_and(X[0],X[1]) + 0\n",
    "    \n",
    "    \n",
    "    color = ['black'*(1-i) + 'cyan'*(i) for i in (Y) ]\n",
    "    \n",
    "    X_noise= X + np.random.normal(0, var, X.shape)\n",
    "    Y_final = Y.reshape((1,Y.shape[0]))\n",
    "    \n",
    "    ### plotting : \n",
    "    plt.scatter(X_noise[0],X_noise[1],color = color)\n",
    "    plt.figure()\n",
    "    \n",
    "    return X_noise,Y_final\n",
    "\n",
    "\n",
    "def create_OR_data(data_size,var):\n",
    "    \n",
    "    A = np.random.binomial(size = data_size, n=1, p= 0.5)\n",
    "    B = np.random.binomial(size = data_size, n=1, p= 0.5)\n",
    "    X = np.array((A,B))\n",
    "    Y = np.logical_or(X[0],X[1]) + 0\n",
    "    \n",
    "    \n",
    "    color = ['black'*(1-i) + 'cyan'*(i) for i in (Y) ]\n",
    "    \n",
    "    X_noise= X + np.random.normal(0, var, X.shape)\n",
    "    Y_final = Y.reshape((1,Y.shape[0]))\n",
    "    \n",
    "    ### plotting : \n",
    "    plt.scatter(X_noise[0],X_noise[1],color = color)\n",
    "    plt.figure()\n",
    "    \n",
    "    return X_noise,Y_final"
   ]
  },
  {
   "cell_type": "markdown",
   "metadata": {},
   "source": [
    "### Problem 1.1 : XOR operation"
   ]
  },
  {
   "cell_type": "code",
   "execution_count": 4,
   "metadata": {},
   "outputs": [
    {
     "name": "stdout",
     "output_type": "stream",
     "text": [
      "Inputs : A \n"
     ]
    },
    {
     "data": {
      "text/latex": [
       "$\\displaystyle \\left[\\begin{matrix}0 & 0 & 1 & 1\\end{matrix}\\right]$"
      ],
      "text/plain": [
       "Matrix([[0, 0, 1, 1]])"
      ]
     },
     "metadata": {},
     "output_type": "display_data"
    },
    {
     "name": "stdout",
     "output_type": "stream",
     "text": [
      "Inputs : B \n"
     ]
    },
    {
     "data": {
      "text/latex": [
       "$\\displaystyle \\left[\\begin{matrix}0 & 1 & 0 & 1\\end{matrix}\\right]$"
      ],
      "text/plain": [
       "Matrix([[0, 1, 0, 1]])"
      ]
     },
     "metadata": {},
     "output_type": "display_data"
    },
    {
     "name": "stdout",
     "output_type": "stream",
     "text": [
      "Truth Value :  A xor B\n"
     ]
    },
    {
     "data": {
      "text/latex": [
       "$\\displaystyle \\left[\\begin{matrix}0 & 1 & 1 & 0\\end{matrix}\\right]$"
      ],
      "text/plain": [
       "Matrix([[0, 1, 1, 0]])"
      ]
     },
     "metadata": {},
     "output_type": "display_data"
    },
    {
     "name": "stdout",
     "output_type": "stream",
     "text": [
      "Predictions\n"
     ]
    },
    {
     "data": {
      "text/latex": [
       "$\\displaystyle \\left[\\begin{matrix}0.72 & 0.98 & 0.99 & 0.96\\end{matrix}\\right]$"
      ],
      "text/plain": [
       "Matrix([[0.72, 0.98, 0.99, 0.96]])"
      ]
     },
     "metadata": {},
     "output_type": "display_data"
    },
    {
     "data": {
      "image/png": "[encoded data removed]",
      "text/plain": [
       "<Figure size 432x288 with 1 Axes>"
      ]
     },
     "metadata": {
      "needs_background": "light"
     },
     "output_type": "display_data"
    },
    {
     "data": {
      "image/png": "[encoded data removed]",
      "text/plain": [
       "<Figure size 432x288 with 1 Axes>"
      ]
     },
     "metadata": {
      "needs_background": "light"
     },
     "output_type": "display_data"
    },
    {
     "data": {
      "text/plain": [
       "<Figure size 432x288 with 0 Axes>"
      ]
     },
     "metadata": {},
     "output_type": "display_data"
    }
   ],
   "source": [
    "############## For XOR operation\n",
    "\n",
    "### Training...\n",
    "np.random.seed(100)  ### fixing the random state value for checking..\n",
    "X_trn,Y_trn = create_XOR_data(data_size = 40,var = 0.05)\n",
    "Model = MLP(X_trn,Y_trn,hidden_nodes = 2)\n",
    "Model.run_epochs(X_trn,Y_trn,30000,1,plot = True)\n",
    "\n",
    "\n",
    "\n",
    "### Testing...\n",
    "X_test = np.transpose(np.array([[0,0],[0,1],[1,0],[1,1]]) )\n",
    "Y_test = np.transpose(np.array([[0],[1],[1],[0]])) \n",
    "preds = Model.test_model(X_test)\n",
    "\n",
    "print(\"Inputs : A \")\n",
    "display(Matrix(X_test[[0]]) )\n",
    "print(\"Inputs : B \")\n",
    "display(Matrix(X_test[[1]]) )\n",
    "print(\"Truth Value :  A xor B\")\n",
    "display(Matrix(Y_test) )\n",
    "print(\"Predictions\")\n",
    "display(Matrix(np.round(preds,decimals = 2)) )\n"
   ]
  },
  {
   "cell_type": "code",
   "execution_count": 17,
   "metadata": {},
   "outputs": [
    {
     "name": "stdout",
     "output_type": "stream",
     "text": [
      "(2, 40)\n",
      "(1, 40)\n"
     ]
    },
    {
     "data": {
      "text/plain": [
       "array([1.        , 0.98441002, 0.97779648, 0.98076775, 0.4072476 ,\n",
       "       0.98349809, 0.99978876, 0.98322609, 0.56735058, 0.99961696,\n",
       "       0.99953236, 0.98883689, 0.46055974, 0.98193758, 0.5790128 ,\n",
       "       0.97165963, 0.98807585, 0.47401236, 0.97355016, 0.98440454,\n",
       "       0.44943951, 0.99986323, 0.99954696, 0.48414483, 0.9889208 ,\n",
       "       0.9846541 , 0.99025254, 0.50032178, 0.98209651, 0.48290686,\n",
       "       0.96297432, 0.97661579, 0.65759273, 0.98929642, 0.98882898,\n",
       "       0.99974629, 0.99965344, 0.50611552, 0.98286791, 0.9714855 ])"
      ]
     },
     "execution_count": 17,
     "metadata": {},
     "output_type": "execute_result"
    }
   ],
   "source": [
    "print(X_trn.shape)\n",
    "\n",
    "print(Y_trn.shape)\n",
    "\n",
    "\n",
    "Model.H[0,:]"
   ]
  },
  {
   "cell_type": "markdown",
   "metadata": {},
   "source": [
    "### Problem 1.2 : AND operation"
   ]
  },
  {
   "cell_type": "code",
   "execution_count": 23,
   "metadata": {},
   "outputs": [
    {
     "name": "stdout",
     "output_type": "stream",
     "text": [
      "Inputs : A \n"
     ]
    },
    {
     "data": {
      "text/latex": [
       "$\\displaystyle \\left[\\begin{matrix}0 & 0 & 1 & 1\\end{matrix}\\right]$"
      ],
      "text/plain": [
       "Matrix([[0, 0, 1, 1]])"
      ]
     },
     "metadata": {},
     "output_type": "display_data"
    },
    {
     "name": "stdout",
     "output_type": "stream",
     "text": [
      "Inputs : B \n"
     ]
    },
    {
     "data": {
      "text/latex": [
       "$\\displaystyle \\left[\\begin{matrix}0 & 1 & 0 & 1\\end{matrix}\\right]$"
      ],
      "text/plain": [
       "Matrix([[0, 1, 0, 1]])"
      ]
     },
     "metadata": {},
     "output_type": "display_data"
    },
    {
     "name": "stdout",
     "output_type": "stream",
     "text": [
      "Truth Value :  A and B\n"
     ]
    },
    {
     "data": {
      "text/latex": [
       "$\\displaystyle \\left[\\begin{matrix}0 & 0 & 0 & 1\\end{matrix}\\right]$"
      ],
      "text/plain": [
       "Matrix([[0, 0, 0, 1]])"
      ]
     },
     "metadata": {},
     "output_type": "display_data"
    },
    {
     "name": "stdout",
     "output_type": "stream",
     "text": [
      "Predictions\n"
     ]
    },
    {
     "data": {
      "text/latex": [
       "$\\displaystyle \\left[\\begin{matrix}0.0 & 0.0 & 0.0 & 0.95\\end{matrix}\\right]$"
      ],
      "text/plain": [
       "Matrix([[0.0, 0.0, 0.0, 0.95]])"
      ]
     },
     "metadata": {},
     "output_type": "display_data"
    },
    {
     "data": {
      "image/png": "[encoded data removed]",
      "text/plain": [
       "<Figure size 432x288 with 1 Axes>"
      ]
     },
     "metadata": {
      "needs_background": "light"
     },
     "output_type": "display_data"
    },
    {
     "data": {
      "image/png": "[encoded data removed]",
      "text/plain": [
       "<Figure size 432x288 with 1 Axes>"
      ]
     },
     "metadata": {
      "needs_background": "light"
     },
     "output_type": "display_data"
    },
    {
     "data": {
      "text/plain": [
       "<Figure size 432x288 with 0 Axes>"
      ]
     },
     "metadata": {},
     "output_type": "display_data"
    }
   ],
   "source": [
    "############## For AND operation\n",
    "\n",
    "### Training...\n",
    "np.random.seed(100)  ### fixing the random state value for checking..\n",
    "X_trn,Y_trn = create_AND_data(data_size = 40,var = 0.05)\n",
    "Model = MLP(X_trn,Y_trn,hidden_nodes = 2)  ### hidden nodes no.\n",
    "Model.run_epochs(X_trn,Y_trn,30000,1,plot = True)\n",
    "\n",
    "\n",
    "\n",
    "### Testing...\n",
    "X_test = np.transpose(np.array([[0,0],[0,1],[1,0],[1,1]]) )\n",
    "Y_test = np.transpose(np.array([[0],[0],[0],[1]] )) \n",
    "preds = Model.test_model(X_test)\n",
    "\n",
    "print(\"Inputs : A \")\n",
    "display(Matrix(X_test[[0]]) )\n",
    "print(\"Inputs : B \")\n",
    "display(Matrix(X_test[[1]]) )\n",
    "print(\"Truth Value :  A and B\")\n",
    "display(Matrix(Y_test) )\n",
    "print(\"Predictions\")\n",
    "display(Matrix(np.round(preds,decimals = 2)) )\n",
    "\n"
   ]
  },
  {
   "cell_type": "markdown",
   "metadata": {},
   "source": [
    "### 1.3 OR operation"
   ]
  },
  {
   "cell_type": "code",
   "execution_count": 22,
   "metadata": {},
   "outputs": [
    {
     "name": "stdout",
     "output_type": "stream",
     "text": [
      "Inputs : A \n"
     ]
    },
    {
     "data": {
      "text/latex": [
       "$\\displaystyle \\left[\\begin{matrix}0 & 0 & 1 & 1\\end{matrix}\\right]$"
      ],
      "text/plain": [
       "Matrix([[0, 0, 1, 1]])"
      ]
     },
     "metadata": {},
     "output_type": "display_data"
    },
    {
     "name": "stdout",
     "output_type": "stream",
     "text": [
      "Inputs : B \n"
     ]
    },
    {
     "data": {
      "text/latex": [
       "$\\displaystyle \\left[\\begin{matrix}0 & 1 & 0 & 1\\end{matrix}\\right]$"
      ],
      "text/plain": [
       "Matrix([[0, 1, 0, 1]])"
      ]
     },
     "metadata": {},
     "output_type": "display_data"
    },
    {
     "name": "stdout",
     "output_type": "stream",
     "text": [
      "Truth Value :  A xor B\n"
     ]
    },
    {
     "data": {
      "text/latex": [
       "$\\displaystyle \\left[\\begin{matrix}0 & 1 & 1 & 1\\end{matrix}\\right]$"
      ],
      "text/plain": [
       "Matrix([[0, 1, 1, 1]])"
      ]
     },
     "metadata": {},
     "output_type": "display_data"
    },
    {
     "name": "stdout",
     "output_type": "stream",
     "text": [
      "Predictions\n"
     ]
    },
    {
     "data": {
      "text/latex": [
       "$\\displaystyle \\left[\\begin{matrix}0.99 & 1.0 & 1.0 & 1.0\\end{matrix}\\right]$"
      ],
      "text/plain": [
       "Matrix([[0.99, 1.0, 1.0, 1.0]])"
      ]
     },
     "metadata": {},
     "output_type": "display_data"
    },
    {
     "data": {
      "image/png": "[encoded data removed]",
      "text/plain": [
       "<Figure size 432x288 with 1 Axes>"
      ]
     },
     "metadata": {
      "needs_background": "light"
     },
     "output_type": "display_data"
    },
    {
     "data": {
      "image/png": "[encoded data removed]",
      "text/plain": [
       "<Figure size 432x288 with 1 Axes>"
      ]
     },
     "metadata": {
      "needs_background": "light"
     },
     "output_type": "display_data"
    },
    {
     "data": {
      "text/plain": [
       "<Figure size 432x288 with 0 Axes>"
      ]
     },
     "metadata": {},
     "output_type": "display_data"
    }
   ],
   "source": [
    "############## For OR operation\n",
    "\n",
    "### Training...\n",
    "np.random.seed(100)  ### fixing the random state value for checking..\n",
    "X_trn,Y_trn = create_OR_data(data_size = 40,var = 0.05)\n",
    "Model = MLP(X_trn,Y_trn,hidden_nodes = 2)  ### hidden nodes no.\n",
    "Model.run_epochs(X_trn,Y_trn,30000,1,plot = True)\n",
    "\n",
    "\n",
    "\n",
    "### Testing...\n",
    "X_test = np.transpose(np.array([[0,0],[0,1],[1,0],[1,1]]) )\n",
    "Y_test = np.transpose(np.array([[0],[1],[1],[1]] )) \n",
    "preds = Model.test_model(X_test)\n",
    "\n",
    "print(\"Inputs : A \")\n",
    "display(Matrix(X_test[[0]]) )\n",
    "print(\"Inputs : B \")\n",
    "display(Matrix(X_test[[1]]) )\n",
    "print(\"Truth Value :  A xor B\")\n",
    "display(Matrix(Y_test) )\n",
    "print(\"Predictions\")\n",
    "display(Matrix(np.round(preds,decimals = 2)) )\n"
   ]
  }
 ],
 "metadata": {
  "kernelspec": {
   "display_name": "Python 3",
   "language": "python",
   "name": "python3"
  },
  "language_info": {
   "codemirror_mode": {
    "name": "ipython",
    "version": 3
   },
   "file_extension": ".py",
   "mimetype": "text/x-python",
   "name": "python",
   "nbconvert_exporter": "python",
   "pygments_lexer": "ipython3",
   "version": "3.7.7"
  }
 },
 "nbformat": 4,
 "nbformat_minor": 4
}
