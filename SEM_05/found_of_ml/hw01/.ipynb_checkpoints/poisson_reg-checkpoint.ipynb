{
 "cells": [
  {
   "cell_type": "code",
   "execution_count": 1,
   "metadata": {},
   "outputs": [],
   "source": [
    "#imports here !!\n",
    "\n",
    "import pandas as pd\n",
    "import numpy as np\n",
    "import random\n"
   ]
  },
  {
   "cell_type": "code",
   "execution_count": 129,
   "metadata": {},
   "outputs": [
    {
     "data": {
      "text/html": [
       "<div>\n",
       "<style scoped>\n",
       "    .dataframe tbody tr th:only-of-type {\n",
       "        vertical-align: middle;\n",
       "    }\n",
       "\n",
       "    .dataframe tbody tr th {\n",
       "        vertical-align: top;\n",
       "    }\n",
       "\n",
       "    .dataframe thead th {\n",
       "        text-align: right;\n",
       "    }\n",
       "</style>\n",
       "<table border=\"1\" class=\"dataframe\">\n",
       "  <thead>\n",
       "    <tr style=\"text-align: right;\">\n",
       "      <th></th>\n",
       "      <th>weekday</th>\n",
       "      <th>weathersit</th>\n",
       "      <th>atemp</th>\n",
       "      <th>hum</th>\n",
       "      <th>windspeed</th>\n",
       "    </tr>\n",
       "  </thead>\n",
       "  <tbody>\n",
       "    <tr>\n",
       "      <th>0</th>\n",
       "      <td>6</td>\n",
       "      <td>2</td>\n",
       "      <td>0.363625</td>\n",
       "      <td>0.805833</td>\n",
       "      <td>0.160446</td>\n",
       "    </tr>\n",
       "    <tr>\n",
       "      <th>1</th>\n",
       "      <td>0</td>\n",
       "      <td>2</td>\n",
       "      <td>0.353739</td>\n",
       "      <td>0.696087</td>\n",
       "      <td>0.248539</td>\n",
       "    </tr>\n",
       "    <tr>\n",
       "      <th>2</th>\n",
       "      <td>1</td>\n",
       "      <td>1</td>\n",
       "      <td>0.189405</td>\n",
       "      <td>0.437273</td>\n",
       "      <td>0.248309</td>\n",
       "    </tr>\n",
       "    <tr>\n",
       "      <th>3</th>\n",
       "      <td>2</td>\n",
       "      <td>1</td>\n",
       "      <td>0.212122</td>\n",
       "      <td>0.590435</td>\n",
       "      <td>0.160296</td>\n",
       "    </tr>\n",
       "    <tr>\n",
       "      <th>4</th>\n",
       "      <td>3</td>\n",
       "      <td>1</td>\n",
       "      <td>0.229270</td>\n",
       "      <td>0.436957</td>\n",
       "      <td>0.186900</td>\n",
       "    </tr>\n",
       "  </tbody>\n",
       "</table>\n",
       "</div>"
      ],
      "text/plain": [
       "   weekday  weathersit     atemp       hum  windspeed\n",
       "0        6           2  0.363625  0.805833   0.160446\n",
       "1        0           2  0.353739  0.696087   0.248539\n",
       "2        1           1  0.189405  0.437273   0.248309\n",
       "3        2           1  0.212122  0.590435   0.160296\n",
       "4        3           1  0.229270  0.436957   0.186900"
      ]
     },
     "execution_count": 129,
     "metadata": {},
     "output_type": "execute_result"
    }
   ],
   "source": [
    "## importing data set\n",
    "\n",
    "X_df = pd.read_csv('day.csv',usecols=(6,8,10,11,12) )\n",
    "Y_df = pd.read_csv('day.csv',usecols=['cnt'] )\n",
    "X_df.head()\n",
    "#Y_df.head()\n"
   ]
  },
  {
   "cell_type": "code",
   "execution_count": 130,
   "metadata": {},
   "outputs": [
    {
     "name": "stdout",
     "output_type": "stream",
     "text": [
      "(731, 5) (731, 1)\n"
     ]
    }
   ],
   "source": [
    "### k : no. of features\n",
    "n,k = X_df.shape\n",
    "X_train = X_df.to_numpy()\n",
    "Y_train = Y_df.to_numpy()\n",
    "print(X_train.shape,Y_train.shape)"
   ]
  },
  {
   "cell_type": "code",
   "execution_count": 207,
   "metadata": {},
   "outputs": [],
   "source": [
    "def predict(X,beta):\n",
    "    return np.exp(X @ beta)\n",
    "\n",
    "def compute_loss(Y_pred,Y_train,X,beta):\n",
    "    \n",
    "    feat_n = Y_pred.size\n",
    "    i = np.ones(feat_n)\n",
    "    \n",
    "    loss = (np.transpose(Y_pred)@ i)  -  (np.transpose(Y_train)@ X @ beta)\n",
    "    return loss\n",
    "\n",
    "def compute_score(X_train,Y_train,Y_pred):\n",
    "    diff = (Y_train - Y_pred)\n",
    "    score = np.transpose(X_train) @ diff\n",
    "    return np.amin(score)\n",
    "    \n",
    "    \n",
    "def update_beta(beta,lr,X,Y_train,Y_pred,lamda):\n",
    "    diff = (Y_train - Y_pred)\n",
    "    \n",
    "    B =  (1-lr*lamda)*beta - lr*(np.transpose(X) @ diff )\n",
    "    return B"
   ]
  },
  {
   "cell_type": "code",
   "execution_count": 47,
   "metadata": {},
   "outputs": [],
   "source": [
    "n,f = 100,11\n",
    "\n",
    "\n",
    "y = 7*np.ones((n,1))\n",
    "X = 0.3*np.ones( (n,f) )\n"
   ]
  },
  {
   "cell_type": "code",
   "execution_count": 211,
   "metadata": {},
   "outputs": [],
   "source": [
    "def run_epochs(X_train,Y_train,lam):\n",
    "    \n",
    "    _,k = X_train.shape\n",
    "\n",
    "    B = np.random.randn(k,1)\n",
    "    lr = 0.00001\n",
    "    epochs = 1000\n",
    "    for j in range(epochs):\n",
    "        beta = B\n",
    "        Y_pred = predict(X_train,beta)\n",
    "        \n",
    "        #J = compute_loss(Y_pred,Y_train,X_train,beta)\n",
    "        J = compute_score(X_train,Y_train,Y_pred)\n",
    "        \n",
    "        B = update_beta(beta,lr,X_train,Y_train,Y_pred,lam)\n",
    "        \n",
    "        if(j%900==1):\n",
    "            print('Epoch : %d , score: %f'%(j,J) )\n",
    "\n",
    "    return B"
   ]
  },
  {
   "cell_type": "code",
   "execution_count": 212,
   "metadata": {},
   "outputs": [
    {
     "name": "stdout",
     "output_type": "stream",
     "text": [
      "Epoch : 1 , score: -inf\n",
      "Epoch : 901 , score: nan\n",
      "[[nan]\n",
      " [nan]\n",
      " [nan]\n",
      " [nan]\n",
      " [nan]]\n",
      "Epoch : 1 , score: -inf\n",
      "Epoch : 901 , score: nan\n",
      "[[nan]\n",
      " [nan]\n",
      " [nan]\n",
      " [nan]\n",
      " [nan]]\n",
      "Epoch : 1 , score: -inf\n",
      "Epoch : 901 , score: nan\n",
      "[[nan]\n",
      " [nan]\n",
      " [nan]\n",
      " [nan]\n",
      " [nan]]\n"
     ]
    },
    {
     "name": "stderr",
     "output_type": "stream",
     "text": [
      "/home/surya/anaconda3/lib/python3.7/site-packages/ipykernel_launcher.py:2: RuntimeWarning: overflow encountered in exp\n",
      "  \n",
      "/home/surya/anaconda3/lib/python3.7/site-packages/ipykernel_launcher.py:14: RuntimeWarning: overflow encountered in matmul\n",
      "  \n",
      "/home/surya/anaconda3/lib/python3.7/site-packages/ipykernel_launcher.py:21: RuntimeWarning: overflow encountered in matmul\n",
      "/home/surya/anaconda3/lib/python3.7/site-packages/ipykernel_launcher.py:2: RuntimeWarning: invalid value encountered in matmul\n",
      "  \n"
     ]
    }
   ],
   "source": [
    "param = run_epochs(X_train,Y_train,0)\n",
    "print(param)\n",
    "\n",
    "param = run_epochs(X_train,Y_train,0.1)\n",
    "print(param)\n",
    "\n",
    "param = run_epochs(X_train,Y_train,10)\n",
    "print(param)"
   ]
  },
  {
   "cell_type": "code",
   "execution_count": 198,
   "metadata": {},
   "outputs": [
    {
     "name": "stdout",
     "output_type": "stream",
     "text": [
      "[[7.01968402]\n",
      " [7.01968402]\n",
      " [7.01968402]\n",
      " [7.01968402]\n",
      " [7.01968402]]\n",
      "[[6.       2.       0.363625 0.805833 0.160446]\n",
      " [0.       2.       0.353739 0.696087 0.248539]\n",
      " [1.       1.       0.189405 0.437273 0.248309]\n",
      " [2.       1.       0.212122 0.590435 0.160296]\n",
      " [3.       1.       0.22927  0.436957 0.1869  ]]\n",
      "[[ 985]\n",
      " [ 801]\n",
      " [1349]\n",
      " [1562]\n",
      " [1600]]\n"
     ]
    }
   ],
   "source": [
    "a = np.exp (X@param)\n",
    "print(a[0:5])\n",
    "print(X_train[0:5])\n",
    "print(Y_train[0:5])"
   ]
  },
  {
   "cell_type": "code",
   "execution_count": 86,
   "metadata": {},
   "outputs": [
    {
     "name": "stdout",
     "output_type": "stream",
     "text": [
      "2.6881171418161356e+43\n"
     ]
    }
   ],
   "source": [
    "a = 100\n",
    "b = np.exp(a)\n",
    "print(b)"
   ]
  }
 ],
 "metadata": {
  "kernelspec": {
   "display_name": "Python 3",
   "language": "python",
   "name": "python3"
  },
  "language_info": {
   "codemirror_mode": {
    "name": "ipython",
    "version": 3
   },
   "file_extension": ".py",
   "mimetype": "text/x-python",
   "name": "python",
   "nbconvert_exporter": "python",
   "pygments_lexer": "ipython3",
   "version": "3.7.7"
  }
 },
 "nbformat": 4,
 "nbformat_minor": 4
}
