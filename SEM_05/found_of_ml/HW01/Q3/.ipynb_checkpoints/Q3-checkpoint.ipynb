{
 "cells": [
  {
   "cell_type": "code",
   "execution_count": 2,
   "metadata": {},
   "outputs": [],
   "source": [
    "### imports here !!\n",
    "\n",
    "import numpy as np\n",
    "import pandas as pd\n",
    "import matplotlib.pyplot as plt\n",
    "from sympy import Matrix, init_printing\n",
    "from scipy.stats import gamma\n"
   ]
  },
  {
   "cell_type": "markdown",
   "metadata": {},
   "source": [
    "# Data Setup"
   ]
  },
  {
   "cell_type": "code",
   "execution_count": 3,
   "metadata": {},
   "outputs": [
    {
     "data": {
      "text/html": [
       "<div>\n",
       "<style scoped>\n",
       "    .dataframe tbody tr th:only-of-type {\n",
       "        vertical-align: middle;\n",
       "    }\n",
       "\n",
       "    .dataframe tbody tr th {\n",
       "        vertical-align: top;\n",
       "    }\n",
       "\n",
       "    .dataframe thead th {\n",
       "        text-align: right;\n",
       "    }\n",
       "</style>\n",
       "<table border=\"1\" class=\"dataframe\">\n",
       "  <thead>\n",
       "    <tr style=\"text-align: right;\">\n",
       "      <th></th>\n",
       "      <th>corps</th>\n",
       "      <th>1875</th>\n",
       "      <th>1876</th>\n",
       "      <th>1877</th>\n",
       "      <th>1878</th>\n",
       "      <th>1879</th>\n",
       "      <th>1880</th>\n",
       "      <th>1881</th>\n",
       "      <th>1882</th>\n",
       "      <th>1883</th>\n",
       "      <th>...</th>\n",
       "      <th>1886</th>\n",
       "      <th>1887</th>\n",
       "      <th>1888</th>\n",
       "      <th>1889</th>\n",
       "      <th>1890</th>\n",
       "      <th>1891</th>\n",
       "      <th>1892</th>\n",
       "      <th>1893</th>\n",
       "      <th>1894</th>\n",
       "      <th>total</th>\n",
       "    </tr>\n",
       "  </thead>\n",
       "  <tbody>\n",
       "    <tr>\n",
       "      <th>0</th>\n",
       "      <td>G</td>\n",
       "      <td>0</td>\n",
       "      <td>2</td>\n",
       "      <td>2</td>\n",
       "      <td>1</td>\n",
       "      <td>0</td>\n",
       "      <td>0</td>\n",
       "      <td>1</td>\n",
       "      <td>1</td>\n",
       "      <td>0</td>\n",
       "      <td>...</td>\n",
       "      <td>2</td>\n",
       "      <td>1</td>\n",
       "      <td>0</td>\n",
       "      <td>0</td>\n",
       "      <td>1</td>\n",
       "      <td>0</td>\n",
       "      <td>1</td>\n",
       "      <td>0</td>\n",
       "      <td>1</td>\n",
       "      <td>16</td>\n",
       "    </tr>\n",
       "    <tr>\n",
       "      <th>1</th>\n",
       "      <td>I</td>\n",
       "      <td>0</td>\n",
       "      <td>0</td>\n",
       "      <td>0</td>\n",
       "      <td>2</td>\n",
       "      <td>0</td>\n",
       "      <td>3</td>\n",
       "      <td>0</td>\n",
       "      <td>2</td>\n",
       "      <td>0</td>\n",
       "      <td>...</td>\n",
       "      <td>1</td>\n",
       "      <td>1</td>\n",
       "      <td>1</td>\n",
       "      <td>0</td>\n",
       "      <td>2</td>\n",
       "      <td>0</td>\n",
       "      <td>3</td>\n",
       "      <td>1</td>\n",
       "      <td>0</td>\n",
       "      <td>16</td>\n",
       "    </tr>\n",
       "    <tr>\n",
       "      <th>2</th>\n",
       "      <td>II</td>\n",
       "      <td>0</td>\n",
       "      <td>0</td>\n",
       "      <td>0</td>\n",
       "      <td>2</td>\n",
       "      <td>0</td>\n",
       "      <td>2</td>\n",
       "      <td>0</td>\n",
       "      <td>0</td>\n",
       "      <td>1</td>\n",
       "      <td>...</td>\n",
       "      <td>0</td>\n",
       "      <td>2</td>\n",
       "      <td>1</td>\n",
       "      <td>1</td>\n",
       "      <td>0</td>\n",
       "      <td>0</td>\n",
       "      <td>2</td>\n",
       "      <td>0</td>\n",
       "      <td>0</td>\n",
       "      <td>12</td>\n",
       "    </tr>\n",
       "    <tr>\n",
       "      <th>3</th>\n",
       "      <td>III</td>\n",
       "      <td>0</td>\n",
       "      <td>0</td>\n",
       "      <td>0</td>\n",
       "      <td>1</td>\n",
       "      <td>1</td>\n",
       "      <td>1</td>\n",
       "      <td>2</td>\n",
       "      <td>0</td>\n",
       "      <td>2</td>\n",
       "      <td>...</td>\n",
       "      <td>0</td>\n",
       "      <td>1</td>\n",
       "      <td>0</td>\n",
       "      <td>1</td>\n",
       "      <td>2</td>\n",
       "      <td>1</td>\n",
       "      <td>0</td>\n",
       "      <td>0</td>\n",
       "      <td>0</td>\n",
       "      <td>12</td>\n",
       "    </tr>\n",
       "    <tr>\n",
       "      <th>4</th>\n",
       "      <td>IV</td>\n",
       "      <td>0</td>\n",
       "      <td>1</td>\n",
       "      <td>0</td>\n",
       "      <td>1</td>\n",
       "      <td>1</td>\n",
       "      <td>1</td>\n",
       "      <td>1</td>\n",
       "      <td>0</td>\n",
       "      <td>0</td>\n",
       "      <td>...</td>\n",
       "      <td>1</td>\n",
       "      <td>0</td>\n",
       "      <td>0</td>\n",
       "      <td>0</td>\n",
       "      <td>0</td>\n",
       "      <td>1</td>\n",
       "      <td>1</td>\n",
       "      <td>0</td>\n",
       "      <td>0</td>\n",
       "      <td>8</td>\n",
       "    </tr>\n",
       "    <tr>\n",
       "      <th>5</th>\n",
       "      <td>V</td>\n",
       "      <td>0</td>\n",
       "      <td>0</td>\n",
       "      <td>0</td>\n",
       "      <td>0</td>\n",
       "      <td>2</td>\n",
       "      <td>1</td>\n",
       "      <td>0</td>\n",
       "      <td>0</td>\n",
       "      <td>1</td>\n",
       "      <td>...</td>\n",
       "      <td>1</td>\n",
       "      <td>0</td>\n",
       "      <td>1</td>\n",
       "      <td>1</td>\n",
       "      <td>1</td>\n",
       "      <td>1</td>\n",
       "      <td>1</td>\n",
       "      <td>1</td>\n",
       "      <td>0</td>\n",
       "      <td>11</td>\n",
       "    </tr>\n",
       "    <tr>\n",
       "      <th>6</th>\n",
       "      <td>VI</td>\n",
       "      <td>0</td>\n",
       "      <td>0</td>\n",
       "      <td>1</td>\n",
       "      <td>0</td>\n",
       "      <td>2</td>\n",
       "      <td>0</td>\n",
       "      <td>0</td>\n",
       "      <td>1</td>\n",
       "      <td>2</td>\n",
       "      <td>...</td>\n",
       "      <td>1</td>\n",
       "      <td>3</td>\n",
       "      <td>1</td>\n",
       "      <td>1</td>\n",
       "      <td>1</td>\n",
       "      <td>0</td>\n",
       "      <td>3</td>\n",
       "      <td>0</td>\n",
       "      <td>0</td>\n",
       "      <td>17</td>\n",
       "    </tr>\n",
       "    <tr>\n",
       "      <th>7</th>\n",
       "      <td>VII</td>\n",
       "      <td>1</td>\n",
       "      <td>0</td>\n",
       "      <td>1</td>\n",
       "      <td>0</td>\n",
       "      <td>0</td>\n",
       "      <td>0</td>\n",
       "      <td>1</td>\n",
       "      <td>0</td>\n",
       "      <td>1</td>\n",
       "      <td>...</td>\n",
       "      <td>0</td>\n",
       "      <td>2</td>\n",
       "      <td>0</td>\n",
       "      <td>0</td>\n",
       "      <td>2</td>\n",
       "      <td>1</td>\n",
       "      <td>0</td>\n",
       "      <td>2</td>\n",
       "      <td>0</td>\n",
       "      <td>12</td>\n",
       "    </tr>\n",
       "    <tr>\n",
       "      <th>8</th>\n",
       "      <td>VIII</td>\n",
       "      <td>1</td>\n",
       "      <td>0</td>\n",
       "      <td>0</td>\n",
       "      <td>0</td>\n",
       "      <td>1</td>\n",
       "      <td>0</td>\n",
       "      <td>0</td>\n",
       "      <td>1</td>\n",
       "      <td>0</td>\n",
       "      <td>...</td>\n",
       "      <td>0</td>\n",
       "      <td>1</td>\n",
       "      <td>0</td>\n",
       "      <td>0</td>\n",
       "      <td>0</td>\n",
       "      <td>1</td>\n",
       "      <td>1</td>\n",
       "      <td>0</td>\n",
       "      <td>1</td>\n",
       "      <td>7</td>\n",
       "    </tr>\n",
       "    <tr>\n",
       "      <th>9</th>\n",
       "      <td>IX</td>\n",
       "      <td>0</td>\n",
       "      <td>0</td>\n",
       "      <td>0</td>\n",
       "      <td>0</td>\n",
       "      <td>0</td>\n",
       "      <td>2</td>\n",
       "      <td>1</td>\n",
       "      <td>1</td>\n",
       "      <td>1</td>\n",
       "      <td>...</td>\n",
       "      <td>1</td>\n",
       "      <td>1</td>\n",
       "      <td>0</td>\n",
       "      <td>1</td>\n",
       "      <td>2</td>\n",
       "      <td>0</td>\n",
       "      <td>1</td>\n",
       "      <td>0</td>\n",
       "      <td>0</td>\n",
       "      <td>13</td>\n",
       "    </tr>\n",
       "    <tr>\n",
       "      <th>10</th>\n",
       "      <td>X</td>\n",
       "      <td>0</td>\n",
       "      <td>0</td>\n",
       "      <td>1</td>\n",
       "      <td>1</td>\n",
       "      <td>0</td>\n",
       "      <td>1</td>\n",
       "      <td>0</td>\n",
       "      <td>2</td>\n",
       "      <td>0</td>\n",
       "      <td>...</td>\n",
       "      <td>0</td>\n",
       "      <td>0</td>\n",
       "      <td>0</td>\n",
       "      <td>2</td>\n",
       "      <td>1</td>\n",
       "      <td>3</td>\n",
       "      <td>0</td>\n",
       "      <td>1</td>\n",
       "      <td>1</td>\n",
       "      <td>15</td>\n",
       "    </tr>\n",
       "    <tr>\n",
       "      <th>11</th>\n",
       "      <td>XI</td>\n",
       "      <td>0</td>\n",
       "      <td>0</td>\n",
       "      <td>0</td>\n",
       "      <td>0</td>\n",
       "      <td>2</td>\n",
       "      <td>4</td>\n",
       "      <td>0</td>\n",
       "      <td>1</td>\n",
       "      <td>3</td>\n",
       "      <td>...</td>\n",
       "      <td>1</td>\n",
       "      <td>1</td>\n",
       "      <td>1</td>\n",
       "      <td>2</td>\n",
       "      <td>1</td>\n",
       "      <td>3</td>\n",
       "      <td>1</td>\n",
       "      <td>3</td>\n",
       "      <td>1</td>\n",
       "      <td>25</td>\n",
       "    </tr>\n",
       "    <tr>\n",
       "      <th>12</th>\n",
       "      <td>XIV</td>\n",
       "      <td>1</td>\n",
       "      <td>1</td>\n",
       "      <td>2</td>\n",
       "      <td>1</td>\n",
       "      <td>1</td>\n",
       "      <td>3</td>\n",
       "      <td>0</td>\n",
       "      <td>4</td>\n",
       "      <td>0</td>\n",
       "      <td>...</td>\n",
       "      <td>3</td>\n",
       "      <td>2</td>\n",
       "      <td>1</td>\n",
       "      <td>0</td>\n",
       "      <td>2</td>\n",
       "      <td>1</td>\n",
       "      <td>1</td>\n",
       "      <td>0</td>\n",
       "      <td>0</td>\n",
       "      <td>24</td>\n",
       "    </tr>\n",
       "    <tr>\n",
       "      <th>13</th>\n",
       "      <td>XV</td>\n",
       "      <td>0</td>\n",
       "      <td>1</td>\n",
       "      <td>0</td>\n",
       "      <td>0</td>\n",
       "      <td>0</td>\n",
       "      <td>0</td>\n",
       "      <td>0</td>\n",
       "      <td>1</td>\n",
       "      <td>0</td>\n",
       "      <td>...</td>\n",
       "      <td>0</td>\n",
       "      <td>0</td>\n",
       "      <td>0</td>\n",
       "      <td>2</td>\n",
       "      <td>2</td>\n",
       "      <td>0</td>\n",
       "      <td>0</td>\n",
       "      <td>0</td>\n",
       "      <td>0</td>\n",
       "      <td>8</td>\n",
       "    </tr>\n",
       "    <tr>\n",
       "      <th>14</th>\n",
       "      <td>total</td>\n",
       "      <td>3</td>\n",
       "      <td>5</td>\n",
       "      <td>7</td>\n",
       "      <td>9</td>\n",
       "      <td>10</td>\n",
       "      <td>18</td>\n",
       "      <td>6</td>\n",
       "      <td>14</td>\n",
       "      <td>11</td>\n",
       "      <td>...</td>\n",
       "      <td>11</td>\n",
       "      <td>15</td>\n",
       "      <td>6</td>\n",
       "      <td>11</td>\n",
       "      <td>17</td>\n",
       "      <td>12</td>\n",
       "      <td>15</td>\n",
       "      <td>8</td>\n",
       "      <td>4</td>\n",
       "      <td>196</td>\n",
       "    </tr>\n",
       "  </tbody>\n",
       "</table>\n",
       "<p>15 rows × 22 columns</p>\n",
       "</div>"
      ],
      "text/plain": [
       "    corps  1875  1876  1877  1878  1879  1880  1881  1882  1883  ...  1886  \\\n",
       "0       G     0     2     2     1     0     0     1     1     0  ...     2   \n",
       "1       I     0     0     0     2     0     3     0     2     0  ...     1   \n",
       "2      II     0     0     0     2     0     2     0     0     1  ...     0   \n",
       "3     III     0     0     0     1     1     1     2     0     2  ...     0   \n",
       "4      IV     0     1     0     1     1     1     1     0     0  ...     1   \n",
       "5       V     0     0     0     0     2     1     0     0     1  ...     1   \n",
       "6      VI     0     0     1     0     2     0     0     1     2  ...     1   \n",
       "7     VII     1     0     1     0     0     0     1     0     1  ...     0   \n",
       "8    VIII     1     0     0     0     1     0     0     1     0  ...     0   \n",
       "9      IX     0     0     0     0     0     2     1     1     1  ...     1   \n",
       "10      X     0     0     1     1     0     1     0     2     0  ...     0   \n",
       "11     XI     0     0     0     0     2     4     0     1     3  ...     1   \n",
       "12    XIV     1     1     2     1     1     3     0     4     0  ...     3   \n",
       "13     XV     0     1     0     0     0     0     0     1     0  ...     0   \n",
       "14  total     3     5     7     9    10    18     6    14    11  ...    11   \n",
       "\n",
       "    1887  1888  1889  1890  1891  1892  1893  1894  total  \n",
       "0      1     0     0     1     0     1     0     1     16  \n",
       "1      1     1     0     2     0     3     1     0     16  \n",
       "2      2     1     1     0     0     2     0     0     12  \n",
       "3      1     0     1     2     1     0     0     0     12  \n",
       "4      0     0     0     0     1     1     0     0      8  \n",
       "5      0     1     1     1     1     1     1     0     11  \n",
       "6      3     1     1     1     0     3     0     0     17  \n",
       "7      2     0     0     2     1     0     2     0     12  \n",
       "8      1     0     0     0     1     1     0     1      7  \n",
       "9      1     0     1     2     0     1     0     0     13  \n",
       "10     0     0     2     1     3     0     1     1     15  \n",
       "11     1     1     2     1     3     1     3     1     25  \n",
       "12     2     1     0     2     1     1     0     0     24  \n",
       "13     0     0     2     2     0     0     0     0      8  \n",
       "14    15     6    11    17    12    15     8     4    196  \n",
       "\n",
       "[15 rows x 22 columns]"
      ]
     },
     "metadata": {},
     "output_type": "display_data"
    }
   ],
   "source": [
    "### importing data\n",
    "Data = pd.read_excel('horse kick data.xlsx')\n",
    "display(Data)"
   ]
  },
  {
   "cell_type": "code",
   "execution_count": null,
   "metadata": {},
   "outputs": [],
   "source": []
  },
  {
   "cell_type": "code",
   "execution_count": 4,
   "metadata": {},
   "outputs": [
    {
     "name": "stdout",
     "output_type": "stream",
     "text": [
      "X_test\n"
     ]
    },
    {
     "data": {
      "text/html": [
       "<div>\n",
       "<style scoped>\n",
       "    .dataframe tbody tr th:only-of-type {\n",
       "        vertical-align: middle;\n",
       "    }\n",
       "\n",
       "    .dataframe tbody tr th {\n",
       "        vertical-align: top;\n",
       "    }\n",
       "\n",
       "    .dataframe thead th {\n",
       "        text-align: right;\n",
       "    }\n",
       "</style>\n",
       "<table border=\"1\" class=\"dataframe\">\n",
       "  <thead>\n",
       "    <tr style=\"text-align: right;\">\n",
       "      <th></th>\n",
       "      <th>1888</th>\n",
       "      <th>1889</th>\n",
       "      <th>1890</th>\n",
       "      <th>1891</th>\n",
       "      <th>1892</th>\n",
       "      <th>1893</th>\n",
       "      <th>1894</th>\n",
       "    </tr>\n",
       "  </thead>\n",
       "  <tbody>\n",
       "    <tr>\n",
       "      <th>0</th>\n",
       "      <td>0</td>\n",
       "      <td>0</td>\n",
       "      <td>1</td>\n",
       "      <td>0</td>\n",
       "      <td>1</td>\n",
       "      <td>0</td>\n",
       "      <td>1</td>\n",
       "    </tr>\n",
       "    <tr>\n",
       "      <th>1</th>\n",
       "      <td>1</td>\n",
       "      <td>0</td>\n",
       "      <td>2</td>\n",
       "      <td>0</td>\n",
       "      <td>3</td>\n",
       "      <td>1</td>\n",
       "      <td>0</td>\n",
       "    </tr>\n",
       "    <tr>\n",
       "      <th>2</th>\n",
       "      <td>1</td>\n",
       "      <td>1</td>\n",
       "      <td>0</td>\n",
       "      <td>0</td>\n",
       "      <td>2</td>\n",
       "      <td>0</td>\n",
       "      <td>0</td>\n",
       "    </tr>\n",
       "    <tr>\n",
       "      <th>3</th>\n",
       "      <td>0</td>\n",
       "      <td>1</td>\n",
       "      <td>2</td>\n",
       "      <td>1</td>\n",
       "      <td>0</td>\n",
       "      <td>0</td>\n",
       "      <td>0</td>\n",
       "    </tr>\n",
       "    <tr>\n",
       "      <th>4</th>\n",
       "      <td>0</td>\n",
       "      <td>0</td>\n",
       "      <td>0</td>\n",
       "      <td>1</td>\n",
       "      <td>1</td>\n",
       "      <td>0</td>\n",
       "      <td>0</td>\n",
       "    </tr>\n",
       "  </tbody>\n",
       "</table>\n",
       "</div>"
      ],
      "text/plain": [
       "   1888  1889  1890  1891  1892  1893  1894\n",
       "0     0     0     1     0     1     0     1\n",
       "1     1     0     2     0     3     1     0\n",
       "2     1     1     0     0     2     0     0\n",
       "3     0     1     2     1     0     0     0\n",
       "4     0     0     0     1     1     0     0"
      ]
     },
     "execution_count": 4,
     "metadata": {},
     "output_type": "execute_result"
    }
   ],
   "source": [
    "############### generating data into train and test data.\n",
    "\n",
    "X_train_df = Data.iloc[:, [1,2,3,4,5,6,7,8,9,10,11,12,13]] \n",
    "X_test_df = Data.iloc[:,[14,15,16,17,18,19,20]]\n",
    "\n",
    "X_train = X_train_df.to_numpy()\n",
    "X_test = X_test_df.to_numpy()\n",
    "\n",
    "X_trn = X_train[0:14]\n",
    "X_tst = np.array(X_test[0:14],dtype=np.float)\n",
    "\n",
    "\n",
    "print('X_test')\n",
    "X_test_df.head()"
   ]
  },
  {
   "cell_type": "markdown",
   "metadata": {},
   "source": [
    "# 3.1 MLE\n",
    "#### We estimate the mle across the data assuming a poisson distribution, our aim will be to find the parameters of the distribution i.e, lamda.\n",
    "\n",
    "### It turns out that the lamda is the mean of the data : Proved in report"
   ]
  },
  {
   "cell_type": "code",
   "execution_count": 5,
   "metadata": {},
   "outputs": [
    {
     "name": "stdout",
     "output_type": "stream",
     "text": [
      "Estimated value - lambda : \n"
     ]
    },
    {
     "data": {
      "text/latex": [
       "$\\displaystyle \\left[\\begin{matrix}1.0\\\\0.692\\\\0.615\\\\0.615\\\\0.462\\\\0.385\\\\0.846\\\\0.538\\\\0.308\\\\0.692\\\\0.538\\\\1.0\\\\1.462\\\\0.308\\end{matrix}\\right]$"
      ],
      "text/plain": [
       "Matrix([\n",
       "[  1.0],\n",
       "[0.692],\n",
       "[0.615],\n",
       "[0.615],\n",
       "[0.462],\n",
       "[0.385],\n",
       "[0.846],\n",
       "[0.538],\n",
       "[0.308],\n",
       "[0.692],\n",
       "[0.538],\n",
       "[  1.0],\n",
       "[1.462],\n",
       "[0.308]])"
      ]
     },
     "metadata": {},
     "output_type": "display_data"
    },
    {
     "name": "stdout",
     "output_type": "stream",
     "text": [
      " Predictions : round(lamda) : \n"
     ]
    },
    {
     "data": {
      "text/latex": [
       "$\\displaystyle \\left[\\begin{matrix}1.0\\\\1.0\\\\1.0\\\\1.0\\\\0.0\\\\0.0\\\\1.0\\\\1.0\\\\0.0\\\\1.0\\\\1.0\\\\1.0\\\\1.0\\\\0.0\\end{matrix}\\right]$"
      ],
      "text/plain": [
       "Matrix([\n",
       "[1.0],\n",
       "[1.0],\n",
       "[1.0],\n",
       "[1.0],\n",
       "[0.0],\n",
       "[0.0],\n",
       "[1.0],\n",
       "[1.0],\n",
       "[0.0],\n",
       "[1.0],\n",
       "[1.0],\n",
       "[1.0],\n",
       "[1.0],\n",
       "[0.0]])"
      ]
     },
     "metadata": {},
     "output_type": "display_data"
    }
   ],
   "source": [
    "#### 3.1 MLE\n",
    "def find_mle(X):   ### finding the mean over data for each corps\n",
    "    N,D = X.shape\n",
    "    mean = np.zeros((N,1))\n",
    "    for n in range(N):\n",
    "        mean[n] = np.mean(X[n])\n",
    "    return mean\n",
    "\n",
    "\n",
    "mean_vec = find_mle(X_trn) \n",
    "mle = np.round(mean_vec,decimals=3)\n",
    "mle_preds = np.round(mean_vec)\n",
    "\n",
    "print('Estimated value - lambda : ')\n",
    "display(Matrix(mle))\n",
    "print(' Predictions : round(lamda) : ')\n",
    "display(Matrix(mle_preds))"
   ]
  },
  {
   "cell_type": "markdown",
   "metadata": {},
   "source": [
    "## Finding the Root mean souare error for the predictions made using MLE"
   ]
  },
  {
   "cell_type": "code",
   "execution_count": 6,
   "metadata": {},
   "outputs": [
    {
     "name": "stdout",
     "output_type": "stream",
     "text": [
      "RMSE for MLE estimates : \n"
     ]
    },
    {
     "data": {
      "text/latex": [
       "$\\displaystyle \\left[\\begin{matrix}1.613\\\\1.418\\\\1.588\\\\1.522\\\\1.005\\\\0.851\\\\1.467\\\\1.535\\\\1.035\\\\1.502\\\\1.411\\\\1.233\\\\1.403\\\\1.129\\end{matrix}\\right]$"
      ],
      "text/plain": [
       "Matrix([\n",
       "[1.613],\n",
       "[1.418],\n",
       "[1.588],\n",
       "[1.522],\n",
       "[1.005],\n",
       "[0.851],\n",
       "[1.467],\n",
       "[1.535],\n",
       "[1.035],\n",
       "[1.502],\n",
       "[1.411],\n",
       "[1.233],\n",
       "[1.403],\n",
       "[1.129]])"
      ]
     },
     "metadata": {},
     "output_type": "display_data"
    }
   ],
   "source": [
    "### function for finding rmse\n",
    "\n",
    "def rmse(Y,Y_hat):    #### def for rmse\n",
    "    diff = Y - Y_hat\n",
    "    error = np.sqrt(np.mean(diff**2))    ## root of mean of sum of squares\n",
    "    return error\n",
    "\n",
    "############### finding rmse for estimated param for 3.1\n",
    "\n",
    "X_tst_cap = X_tst.copy()\n",
    "N,D = X_tst.shape\n",
    "for d in range(D):\n",
    "    X_tst_cap[:,d] = X_tst[:,d] - np.transpose(mle_preds)\n",
    "\n",
    "rmse_corps = np.zeros((N,1))\n",
    "for n in range(N):\n",
    "    rmse_corps[n] = rmse(X_tst_cap[n],X_tst)\n",
    "\n",
    "print('RMSE for MLE estimates : ')\n",
    "display(Matrix(np.round(rmse_corps,decimals = 3) ))\n"
   ]
  },
  {
   "cell_type": "markdown",
   "metadata": {},
   "source": [
    "# 3.2 MAP : Maximum Aposteriori Estimation\n",
    "## All expressions , proofs and results are provided in the report"
   ]
  },
  {
   "cell_type": "markdown",
   "metadata": {},
   "source": [
    "### Prior distribution : Gamma distribution (alpha = 1.1, beta =0.5)\n",
    "### Likelihood : Poisson distribution\n",
    "### This results in a posterior of Gamma distribution"
   ]
  },
  {
   "cell_type": "markdown",
   "metadata": {},
   "source": []
  },
  {
   "cell_type": "code",
   "execution_count": 7,
   "metadata": {},
   "outputs": [],
   "source": [
    "### Some elementary functions used later\n",
    "\n",
    "def Sum(x):\n",
    "    return np.sum(x)\n",
    "\n",
    "def prod_of_fact(x):\n",
    "    prod = 1\n",
    "    for i in range(len(x)):\n",
    "        prod = prod*np.math.factorial(x[i])\n",
    "    return prod\n",
    "\n",
    "#### creating sum and product\n",
    "def create_sum_product(X):\n",
    "    D,N = X.shape\n",
    "    Calculated_matrix = np.zeros((D,2))\n",
    "    for d in range(D):\n",
    "        Calculated_matrix[d] = np.array([Sum(X[d]), prod_of_fact(X[d])])\n",
    "    return Calculated_matrix\n",
    "        \n"
   ]
  },
  {
   "cell_type": "markdown",
   "metadata": {},
   "source": [
    "## 3.2 a : Plotting prior, likelihood , posterior distributions"
   ]
  },
  {
   "cell_type": "code",
   "execution_count": 8,
   "metadata": {},
   "outputs": [],
   "source": [
    "\n",
    "##### plotting prior P(λ) ; here it is a gamma distribution with param alpha , beta\n",
    "def find_prior_pdf(alpha,beta,title,plot = 1):\n",
    "    x = np.linspace(0 , 5, 1000) \n",
    "    f_x = gamma.pdf(x, a = alpha ,scale = (1/beta))/beta \n",
    "    \n",
    "    max_index = np.argmax(f_x, axis=0)\n",
    "    mode = x[max_index]\n",
    "    mode_str = str('; Mode is λ = %.2f ' %mode)\n",
    "    \n",
    "    if(plot==1):\n",
    "\n",
    "        plt.plot(x,f_x)\n",
    "        plt.title(title+mode_str)\n",
    "        plt.xlabel('λ')\n",
    "        plt.ylabel('f(λ)')\n",
    "        plt.figure()\n",
    "    return f_x\n",
    "\n",
    "\n",
    "###### plotting likelihood : P(λ/Y), which poisson distribution\n",
    "def find_ml_dist(x,title,plot = 1):\n",
    "    \n",
    "    lamda = np.linspace(0,5,1000)\n",
    "    N = np.size(x)\n",
    "    sum_n = Sum(x)\n",
    "    product = prod_of_fact(x)\n",
    "    y = np.exp(-N*lamda)*pow(lamda,sum_n)/(product)\n",
    "    \n",
    "    max_index = np.argmax(y, axis=0)\n",
    "    mode = lamda[max_index]\n",
    "    mode_str = str('; Mode is λ = %.2f ' %mode)\n",
    "    \n",
    "    if(plot == 1):\n",
    "        plt.plot(lamda,y)\n",
    "        plt.title(title+mode_str)\n",
    "        plt.xlabel('λ')\n",
    "        plt.ylabel('f(Y/λ)')\n",
    "        plt.figure()\n",
    "    return y\n",
    "\n",
    "\n",
    "######## finding posterior, : P(λ/Y)  = {P(λ) * P(Y/λ)} / {P(Y)}  \n",
    "def find_posterior_dist(prior,lkhood,title,plot = 1):\n",
    "    \n",
    "    lamda = np.linspace(0,5,1000)\n",
    "    scaling_factor = Sum(lkhood)\n",
    "    y = np.multiply(prior,lkhood)/scaling_factor  ### P(λ/Y)  = {P(λ) * P(Y/λ)} / {P(Y)}  \n",
    "    \n",
    "    max_index = np.argmax(y, axis=0)\n",
    "    mode = lamda[max_index]\n",
    "    mode_str = str('; Mode is λ = %.2f ' %mode)\n",
    "    \n",
    "    if(plot == 1):\n",
    "        plt.plot(lamda,y)\n",
    "        plt.title(title+mode_str)\n",
    "        plt.xlabel('λ')\n",
    "        plt.ylabel('f( λ/Y )')\n",
    "        plt.figure()\n",
    "    \n",
    "    return y\n",
    "    \n",
    "    "
   ]
  },
  {
   "cell_type": "code",
   "execution_count": 9,
   "metadata": {},
   "outputs": [
    {
     "data": {
      "image/png": "[encoded data removed]",
      "text/plain": [
       "<Figure size 432x288 with 1 Axes>"
      ]
     },
     "metadata": {
      "needs_background": "light"
     },
     "output_type": "display_data"
    },
    {
     "data": {
      "image/png": "[encoded data removed]",
      "text/plain": [
       "<Figure size 432x288 with 1 Axes>"
      ]
     },
     "metadata": {
      "needs_background": "light"
     },
     "output_type": "display_data"
    },
    {
     "data": {
      "image/png": "[encoded data removed]",
      "text/plain": [
       "<Figure size 432x288 with 1 Axes>"
      ]
     },
     "metadata": {
      "needs_background": "light"
     },
     "output_type": "display_data"
    },
    {
     "data": {
      "image/png": "[encoded data removed]",
      "text/plain": [
       "<Figure size 432x288 with 1 Axes>"
      ]
     },
     "metadata": {
      "needs_background": "light"
     },
     "output_type": "display_data"
    },
    {
     "data": {
      "image/png": "[encoded data removed]",
      "text/plain": [
       "<Figure size 432x288 with 1 Axes>"
      ]
     },
     "metadata": {
      "needs_background": "light"
     },
     "output_type": "display_data"
    },
    {
     "data": {
      "image/png": "[encoded data removed]",
      "text/plain": [
       "<Figure size 432x288 with 1 Axes>"
      ]
     },
     "metadata": {
      "needs_background": "light"
     },
     "output_type": "display_data"
    },
    {
     "data": {
      "image/png": "[encoded data removed]",
      "text/plain": [
       "<Figure size 432x288 with 1 Axes>"
      ]
     },
     "metadata": {
      "needs_background": "light"
     },
     "output_type": "display_data"
    },
    {
     "data": {
      "image/png": "[encoded data removed]",
      "text/plain": [
       "<Figure size 432x288 with 1 Axes>"
      ]
     },
     "metadata": {
      "needs_background": "light"
     },
     "output_type": "display_data"
    },
    {
     "data": {
      "image/png": "[encoded data removed]",
      "text/plain": [
       "<Figure size 432x288 with 1 Axes>"
      ]
     },
     "metadata": {
      "needs_background": "light"
     },
     "output_type": "display_data"
    },
    {
     "data": {
      "text/plain": [
       "<Figure size 432x288 with 0 Axes>"
      ]
     },
     "metadata": {},
     "output_type": "display_data"
    }
   ],
   "source": [
    "#### Plotting distributions for corps : 2,4 6\n",
    "\n",
    "\n",
    "for i in [2,4,6]:\n",
    "    \n",
    "    alpha = 1.1\n",
    "    beta = 0.55\n",
    "    lkhood = find_ml_dist(X_trn[i],title = 'Likelihood for Corps :%d '%i)\n",
    "    prior = find_prior_pdf(alpha,beta,title = 'Prior Distribution for Corps :%d '%i)\n",
    "    posterior = find_posterior_dist(prior,lkhood,title = 'Posterior for Corps :%d '%i )"
   ]
  },
  {
   "cell_type": "markdown",
   "metadata": {},
   "source": [
    "## 3.2.b Estimating using posterior found above\n",
    "### Here we use compute the mode of the posterior (gamma dist) , which is dependent on (alpha , beta)--> prior param, and data X"
   ]
  },
  {
   "cell_type": "code",
   "execution_count": 10,
   "metadata": {},
   "outputs": [
    {
     "name": "stdout",
     "output_type": "stream",
     "text": [
      "Estimated lamda value using MAP estimation , with gamma prior, alpha  = 1.10, beta = 0.50\n"
     ]
    },
    {
     "data": {
      "text/latex": [
       "$\\displaystyle \\left[\\begin{matrix}0.903\\\\0.628\\\\0.559\\\\0.559\\\\0.421\\\\0.352\\\\0.766\\\\0.49\\\\0.283\\\\0.628\\\\0.49\\\\0.903\\\\1.317\\\\0.283\\end{matrix}\\right]$"
      ],
      "text/plain": [
       "Matrix([\n",
       "[0.903],\n",
       "[0.628],\n",
       "[0.559],\n",
       "[0.559],\n",
       "[0.421],\n",
       "[0.352],\n",
       "[0.766],\n",
       "[ 0.49],\n",
       "[0.283],\n",
       "[0.628],\n",
       "[ 0.49],\n",
       "[0.903],\n",
       "[1.317],\n",
       "[0.283]])"
      ]
     },
     "metadata": {},
     "output_type": "display_data"
    },
    {
     "name": "stdout",
     "output_type": "stream",
     "text": [
      "Predictions\n"
     ]
    },
    {
     "data": {
      "text/latex": [
       "$\\displaystyle \\left[\\begin{matrix}1.0\\\\1.0\\\\1.0\\\\1.0\\\\0.0\\\\0.0\\\\1.0\\\\0.0\\\\0.0\\\\1.0\\\\0.0\\\\1.0\\\\1.0\\\\0.0\\end{matrix}\\right]$"
      ],
      "text/plain": [
       "Matrix([\n",
       "[1.0],\n",
       "[1.0],\n",
       "[1.0],\n",
       "[1.0],\n",
       "[0.0],\n",
       "[0.0],\n",
       "[1.0],\n",
       "[0.0],\n",
       "[0.0],\n",
       "[1.0],\n",
       "[0.0],\n",
       "[1.0],\n",
       "[1.0],\n",
       "[0.0]])"
      ]
     },
     "metadata": {},
     "output_type": "display_data"
    }
   ],
   "source": [
    "X_sum = create_sum_product(X_trn)\n",
    "def find_map_estimates(alpha,beta,X_sum):\n",
    "    N = X_sum.size\n",
    "    mode = np.zeros((X_sum.shape))\n",
    "    for i in  range(len(X_sum)):\n",
    "        mode[i] = (alpha + X_sum[i] - 1)/(beta + N) ### From the mode formula of gamma dist.\n",
    "    return mode\n",
    "\n",
    "\n",
    "###################\n",
    "###   Assuming prior of each corps as gamma with alpha : 1.1 , beta : 0.5\n",
    "##################\n",
    "alpha = 1.1\n",
    "beta = 0.5\n",
    "MAP_estimates = find_map_estimates(alpha,beta,X_sum[:,0])\n",
    "MAP_preds = np.round(MAP_estimates,decimals = 0)\n",
    "print('Estimated lamda value using MAP estimation , with gamma prior, alpha  = %.2f, beta = %.2f'%(alpha,beta))\n",
    "display(Matrix(np.round(MAP_estimates,decimals = 3) ) )\n",
    "print('Predictions')\n",
    "display(Matrix(MAP_preds))\n"
   ]
  },
  {
   "cell_type": "markdown",
   "metadata": {},
   "source": [
    "### Once the param are known , we predict the outcome , for poisson mode: = round(lamda)\n",
    "### IMP :  Here lamda is not the prediction , it is a parameter , which is used to calculate prediction. In this case:pred = round(lamda)\n",
    "\n",
    "## RMSE for MAP estimates"
   ]
  },
  {
   "cell_type": "code",
   "execution_count": 11,
   "metadata": {},
   "outputs": [
    {
     "name": "stdout",
     "output_type": "stream",
     "text": [
      "RMSE for MLE estimates : \n"
     ]
    },
    {
     "data": {
      "text/latex": [
       "$\\displaystyle \\left[\\begin{matrix}1.613\\\\1.418\\\\1.588\\\\1.522\\\\1.005\\\\0.851\\\\1.467\\\\1.138\\\\1.035\\\\1.502\\\\1.336\\\\1.233\\\\1.403\\\\1.129\\end{matrix}\\right]$"
      ],
      "text/plain": [
       "Matrix([\n",
       "[1.613],\n",
       "[1.418],\n",
       "[1.588],\n",
       "[1.522],\n",
       "[1.005],\n",
       "[0.851],\n",
       "[1.467],\n",
       "[1.138],\n",
       "[1.035],\n",
       "[1.502],\n",
       "[1.336],\n",
       "[1.233],\n",
       "[1.403],\n",
       "[1.129]])"
      ]
     },
     "metadata": {},
     "output_type": "display_data"
    }
   ],
   "source": [
    "######  RMSE for MAP estimates\n",
    "\n",
    "############### finding rmse for estimated param for 3.2\n",
    "\n",
    "X_tst_cap = X_tst.copy()\n",
    "N,D = X_tst.shape\n",
    "for d in range(D):\n",
    "    X_tst_cap[:,d] = X_tst[:,d] - np.transpose(MAP_preds)\n",
    "\n",
    "rmse_corps = np.zeros((N,1))\n",
    "for n in range(N):\n",
    "    rmse_corps[n] = rmse(X_tst_cap[n],X_tst)\n",
    "\n",
    "print('RMSE for MLE estimates : ')\n",
    "display( Matrix(np.round(rmse_corps,decimals = 3) ))"
   ]
  },
  {
   "cell_type": "markdown",
   "metadata": {},
   "source": [
    "# THE END"
   ]
  }
 ],
 "metadata": {
  "kernelspec": {
   "display_name": "Python 3",
   "language": "python",
   "name": "python3"
  },
  "language_info": {
   "codemirror_mode": {
    "name": "ipython",
    "version": 3
   },
   "file_extension": ".py",
   "mimetype": "text/x-python",
   "name": "python",
   "nbconvert_exporter": "python",
   "pygments_lexer": "ipython3",
   "version": "3.7.7"
  }
 },
 "nbformat": 4,
 "nbformat_minor": 4
}
