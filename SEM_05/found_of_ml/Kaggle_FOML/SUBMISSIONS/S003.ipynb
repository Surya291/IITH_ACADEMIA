{
 "cells": [
  {
   "cell_type": "code",
   "execution_count": 2,
   "metadata": {},
   "outputs": [
    {
     "name": "stderr",
     "output_type": "stream",
     "text": [
      "/home/surya/anaconda3/lib/python3.7/site-packages/sklearn/model_selection/_split.py:667: UserWarning: The least populated class in y has only 1 members, which is less than n_splits=10.\n",
      "  % (min_groups, self.n_splits)), UserWarning)\n",
      "/home/surya/anaconda3/lib/python3.7/site-packages/ipykernel_launcher.py:101: DataConversionWarning: A column-vector y was passed when a 1d array was expected. Please change the shape of y to (n_samples,), for example using ravel().\n"
     ]
    },
    {
     "name": "stdout",
     "output_type": "stream",
     "text": [
      "\n",
      "1 of kfold 10\n",
      "accuracy_score 92.0\n",
      "\n",
      "2 of kfold 10\n"
     ]
    },
    {
     "name": "stderr",
     "output_type": "stream",
     "text": [
      "/home/surya/anaconda3/lib/python3.7/site-packages/ipykernel_launcher.py:101: DataConversionWarning: A column-vector y was passed when a 1d array was expected. Please change the shape of y to (n_samples,), for example using ravel().\n"
     ]
    },
    {
     "name": "stdout",
     "output_type": "stream",
     "text": [
      "accuracy_score 92.0\n",
      "\n",
      "3 of kfold 10\n"
     ]
    },
    {
     "name": "stderr",
     "output_type": "stream",
     "text": [
      "/home/surya/anaconda3/lib/python3.7/site-packages/ipykernel_launcher.py:101: DataConversionWarning: A column-vector y was passed when a 1d array was expected. Please change the shape of y to (n_samples,), for example using ravel().\n"
     ]
    },
    {
     "name": "stdout",
     "output_type": "stream",
     "text": [
      "accuracy_score 94.0\n",
      "\n",
      "4 of kfold 10\n"
     ]
    },
    {
     "name": "stderr",
     "output_type": "stream",
     "text": [
      "/home/surya/anaconda3/lib/python3.7/site-packages/ipykernel_launcher.py:101: DataConversionWarning: A column-vector y was passed when a 1d array was expected. Please change the shape of y to (n_samples,), for example using ravel().\n"
     ]
    },
    {
     "name": "stdout",
     "output_type": "stream",
     "text": [
      "accuracy_score 89.0\n",
      "\n",
      "5 of kfold 10\n"
     ]
    },
    {
     "name": "stderr",
     "output_type": "stream",
     "text": [
      "/home/surya/anaconda3/lib/python3.7/site-packages/ipykernel_launcher.py:101: DataConversionWarning: A column-vector y was passed when a 1d array was expected. Please change the shape of y to (n_samples,), for example using ravel().\n"
     ]
    },
    {
     "name": "stdout",
     "output_type": "stream",
     "text": [
      "accuracy_score 89.8989898989899\n",
      "\n",
      "6 of kfold 10\n"
     ]
    },
    {
     "name": "stderr",
     "output_type": "stream",
     "text": [
      "/home/surya/anaconda3/lib/python3.7/site-packages/ipykernel_launcher.py:101: DataConversionWarning: A column-vector y was passed when a 1d array was expected. Please change the shape of y to (n_samples,), for example using ravel().\n"
     ]
    },
    {
     "name": "stdout",
     "output_type": "stream",
     "text": [
      "accuracy_score 95.95959595959596\n",
      "\n",
      "7 of kfold 10\n"
     ]
    },
    {
     "name": "stderr",
     "output_type": "stream",
     "text": [
      "/home/surya/anaconda3/lib/python3.7/site-packages/ipykernel_launcher.py:101: DataConversionWarning: A column-vector y was passed when a 1d array was expected. Please change the shape of y to (n_samples,), for example using ravel().\n"
     ]
    },
    {
     "name": "stdout",
     "output_type": "stream",
     "text": [
      "accuracy_score 88.88888888888889\n",
      "\n",
      "8 of kfold 10\n"
     ]
    },
    {
     "name": "stderr",
     "output_type": "stream",
     "text": [
      "/home/surya/anaconda3/lib/python3.7/site-packages/ipykernel_launcher.py:101: DataConversionWarning: A column-vector y was passed when a 1d array was expected. Please change the shape of y to (n_samples,), for example using ravel().\n"
     ]
    },
    {
     "name": "stdout",
     "output_type": "stream",
     "text": [
      "accuracy_score 87.87878787878788\n",
      "\n",
      "9 of kfold 10\n"
     ]
    },
    {
     "name": "stderr",
     "output_type": "stream",
     "text": [
      "/home/surya/anaconda3/lib/python3.7/site-packages/ipykernel_launcher.py:101: DataConversionWarning: A column-vector y was passed when a 1d array was expected. Please change the shape of y to (n_samples,), for example using ravel().\n"
     ]
    },
    {
     "name": "stdout",
     "output_type": "stream",
     "text": [
      "accuracy_score 92.92929292929293\n",
      "\n",
      "10 of kfold 10\n"
     ]
    },
    {
     "name": "stderr",
     "output_type": "stream",
     "text": [
      "/home/surya/anaconda3/lib/python3.7/site-packages/ipykernel_launcher.py:101: DataConversionWarning: A column-vector y was passed when a 1d array was expected. Please change the shape of y to (n_samples,), for example using ravel().\n"
     ]
    },
    {
     "name": "stdout",
     "output_type": "stream",
     "text": [
      "accuracy_score 90.9090909090909\n"
     ]
    }
   ],
   "source": [
    "## imports here !!!\n",
    "import numpy as np\n",
    "import pandas as pd\n",
    "import xgboost as xgb\n",
    "import matplotlib.pyplot as plt\n",
    "import seaborn as sns\n",
    "from scipy import stats\n",
    "\n",
    "from sklearn.ensemble import RandomForestClassifier\n",
    "from xgboost import XGBClassifier\n",
    "from sklearn.model_selection import GridSearchCV\n",
    "from sklearn.model_selection import StratifiedKFold\n",
    "from sklearn.metrics import accuracy_score\n",
    "\n",
    "from sklearn.impute import SimpleImputer\n",
    "\n",
    "import random\n",
    "random.seed(10)\n",
    "\n",
    "\n",
    "\n",
    "'''\n",
    "Importing data\n",
    "'''\n",
    "train_data= pd.read_csv('iith_foml_2020_train.csv')\n",
    "train = pd.DataFrame(train_data)   ### Raw data\n",
    "test_data= pd.read_csv('iith_foml_2020_test.csv')\n",
    "test = pd.DataFrame(test_data)    ### Raw data\n",
    "test.head()\n",
    "\n",
    "\n",
    "\n",
    "#test.describe()\n",
    "\n",
    "\n",
    "\n",
    "def imputing_missing_values(df):\n",
    "    data = df.to_numpy()\n",
    "    # define the imputer\n",
    "    imputer = SimpleImputer(missing_values=np.nan, strategy='mean')\n",
    "    imputer  = imputer.fit(data)\n",
    "    # transform the dataset\n",
    "    transformed_values = imputer.transform(data)\n",
    "    imputed_data = pd.DataFrame(data = transformed_values,columns = df.columns) \n",
    "    return imputed_data\n",
    "\n",
    "\n",
    "L1_train = imputing_missing_values(train)\n",
    "L1_test = imputing_missing_values(test)\n",
    "\n",
    "\n",
    "\n",
    "def normalize(df):\n",
    "    result = df.copy()\n",
    "    for feature_name in df.columns:\n",
    "        max_value = df[feature_name].max()\n",
    "        min_value = df[feature_name].min()\n",
    "        result[feature_name] = (df[feature_name] - min_value) / (max_value - min_value)\n",
    "    return result\n",
    "\n",
    "\n",
    "'''\n",
    "Dividing into X, Y\n",
    "'''\n",
    "\n",
    "\n",
    "L2_train = L1_train.drop(columns=['Feature 16', 'Feature 17'],axis = 1)\n",
    "L2_test = L1_test.drop(columns=['Feature 16', 'Feature 17'],axis = 1)\n",
    "\n",
    "L3_train = L2_train   #### Add remove outliers here to do\n",
    "L3_test = L2_test\n",
    "\n",
    "\n",
    "#################################################################################\n",
    "\n",
    "X = L3_train.drop(columns=['Target Variable (Discrete)'],axis = 1)\n",
    "Y = L3_train[['Target Variable (Discrete)']]\n",
    "X_test = L3_test\n",
    "\n",
    "\n",
    "\n",
    "\n",
    "'''\n",
    "Training with stratified K-fold with random forest\n",
    "'''\n",
    "\n",
    "i=1\n",
    "\n",
    "splits = 10\n",
    "kf = StratifiedKFold(n_splits= splits,random_state=1,shuffle=True)\n",
    "\n",
    "\n",
    "\n",
    "accuracy = [0]* splits\n",
    "for train_index,test_index in kf.split(X,Y):\n",
    "    print('\\n{} of kfold {}'.format(i,kf.n_splits))\n",
    "    xtr,xvl = X.loc[train_index],X.loc[test_index]\n",
    "    ytr,yvl = Y.loc[train_index],Y.loc[test_index]\n",
    "\n",
    "    model = RandomForestClassifier(n_estimators=1000, bootstrap = True,max_features = 'sqrt')\n",
    "    model.fit(xtr, ytr)\n",
    "\n",
    "    #print (model.best_params_)\n",
    "    y_pred=model.predict(xvl)\n",
    "    y_pred = [round(value) for value in y_pred]\n",
    "    \n",
    "    \n",
    "    print('accuracy_score',accuracy_score(yvl,y_pred) * 100)\n",
    "    accuracy[i-1] = accuracy_score(yvl,y_pred) * 100\n",
    "    i+=1\n",
    "\n",
    "def predict_and_submission(test_data,model,title):### test_data in pd format\n",
    "    test = pd.DataFrame(test_data)\n",
    "    predictions = model.predict(test)\n",
    "\n",
    "    output_test_data = pd.DataFrame() \n",
    "    output_test_data['Category'] = predictions.astype(int)\n",
    "\n",
    "    output_test_data['Id'] = list(np.arange(1,predictions.size+1))\n",
    "\n",
    "    submission = output_test_data[['Id','Category']]\n",
    "    submission.to_csv(title, index=False)\n",
    "    submission.head()\n",
    "    return submission\n",
    "\n",
    "##### Plsss change the title........\n",
    "output = predict_and_submission(X_test,model,title = \"S_103_BEST.csv\")\n"
   ]
  }
 ],
 "metadata": {
  "kernelspec": {
   "display_name": "Python 3",
   "language": "python",
   "name": "python3"
  },
  "language_info": {
   "codemirror_mode": {
    "name": "ipython",
    "version": 3
   },
   "file_extension": ".py",
   "mimetype": "text/x-python",
   "name": "python",
   "nbconvert_exporter": "python",
   "pygments_lexer": "ipython3",
   "version": "3.7.7"
  }
 },
 "nbformat": 4,
 "nbformat_minor": 4
}
