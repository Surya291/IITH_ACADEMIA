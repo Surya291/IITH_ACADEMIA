{
 "cells": [
  {
   "cell_type": "code",
   "execution_count": 57,
   "metadata": {
    "_cell_guid": "b1076dfc-b9ad-4769-8c92-a6c4dae69d19",
    "_uuid": "8f2839f25d086af736a60e9eeb907d3b93b6e0e5"
   },
   "outputs": [
    {
     "name": "stdout",
     "output_type": "stream",
     "text": [
      "/kaggle/input/digit-recognizer/train.csv\n",
      "/kaggle/input/digit-recognizer/test.csv\n",
      "/kaggle/input/digit-recognizer/sample_submission.csv\n"
     ]
    }
   ],
   "source": [
    "# This Python 3 environment comes with many helpful analytics libraries installed\n",
    "# It is defined by the kaggle/python docker image: https://github.com/kaggle/docker-python\n",
    "# For example, here's several helpful packages to load in \n",
    "\n",
    "import numpy as np # linear algebra\n",
    "import pandas as pd # data processing, CSV file I/O (e.g. pd.read_csv)\n",
    "\n",
    "# Input data files are available in the \"../input/\" directory.\n",
    "# For example, running this (by clicking run or pressing Shift+Enter) will list all files under the input directory\n",
    "import keras\n",
    "from keras.models import Model\n",
    "from keras.layers import *\n",
    "from keras import optimizers\n",
    "\n",
    "import os\n",
    "for dirname, _, filenames in os.walk('/kaggle/input'):\n",
    "    for filename in filenames:\n",
    "        print(os.path.join(dirname, filename))\n",
    "\n",
    "# Any results you write to the current directory are saved as output."
   ]
  },
  {
   "cell_type": "code",
   "execution_count": 58,
   "metadata": {
    "_cell_guid": "79c7e3d0-c299-4dcb-8224-4455121ee9b0",
    "_uuid": "d629ff2d2480ee46fbb7e2d37f6b5fab8052498a"
   },
   "outputs": [],
   "source": [
    "df_train = pd.read_csv('../input/digit-recognizer/train.csv')\n",
    "df_test = pd.read_csv('../input/digit-recognizer/test.csv')\n",
    "\n"
   ]
  },
  {
   "cell_type": "code",
   "execution_count": 59,
   "metadata": {},
   "outputs": [
    {
     "name": "stdout",
     "output_type": "stream",
     "text": [
      "(28000, 784)\n"
     ]
    }
   ],
   "source": [
    "df_features = df_train.iloc[:, 1:785]\n",
    "df_label = df_train.iloc[:, 0]\n",
    "\n",
    "X_test = df_test.iloc[:, 0:784]\n",
    "\n",
    "print(X_test.shape)"
   ]
  },
  {
   "cell_type": "code",
   "execution_count": 60,
   "metadata": {},
   "outputs": [
    {
     "name": "stderr",
     "output_type": "stream",
     "text": [
      "/opt/conda/lib/python3.6/site-packages/ipykernel_launcher.py:6: FutureWarning: Method .as_matrix will be removed in a future version. Use .values instead.\n",
      "  \n",
      "/opt/conda/lib/python3.6/site-packages/ipykernel_launcher.py:7: FutureWarning: Method .as_matrix will be removed in a future version. Use .values instead.\n",
      "  import sys\n",
      "/opt/conda/lib/python3.6/site-packages/ipykernel_launcher.py:9: FutureWarning: Method .as_matrix will be removed in a future version. Use .values instead.\n",
      "  if __name__ == '__main__':\n"
     ]
    }
   ],
   "source": [
    "\n",
    "\n",
    "from sklearn.model_selection import train_test_split\n",
    "X_train, X_cv, y_train, y_cv = train_test_split(df_features, df_label, \n",
    "                                                test_size = 0.2,\n",
    "                                                random_state = 1212)\n",
    "\n",
    "X_train = X_train.as_matrix().reshape(33600, 784) #(33600, 784)\n",
    "X_cv = X_cv.as_matrix().reshape(8400, 784) #(8400, 784)\n",
    "\n",
    "X_test = X_test.as_matrix().reshape(28000, 784)\n",
    "\n"
   ]
  },
  {
   "cell_type": "code",
   "execution_count": 61,
   "metadata": {},
   "outputs": [
    {
     "name": "stdout",
     "output_type": "stream",
     "text": [
      "(0, 255)\n"
     ]
    }
   ],
   "source": [
    "\n",
    "print((min(X_train[1]), max(X_train[1])))\n"
   ]
  },
  {
   "cell_type": "code",
   "execution_count": 62,
   "metadata": {},
   "outputs": [],
   "source": [
    "X_train = X_train.astype('float32'); X_cv= X_cv.astype('float32'); X_test = X_test.astype('float32')\n",
    "X_train /= 255; X_cv /= 255; X_test /= 255\n",
    "\n",
    "# Convert labels to One Hot Encoded\n",
    "num_digits = 10\n",
    "y_train = keras.utils.to_categorical(y_train, num_digits)\n",
    "y_cv = keras.utils.to_categorical(y_cv, num_digits)"
   ]
  },
  {
   "cell_type": "code",
   "execution_count": 63,
   "metadata": {},
   "outputs": [
    {
     "name": "stdout",
     "output_type": "stream",
     "text": [
      "(33600, 10)\n",
      "[0. 0. 0. 0. 0. 0. 0. 1. 0. 0.]\n"
     ]
    }
   ],
   "source": [
    "print(y_train.shape)\n",
    "print(y_train[3])"
   ]
  },
  {
   "cell_type": "code",
   "execution_count": 64,
   "metadata": {},
   "outputs": [],
   "source": [
    "# Input Parameters\n",
    "n_input = 784 # number of features\n",
    "n_hidden_1 = 300\n",
    "n_hidden_2 = 100\n",
    "n_hidden_3 = 100\n",
    "n_hidden_4 = 200\n",
    "num_digits = 10"
   ]
  },
  {
   "cell_type": "code",
   "execution_count": 65,
   "metadata": {},
   "outputs": [],
   "source": [
    "Inp = Input(shape=(784,))\n",
    "x = Dense(n_hidden_1, activation='relu', name = \"Hidden_Layer_1\")(Inp)\n",
    "output = Dense(num_digits, activation='softmax', name = \"Output_Layer\")(x)"
   ]
  },
  {
   "cell_type": "code",
   "execution_count": 66,
   "metadata": {
    "_cell_guid": "",
    "_uuid": ""
   },
   "outputs": [
    {
     "name": "stdout",
     "output_type": "stream",
     "text": [
      "Model: \"model_10\"\n",
      "_________________________________________________________________\n",
      "Layer (type)                 Output Shape              Param #   \n",
      "=================================================================\n",
      "input_17 (InputLayer)        (None, 784)               0         \n",
      "_________________________________________________________________\n",
      "Hidden_Layer_1 (Dense)       (None, 300)               235500    \n",
      "_________________________________________________________________\n",
      "Output_Layer (Dense)         (None, 10)                3010      \n",
      "=================================================================\n",
      "Total params: 238,510\n",
      "Trainable params: 238,510\n",
      "Non-trainable params: 0\n",
      "_________________________________________________________________\n"
     ]
    }
   ],
   "source": [
    "model1 = Model(Inp, output)\n",
    "model1.summary()"
   ]
  },
  {
   "cell_type": "code",
   "execution_count": 67,
   "metadata": {},
   "outputs": [],
   "source": [
    "learning_rate = 0.1\n",
    "training_epochs = 25\n",
    "batch_size = 100\n",
    "sgd = optimizers.SGD(lr=learning_rate)"
   ]
  },
  {
   "cell_type": "code",
   "execution_count": 68,
   "metadata": {},
   "outputs": [],
   "source": [
    "model1.compile(loss='categorical_crossentropy',\n",
    "              optimizer='sgd',\n",
    "              metrics=['accuracy'])"
   ]
  },
  {
   "cell_type": "code",
   "execution_count": 69,
   "metadata": {},
   "outputs": [
    {
     "name": "stdout",
     "output_type": "stream",
     "text": [
      "Model: \"model_11\"\n",
      "_________________________________________________________________\n",
      "Layer (type)                 Output Shape              Param #   \n",
      "=================================================================\n",
      "input_18 (InputLayer)        (None, 784)               0         \n",
      "_________________________________________________________________\n",
      "Hidden_Layer_1 (Dense)       (None, 300)               235500    \n",
      "_________________________________________________________________\n",
      "Output_Layer (Dense)         (None, 10)                3010      \n",
      "=================================================================\n",
      "Total params: 238,510\n",
      "Trainable params: 238,510\n",
      "Non-trainable params: 0\n",
      "_________________________________________________________________\n",
      "Train on 33600 samples, validate on 8400 samples\n",
      "Epoch 1/40\n",
      " - 2s - loss: 1.2991 - accuracy: 0.6856 - val_loss: 0.7554 - val_accuracy: 0.8423\n",
      "Epoch 2/40\n",
      " - 2s - loss: 0.6235 - accuracy: 0.8532 - val_loss: 0.5204 - val_accuracy: 0.8761\n",
      "Epoch 3/40\n",
      " - 2s - loss: 0.4830 - accuracy: 0.8759 - val_loss: 0.4356 - val_accuracy: 0.8907\n",
      "Epoch 4/40\n",
      " - 2s - loss: 0.4208 - accuracy: 0.8890 - val_loss: 0.3914 - val_accuracy: 0.8980\n",
      "Epoch 5/40\n",
      " - 2s - loss: 0.3843 - accuracy: 0.8970 - val_loss: 0.3634 - val_accuracy: 0.9029\n",
      "Epoch 6/40\n",
      " - 2s - loss: 0.3594 - accuracy: 0.9025 - val_loss: 0.3436 - val_accuracy: 0.9064\n",
      "Epoch 7/40\n",
      " - 2s - loss: 0.3407 - accuracy: 0.9060 - val_loss: 0.3284 - val_accuracy: 0.9104\n",
      "Epoch 8/40\n",
      " - 2s - loss: 0.3259 - accuracy: 0.9096 - val_loss: 0.3173 - val_accuracy: 0.9129\n",
      "Epoch 9/40\n",
      " - 2s - loss: 0.3137 - accuracy: 0.9125 - val_loss: 0.3063 - val_accuracy: 0.9149\n",
      "Epoch 10/40\n",
      " - 2s - loss: 0.3029 - accuracy: 0.9155 - val_loss: 0.2973 - val_accuracy: 0.9174\n",
      "Epoch 11/40\n",
      " - 2s - loss: 0.2935 - accuracy: 0.9172 - val_loss: 0.2899 - val_accuracy: 0.9194\n",
      "Epoch 12/40\n",
      " - 2s - loss: 0.2852 - accuracy: 0.9202 - val_loss: 0.2828 - val_accuracy: 0.9219\n",
      "Epoch 13/40\n",
      " - 2s - loss: 0.2777 - accuracy: 0.9222 - val_loss: 0.2767 - val_accuracy: 0.9214\n",
      "Epoch 14/40\n",
      " - 2s - loss: 0.2707 - accuracy: 0.9246 - val_loss: 0.2706 - val_accuracy: 0.9239\n",
      "Epoch 15/40\n",
      " - 2s - loss: 0.2642 - accuracy: 0.9268 - val_loss: 0.2651 - val_accuracy: 0.9258\n",
      "Epoch 16/40\n",
      " - 2s - loss: 0.2580 - accuracy: 0.9278 - val_loss: 0.2613 - val_accuracy: 0.9260\n",
      "Epoch 17/40\n",
      " - 2s - loss: 0.2526 - accuracy: 0.9298 - val_loss: 0.2554 - val_accuracy: 0.9285\n",
      "Epoch 18/40\n",
      " - 2s - loss: 0.2473 - accuracy: 0.9312 - val_loss: 0.2515 - val_accuracy: 0.9289\n",
      "Epoch 19/40\n",
      " - 2s - loss: 0.2422 - accuracy: 0.9326 - val_loss: 0.2467 - val_accuracy: 0.9311\n",
      "Epoch 20/40\n",
      " - 2s - loss: 0.2372 - accuracy: 0.9340 - val_loss: 0.2427 - val_accuracy: 0.9314\n",
      "Epoch 21/40\n",
      " - 2s - loss: 0.2326 - accuracy: 0.9348 - val_loss: 0.2394 - val_accuracy: 0.9320\n",
      "Epoch 22/40\n",
      " - 2s - loss: 0.2283 - accuracy: 0.9364 - val_loss: 0.2354 - val_accuracy: 0.9344\n",
      "Epoch 23/40\n",
      " - 2s - loss: 0.2240 - accuracy: 0.9374 - val_loss: 0.2327 - val_accuracy: 0.9364\n",
      "Epoch 24/40\n",
      " - 2s - loss: 0.2199 - accuracy: 0.9382 - val_loss: 0.2286 - val_accuracy: 0.9344\n",
      "Epoch 25/40\n",
      " - 2s - loss: 0.2161 - accuracy: 0.9394 - val_loss: 0.2253 - val_accuracy: 0.9362\n",
      "Epoch 26/40\n",
      " - 2s - loss: 0.2123 - accuracy: 0.9404 - val_loss: 0.2216 - val_accuracy: 0.9393\n",
      "Epoch 27/40\n",
      " - 2s - loss: 0.2087 - accuracy: 0.9416 - val_loss: 0.2198 - val_accuracy: 0.9398\n",
      "Epoch 28/40\n",
      " - 2s - loss: 0.2051 - accuracy: 0.9429 - val_loss: 0.2156 - val_accuracy: 0.9410\n",
      "Epoch 29/40\n",
      " - 2s - loss: 0.2018 - accuracy: 0.9438 - val_loss: 0.2131 - val_accuracy: 0.9417\n",
      "Epoch 30/40\n",
      " - 2s - loss: 0.1984 - accuracy: 0.9451 - val_loss: 0.2102 - val_accuracy: 0.9425\n",
      "Epoch 31/40\n",
      " - 2s - loss: 0.1952 - accuracy: 0.9452 - val_loss: 0.2078 - val_accuracy: 0.9432\n",
      "Epoch 32/40\n",
      " - 2s - loss: 0.1923 - accuracy: 0.9471 - val_loss: 0.2055 - val_accuracy: 0.9435\n",
      "Epoch 33/40\n",
      " - 2s - loss: 0.1892 - accuracy: 0.9474 - val_loss: 0.2026 - val_accuracy: 0.9435\n",
      "Epoch 34/40\n",
      " - 2s - loss: 0.1863 - accuracy: 0.9487 - val_loss: 0.2003 - val_accuracy: 0.9458\n",
      "Epoch 35/40\n",
      " - 2s - loss: 0.1834 - accuracy: 0.9491 - val_loss: 0.1978 - val_accuracy: 0.9456\n",
      "Epoch 36/40\n",
      " - 2s - loss: 0.1807 - accuracy: 0.9501 - val_loss: 0.1956 - val_accuracy: 0.9454\n",
      "Epoch 37/40\n",
      " - 2s - loss: 0.1780 - accuracy: 0.9509 - val_loss: 0.1938 - val_accuracy: 0.9463\n",
      "Epoch 38/40\n",
      " - 2s - loss: 0.1754 - accuracy: 0.9516 - val_loss: 0.1913 - val_accuracy: 0.9469\n",
      "Epoch 39/40\n",
      " - 2s - loss: 0.1730 - accuracy: 0.9528 - val_loss: 0.1898 - val_accuracy: 0.9468\n",
      "Epoch 40/40\n",
      " - 2s - loss: 0.1705 - accuracy: 0.9531 - val_loss: 0.1871 - val_accuracy: 0.9482\n"
     ]
    }
   ],
   "source": [
    "Inp = Input(shape=(784,))\n",
    "x = Dense(n_hidden_1, activation='relu', name = \"Hidden_Layer_1\")(Inp)\n",
    "output = Dense(num_digits, activation='softmax', name = \"Output_Layer\")(x)\n",
    "\n",
    "model1 = Model(Inp, output)\n",
    "model1.summary()\n",
    "\n",
    "model1.compile(loss='categorical_crossentropy',\n",
    "              optimizer='sgd',\n",
    "              metrics=['accuracy'])\n",
    "\n",
    "history1 = model1.fit(X_train, y_train,\n",
    "                     batch_size = batch_size,\n",
    "                     epochs = training_epochs,\n",
    "                     verbose = 2,\n",
    "                     validation_data=(X_cv, y_cv))"
   ]
  },
  {
   "cell_type": "code",
   "execution_count": 70,
   "metadata": {},
   "outputs": [
    {
     "name": "stdout",
     "output_type": "stream",
     "text": [
      "Model: \"model_12\"\n",
      "_________________________________________________________________\n",
      "Layer (type)                 Output Shape              Param #   \n",
      "=================================================================\n",
      "input_19 (InputLayer)        (None, 784)               0         \n",
      "_________________________________________________________________\n",
      "Hidden_Layer_1 (Dense)       (None, 300)               235500    \n",
      "_________________________________________________________________\n",
      "Hidden_Layer_2 (Dense)       (None, 100)               30100     \n",
      "_________________________________________________________________\n",
      "Output_Layer (Dense)         (None, 10)                1010      \n",
      "=================================================================\n",
      "Total params: 266,610\n",
      "Trainable params: 266,610\n",
      "Non-trainable params: 0\n",
      "_________________________________________________________________\n"
     ]
    }
   ],
   "source": [
    "Inp2 = Input(shape=(784,))\n",
    "x = Dense(n_hidden_1, activation='relu', name = \"Hidden_Layer_1\")(Inp2)\n",
    "x = Dense(n_hidden_2, activation='relu', name = \"Hidden_Layer_2\")(x)\n",
    "output2 = Dense(num_digits, activation='softmax', name = \"Output_Layer\")(x)\n",
    "\n",
    "model2 = Model(Inp2,output2)\n",
    "model2.summary()\n",
    "\n",
    "model2.compile(loss='categorical_crossentropy',\n",
    "              optimizer='sgd',\n",
    "              metrics=['accuracy'])"
   ]
  },
  {
   "cell_type": "code",
   "execution_count": 71,
   "metadata": {},
   "outputs": [
    {
     "name": "stdout",
     "output_type": "stream",
     "text": [
      "Train on 33600 samples, validate on 8400 samples\n",
      "Epoch 1/40\n",
      " - 2s - loss: 1.3568 - accuracy: 0.6550 - val_loss: 0.7279 - val_accuracy: 0.8367\n",
      "Epoch 2/40\n",
      " - 2s - loss: 0.5704 - accuracy: 0.8582 - val_loss: 0.4614 - val_accuracy: 0.8811\n",
      "Epoch 3/40\n",
      " - 2s - loss: 0.4228 - accuracy: 0.8870 - val_loss: 0.3814 - val_accuracy: 0.8970\n",
      "Epoch 4/40\n",
      " - 2s - loss: 0.3639 - accuracy: 0.8998 - val_loss: 0.3407 - val_accuracy: 0.9067\n",
      "Epoch 5/40\n",
      " - 2s - loss: 0.3297 - accuracy: 0.9086 - val_loss: 0.3161 - val_accuracy: 0.9108\n",
      "Epoch 6/40\n",
      " - 2s - loss: 0.3062 - accuracy: 0.9138 - val_loss: 0.3004 - val_accuracy: 0.9148\n",
      "Epoch 7/40\n",
      " - 2s - loss: 0.2879 - accuracy: 0.9194 - val_loss: 0.2869 - val_accuracy: 0.9195\n",
      "Epoch 8/40\n",
      " - 2s - loss: 0.2728 - accuracy: 0.9236 - val_loss: 0.2739 - val_accuracy: 0.9233\n",
      "Epoch 9/40\n",
      " - 2s - loss: 0.2602 - accuracy: 0.9263 - val_loss: 0.2615 - val_accuracy: 0.9276\n",
      "Epoch 10/40\n",
      " - 2s - loss: 0.2484 - accuracy: 0.9301 - val_loss: 0.2511 - val_accuracy: 0.9292\n",
      "Epoch 11/40\n",
      " - 2s - loss: 0.2382 - accuracy: 0.9330 - val_loss: 0.2440 - val_accuracy: 0.9317\n",
      "Epoch 12/40\n",
      " - 2s - loss: 0.2284 - accuracy: 0.9360 - val_loss: 0.2350 - val_accuracy: 0.9343\n",
      "Epoch 13/40\n",
      " - 2s - loss: 0.2198 - accuracy: 0.9374 - val_loss: 0.2289 - val_accuracy: 0.9344\n",
      "Epoch 14/40\n",
      " - 2s - loss: 0.2115 - accuracy: 0.9403 - val_loss: 0.2212 - val_accuracy: 0.9370\n",
      "Epoch 15/40\n",
      " - 2s - loss: 0.2042 - accuracy: 0.9426 - val_loss: 0.2159 - val_accuracy: 0.9394\n",
      "Epoch 16/40\n",
      " - 2s - loss: 0.1972 - accuracy: 0.9448 - val_loss: 0.2089 - val_accuracy: 0.9406\n",
      "Epoch 17/40\n",
      " - 2s - loss: 0.1907 - accuracy: 0.9464 - val_loss: 0.2039 - val_accuracy: 0.9418\n",
      "Epoch 18/40\n",
      " - 2s - loss: 0.1842 - accuracy: 0.9478 - val_loss: 0.1995 - val_accuracy: 0.9425\n",
      "Epoch 19/40\n",
      " - 2s - loss: 0.1786 - accuracy: 0.9499 - val_loss: 0.1937 - val_accuracy: 0.9442\n",
      "Epoch 20/40\n",
      " - 2s - loss: 0.1729 - accuracy: 0.9511 - val_loss: 0.1907 - val_accuracy: 0.9458\n",
      "Epoch 21/40\n",
      " - 2s - loss: 0.1674 - accuracy: 0.9522 - val_loss: 0.1856 - val_accuracy: 0.9476\n",
      "Epoch 22/40\n",
      " - 2s - loss: 0.1629 - accuracy: 0.9538 - val_loss: 0.1824 - val_accuracy: 0.9483\n",
      "Epoch 23/40\n",
      " - 2s - loss: 0.1582 - accuracy: 0.9552 - val_loss: 0.1797 - val_accuracy: 0.9489\n",
      "Epoch 24/40\n",
      " - 2s - loss: 0.1536 - accuracy: 0.9561 - val_loss: 0.1761 - val_accuracy: 0.9507\n",
      "Epoch 25/40\n",
      " - 2s - loss: 0.1497 - accuracy: 0.9574 - val_loss: 0.1737 - val_accuracy: 0.9515\n",
      "Epoch 26/40\n",
      " - 2s - loss: 0.1458 - accuracy: 0.9586 - val_loss: 0.1692 - val_accuracy: 0.9524\n",
      "Epoch 27/40\n",
      " - 2s - loss: 0.1418 - accuracy: 0.9593 - val_loss: 0.1665 - val_accuracy: 0.9532\n",
      "Epoch 28/40\n",
      " - 2s - loss: 0.1384 - accuracy: 0.9605 - val_loss: 0.1643 - val_accuracy: 0.9545\n",
      "Epoch 29/40\n",
      " - 2s - loss: 0.1346 - accuracy: 0.9615 - val_loss: 0.1617 - val_accuracy: 0.9549\n",
      "Epoch 30/40\n",
      " - 2s - loss: 0.1312 - accuracy: 0.9621 - val_loss: 0.1592 - val_accuracy: 0.9556\n",
      "Epoch 31/40\n",
      " - 2s - loss: 0.1280 - accuracy: 0.9633 - val_loss: 0.1567 - val_accuracy: 0.9560\n",
      "Epoch 32/40\n",
      " - 2s - loss: 0.1248 - accuracy: 0.9643 - val_loss: 0.1555 - val_accuracy: 0.9563\n",
      "Epoch 33/40\n",
      " - 2s - loss: 0.1220 - accuracy: 0.9654 - val_loss: 0.1510 - val_accuracy: 0.9583\n",
      "Epoch 34/40\n",
      " - 2s - loss: 0.1189 - accuracy: 0.9661 - val_loss: 0.1514 - val_accuracy: 0.9579\n",
      "Epoch 35/40\n",
      " - 2s - loss: 0.1164 - accuracy: 0.9670 - val_loss: 0.1470 - val_accuracy: 0.9605\n",
      "Epoch 36/40\n",
      " - 2s - loss: 0.1138 - accuracy: 0.9679 - val_loss: 0.1454 - val_accuracy: 0.9601\n",
      "Epoch 37/40\n",
      " - 2s - loss: 0.1109 - accuracy: 0.9688 - val_loss: 0.1443 - val_accuracy: 0.9602\n",
      "Epoch 38/40\n",
      " - 2s - loss: 0.1081 - accuracy: 0.9692 - val_loss: 0.1430 - val_accuracy: 0.9595\n",
      "Epoch 39/40\n",
      " - 2s - loss: 0.1059 - accuracy: 0.9702 - val_loss: 0.1413 - val_accuracy: 0.9608\n",
      "Epoch 40/40\n",
      " - 2s - loss: 0.1036 - accuracy: 0.9712 - val_loss: 0.1387 - val_accuracy: 0.9614\n"
     ]
    }
   ],
   "source": [
    "history2 = model2.fit(X_train, y_train,\n",
    "                     batch_size = batch_size,\n",
    "                     epochs = training_epochs,\n",
    "                     verbose = 2,\n",
    "                     validation_data=(X_cv, y_cv))"
   ]
  },
  {
   "cell_type": "code",
   "execution_count": 72,
   "metadata": {},
   "outputs": [
    {
     "name": "stdout",
     "output_type": "stream",
     "text": [
      "Model: \"model_13\"\n",
      "_________________________________________________________________\n",
      "Layer (type)                 Output Shape              Param #   \n",
      "=================================================================\n",
      "input_20 (InputLayer)        (None, 784)               0         \n",
      "_________________________________________________________________\n",
      "Hidden_Layer_1 (Dense)       (None, 300)               235500    \n",
      "_________________________________________________________________\n",
      "Hidden_Layer_2 (Dense)       (None, 100)               30100     \n",
      "_________________________________________________________________\n",
      "Hidden_Layer_3 (Dense)       (None, 100)               10100     \n",
      "_________________________________________________________________\n",
      "Output_Layer (Dense)         (None, 10)                1010      \n",
      "=================================================================\n",
      "Total params: 276,710\n",
      "Trainable params: 276,710\n",
      "Non-trainable params: 0\n",
      "_________________________________________________________________\n",
      "Train on 33600 samples, validate on 8400 samples\n",
      "Epoch 1/40\n",
      " - 2s - loss: 1.4884 - accuracy: 0.6110 - val_loss: 0.7289 - val_accuracy: 0.8306\n",
      "Epoch 2/40\n",
      " - 2s - loss: 0.5409 - accuracy: 0.8623 - val_loss: 0.4316 - val_accuracy: 0.8801\n",
      "Epoch 3/40\n",
      " - 2s - loss: 0.3945 - accuracy: 0.8906 - val_loss: 0.3578 - val_accuracy: 0.8971\n",
      "Epoch 4/40\n",
      " - 2s - loss: 0.3404 - accuracy: 0.9032 - val_loss: 0.3226 - val_accuracy: 0.9058\n",
      "Epoch 5/40\n",
      " - 2s - loss: 0.3088 - accuracy: 0.9110 - val_loss: 0.2990 - val_accuracy: 0.9142\n",
      "Epoch 6/40\n",
      " - 2s - loss: 0.2851 - accuracy: 0.9181 - val_loss: 0.2811 - val_accuracy: 0.9186\n",
      "Epoch 7/40\n",
      " - 2s - loss: 0.2666 - accuracy: 0.9232 - val_loss: 0.2670 - val_accuracy: 0.9201\n",
      "Epoch 8/40\n",
      " - 2s - loss: 0.2500 - accuracy: 0.9275 - val_loss: 0.2510 - val_accuracy: 0.9254\n",
      "Epoch 9/40\n",
      " - 2s - loss: 0.2355 - accuracy: 0.9325 - val_loss: 0.2415 - val_accuracy: 0.9299\n",
      "Epoch 10/40\n",
      " - 2s - loss: 0.2226 - accuracy: 0.9367 - val_loss: 0.2304 - val_accuracy: 0.9329\n",
      "Epoch 11/40\n",
      " - 2s - loss: 0.2110 - accuracy: 0.9399 - val_loss: 0.2262 - val_accuracy: 0.9355\n",
      "Epoch 12/40\n",
      " - 2s - loss: 0.2006 - accuracy: 0.9426 - val_loss: 0.2108 - val_accuracy: 0.9382\n",
      "Epoch 13/40\n",
      " - 3s - loss: 0.1906 - accuracy: 0.9456 - val_loss: 0.2060 - val_accuracy: 0.9388\n",
      "Epoch 14/40\n",
      " - 3s - loss: 0.1811 - accuracy: 0.9485 - val_loss: 0.1998 - val_accuracy: 0.9398\n",
      "Epoch 15/40\n",
      " - 3s - loss: 0.1725 - accuracy: 0.9510 - val_loss: 0.1911 - val_accuracy: 0.9436\n",
      "Epoch 16/40\n",
      " - 3s - loss: 0.1648 - accuracy: 0.9533 - val_loss: 0.1892 - val_accuracy: 0.9445\n",
      "Epoch 17/40\n",
      " - 2s - loss: 0.1575 - accuracy: 0.9556 - val_loss: 0.1807 - val_accuracy: 0.9474\n",
      "Epoch 18/40\n",
      " - 2s - loss: 0.1511 - accuracy: 0.9575 - val_loss: 0.1725 - val_accuracy: 0.9499\n",
      "Epoch 19/40\n",
      " - 2s - loss: 0.1445 - accuracy: 0.9589 - val_loss: 0.1694 - val_accuracy: 0.9525\n",
      "Epoch 20/40\n",
      " - 2s - loss: 0.1389 - accuracy: 0.9612 - val_loss: 0.1639 - val_accuracy: 0.9540\n",
      "Epoch 21/40\n",
      " - 2s - loss: 0.1328 - accuracy: 0.9625 - val_loss: 0.1591 - val_accuracy: 0.9550\n",
      "Epoch 22/40\n",
      " - 2s - loss: 0.1278 - accuracy: 0.9638 - val_loss: 0.1558 - val_accuracy: 0.9558\n",
      "Epoch 23/40\n",
      " - 2s - loss: 0.1224 - accuracy: 0.9660 - val_loss: 0.1534 - val_accuracy: 0.9575\n",
      "Epoch 24/40\n",
      " - 2s - loss: 0.1183 - accuracy: 0.9677 - val_loss: 0.1479 - val_accuracy: 0.9596\n",
      "Epoch 25/40\n",
      " - 2s - loss: 0.1136 - accuracy: 0.9689 - val_loss: 0.1453 - val_accuracy: 0.9590\n",
      "Epoch 26/40\n",
      " - 2s - loss: 0.1094 - accuracy: 0.9698 - val_loss: 0.1434 - val_accuracy: 0.9593\n",
      "Epoch 27/40\n",
      " - 2s - loss: 0.1054 - accuracy: 0.9707 - val_loss: 0.1390 - val_accuracy: 0.9608\n",
      "Epoch 28/40\n",
      " - 2s - loss: 0.1014 - accuracy: 0.9724 - val_loss: 0.1389 - val_accuracy: 0.9613\n",
      "Epoch 29/40\n",
      " - 2s - loss: 0.0974 - accuracy: 0.9736 - val_loss: 0.1411 - val_accuracy: 0.9598\n",
      "Epoch 30/40\n",
      " - 2s - loss: 0.0946 - accuracy: 0.9739 - val_loss: 0.1329 - val_accuracy: 0.9621\n",
      "Epoch 31/40\n",
      " - 2s - loss: 0.0910 - accuracy: 0.9751 - val_loss: 0.1343 - val_accuracy: 0.9619\n",
      "Epoch 32/40\n",
      " - 2s - loss: 0.0882 - accuracy: 0.9754 - val_loss: 0.1288 - val_accuracy: 0.9635\n",
      "Epoch 33/40\n",
      " - 2s - loss: 0.0843 - accuracy: 0.9765 - val_loss: 0.1274 - val_accuracy: 0.9640\n",
      "Epoch 34/40\n",
      " - 2s - loss: 0.0818 - accuracy: 0.9770 - val_loss: 0.1254 - val_accuracy: 0.9637\n",
      "Epoch 35/40\n",
      " - 2s - loss: 0.0793 - accuracy: 0.9784 - val_loss: 0.1250 - val_accuracy: 0.9633\n",
      "Epoch 36/40\n",
      " - 3s - loss: 0.0767 - accuracy: 0.9789 - val_loss: 0.1220 - val_accuracy: 0.9648\n",
      "Epoch 37/40\n",
      " - 3s - loss: 0.0736 - accuracy: 0.9802 - val_loss: 0.1208 - val_accuracy: 0.9648\n",
      "Epoch 38/40\n",
      " - 3s - loss: 0.0714 - accuracy: 0.9808 - val_loss: 0.1206 - val_accuracy: 0.9655\n",
      "Epoch 39/40\n",
      " - 2s - loss: 0.0690 - accuracy: 0.9815 - val_loss: 0.1183 - val_accuracy: 0.9648\n",
      "Epoch 40/40\n",
      " - 2s - loss: 0.0667 - accuracy: 0.9818 - val_loss: 0.1199 - val_accuracy: 0.9651\n"
     ]
    }
   ],
   "source": [
    "Inp3 = Input(shape=(784,))\n",
    "x = Dense(n_hidden_1, activation='relu', name = \"Hidden_Layer_1\")(Inp3)\n",
    "x = Dense(n_hidden_2, activation='relu', name = \"Hidden_Layer_2\")(x)\n",
    "x = Dense(n_hidden_3, activation='relu', name = \"Hidden_Layer_3\")(x)\n",
    "output3 = Dense(num_digits, activation='softmax', name = \"Output_Layer\")(x)\n",
    "\n",
    "model3 = Model(Inp3,output3)\n",
    "model3.summary()\n",
    "\n",
    "model3.compile(loss='categorical_crossentropy',\n",
    "              optimizer='sgd',\n",
    "              metrics=['accuracy'])\n",
    "\n",
    "history3 = model3.fit(X_train, y_train,\n",
    "                     batch_size = batch_size,\n",
    "                     epochs = training_epochs,\n",
    "                     verbose = 2,\n",
    "                     validation_data=(X_cv, y_cv))"
   ]
  },
  {
   "cell_type": "code",
   "execution_count": 73,
   "metadata": {},
   "outputs": [
    {
     "name": "stdout",
     "output_type": "stream",
     "text": [
      "Model: \"model_14\"\n",
      "_________________________________________________________________\n",
      "Layer (type)                 Output Shape              Param #   \n",
      "=================================================================\n",
      "input_21 (InputLayer)        (None, 784)               0         \n",
      "_________________________________________________________________\n",
      "Hidden_Layer_1 (Dense)       (None, 300)               235500    \n",
      "_________________________________________________________________\n",
      "Hidden_Layer_2 (Dense)       (None, 100)               30100     \n",
      "_________________________________________________________________\n",
      "Hidden_Layer_3 (Dense)       (None, 100)               10100     \n",
      "_________________________________________________________________\n",
      "Hidden_Layer_4 (Dense)       (None, 200)               20200     \n",
      "_________________________________________________________________\n",
      "Output_Layer (Dense)         (None, 10)                2010      \n",
      "=================================================================\n",
      "Total params: 297,910\n",
      "Trainable params: 297,910\n",
      "Non-trainable params: 0\n",
      "_________________________________________________________________\n",
      "Train on 33600 samples, validate on 8400 samples\n",
      "Epoch 1/40\n",
      " - 3s - loss: 1.8355 - accuracy: 0.5071 - val_loss: 0.9747 - val_accuracy: 0.7735\n",
      "Epoch 2/40\n",
      " - 3s - loss: 0.6338 - accuracy: 0.8325 - val_loss: 0.4695 - val_accuracy: 0.8660\n",
      "Epoch 3/40\n",
      " - 3s - loss: 0.4181 - accuracy: 0.8798 - val_loss: 0.3669 - val_accuracy: 0.8956\n",
      "Epoch 4/40\n",
      " - 3s - loss: 0.3467 - accuracy: 0.8997 - val_loss: 0.3244 - val_accuracy: 0.9069\n",
      "Epoch 5/40\n",
      " - 3s - loss: 0.3022 - accuracy: 0.9113 - val_loss: 0.2886 - val_accuracy: 0.9173\n",
      "Epoch 6/40\n",
      " - 3s - loss: 0.2719 - accuracy: 0.9206 - val_loss: 0.2650 - val_accuracy: 0.9214\n",
      "Epoch 7/40\n",
      " - 2s - loss: 0.2481 - accuracy: 0.9269 - val_loss: 0.2477 - val_accuracy: 0.9277\n",
      "Epoch 8/40\n",
      " - 2s - loss: 0.2276 - accuracy: 0.9332 - val_loss: 0.2313 - val_accuracy: 0.9335\n",
      "Epoch 9/40\n",
      " - 3s - loss: 0.2114 - accuracy: 0.9379 - val_loss: 0.2196 - val_accuracy: 0.9362\n",
      "Epoch 10/40\n",
      " - 3s - loss: 0.1973 - accuracy: 0.9426 - val_loss: 0.2091 - val_accuracy: 0.9405\n",
      "Epoch 11/40\n",
      " - 2s - loss: 0.1846 - accuracy: 0.9470 - val_loss: 0.1979 - val_accuracy: 0.9439\n",
      "Epoch 12/40\n",
      " - 3s - loss: 0.1739 - accuracy: 0.9486 - val_loss: 0.1913 - val_accuracy: 0.9455\n",
      "Epoch 13/40\n",
      " - 2s - loss: 0.1631 - accuracy: 0.9521 - val_loss: 0.1804 - val_accuracy: 0.9477\n",
      "Epoch 14/40\n",
      " - 3s - loss: 0.1540 - accuracy: 0.9553 - val_loss: 0.1741 - val_accuracy: 0.9499\n",
      "Epoch 15/40\n",
      " - 2s - loss: 0.1457 - accuracy: 0.9573 - val_loss: 0.1665 - val_accuracy: 0.9525\n",
      "Epoch 16/40\n",
      " - 2s - loss: 0.1381 - accuracy: 0.9599 - val_loss: 0.1627 - val_accuracy: 0.9544\n",
      "Epoch 17/40\n",
      " - 2s - loss: 0.1306 - accuracy: 0.9621 - val_loss: 0.1603 - val_accuracy: 0.9535\n",
      "Epoch 18/40\n",
      " - 2s - loss: 0.1241 - accuracy: 0.9640 - val_loss: 0.1570 - val_accuracy: 0.9538\n",
      "Epoch 19/40\n",
      " - 3s - loss: 0.1173 - accuracy: 0.9658 - val_loss: 0.1556 - val_accuracy: 0.9546\n",
      "Epoch 20/40\n",
      " - 2s - loss: 0.1122 - accuracy: 0.9669 - val_loss: 0.1434 - val_accuracy: 0.9585\n",
      "Epoch 21/40\n",
      " - 3s - loss: 0.1061 - accuracy: 0.9697 - val_loss: 0.1414 - val_accuracy: 0.9590\n",
      "Epoch 22/40\n",
      " - 3s - loss: 0.1013 - accuracy: 0.9713 - val_loss: 0.1376 - val_accuracy: 0.9601\n",
      "Epoch 23/40\n",
      " - 3s - loss: 0.0970 - accuracy: 0.9724 - val_loss: 0.1357 - val_accuracy: 0.9587\n",
      "Epoch 24/40\n",
      " - 3s - loss: 0.0925 - accuracy: 0.9742 - val_loss: 0.1353 - val_accuracy: 0.9605\n",
      "Epoch 25/40\n",
      " - 3s - loss: 0.0881 - accuracy: 0.9748 - val_loss: 0.1338 - val_accuracy: 0.9614\n",
      "Epoch 26/40\n",
      " - 3s - loss: 0.0838 - accuracy: 0.9761 - val_loss: 0.1282 - val_accuracy: 0.9620\n",
      "Epoch 27/40\n",
      " - 3s - loss: 0.0802 - accuracy: 0.9773 - val_loss: 0.1259 - val_accuracy: 0.9625\n",
      "Epoch 28/40\n",
      " - 3s - loss: 0.0774 - accuracy: 0.9783 - val_loss: 0.1272 - val_accuracy: 0.9627\n",
      "Epoch 29/40\n",
      " - 3s - loss: 0.0730 - accuracy: 0.9804 - val_loss: 0.1249 - val_accuracy: 0.9624\n",
      "Epoch 30/40\n",
      " - 3s - loss: 0.0699 - accuracy: 0.9807 - val_loss: 0.1219 - val_accuracy: 0.9638\n",
      "Epoch 31/40\n",
      " - 2s - loss: 0.0664 - accuracy: 0.9820 - val_loss: 0.1228 - val_accuracy: 0.9640\n",
      "Epoch 32/40\n",
      " - 3s - loss: 0.0641 - accuracy: 0.9824 - val_loss: 0.1222 - val_accuracy: 0.9644\n",
      "Epoch 33/40\n",
      " - 3s - loss: 0.0609 - accuracy: 0.9832 - val_loss: 0.1197 - val_accuracy: 0.9667\n",
      "Epoch 34/40\n",
      " - 3s - loss: 0.0581 - accuracy: 0.9847 - val_loss: 0.1203 - val_accuracy: 0.9650\n",
      "Epoch 35/40\n",
      " - 3s - loss: 0.0551 - accuracy: 0.9851 - val_loss: 0.1185 - val_accuracy: 0.9650\n",
      "Epoch 36/40\n",
      " - 2s - loss: 0.0530 - accuracy: 0.9859 - val_loss: 0.1215 - val_accuracy: 0.9656\n",
      "Epoch 37/40\n",
      " - 3s - loss: 0.0509 - accuracy: 0.9871 - val_loss: 0.1151 - val_accuracy: 0.9676\n",
      "Epoch 38/40\n",
      " - 3s - loss: 0.0483 - accuracy: 0.9878 - val_loss: 0.1192 - val_accuracy: 0.9656\n",
      "Epoch 39/40\n",
      " - 2s - loss: 0.0460 - accuracy: 0.9883 - val_loss: 0.1166 - val_accuracy: 0.9664\n",
      "Epoch 40/40\n",
      " - 3s - loss: 0.0445 - accuracy: 0.9887 - val_loss: 0.1121 - val_accuracy: 0.9669\n"
     ]
    }
   ],
   "source": [
    "Inp4 = Input(shape=(784,))\n",
    "x = Dense(n_hidden_1, activation='relu', name = \"Hidden_Layer_1\")(Inp4)\n",
    "x = Dense(n_hidden_2, activation='relu', name = \"Hidden_Layer_2\")(x)\n",
    "x = Dense(n_hidden_3, activation='relu', name = \"Hidden_Layer_3\")(x)\n",
    "x = Dense(n_hidden_4, activation='relu', name = \"Hidden_Layer_4\")(x)\n",
    "output4 = Dense(num_digits, activation='softmax', name = \"Output_Layer\")(x)\n",
    "\n",
    "model4 = Model(Inp4,output4)\n",
    "model4.summary()\n",
    "\n",
    "model4.compile(loss='categorical_crossentropy',\n",
    "              optimizer='sgd',\n",
    "              metrics=['accuracy'])\n",
    "\n",
    "history4 = model4.fit(X_train, y_train,\n",
    "                     batch_size = batch_size,\n",
    "                     epochs = training_epochs,\n",
    "                     verbose = 2,\n",
    "                     validation_data=(X_cv, y_cv))"
   ]
  },
  {
   "cell_type": "code",
   "execution_count": 74,
   "metadata": {},
   "outputs": [
    {
     "data": {
      "text/plain": [
       "Text(0.5, 0, 'no. of epoch')"
      ]
     },
     "execution_count": 74,
     "metadata": {},
     "output_type": "execute_result"
    },
    {
     "data": {
      "image/png": "[encoded data removed]",
      "text/plain": [
       "<Figure size 432x288 with 1 Axes>"
      ]
     },
     "metadata": {
      "needs_background": "light"
     },
     "output_type": "display_data"
    }
   ],
   "source": [
    "import matplotlib.pyplot as plt\n",
    "\n",
    "plt.plot(history1.history['loss'])\n",
    "plt.plot(history1.history['val_loss'])\n",
    "plt.legend(['TRAINING_LOSS', 'TESTING_LOSS'])\n",
    "plt.title('Loss for 1 HIDDEN LAYERS !!!')\n",
    "plt.xlabel('no. of epoch')\n"
   ]
  },
  {
   "cell_type": "code",
   "execution_count": 75,
   "metadata": {},
   "outputs": [
    {
     "data": {
      "text/plain": [
       "Text(0.5, 0, 'no. of epoch')"
      ]
     },
     "execution_count": 75,
     "metadata": {},
     "output_type": "execute_result"
    },
    {
     "data": {
      "image/png": "[encoded data removed]",
      "text/plain": [
       "<Figure size 432x288 with 1 Axes>"
      ]
     },
     "metadata": {
      "needs_background": "light"
     },
     "output_type": "display_data"
    }
   ],
   "source": [
    "import matplotlib.pyplot as plt\n",
    "\n",
    "plt.plot(history2.history['loss'])\n",
    "plt.plot(history2.history['val_loss'])\n",
    "plt.legend(['TRAINING_LOSS', 'TESTING_LOSS'])\n",
    "plt.title('Loss for 2 HIDDEN LAYERS !!!')\n",
    "plt.xlabel('no. of epoch')\n"
   ]
  },
  {
   "cell_type": "code",
   "execution_count": 76,
   "metadata": {},
   "outputs": [
    {
     "data": {
      "text/plain": [
       "Text(0.5, 0, 'no. of epoch')"
      ]
     },
     "execution_count": 76,
     "metadata": {},
     "output_type": "execute_result"
    },
    {
     "data": {
      "image/png": "[encoded data removed]",
      "text/plain": [
       "<Figure size 432x288 with 1 Axes>"
      ]
     },
     "metadata": {
      "needs_background": "light"
     },
     "output_type": "display_data"
    }
   ],
   "source": [
    "plt.plot(history3.history['loss'])\n",
    "plt.plot(history3.history['val_loss'])\n",
    "plt.legend(['TRAINING_LOSS', 'TESTING_LOSS'])\n",
    "plt.title('Loss for 3 HIDDEN LAYERS !!!')\n",
    "plt.xlabel('no. of epoch')"
   ]
  },
  {
   "cell_type": "code",
   "execution_count": 77,
   "metadata": {},
   "outputs": [
    {
     "data": {
      "text/plain": [
       "Text(0.5, 0, 'no. of epoch')"
      ]
     },
     "execution_count": 77,
     "metadata": {},
     "output_type": "execute_result"
    },
    {
     "data": {
      "image/png": "[encoded data removed]",
      "text/plain": [
       "<Figure size 432x288 with 1 Axes>"
      ]
     },
     "metadata": {
      "needs_background": "light"
     },
     "output_type": "display_data"
    }
   ],
   "source": [
    "import matplotlib.pyplot as plt\n",
    "plt.plot(history4.history['loss'])\n",
    "plt.plot(history4.history['val_loss'])\n",
    "plt.legend(['TRAINING_LOSS', 'TESTING_LOSS'])\n",
    "plt.title('Loss for 4 HIDDEN LAYERS !!!')\n",
    "plt.xlabel('no. of epoch')"
   ]
  },
  {
   "cell_type": "code",
   "execution_count": 78,
   "metadata": {},
   "outputs": [
    {
     "data": {
      "text/plain": [
       "Text(0.5, 0, 'no. of epoch')"
      ]
     },
     "execution_count": 78,
     "metadata": {},
     "output_type": "execute_result"
    },
    {
     "data": {
      "image/png": "[encoded data removed]",
      "text/plain": [
       "<Figure size 432x288 with 1 Axes>"
      ]
     },
     "metadata": {
      "needs_background": "light"
     },
     "output_type": "display_data"
    }
   ],
   "source": [
    "################\n",
    "#PLOTTING THE TRAINING_LOSSES\n",
    "plt.plot(history1.history['loss'])\n",
    "plt.plot(history2.history['loss'])\n",
    "plt.plot(history3.history['loss'])\n",
    "plt.plot(history4.history['loss'])\n",
    "\n",
    "plt.legend(['TRAINING_LOSS_1', 'TRAINING_LOSS_2','TRAINING_LOSS_3','TRAINING_LOSS_4'])\n",
    "plt.title('TRAINING_LOSSES !!!')\n",
    "plt.xlabel('no. of epoch')\n"
   ]
  },
  {
   "cell_type": "code",
   "execution_count": 79,
   "metadata": {},
   "outputs": [
    {
     "data": {
      "text/plain": [
       "Text(0.5, 0, 'no. of epoch')"
      ]
     },
     "execution_count": 79,
     "metadata": {},
     "output_type": "execute_result"
    },
    {
     "data": {
      "image/png": "[encoded data removed]",
      "text/plain": [
       "<Figure size 432x288 with 1 Axes>"
      ]
     },
     "metadata": {
      "needs_background": "light"
     },
     "output_type": "display_data"
    }
   ],
   "source": [
    "################\n",
    "#PLOTTING THE TRAINING_LOSSES\n",
    "plt.plot(history1.history['val_loss'])\n",
    "plt.plot(history2.history['val_loss'])\n",
    "plt.plot(history3.history['val_loss'])\n",
    "plt.plot(history4.history['val_loss'])\n",
    "\n",
    "plt.legend(['TESTING_LOSS_1', 'TESTING_LOSS_2','TESTING_LOSS_3','TESTING_LOSS_4'])\n",
    "plt.title('TESTING_LOSSES !!!')\n",
    "plt.xlabel('no. of epoch')\n"
   ]
  }
 ],
 "metadata": {
  "kernelspec": {
   "display_name": "Python 3",
   "language": "python",
   "name": "python3"
  },
  "language_info": {
   "codemirror_mode": {
    "name": "ipython",
    "version": 3
   },
   "file_extension": ".py",
   "mimetype": "text/x-python",
   "name": "python",
   "nbconvert_exporter": "python",
   "pygments_lexer": "ipython3",
   "version": "3.7.4"
  }
 },
 "nbformat": 4,
 "nbformat_minor": 1
}
