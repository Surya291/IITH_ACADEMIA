{
 "cells": [
  {
   "cell_type": "markdown",
   "metadata": {},
   "source": [
    "# KOIDALA SURYA PRAKASH\n",
    "## EE18BTECH11026"
   ]
  },
  {
   "cell_type": "code",
   "execution_count": 27,
   "metadata": {},
   "outputs": [],
   "source": [
    "from scipy import stats as stats_scipy\n",
    "import numpy as np\n",
    "import matplotlib.pyplot as plt\n",
    "from astropy import stats as stats_astropy\n",
    "from astroML import stats as stats_astroML\n",
    "from scipy.optimize import curve_fit"
   ]
  },
  {
   "cell_type": "markdown",
   "metadata": {},
   "source": [
    "### Q4\n"
   ]
  },
  {
   "cell_type": "code",
   "execution_count": 7,
   "metadata": {},
   "outputs": [
    {
     "name": "stdout",
     "output_type": "stream",
     "text": [
      "Significance of Higgs boson disc 5.911017938341624\n",
      "Significance of LIGO disc 5.068957749717791\n",
      "GOF of chisquare in best fit oscillation 0.5394901931099036\n"
     ]
    }
   ],
   "source": [
    "## finding significance \n",
    "\n",
    "## ATLAS DISCOVERY : 1.7*10 POW -9\n",
    "sign_1 = stats_scipy.norm.isf(1.7*10**-9)\n",
    "## LIGO DISCOVERY P VAL : 2 *  10 POW -7\n",
    "sign_2= stats_scipy.norm.isf(2*10**-7)\n",
    "## GOF OF CHI SQ\n",
    "p_val = stats_scipy.chi2(67).sf(65.2)\n",
    "\n",
    "print('Significance of Higgs boson disc {}'.format(sign_1))\n",
    "print('Significance of LIGO disc {}'.format(sign_2))\n",
    "print('GOF of chisquare in best fit oscillation {}'.format(p_val))\n"
   ]
  },
  {
   "cell_type": "markdown",
   "metadata": {},
   "source": [
    "# Q1"
   ]
  },
  {
   "cell_type": "code",
   "execution_count": 52,
   "metadata": {},
   "outputs": [],
   "source": [
    "### HELPER FUNCS \n",
    "\n",
    "## function calls for models \n",
    "def linear(x,m,b) : \n",
    "    return m*x + b\n",
    "\n",
    "def quadratic(x, a,b ,c):\n",
    "    return a*x**2 + b*x + c\n",
    "\n",
    "def cubic(x, a,b,c,d):\n",
    "    return a*x**3 + b*x**2 + c*x + d\n",
    "\n",
    "\n"
   ]
  },
  {
   "cell_type": "code",
   "execution_count": 53,
   "metadata": {},
   "outputs": [
    {
     "data": {
      "image/png": "[encoded data removed]",
      "text/plain": [
       "<Figure size 432x288 with 1 Axes>"
      ]
     },
     "metadata": {
      "needs_background": "light"
     },
     "output_type": "display_data"
    }
   ],
   "source": [
    "#import data\n",
    "data = np.loadtxt('q1_data.dat')\n",
    "\n",
    "xdata,ydata,ysigma = data[:,0],data[:,1],data[:,2] \n",
    "n = X.shape[0]\n",
    "\n",
    "#Best fit parameters for linear, quad, cubic respectively\n",
    "popt_lin, pcov_lin = curve_fit(linear, xdata, ydata, sigma=ysigma)\n",
    "popt_quad, pcov_quad = curve_fit(quadratic, xdata, ydata, sigma=ysigma)\n",
    "popt_cub, pcov_cub = curve_fit(cubic, xdata, ydata, sigma=ysigma)\n",
    "\n",
    "#Plotting data along with errorbars\n",
    "plt.errorbar(xdata, ydata, yerr=ysigma,fmt=\".\",color = 'c',label='Data with uncertanities')\n",
    "\n",
    "x = np.linspace(0,1,1000)\n",
    "#Plotting linear model fit\n",
    "y_linear = linear(x,popt_lin[0],popt_lin[1])\n",
    "plt.plot(x,y_linear,'b-',label='Linear model')\n",
    "#Plotting quadratic model fit\n",
    "y_quadratic = quadratic(x,popt_quad[0],popt_quad[1],popt_quad[2])\n",
    "plt.plot(x,y_quadratic,'g--',label='Quadratic model')\n",
    "#Plotting cubic model fit\n",
    "y_cubic = cubic(x,popt_cub[0],popt_cub[1],popt_cub[2],popt_cub[3])\n",
    "plt.plot(x,y_cubic,'r-.',label='Cubic model')\n",
    "plt.title(' Plot for Q1 \\n Linear, Quadratic and Cubic Models' )\n",
    "plt.legend()\n",
    "plt.show()"
   ]
  },
  {
   "cell_type": "code",
   "execution_count": 54,
   "metadata": {},
   "outputs": [
    {
     "name": "stdout",
     "output_type": "stream",
     "text": [
      "Comparing with Quadratic 0.17813275695316733\n",
      "Comparing with Cubic 0.32887884419522884\n",
      "\n",
      "\n",
      "Delta_AIC_Lin :  0.0\n",
      "Delta_AIC_Quad :  2.4297521895153817\n",
      "Delta_AIC_Cub :  4.147707723351509\n",
      "\n",
      "\n",
      "Delta_BIC_Lin :  0.0\n",
      "Delta_BIC_Quad :  3.425484463069372\n",
      "Delta_BIC_Cub :  6.13917227045949\n",
      "\n",
      "\n"
     ]
    }
   ],
   "source": [
    "## Frequentist comparision of models  : finding model params\n",
    "#Number of free parameters in each model\n",
    "M_lin = 2\n",
    "M_quad = 3\n",
    "M_cub = 4\n",
    "N = 20\n",
    "\n",
    "chi_square_lin = np.sum(((ydata - linear(xdata,popt_lin[0],popt_lin[1]))/ysigma)**2)\n",
    "chi2_lik_lin = stats_scipy.chi2(20-2).pdf(chi_square_lin)\n",
    "\n",
    "chi_square_quad = np.sum(((ydata - quadratic(xdata,popt_quad[0],popt_quad[1],popt_quad[2]))/ysigma)**2)\n",
    "chi2_lik_quad = stats_scipy.chi2(20-3).pdf(chi_square_quad)\n",
    "\n",
    "chi_square_cub = np.sum(((ydata - cubic(xdata,popt_cub[0],popt_cub[1],popt_cub[2],popt_cub[3]))/ysigma)**2)\n",
    "chi2_lik_cub = stats_scipy.chi2(20-4).pdf(chi_square_cub)\n",
    "\n",
    "\n",
    "#p-value considering linear model as null hypothesis\n",
    "pvalue_ql = 1-stats_scipy.chi2(M_quad-M_lin).cdf(-chi_square_quad + chi_square_lin)\n",
    "pvalue_cl = 1-stats_scipy.chi2(M_cub-M_lin).cdf(-chi_square_cub + chi_square_lin)\n",
    "\n",
    "print('Comparing with Quadratic',pvalue_ql)\n",
    "print('Comparing with Cubic',pvalue_cl)\n",
    "print('\\n')\n",
    "#AIC values for the three models\n",
    "aic_lin = -2*np.log(chi2_lik_lin) + 2*M_lin\n",
    "aic_quad = -2*np.log(chi2_lik_quad) + 2*M_quad\n",
    "aic_cub = -2*np.log(chi2_lik_cub) + 2*M_cub\n",
    "aic_min = min(aic_lin,aic_quad,aic_cub)\n",
    "\n",
    "print('Delta_AIC_Lin : ',aic_lin-aic_min)\n",
    "print('Delta_AIC_Quad : ',aic_quad-aic_min)\n",
    "print('Delta_AIC_Cub : ',aic_cub-aic_min)\n",
    "print('\\n')\n",
    "#BIC values for the three models\n",
    "bic_lin = -2*np.log(chi2_lik_lin) + M_lin*np.log(N)\n",
    "bic_quad = -2*np.log(chi2_lik_quad) + M_quad*np.log(N)\n",
    "bic_cub = -2*np.log(chi2_lik_cub) + M_cub*np.log(N)\n",
    "bic_min = min(bic_lin,bic_quad,bic_cub)\n",
    "\n",
    "print('Delta_BIC_Lin : ',bic_lin-bic_min)\n",
    "print('Delta_BIC_Quad : ',bic_quad-bic_min)\n",
    "print('Delta_BIC_Cub : ',bic_cub-bic_min)\n",
    "print('\\n')"
   ]
  },
  {
   "cell_type": "markdown",
   "metadata": {},
   "source": [
    "## Comments for Q1"
   ]
  },
  {
   "cell_type": "markdown",
   "metadata": {},
   "source": [
    "## 1. Comparing models with linear\n",
    "\n",
    "While considering Linear model as the null hypothesis, and comparing them with other two models : the p-vals are as follows\n",
    "\n",
    "Comparing with Quadratic 0.17813275695316733 \n",
    "\n",
    "Comparing with Cubic 0.32887884419522884\n",
    "\n",
    "The p-values are quite higher (greater than 0.05) and thus we cannot reject the null hypothesis.\n",
    "\n",
    "## 2. DELTA AIC vals\n",
    "\n",
    "We can observe the AIC is 0 for linear , thus support is present for linear model can be seen , which less in the case of quadratic and cubic\n",
    "\n",
    "Delta_AIC_Lin :  0.0\n",
    "\n",
    "Delta_AIC_Quad :  2.4297521895153817\n",
    "\n",
    "Delta_AIC_Cub :  4.147707723351509\n",
    "\n",
    "## 3. DELTA BIC vals\n",
    "We can observe that there is no evidence\n",
    "\n",
    "Delta_BIC_Lin :  0.0\n",
    "\n",
    "Delta_BIC_Quad :  3.425484463069372\n",
    "\n",
    "Delta_BIC_Cub :  6.13917227045949"
   ]
  },
  {
   "cell_type": "markdown",
   "metadata": {},
   "source": [
    "# Q2"
   ]
  },
  {
   "cell_type": "code",
   "execution_count": 73,
   "metadata": {},
   "outputs": [],
   "source": [
    "data = np.array([[ 0.42,  0.72,  0.  ,  0.3 ,  0.15,\n",
    "                   0.09,  0.19,  0.35,  0.4 ,  0.54,\n",
    "                   0.42,  0.69,  0.2 ,  0.88,  0.03,\n",
    "                   0.67,  0.42,  0.56,  0.14,  0.2  ],\n",
    "                 [ 0.33,  0.41, -0.22,  0.01, -0.05,\n",
    "                  -0.05, -0.12,  0.26,  0.29,  0.39, \n",
    "                   0.31,  0.42, -0.01,  0.58, -0.2 ,\n",
    "                   0.52,  0.15,  0.32, -0.13, -0.09 ],\n",
    "                 [ 0.1 ,  0.1 ,  0.1 ,  0.1 ,  0.1 ,\n",
    "                   0.1 ,  0.1 ,  0.1 ,  0.1 ,  0.1 ,\n",
    "                   0.1 ,  0.1 ,  0.1 ,  0.1 ,  0.1 ,\n",
    "                   0.1 ,  0.1 ,  0.1 ,  0.1 ,  0.1  ]])\n",
    "X, Y, Sigma = data"
   ]
  },
  {
   "cell_type": "code",
   "execution_count": 74,
   "metadata": {},
   "outputs": [
    {
     "data": {
      "image/png": "[encoded data removed]",
      "text/plain": [
       "<Figure size 432x288 with 1 Axes>"
      ]
     },
     "metadata": {
      "needs_background": "light"
     },
     "output_type": "display_data"
    },
    {
     "name": "stdout",
     "output_type": "stream",
     "text": [
      "AIC value for linear model :  -39.31585166028409\n",
      "AIC value for quadratic model :  -38.38302717300821\n",
      "\n",
      "\n",
      "Delta AIC value for linear model :  0.0\n",
      "Delta AIC value for quadratic model :  0.9328244872758802\n",
      "\n",
      "\n",
      "BIC value for linear model :  -38.03026946611728\n",
      "BIC value for quadratic model :  -36.89583035234624\n",
      "\n",
      "\n",
      "Delta BIC value for linear model :  0.0\n",
      "Delta BIC value for quadratic model :  1.1344391137710446\n"
     ]
    }
   ],
   "source": [
    "# free paramemter count for each model\n",
    "m_lin , m_quad, m_cubic= 2,3,4\n",
    "#find best parameters\n",
    "\n",
    "#Best fit parameters for linear, quadratic & cubic \n",
    "optparam_lin, cov_lin = curve_fit(linear, X, Y, sigma=Sigma, absolute_sigma=True)\n",
    "optparam_quad, cov_quad = curve_fit(quadratic, X, Y, sigma=Sigma, absolute_sigma=True)\n",
    "n = X.shape[0]\n",
    "\n",
    "\n",
    "#plotting\n",
    "x = np.linspace(0,1,1000)\n",
    "plt.errorbar(X, Y, yerr=Sigma, fmt=\".\", color = 'c', label='Original Data')#Plot original data\n",
    "plt.plot(x, linear(x, *optparam_lin),'y-',label='Linear best fit')#Plot linear best fi\n",
    "plt.plot(x, quadratic(x, *optparam_quad),'r--', label='Quadratic best fit')#Plot quadratic best fit\n",
    "plt.plot(x, cubic(x, *optparam_cubic), 'g-.', label='Cubic best fit')#Plot cubic best fit\n",
    "plt.title('Plot for Question 1')\n",
    "plt.legend()\n",
    "plt.show()\n",
    "\n",
    "\n",
    "def likelihood(param, model):\n",
    "    if model=='linear':\n",
    "        y = linear(X, *param)\n",
    "    elif model=='quadratic':\n",
    "        y = quadratic(X, *param)\n",
    "    elif model=='cubic':\n",
    "        y = cubic(X, *param)\n",
    "    return sum(stats_scipy.norm.logpdf(*args)\n",
    "               for args in zip(Y, y, Sigma))\n",
    "\n",
    "#AIC\n",
    "#Considered dataset is small => take AIC values\n",
    "AIC_lin = -2*likelihood(optparam_lin, 'linear') + (2.0*m_lin*n)/(n-m_lin-1)\n",
    "AIC_quad = -2*likelihood(optparam_quad, 'quadratic') + (2.0*m_quad*n)/(n-m_quad-1)                                                    \n",
    "AIC_min = min([AIC_lin, AIC_quad])\n",
    "delta_AIC_lin = AIC_lin - AIC_min\n",
    "delta_AIC_quad = AIC_quad - AIC_min\n",
    "\n",
    "#BIC\n",
    "BIC_lin = m_lin*np.log(n) - 2*likelihood(optparam_lin, 'linear')\n",
    "BIC_quad =  m_quad*np.log(n)  -2*likelihood(optparam_quad, 'quadratic')\n",
    "BIC_min = min([BIC_lin, BIC_quad])\n",
    "delta_BIC_lin = BIC_lin - BIC_min\n",
    "delta_BIC_quad = BIC_quad - BIC_min\n",
    "\n",
    "\n",
    "                                                             \n",
    "print(\"AIC value for linear model : \", AIC_lin)\n",
    "print(\"AIC value for quadratic model : \", AIC_quad)\n",
    "print('\\n')\n",
    "print(\"Delta AIC value for linear model : \", delta_AIC_lin)\n",
    "print(\"Delta AIC value for quadratic model : \", delta_AIC_quad)\n",
    "print('\\n')                                              \n",
    "print(\"BIC value for linear model : \", BIC_lin)\n",
    "print(\"BIC value for quadratic model : \", BIC_quad)\n",
    "print('\\n')\n",
    "print(\"Delta BIC value for linear model : \", delta_BIC_lin)\n",
    "print(\"Delta BIC value for quadratic model : \", delta_BIC_quad)\n"
   ]
  },
  {
   "cell_type": "markdown",
   "metadata": {},
   "source": [
    "## Comments\n",
    "\n",
    "Since delta AIC for quadratic model is in between (0,2) , we can conclude that quadratic model has a substatial support\n",
    "\n",
    "While delta BIC for quadratic model is in between (0,2) , we can conclude that quadratic model has no evidence against itself.\n",
    "\n",
    "Thus we can conclude that both metrics infer the same and thus , linear model cannot be rejected !!\n"
   ]
  },
  {
   "cell_type": "code",
   "execution_count": null,
   "metadata": {},
   "outputs": [],
   "source": []
  }
 ],
 "metadata": {
  "interpreter": {
   "hash": "31f2aee4e71d21fbe5cf8b01ff0e069b9275f58929596ceb00d14d90e3e16cd6"
  },
  "kernelspec": {
   "display_name": "Python 3",
   "language": "python",
   "name": "python3"
  },
  "language_info": {
   "codemirror_mode": {
    "name": "ipython",
    "version": 3
   },
   "file_extension": ".py",
   "mimetype": "text/x-python",
   "name": "python",
   "nbconvert_exporter": "python",
   "pygments_lexer": "ipython3",
   "version": "3.7.7"
  }
 },
 "nbformat": 4,
 "nbformat_minor": 2
}
