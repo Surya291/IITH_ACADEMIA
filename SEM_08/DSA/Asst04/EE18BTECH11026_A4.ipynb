{
 "cells": [
  {
   "cell_type": "markdown",
   "metadata": {},
   "source": [
    "# Assignment 04\n",
    "# KOIDALA SURYA PRAKASH\n",
    "## EE18BTECH11026"
   ]
  },
  {
   "cell_type": "code",
   "execution_count": 10,
   "metadata": {},
   "outputs": [],
   "source": [
    "from scipy import stats as stats_scipy\n",
    "import numpy as np\n",
    "import matplotlib.pyplot as plt\n",
    "from astropy import stats as stats_astropy\n",
    "from astroML import stats as stats_astroML\n",
    "from scipy.optimize import curve_fit"
   ]
  },
  {
   "cell_type": "markdown",
   "metadata": {},
   "source": [
    "# Q1"
   ]
  },
  {
   "cell_type": "code",
   "execution_count": 15,
   "metadata": {},
   "outputs": [],
   "source": [
    "### HELPER FUNCS \n",
    "\n",
    "## function calls for models \n",
    "def linear(x,m,b) : \n",
    "    return m*x + b\n",
    "\n",
    "def quad(x, a,b ,c):\n",
    "    return a*(x**2) + b*x + c\n",
    "\n",
    "def cubic(x, a,b,c,d):\n",
    "    return a*(x**3) + b*(x**2) + c*x + d\n",
    "\n",
    "def likelihood(param, model):\n",
    "    if model=='linear':\n",
    "        y = linear(X, *param)\n",
    "    elif model=='quadratic':\n",
    "        y = quad(X, *param)\n",
    "    elif model=='cubic':\n",
    "        y = cubic(X, *param)\n",
    "    return sum(stats_scipy.norm.logpdf(*args)\n",
    "               for args in zip(Y, y, Sigma))\n",
    "\n",
    "m_lin = 2\n",
    "m_quad = 3\n",
    "m_cubic = 4\n"
   ]
  },
  {
   "cell_type": "code",
   "execution_count": 26,
   "metadata": {},
   "outputs": [
    {
     "data": {
      "image/png": "[encoded data removed]",
      "text/plain": [
       "<Figure size 432x288 with 1 Axes>"
      ]
     },
     "metadata": {
      "needs_background": "light"
     },
     "output_type": "display_data"
    }
   ],
   "source": [
    "\n",
    "data = np.loadtxt('q1_data.dat')\n",
    "\n",
    "X = data[:,0]\n",
    "Y = data[:,1]\n",
    "Sigma = data[:,2]\n",
    "\n",
    "n = X.shape[0]\n",
    "\n",
    "\n",
    "#Best fit parameters for linear  quad and cubic\n",
    "optparam_lin, cov_lin = curve_fit(linear, X, Y, sigma=Sigma, absolute_sigma=True)\n",
    "optparam_quad, cov_quad = curve_fit(quad, X, Y, sigma=Sigma, absolute_sigma=True)\n",
    "optparam_cubic, cov_cubicicic = curve_fit(cubic, X, Y, sigma=Sigma, absolute_sigma=True)\n",
    "\n",
    "\n",
    "#plotting\n",
    "x = np.linspace(0,1,1000)\n",
    "#Plot original data, lin best fit , quad best fit , cubic best fit\n",
    "\n",
    "plt.errorbar(X, Y, yerr=Sigma, fmt=\".\", color = 'c', label='Original Data')\n",
    "plt.plot(x, linear(x, *optparam_lin),'y-',label='Linear best fit')\n",
    "plt.plot(x, quad(x, *optparam_quad),'r--', label='Quadratic best fit')\n",
    "plt.plot(x, cubic(x, *optparam_cubic), 'b-.', label='Cubic best fit')\n",
    "plt.title('Plot for Q1')\n",
    "plt.legend()\n",
    "plt.show()\n"
   ]
  },
  {
   "cell_type": "code",
   "execution_count": 27,
   "metadata": {},
   "outputs": [
    {
     "name": "stdout",
     "output_type": "stream",
     "text": [
      "p-value for preferred model for Quadratic & null hypothesis ie, Linear =  0.17813275695316733\n",
      "p-value for preferred model for Cubic & null hypothesis ie, Linear =  0.32887884419522884\n",
      "\n",
      "\n",
      "AIC value for linear model =  -39.33080446313153\n",
      "AIC value for quadratic model =  -38.34982062400561\n",
      "AIC value fot cuboc model =  -35.594151850935894\n",
      "\n",
      "\n",
      "Delta AIC value for linear model =  0.0\n",
      "Delta AIC value for quadratic model =  0.9809838391259191\n",
      "Delta AIC value fot cubic model =  3.736652612195634\n",
      "\n",
      "\n",
      "BIC value for linear model =  -38.04522226896472\n",
      "BIC value for quadratic model =  -36.86262380334364\n",
      "BIC value fot cuboc model =  -34.2778894233866\n",
      "\n",
      "\n",
      "Delta BIC value for linear model =  0.0\n",
      "Delta BIC value for quadratic model =  1.1825984656210835\n",
      "Delta BIC value fot cuboc model =  3.7673328455781245\n"
     ]
    }
   ],
   "source": [
    "#Frequentist comparision\n",
    "\n",
    "chisq_lin = np.sum(((Y - linear(X, *optparam_lin))/Sigma)**2)\n",
    "chisq_quad = np.sum(((Y - quad(X, *optparam_quad))/Sigma)**2)\n",
    "chisq_cubic = np.sum(((Y - cubic(X, *optparam_cubic))/Sigma)**2)\n",
    "\n",
    "#p-value when linear model is null hypothesis\n",
    "pval_quad_lin = 1-stats_scipy.chi2(m_quad - m_lin).cdf(chisq_lin - chisq_quad)\n",
    "pval_cubic_lin = 1-stats_scipy.chi2(m_cubic - m_lin).cdf(chisq_lin - chisq_cubic)\n",
    "\n",
    "#AIC\n",
    "\n",
    "#Considered dataset is small => take AIC values\n",
    "AIC_lin = -2*likelihood(optparam_lin, 'linear') + (2.0*m_lin*n)/(n-m_lin-1)\n",
    "AIC_quad = -2*likelihood(optparam_quad, 'quadratic') + (2.0*m_quad*n)/(n-m_quad-1)\n",
    "AIC_cubic = -2*likelihood(optparam_cubic, 'cubic') + (2.0*m_cubic*n)/(n-m_cubic-1)                                                            \n",
    "AIC_min = min([AIC_lin, AIC_quad, AIC_cubic])\n",
    "delta_AIC_lin = AIC_lin - AIC_min\n",
    "delta_AIC_quad = AIC_quad - AIC_min\n",
    "delta_AIC_cubic = AIC_cubic - AIC_min\n",
    "\n",
    "#BIC\n",
    "BIC_lin = m_lin*np.log(n) - 2*likelihood(optparam_lin, 'linear')\n",
    "BIC_quad =  m_quad*np.log(n)  -2*likelihood(optparam_quad, 'quadratic')\n",
    "BIC_cubic = m_cubic*np.log(n) -2*likelihood(optparam_cubic, 'cubic')\n",
    "BIC_min = min([BIC_lin, BIC_quad, BIC_cubic])\n",
    "delta_BIC_lin = BIC_lin - BIC_min\n",
    "delta_BIC_quad = BIC_quad - BIC_min\n",
    "delta_BIC_cubic = BIC_cubic - BIC_min\n",
    "\n",
    "\n",
    "print(\"p-value for preferred model for Quadratic & null hypothesis ie, Linear = \", pval_quad_lin)\n",
    "print(\"p-value for preferred model for Cubic & null hypothesis ie, Linear = \", pval_cubic_lin)\n",
    "print('\\n')\n",
    "\n",
    "print(\"AIC value for linear model = \", AIC_lin)\n",
    "print(\"AIC value for quadratic model = \", AIC_quad)\n",
    "print(\"AIC value fot cuboc model = \", AIC_cubic)\n",
    "print('\\n')\n",
    "print(\"Delta AIC value for linear model = \", delta_AIC_lin)\n",
    "print(\"Delta AIC value for quadratic model = \", delta_AIC_quad)\n",
    "print(\"Delta AIC value fot cubic model = \", delta_AIC_cubic)\n",
    "print('\\n')                                               \n",
    "print(\"BIC value for linear model = \", BIC_lin)\n",
    "print(\"BIC value for quadratic model = \", BIC_quad)\n",
    "print(\"BIC value fot cuboc model = \", BIC_cubic)\n",
    "print('\\n')\n",
    "print(\"Delta BIC value for linear model = \", delta_BIC_lin)\n",
    "print(\"Delta BIC value for quadratic model = \", delta_BIC_quad)\n",
    "print(\"Delta BIC value fot cuboc model = \", delta_BIC_cubic)\n",
    "\n"
   ]
  },
  {
   "cell_type": "markdown",
   "metadata": {},
   "source": [
    "## Comments for Q1"
   ]
  },
  {
   "cell_type": "markdown",
   "metadata": {},
   "source": [
    "## 1. Comparing models with linear\n",
    "\n",
    "While considering Linear model as the null hypothesis, and comparing them with other two models : the p-vals are as follows\n",
    "\n",
    "Comparing with Quadratic 0.17813275695316733 \n",
    "\n",
    "Comparing with Cubic 0.32887884419522884\n",
    "\n",
    "The p-values are quite higher (greater than 0.05) and thus we cannot reject the null hypothesis.\n",
    "\n",
    "## 2. DELTA AIC vals\n",
    "\n",
    "\n",
    "Delta AIC value for linear model =  0.0\n",
    "\n",
    "Delta AIC value for quadratic model =  0.9809838391259191\n",
    "\n",
    "Delta AIC value fot cubic model =  3.736652612195634\n",
    "\n",
    "delta AIC for quad model lies in (0,2), thus the model has subtantial support\n",
    "delta AIC for cubic model lies in (2,4), thus the model has less support\n",
    "\n",
    "\n",
    "## 3. DELTA BIC vals\n",
    "\n",
    "\n",
    "Delta BIC value for linear model =  0.0\n",
    "\n",
    "Delta BIC value for quadratic model =  1.1825984656210835\n",
    "\n",
    "Delta BIC value fot cuboc model =  3.7673328455781245\n",
    "\n",
    "delta BIC for quad model lies in (0,2), thus the no evidence against the model\n",
    "\n",
    "delta BIC for cubic model lies in (2,4), thus positive evidence against the model"
   ]
  },
  {
   "cell_type": "markdown",
   "metadata": {},
   "source": [
    "# Q2"
   ]
  },
  {
   "cell_type": "code",
   "execution_count": 6,
   "metadata": {},
   "outputs": [],
   "source": [
    "data = np.array([[ 0.42,  0.72,  0.  ,  0.3 ,  0.15,\n",
    "                   0.09,  0.19,  0.35,  0.4 ,  0.54,\n",
    "                   0.42,  0.69,  0.2 ,  0.88,  0.03,\n",
    "                   0.67,  0.42,  0.56,  0.14,  0.2  ],\n",
    "                 [ 0.33,  0.41, -0.22,  0.01, -0.05,\n",
    "                  -0.05, -0.12,  0.26,  0.29,  0.39, \n",
    "                   0.31,  0.42, -0.01,  0.58, -0.2 ,\n",
    "                   0.52,  0.15,  0.32, -0.13, -0.09 ],\n",
    "                 [ 0.1 ,  0.1 ,  0.1 ,  0.1 ,  0.1 ,\n",
    "                   0.1 ,  0.1 ,  0.1 ,  0.1 ,  0.1 ,\n",
    "                   0.1 ,  0.1 ,  0.1 ,  0.1 ,  0.1 ,\n",
    "                   0.1 ,  0.1 ,  0.1 ,  0.1 ,  0.1  ]])\n",
    "X, Y, Sigma = data"
   ]
  },
  {
   "cell_type": "code",
   "execution_count": 7,
   "metadata": {},
   "outputs": [
    {
     "name": "stdout",
     "output_type": "stream",
     "text": [
      "AIC value for linear model :  -39.31585166028409\n",
      "AIC value for quadratic model :  -38.38302717300821\n",
      "\n",
      "\n",
      "Delta AIC value for linear model :  0.0\n",
      "Delta AIC value for quadratic model :  0.9328244872758802\n",
      "\n",
      "\n",
      "BIC value for linear model :  -38.03026946611728\n",
      "BIC value for quadratic model :  -36.89583035234624\n",
      "\n",
      "\n",
      "Delta BIC value for linear model :  0.0\n",
      "Delta BIC value for quadratic model :  1.1344391137710446\n"
     ]
    }
   ],
   "source": [
    "# free paramemter count for each model\n",
    "m_lin , m_quad, m_cubic= 2,3,4\n",
    "#find best parameters\n",
    "\n",
    "#Best fit parameters for linear, quadratic & cubic \n",
    "optparam_lin, cov_lin = curve_fit(linear, X, Y, sigma=Sigma, absolute_sigma=True)\n",
    "optparam_quad, cov_quad = curve_fit(quadratic, X, Y, sigma=Sigma, absolute_sigma=True)\n",
    "n = X.shape[0]\n",
    "\n",
    "\n",
    "def likelihood(param, model):\n",
    "    if model=='linear':\n",
    "        y = linear(X, *param)\n",
    "    elif model=='quadratic':\n",
    "        y = quadratic(X, *param)\n",
    "    elif model=='cubic':\n",
    "        y = cubic(X, *param)\n",
    "    return sum(stats_scipy.norm.logpdf(*args)\n",
    "               for args in zip(Y, y, Sigma))\n",
    "\n",
    "#AIC\n",
    "#Considered dataset is small => take AIC values\n",
    "AIC_lin = -2*likelihood(optparam_lin, 'linear') + (2.0*m_lin*n)/(n-m_lin-1)\n",
    "AIC_quad = -2*likelihood(optparam_quad, 'quadratic') + (2.0*m_quad*n)/(n-m_quad-1)                                                    \n",
    "AIC_min = min([AIC_lin, AIC_quad])\n",
    "delta_AIC_lin = AIC_lin - AIC_min\n",
    "delta_AIC_quad = AIC_quad - AIC_min\n",
    "\n",
    "#BIC\n",
    "BIC_lin = m_lin*np.log(n) - 2*likelihood(optparam_lin, 'linear')\n",
    "BIC_quad =  m_quad*np.log(n)  -2*likelihood(optparam_quad, 'quadratic')\n",
    "BIC_min = min([BIC_lin, BIC_quad])\n",
    "delta_BIC_lin = BIC_lin - BIC_min\n",
    "delta_BIC_quad = BIC_quad - BIC_min\n",
    "\n",
    "\n",
    "                                                             \n",
    "print(\"AIC value for linear model : \", AIC_lin)\n",
    "print(\"AIC value for quadratic model : \", AIC_quad)\n",
    "print('\\n')\n",
    "print(\"Delta AIC value for linear model : \", delta_AIC_lin)\n",
    "print(\"Delta AIC value for quadratic model : \", delta_AIC_quad)\n",
    "print('\\n')                                              \n",
    "print(\"BIC value for linear model : \", BIC_lin)\n",
    "print(\"BIC value for quadratic model : \", BIC_quad)\n",
    "print('\\n')\n",
    "print(\"Delta BIC value for linear model : \", delta_BIC_lin)\n",
    "print(\"Delta BIC value for quadratic model : \", delta_BIC_quad)\n"
   ]
  },
  {
   "cell_type": "markdown",
   "metadata": {},
   "source": [
    "## Comments\n",
    "\n",
    "Since delta AIC for quadratic model is in between (0,2) , we can conclude that quadratic model has a substatial support\n",
    "\n",
    "While delta BIC for quadratic model is in between (0,2) , we can conclude that quadratic model has no evidence against itself.\n",
    "\n",
    "Thus we can conclude that both metrics infer the same and thus , linear model cannot be rejected !!\n"
   ]
  },
  {
   "cell_type": "markdown",
   "metadata": {},
   "source": [
    "# Q3"
   ]
  },
  {
   "cell_type": "raw",
   "metadata": {},
   "source": [
    " I  read through the paper \"Remarks on generating realistic synthetic meteoroid orbits\" authored by T.J. Jopek. link : https://arxiv.org/pdf/2101.02175.pdf\n",
    " \n",
    "  The paper talks about 5 ways of generating synthetic meteroid objects, while compared with orbits of observed ones. It talks about how K-S test has been used in this case. The author considered both 1d and 2d has been used while the latter should not be used as 2d ks test has no unique way to order the points for computing EDFs. Mainly , the KS test is not used to derive a model , rather to to compare it with synthetic data. "
   ]
  },
  {
   "cell_type": "markdown",
   "metadata": {},
   "source": [
    "# Q4"
   ]
  },
  {
   "cell_type": "code",
   "execution_count": 28,
   "metadata": {},
   "outputs": [
    {
     "name": "stdout",
     "output_type": "stream",
     "text": [
      "Significance of Higgs boson disc 5.911017938341624\n",
      "Significance of LIGO disc 5.068957749717791\n",
      "GOF of chisquare in best fit oscillation 0.5394901931099036\n"
     ]
    }
   ],
   "source": [
    "## finding significance \n",
    "\n",
    "## ATLAS DISCOVERY : 1.7*10 POW -9\n",
    "sign_1 = stats_scipy.norm.isf(1.7*10**-9)\n",
    "## LIGO DISCOVERY P VAL : 2 *  10 POW -7\n",
    "sign_2= stats_scipy.norm.isf(2*10**-7)\n",
    "## GOF OF CHI SQ\n",
    "p_val = stats_scipy.chi2(67).sf(65.2)\n",
    "\n",
    "print('Significance of Higgs boson disc {}'.format(sign_1))\n",
    "print('Significance of LIGO disc {}'.format(sign_2))\n",
    "print('GOF of chisquare in best fit oscillation {}'.format(p_val))\n"
   ]
  },
  {
   "cell_type": "markdown",
   "metadata": {},
   "source": [
    "# The End"
   ]
  }
 ],
 "metadata": {
  "interpreter": {
   "hash": "31f2aee4e71d21fbe5cf8b01ff0e069b9275f58929596ceb00d14d90e3e16cd6"
  },
  "kernelspec": {
   "display_name": "Python 3",
   "language": "python",
   "name": "python3"
  },
  "language_info": {
   "codemirror_mode": {
    "name": "ipython",
    "version": 3
   },
   "file_extension": ".py",
   "mimetype": "text/x-python",
   "name": "python",
   "nbconvert_exporter": "python",
   "pygments_lexer": "ipython3",
   "version": "3.7.7"
  }
 },
 "nbformat": 4,
 "nbformat_minor": 2
}
