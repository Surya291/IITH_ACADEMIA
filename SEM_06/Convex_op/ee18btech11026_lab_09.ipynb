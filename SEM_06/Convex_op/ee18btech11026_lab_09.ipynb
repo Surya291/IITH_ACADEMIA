{
 "cells": [
  {
   "cell_type": "code",
   "execution_count": 1,
   "metadata": {},
   "outputs": [],
   "source": [
    "import numpy as np\n",
    "import cvxpy as cp\n"
   ]
  },
  {
   "cell_type": "markdown",
   "metadata": {},
   "source": [
    "###  Lab 09\n",
    "### K. Surya Prakash\n",
    "### ee18btech11026"
   ]
  },
  {
   "cell_type": "markdown",
   "metadata": {},
   "source": [
    "# Question 01"
   ]
  },
  {
   "cell_type": "markdown",
   "metadata": {},
   "source": [
    "## Code"
   ]
  },
  {
   "cell_type": "code",
   "execution_count": 3,
   "metadata": {},
   "outputs": [
    {
     "name": "stderr",
     "output_type": "stream",
     "text": [
      "/home/surya/anaconda3/lib/python3.7/site-packages/cvxpy/problems/problem.py:1061: UserWarning: Solution may be inaccurate. Try another solver, adjusting the solver settings, or solve with verbose=True for more information.\n",
      "  \"Solution may be inaccurate. Try another solver, \"\n",
      "/home/surya/anaconda3/lib/python3.7/site-packages/cvxpy/problems/problem.py:1061: UserWarning: Solution may be inaccurate. Try another solver, adjusting the solver settings, or solve with verbose=True for more information.\n",
      "  \"Solution may be inaccurate. Try another solver, \"\n",
      "/home/surya/anaconda3/lib/python3.7/site-packages/cvxpy/problems/problem.py:1061: UserWarning: Solution may be inaccurate. Try another solver, adjusting the solver settings, or solve with verbose=True for more information.\n",
      "  \"Solution may be inaccurate. Try another solver, \"\n"
     ]
    }
   ],
   "source": [
    "## Data : \n",
    "\n",
    "#h,w,d = cp.Variable(),cp.Variable(),cp.Variable()\n",
    "\n",
    "#y1,y2,y3 = cp.log(h),cp.log(w),cp.log(d)\n",
    "y1,y2,y3 = cp.Variable(),cp.Variable(),cp.Variable()\n",
    "\n",
    "## Objective : \n",
    "obj = cp.Minimize( -1*(y1+y2+y3) )\n",
    "\n",
    "\n",
    "constraints = [cp.log( cp.exp(y1+y2) + cp.exp(y1+y3) )<= cp.log(100),\n",
    "              cp.log( cp.exp(y2+y3) ) <= cp.log(60),\n",
    "               \n",
    "              cp.log( cp.exp(y1-y2) ) <= cp.log(1.2),\n",
    "              cp.log( cp.exp(y3-y2) ) <= cp.log(1.2),\n",
    "              -1*cp.log( cp.exp(y1-y2) ) <= -1*cp.log(0.8),\n",
    "              -1*cp.log( cp.exp(y1-y2) ) <= -1*cp.log(0.8),\n",
    "              ]\n",
    "\n",
    "prob = cp.Problem(obj, constraints)\n",
    "prob.solve(qcp = True)\n",
    "\n",
    "\n",
    "\n",
    "\n",
    "h = np.exp(y1.value)\n",
    "w = np.exp(y2.value)\n",
    "d = np.exp(y3.value)\n",
    "\n",
    "\n"
   ]
  },
  {
   "cell_type": "markdown",
   "metadata": {},
   "source": [
    "## Results "
   ]
  },
  {
   "cell_type": "code",
   "execution_count": 4,
   "metadata": {},
   "outputs": [
    {
     "name": "stdout",
     "output_type": "stream",
     "text": [
      "The optimum dimensions are\n",
      "h =  6.455\n",
      "w =  7.746\n",
      "d =  7.746\n",
      "\n",
      "Optimum volume :  387.301\n"
     ]
    }
   ],
   "source": [
    "print('The optimum dimensions are')\n",
    "print('h = ',round(h,3))\n",
    "print('w = ',round(w,3) )\n",
    "print('d = ', round(d,3))\n",
    "\n",
    "print(\"\\nOptimum volume : \", round(h*w*d ,3))"
   ]
  },
  {
   "cell_type": "markdown",
   "metadata": {},
   "source": [
    "#  Question : 02\n"
   ]
  },
  {
   "cell_type": "code",
   "execution_count": 16,
   "metadata": {},
   "outputs": [
    {
     "name": "stdout",
     "output_type": "stream",
     "text": [
      "G \n",
      "--------\n",
      "[[1.  0.1 0.2 0.1 0. ]\n",
      " [0.1 1.  0.1 0.1 0. ]\n",
      " [0.2 0.1 2.  0.2 0.2]\n",
      " [0.1 0.1 0.2 1.  0.1]\n",
      " [0.  0.  0.2 0.1 1. ]]\n"
     ]
    }
   ],
   "source": [
    "### Data  : \n",
    "\n",
    "sigma = np.ones((5,1))\n",
    "G = np.array([[1,0.1,0.2,0.1,0],\n",
    "             [0.1,1,0.1,0.1,0],\n",
    "            [0.2,0.1,2,0.2,0.2],\n",
    "              [0.1,0.1,0.2,1,0.1],\n",
    "              [0,0,0.2,0.1,1]])\n",
    "\n",
    "print(\"G \\n--------\")\n",
    "print(G)\n",
    "\n",
    "\n",
    "### Creating Gs and Gi\n",
    "Gs = np.zeros(G.shape)\n",
    "for i in range(G.shape[0]):\n",
    "    Gs[i][i] = G[i][i]\n",
    "    \n",
    "Gi = G- Gs\n",
    "\n"
   ]
  },
  {
   "cell_type": "markdown",
   "metadata": {},
   "source": [
    "## Formulation"
   ]
  },
  {
   "cell_type": "raw",
   "metadata": {},
   "source": [
    "\n",
    "\n",
    "Actual problem :  \n",
    "Variable :p (Tx power)\n",
    "Gij : Gain for path b/w ith Rx and jth Tx\n",
    "\n",
    "For ease of computation of s & i : \n",
    "\n",
    "G = Gs (only diagonal elements) + Gi (others)\n",
    "s =  Gs@p\n",
    "i = Gi@p\n",
    "\n",
    "SINR = (s/i+0.5) : 0.5: noise power\n",
    "\n",
    "Objective : maximize( min(SINR[ith Rx]))  for i= 1:5\n",
    "\n",
    "Can we re-written as  :\n",
    " obj =  minimize( max(  1/ SINR[ith Rx]))  for i= 1:5\n",
    "\n",
    "\n",
    "Constraints : \n",
    "\n",
    "1. p<=3 --> Max Tx power is 3  \n",
    "2. p>= 0 \n",
    "3. G@P <= 5 -->  denotes Max total received power per Rx = 3\n",
    "4. p1 + p2 <= 4 --> Total power limit of grp 01\n",
    "5. p3+p4+p5 <= 6 --> Total power limit of grp 02\n",
    "\n",
    "----------------------------------------------------------------------\n",
    "\n",
    "Since the objective func is quasi convex :\n",
    "\n",
    "We need to proceed with a bisection method : The problem will be as follows: \n",
    "\n",
    " obj =  minimize( t )  for i= 1:5\n",
    " \n",
    "Constraints : \n",
    "\n",
    "1. p<=3 --> Max Tx power is 3  \n",
    "2. p>= 0 \n",
    "3. G@P <= 5 -->  denotes Max total received power per Rx = 3\n",
    "4. p1 + p2 <= 4 --> Total power limit of grp 01\n",
    "5. p3+p4+p5 <= 6 --> Total power limit of grp 02\n",
    "\n",
    "6. 1/SINR [i] <= t : all elements shd be less than t\n",
    "\n",
    "\n",
    "Algo : define a posible range of t [l = 0, u = 10^4]\n",
    "\n",
    "check if u+l/2 is a feasible soln\n",
    "\n",
    "if True  : l = u+l/2   ==> Now check in the range of (u+l/2 , u)\n",
    "else :     u = u+l/2   ==> Now check in the range of (l , u+l/2)\n",
    "\n",
    "Do the above for certain iterations .. \n"
   ]
  },
  {
   "cell_type": "markdown",
   "metadata": {},
   "source": [
    "## Code"
   ]
  },
  {
   "cell_type": "code",
   "execution_count": 43,
   "metadata": {},
   "outputs": [
    {
     "name": "stdout",
     "output_type": "stream",
     "text": [
      "The optimum value is achieved at t =  [0.5922699]\n"
     ]
    }
   ],
   "source": [
    "#####   Hyperparameters setting\n",
    "\n",
    "# choosing upper and lower bounds for sub-level set\n",
    "u = 10\n",
    "l = 0.0\n",
    "eps = .0001  ### Epsilon\n",
    "\n",
    "p = cp.Variable((5,1))\n",
    "s = Gs@p  ## signal power @ Rx\n",
    "i = Gi@p  ## interference power @Rx\n",
    "\n",
    "i = i + 0.5  ##  Adding inherent noise std (0.5)\n",
    "\n",
    "\n",
    "grp_1 = p[0] + p[1]   ## Total power of grp1\n",
    "grp_2 = p[2] + p[3] + p[4]  ## Total power of grp2\n",
    "\n",
    "\n",
    "## defining t : check all the sublevel sets below this \n",
    "### Remember min:SINR (1/(best t))\n",
    "\n",
    "t = cp.Parameter(shape = 1)\n",
    "obj = cp.Minimize(t)\n",
    "\n",
    "constraints = [i<= t*s ,p<=3,p>=0, G@p <= 5,grp_1<=4, grp_2<=6 ]\n",
    "\n",
    "\n",
    "## Sanity check for the range :\n",
    "t.value = [u]\n",
    "prob = cp.Problem(obj, constraints)\n",
    "prob.solve()\n",
    "\n",
    "##### Check if we can obtain a optimal value for u :: if not increase u\n",
    "if (prob.status != 'optimal'):\n",
    "    print(\" Solution does not exist in [l,u] -- > increase u\")\n",
    "\n",
    "\n",
    "\n",
    "while (u-l >= eps):      ### iterating until the range is small\n",
    "    t.value = np.atleast_1d((u + l)/2.0)\n",
    "    prob = cp.Problem(obj,constraints)\n",
    "    prob.solve()\n",
    "    \n",
    "    if (prob.status == 'optimal'):\n",
    "        u = t.value\n",
    "        p_opt = p.value\n",
    "        t_opt = t.value\n",
    "    else: \n",
    "        l = t.value\n",
    "    \n",
    "\n",
    "print('The optimum value is achieved at t = ',(t.value))"
   ]
  },
  {
   "cell_type": "markdown",
   "metadata": {},
   "source": [
    "## Results"
   ]
  },
  {
   "cell_type": "code",
   "execution_count": 40,
   "metadata": {},
   "outputs": [
    {
     "name": "stdout",
     "output_type": "stream",
     "text": [
      "The Tx Powers are :  [2.11867997 1.88110908 1.64463325 2.37923023 1.80295966]\n",
      "\n",
      "\n",
      "The Rx SINR are :  [1.68824424 1.68822234 1.68828826 1.68835343 1.68998474]\n",
      "\n",
      "\n",
      "Max possible value of minimum of all sinr is  [1.68822234]\n"
     ]
    }
   ],
   "source": [
    "### Results : \n",
    "\n",
    "i_opt = Gi@p_opt + 0.5\n",
    "s_opt = Gs@p_opt\n",
    "\n",
    "sinr_opt = s_opt/i_opt\n",
    "\n",
    "print(\"The Tx Powers are : \",p_opt[:,0])\n",
    "print('\\n')\n",
    "print('The Rx SINR are : ', sinr_opt[:,0])\n",
    "print('\\n')\n",
    "print(\"Max possible value of minimum of all sinr is \",min(sinr_opt))"
   ]
  }
 ],
 "metadata": {
  "kernelspec": {
   "display_name": "Python 3",
   "language": "python",
   "name": "python3"
  },
  "language_info": {
   "codemirror_mode": {
    "name": "ipython",
    "version": 3
   },
   "file_extension": ".py",
   "mimetype": "text/x-python",
   "name": "python",
   "nbconvert_exporter": "python",
   "pygments_lexer": "ipython3",
   "version": "3.7.7"
  }
 },
 "nbformat": 4,
 "nbformat_minor": 4
}
