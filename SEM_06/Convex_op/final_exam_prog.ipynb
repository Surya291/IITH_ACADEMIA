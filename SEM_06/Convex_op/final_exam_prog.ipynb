{
 "cells": [
  {
   "cell_type": "code",
   "execution_count": 2,
   "metadata": {
    "id": "qK22BTSILtDl"
   },
   "outputs": [],
   "source": [
    "import numpy as np\n",
    "import cvxpy as cp"
   ]
  },
  {
   "cell_type": "markdown",
   "metadata": {
    "id": "aFmsC3UCLtEF"
   },
   "source": [
    "# Final exam\n",
    "## Question 03\n",
    "### Koidala Surya Prakash\n",
    "### EE18btech11026"
   ]
  },
  {
   "cell_type": "markdown",
   "metadata": {
    "id": "fhXePKweLtEI"
   },
   "source": [
    "### 3. a Convexity ?"
   ]
  },
  {
   "cell_type": "markdown",
   "metadata": {
    "id": "WW0YZG6NLtEM"
   },
   "source": [
    "We can reformulate the problem in the form :\n",
    "\n",
    "objective := x.T(Q)x + (c.T)x\n",
    "constraints := Ax <= b\n",
    "\n",
    "where :  x = [x1,x2]\n",
    "\n",
    "        Q = [[1,-0.5]\n",
    "             [-0.5, 2] ]\n",
    "\n",
    "         c = [-1, 0 ]\n",
    "         \n",
    "         A = [[1,-2]\n",
    "             ,[1,4],\n",
    "              [5,-76]]\n",
    "              \n",
    "         b = [u1,\n",
    "              u2,\n",
    "              1]\n",
    "              \n",
    "Since the obj is in quadratic form and constraints are in linear form \n",
    "\n",
    "This is a QP problem \n",
    "\n",
    "We know that all QP problems are convex optimisation problems . Hence this problem is convex."
   ]
  },
  {
   "cell_type": "markdown",
   "metadata": {
    "id": "JDToYHUsLtEP"
   },
   "source": [
    "### 3. b : Finding optimal variables"
   ]
  },
  {
   "cell_type": "code",
   "execution_count": 3,
   "metadata": {
    "id": "LkwcaAUALtES"
   },
   "outputs": [],
   "source": [
    "\n",
    "### Constants\n",
    "u1 = -2\n",
    "u2=  -3\n",
    "\n",
    "b = np.array([[u1,u2,1]]).T\n",
    "\n",
    "Q = np.array([[1,-0.5],[-0.5, 2]])\n",
    "c = np.array([[-1,0]]).T\n",
    "\n",
    "A = np.array([[1,-2],[1,4],[5,-76]])\n"
   ]
  },
  {
   "cell_type": "code",
   "execution_count": 4,
   "metadata": {
    "id": "bR1LpcBlLtEU",
    "outputId": "da752d88-f7c9-4e8c-b2a0-0fb54a82a06d"
   },
   "outputs": [
    {
     "name": "stdout",
     "output_type": "stream",
     "text": [
      "The following are the optimal primal variables : \n",
      "\n",
      "x1* = -2.3333\n",
      "x2* = -0.1667\n",
      "\n",
      "\n",
      "The following are the optimal dual variables : \n",
      "\n",
      "lamda_1* = 2.8645\n",
      "lamda_2* = 2.2980\n",
      "lamda_3* = 0.0675\n"
     ]
    }
   ],
   "source": [
    "'''\n",
    "Objective : A QP problem of the form (x.T)Q(x) + c.T*x\n",
    "with affine constraints : Ax <= b \n",
    "\n",
    "Therefore this is a convex problem\n",
    "'''\n",
    "\n",
    "x = cp.Variable((2,1))\n",
    "obj = cp.Minimize( cp.quad_form(x, Q) + c.T@x )\n",
    "constraints = [A@x <= b]\n",
    "\n",
    "prob = cp.Problem(obj, constraints)\n",
    "prob.solve()\n",
    "\n",
    "lam = constraints[0].dual_value\n",
    "\n",
    "print(\"The following are the optimal primal variables : \\n\")\n",
    "\n",
    "print('x1* = %.4f'%x.value[0][0])\n",
    "print('x2* = %.4f'%x.value[1][0])\n",
    "print('\\n')\n",
    "\n",
    "print(\"The following are the optimal dual variables : \\n\")\n",
    "print('lamda_1* = %.4f' %lam[0])\n",
    "print('lamda_2* = %.4f' %lam[1])\n",
    "print('lamda_3* = %.4f' %lam[2])\n"
   ]
  },
  {
   "cell_type": "markdown",
   "metadata": {
    "id": "77lNanXQLtEd"
   },
   "source": [
    "## 3.c Verifying KKT conditions"
   ]
  },
  {
   "cell_type": "markdown",
   "metadata": {
    "id": "bNNs3mdyLtEf"
   },
   "source": [
    "The primal variables and dual optimal variables satisfy the below mentioned kkt conditions.\n",
    "\n",
    "1. fi(x*) <= 0 ==> Ax-b <= 0\n",
    "2. lam >=0 \n",
    "3. lam*fi(x*) == 0\n",
    "4. dfo(x)/dx + sum(lam_i* dfi(x)/dx  ) == 0"
   ]
  },
  {
   "cell_type": "code",
   "execution_count": null,
   "metadata": {
    "id": "gAScn5PcLtEh",
    "outputId": "3b8bd1ba-15d5-4c81-84cc-04d06acba9a3"
   },
   "outputs": [
    {
     "name": "stdout",
     "output_type": "stream",
     "text": [
      "Condition 1 :: obeys all constraints\n",
      "____________\n",
      "Ax* - b =  \n",
      " [[0.]\n",
      " [0.]\n",
      " [0.]]\n",
      "\n",
      "Condition 2 :: all lamda values are positive\n",
      "____________\n",
      "lam_i = \n",
      " [[2.86447804]\n",
      " [2.29803246]\n",
      " [0.0674979 ]]\n",
      "\n",
      "Condition 3 :: since constraint func are zero\n",
      "____________\n",
      "lam_i * x* = \n",
      " [[0.]\n",
      " [0.]\n",
      " [0.]]\n",
      "\n",
      "Condition 4 :: dfo(x)/dx + sum(lam_i* dfi(x)/dx  ) == 0\n",
      "____________\n",
      "[[ 0.]\n",
      " [-0.]]\n"
     ]
    }
   ],
   "source": [
    "'''\n",
    "Verifying KKT conditions..\n",
    "'''\n",
    "'''\n",
    "1. fi(x*) <= 0 ==> Ax-b <= 0\n",
    "'''\n",
    "\n",
    "print('Condition 1 :: obeys all constraints')\n",
    "print('____________')\n",
    "print('Ax* - b =  \\n', np.round(A@x.value - b, 3))\n",
    "\n",
    "# 2. lam >=0 \n",
    "print(\"\\nCondition 2 :: all lamda values are positive\")\n",
    "print('____________')\n",
    "print('lam_i = \\n',lam)\n",
    "\n",
    "# 3. lam*fi(x*) == 0\n",
    "\n",
    "print(\"\\nCondition 3 :: since constraint func are zero\")\n",
    "print('____________')\n",
    "print(\"lam_i * x* = \\n\",np.round(lam*(A@x.value - b),3) )\n",
    "\n",
    "\n",
    "# 4. dfo(x)/dx + sum(lam_i* dfi(x)/dx  ) == 0\n",
    "'''\n",
    "dfo(x)/dx = Qx + c\n",
    "dfi(x)/dx  = a == > sum(lam_i* dfi(x)/dx) = A.T*lam \n",
    "'''\n",
    "print(\"\\nCondition 4 :: dfo(x)/dx + sum(lam_i* dfi(x)/dx  ) == 0\")\n",
    "print('____________')\n",
    "print(np.round(2*Q@x.value + c + A.T@lam,3))\n"
   ]
  },
  {
   "cell_type": "markdown",
   "metadata": {
    "id": "w3fR4tTmLtEl"
   },
   "source": [
    "## 3.d Plotting level curves"
   ]
  },
  {
   "cell_type": "code",
   "execution_count": null,
   "metadata": {
    "id": "3D3O-nqBLtEp"
   },
   "outputs": [],
   "source": [
    "### Function finding p*(u1,u2)\n",
    "def p(u1,u2):\n",
    "    b = np.array([[u1,u2,1]]).T\n",
    "    Q = np.array([[1,-0.5],[-0.5, 2]])\n",
    "    c = np.array([[-1,0]]).T\n",
    "    A = np.array([[1,-2],[1,4],[5,-76]])\n",
    "    \n",
    "    x = cp.Variable((2,1))\n",
    "    obj = cp.Minimize( cp.quad_form(x, Q) + c.T@x )\n",
    "    constraints = [A@x <= b]\n",
    "\n",
    "    prob = cp.Problem(obj, constraints).solve()\n",
    "    return obj.value\n"
   ]
  },
  {
   "cell_type": "code",
   "execution_count": null,
   "metadata": {
    "id": "QmdQ-9BvLtEr",
    "outputId": "1461624b-b1d0-4f1d-f859-fc76b7457b0f"
   },
   "outputs": [
    {
     "data": {
      "image/png": "[encoded data removed]",
      "text/plain": [
       "<Figure size 432x288 with 1 Axes>"
      ]
     },
     "metadata": {
      "needs_background": "light",
      "tags": []
     },
     "output_type": "display_data"
    }
   ],
   "source": [
    "import numpy as np\n",
    "import matplotlib.pyplot as plt\n",
    "import pylab\n",
    "\n",
    "### Here u1 == X , u2 == Y , p*(u1,u2) = Z\n",
    "\n",
    "# List of points in x axis\n",
    "XPoints     = []\n",
    "\n",
    "# List of points in y axis\n",
    "YPoints     = []\n",
    "\n",
    "# X and Y points are from -20 to +20 varying in steps of .5\n",
    "lis = np.arange(-20,20,1)\n",
    "for val in lis:\n",
    "    XPoints.append(val)\n",
    "    YPoints.append(val)\n",
    "    \n",
    "# Z values as a matrix\n",
    "ZPoints = np.ndarray((len(XPoints),len(YPoints)))\n",
    "\n",
    "   \n",
    "for x in range(0, len(XPoints)):\n",
    "    for y in range(0, len(YPoints)):\n",
    "        ZPoints[x][y] = p(XPoints[x],YPoints[y])\n",
    "\n",
    "# Set the x axis and y axis limits\n",
    "pylab.xlim([-25,25])\n",
    "pylab.ylim([-25,25])\n",
    "\n",
    "# Provide a title for the contour plot\n",
    "plt.title('Level curves of p*(u1,u2)')\n",
    "\n",
    "# Set x axis label for the contour plot\n",
    "plt.xlabel('u1')\n",
    "\n",
    "# Set y axis label for the contour plot\n",
    "plt.ylabel('u2')\n",
    "\n",
    "# Create contour lines or level curves using matplotlib.pyplot module\n",
    "contours = plt.contour(XPoints, YPoints, ZPoints)\n",
    "\n",
    "# Display z values on contour lines\n",
    "plt.clabel(contours, inline=1, fontsize=8)\n",
    "\n",
    "# Display the contour plot\n",
    "\n",
    "plt.scatter([-2], [-3])\n",
    "\n",
    "plt.annotate(\"p*(-2,-3) = 7.44 \", (0,-5))\n",
    "\n",
    "plt.show()"
   ]
  },
  {
   "cell_type": "markdown",
   "metadata": {
    "id": "OWqcmF-HLtEv"
   },
   "source": [
    "### 3.e Convexity of p* from level curves"
   ]
  },
  {
   "cell_type": "markdown",
   "metadata": {
    "id": "5kzvG7HFLtEw"
   },
   "source": [
    "We can see that the gradient of the slopes are increasing as we move towards right part of the curve. This is seen in both the directions\n",
    "\n",
    "===> Thus p* is convex \n",
    "\n",
    "since d^2(p)/du1^2 >= 0  d^2(p)/du2^2 >= 0"
   ]
  },
  {
   "cell_type": "markdown",
   "metadata": {
    "id": "-leSwV8iLtEx"
   },
   "source": [
    "### 3.f Numerical verification"
   ]
  }
 ],
 "metadata": {
  "colab": {
   "name": "final_exam_prog.ipynb",
   "provenance": []
  },
  "kernelspec": {
   "display_name": "Python 3",
   "language": "python",
   "name": "python3"
  },
  "language_info": {
   "codemirror_mode": {
    "name": "ipython",
    "version": 3
   },
   "file_extension": ".py",
   "mimetype": "text/x-python",
   "name": "python",
   "nbconvert_exporter": "python",
   "pygments_lexer": "ipython3",
   "version": "3.7.7"
  }
 },
 "nbformat": 4,
 "nbformat_minor": 1
}
