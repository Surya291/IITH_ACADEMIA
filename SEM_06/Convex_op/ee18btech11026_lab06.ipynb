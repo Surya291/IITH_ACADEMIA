{
 "cells": [
  {
   "cell_type": "markdown",
   "metadata": {},
   "source": [
    "# Lab Session : 06\n",
    "## Koidala Surya Prakash\n",
    "### EE18btech11026"
   ]
  },
  {
   "cell_type": "markdown",
   "metadata": {},
   "source": [
    "###  Note : The linear formulations and part d are submitted in a pdf format attached along with this file."
   ]
  },
  {
   "cell_type": "code",
   "execution_count": 2,
   "metadata": {},
   "outputs": [],
   "source": [
    "import numpy as np\n",
    "import cvxpy as cp\n"
   ]
  },
  {
   "cell_type": "markdown",
   "metadata": {},
   "source": [
    "### Part a : x as variable"
   ]
  },
  {
   "cell_type": "code",
   "execution_count": 48,
   "metadata": {},
   "outputs": [
    {
     "name": "stdout",
     "output_type": "stream",
     "text": [
      "The maximum profit per week is (in thousand dollars)  145.00000001009215\n",
      "\n",
      "\n",
      "The proportions per day are\n",
      " [[0.16666667]\n",
      " [0.34256653]\n",
      " [0.4907668 ]]\n"
     ]
    }
   ],
   "source": [
    "#### Data \n",
    "\n",
    "p = np.array([[4,6,10]]).T\n",
    "s = (1/1000) *np.array([40,45,210]).T\n",
    "u_t = np.array([[6000,5000,3000]]).T  ### units_per_day\n",
    "n_min = 1000*np.array([[5,0,4]]).T\n",
    "n_max = 1000*np.array([[10,15,8]]).T\n",
    "\n",
    "\n",
    "x = cp.Variable((3,1))\n",
    "\n",
    "n = 5*cp.multiply(x,u_t)  ### no. of units per week\n",
    "\n",
    "### Objective \n",
    "\n",
    "total_profit = (n.T @ p)\n",
    "obj = cp.Maximize(total_profit)\n",
    "\n",
    "### Constraints : \n",
    "\n",
    "total_space = (n.T @ s)\n",
    "constraints = [total_space <= 6000, n<=n_max, n>= n_min,cp.sum(x)<=1]\n",
    "\n",
    "\n",
    "prob1 = cp.Problem(obj, constraints)\n",
    "prob1.solve()\n",
    "\n",
    "print('The maximum profit per week is (in thousand dollars) ', obj.value/1000)\n",
    "print('\\n')\n",
    "print('The proportions per day are\\n',x.value)\n"
   ]
  },
  {
   "cell_type": "code",
   "execution_count": null,
   "metadata": {},
   "outputs": [],
   "source": []
  },
  {
   "cell_type": "markdown",
   "metadata": {},
   "source": [
    "### Part b : y as variable"
   ]
  },
  {
   "cell_type": "code",
   "execution_count": 49,
   "metadata": {},
   "outputs": [
    {
     "name": "stdout",
     "output_type": "stream",
     "text": [
      "The maximum profit per week is (in thousand dollars)  145.00000008861494\n",
      "\n",
      "\n",
      "Produced units per day\n",
      " [[5000.00001266]\n",
      " [8581.13203361]\n",
      " [7351.32078363]]\n"
     ]
    }
   ],
   "source": [
    "#### Data \n",
    "\n",
    "p = np.array([[4,6,10]]).T\n",
    "s = (1/1000) *np.array([40,45,210]).T\n",
    "time_u = np.array([[1/6000,1/5000,1/3000]]).T  ### time_per_uyit\n",
    "y_miy = 1000*np.array([[5,0,4]]).T\n",
    "y_max = 1000*np.array([[10,15,8]]).T\n",
    "\n",
    "\n",
    "y = cp.Variable((3,1)) ### yo. of uyits per week\n",
    "\n",
    "proportioy = (1/5)*cp.multiply(y,time_u)  ### yo. of uyits per week\n",
    "\n",
    "### Objective \n",
    "\n",
    "total_profit = (y.T @ p)\n",
    "obj = cp.Maximize(total_profit)\n",
    "\n",
    "### Coystraiyts : \n",
    "\n",
    "total_space = (y.T @ s)\n",
    "constraints = [total_space <= 6000, y<=y_max, y>= y_miy,cp.sum(proportioy)<=1]\n",
    "\n",
    "\n",
    "prob2 = cp.Problem(obj, constraints)\n",
    "prob2.solve()\n",
    "\n",
    "print('The maximum profit per week is (in thousand dollars) ', obj.value/1000)\n",
    "print('\\n')\n",
    "print('Produced units per day\\n',y.value)\n"
   ]
  },
  {
   "cell_type": "markdown",
   "metadata": {},
   "source": [
    "### Part c : z as variable\n",
    "\n",
    "#### Note that z3 : total no. of hours"
   ]
  },
  {
   "cell_type": "code",
   "execution_count": 50,
   "metadata": {},
   "outputs": [
    {
     "name": "stdout",
     "output_type": "stream",
     "text": [
      "The maximum profit per week is (in thousand dollars)  145.00000000552254\n",
      "\n",
      "\n",
      "No. of hours devoted per product per week\n",
      " [[ 6.66666667]\n",
      " [13.44402471]\n",
      " [19.88930862]]\n",
      "\n",
      "\n",
      "z1 = (hrs for ipod per week)  6.666666668487532\n",
      "z2 = (hrs for iphone per week) 13.444024711311403\n",
      "z3 = (total working hrs) 40.00000000183685\n"
     ]
    }
   ],
   "source": [
    "#### Data \n",
    "\n",
    "p = np.array([[4,6,10]]).T\n",
    "s = (1/1000) *np.array([40,45,210]).T\n",
    "u_t = np.array([[6000,5000,3000]]).T  ### units_per_day\n",
    "n_min = 1000*np.array([[5,0,4]]).T\n",
    "n_max = 1000*np.array([[10,15,8]]).T\n",
    "\n",
    "\n",
    "hrs_per_prod = cp.Variable((3,1))\n",
    "\n",
    "x = hrs_per_prod/40\n",
    "\n",
    "\n",
    "\n",
    "\n",
    "n = 5*cp.multiply(x,u_t)  ### no. of units per week\n",
    "\n",
    "### Objective \n",
    "\n",
    "total_profit = (n.T @ p)\n",
    "obj = cp.Maximize(total_profit)\n",
    "\n",
    "### Constraints : \n",
    "\n",
    "total_space = (n.T @ s)\n",
    "constraints = [total_space <= 6000, n<=n_max, n>= n_min,cp.sum(x)<=1]\n",
    "\n",
    "\n",
    "prob3 = cp.Problem(obj, constraints)\n",
    "prob3.solve()\n",
    "\n",
    "print('The maximum profit per week is (in thousand dollars) ', obj.value/1000)\n",
    "\n",
    "print('\\n')\n",
    "print('No. of hours devoted per product per week\\n',hrs_per_prod.value)\n",
    "\n",
    "hrs_per_prod_np = np.array(hrs_per_prod.value)\n",
    "\n",
    "z = hrs_per_prod_np\n",
    "z[2][0] = hrs_per_prod_np[0][0]+hrs_per_prod_np[1][0]+hrs_per_prod_np[2][0]\n",
    "\n",
    "print('\\n')\n",
    "print('z1 = (hrs for ipod per week) ',z[0][0])\n",
    "print('z2 = (hrs for iphone per week)',z[1][0])\n",
    "print('z3 = (total working hrs)',z[2][0])"
   ]
  },
  {
   "cell_type": "code",
   "execution_count": null,
   "metadata": {},
   "outputs": [],
   "source": []
  }
 ],
 "metadata": {
  "kernelspec": {
   "display_name": "Python 3",
   "language": "python",
   "name": "python3"
  },
  "language_info": {
   "codemirror_mode": {
    "name": "ipython",
    "version": 3
   },
   "file_extension": ".py",
   "mimetype": "text/x-python",
   "name": "python",
   "nbconvert_exporter": "python",
   "pygments_lexer": "ipython3",
   "version": "3.7.7"
  }
 },
 "nbformat": 4,
 "nbformat_minor": 4
}
