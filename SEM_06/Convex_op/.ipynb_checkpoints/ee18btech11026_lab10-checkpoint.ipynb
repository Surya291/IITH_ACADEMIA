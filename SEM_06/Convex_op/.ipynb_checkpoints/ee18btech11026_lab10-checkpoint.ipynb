{
 "cells": [
  {
   "cell_type": "code",
   "execution_count": 1,
   "metadata": {},
   "outputs": [],
   "source": [
    "import numpy as np\n",
    "import cvxpy as cp"
   ]
  },
  {
   "cell_type": "markdown",
   "metadata": {},
   "source": [
    "# Lab Session 10\n",
    "## Koidala Surya Prakash\n",
    "## EE18btech11026"
   ]
  },
  {
   "cell_type": "markdown",
   "metadata": {},
   "source": [
    "###  Type of optimisation"
   ]
  },
  {
   "cell_type": "raw",
   "metadata": {},
   "source": [
    ">> This is a quasi convex optimisation problem\n",
    ">> Since the problem aims at minimizing no. of time steps , the variable\n",
    "k can be seen as step function..\n",
    "\n",
    "We know that for such a objective .. \n",
    "1. Epigraph is not convex, ===> Func is not convex\n",
    "2. But the sublevel sets are convex ==> Func is quasi convex.\n",
    "\n",
    "Therefore we will be using bisection method which looks for feasibility \n",
    "of the problem for a selected range of k.. Later we try to change ranges of k\n",
    "for finding the min k."
   ]
  },
  {
   "cell_type": "markdown",
   "metadata": {},
   "source": [
    "### Code"
   ]
  },
  {
   "cell_type": "code",
   "execution_count": 50,
   "metadata": {},
   "outputs": [],
   "source": [
    "### Variables : \n",
    "\n",
    "m = 0.1\n",
    "theta = 15* (np.pi / 180)\n",
    "T_max = 2\n",
    "h = 0.1\n",
    "\n",
    "\n",
    "\n",
    "p_init = np.array([0,0])\n",
    "p_des = np.array([10,2])\n",
    "\n",
    "v_init, v_des= np.array([0,0]),np.array([0,0])\n",
    "\n",
    "A_T = np.array([[-1*np.sin(theta) , np.sin(theta)], [np.cos(theta), np.cos(theta)]])"
   ]
  },
  {
   "cell_type": "code",
   "execution_count": 109,
   "metadata": {},
   "outputs": [
    {
     "name": "stdout",
     "output_type": "stream",
     "text": [
      "The minimum time steps required: k_opt =  34\n"
     ]
    }
   ],
   "source": [
    "#####   Hyperparameters setting\n",
    "\n",
    "# choosing upper and lower bounds for sub-level set\n",
    "u = 100\n",
    "l = 10\n",
    "eps = 1  ### Epsilon\n",
    "\n",
    "\n",
    "k = cp.Parameter(shape = 1)\n",
    "obj = cp.Minimize(0)\n",
    "\n",
    "### Sanity check : \n",
    "k = u\n",
    "\n",
    "p = cp.Variable((2,k))\n",
    "v = cp.Variable((2,k))\n",
    "T = cp.Variable((2,k-1))\n",
    "g = np.zeros((2,k-1))\n",
    "\n",
    "g[1,:] = -9.8\n",
    "\n",
    "\n",
    "p_pre, p_nxt = p[:,0:k-1], p[:,1:k]\n",
    "v_pre, v_nxt = v[:,0:k-1], v[:,1:k]\n",
    "\n",
    "F_pre = (A_T @ T) + m*g\n",
    "\n",
    "\n",
    "### Constraints : \n",
    "constraints = [p_nxt == p_pre + h*v_pre,\n",
    "               v_nxt == v_pre + (h/m)* F_pre,\n",
    "              p[:,0] == p_init,  p[:,k-1] == p_des,\n",
    "              v[:,0]== v_init ,  v[:,k-1] == v_des, \n",
    "              T<= T_max, T>=0]\n",
    "\n",
    "\n",
    "prob = cp.Problem(obj, constraints)\n",
    "prob.solve()\n",
    "\n",
    "if (prob.status != 'optimal'):\n",
    "    print(\" Solution does not exist in [l,u] -- > increase u\")\n",
    "\n",
    "    \n",
    "    \n",
    "######## Bisection method :\n",
    "while (u-l > eps):      ### iterating until the range is small\n",
    "\n",
    "    k = int(np.floor((u+l)/2))\n",
    "    \n",
    "    p = cp.Variable((2,k))\n",
    "    v = cp.Variable((2,k))\n",
    "    T = cp.Variable((2,k-1))\n",
    "    g = np.zeros((2,k-1))\n",
    "\n",
    "    g[1,:] = -9.8\n",
    "\n",
    "\n",
    "    p_pre, p_nxt = p[:,0:k-1], p[:,1:k]\n",
    "    v_pre, v_nxt = v[:,0:k-1], v[:,1:k]\n",
    "\n",
    "    F_pre = (A_T @ T) + m*g\n",
    "\n",
    "\n",
    "    ### Constraints : \n",
    "    constraints = [p_nxt == p_pre + h*v_pre,\n",
    "                   v_nxt == v_pre + (h/m)* F_pre,\n",
    "                  p[:,0] == p_init,  p[:,k-1] == p_des,\n",
    "                  v[:,0]== v_init ,  v[:,k-1] == v_des, \n",
    "                  T<= T_max, T>=0]\n",
    "\n",
    "\n",
    "    prob = cp.Problem(obj, constraints)\n",
    "    prob.solve()\n",
    "    \n",
    "    if (prob.status == 'optimal'):\n",
    "        u = k\n",
    "        k_opt = k\n",
    "        p_opt = p.value\n",
    "        v_opt = v.value\n",
    "        T_opt = T.value\n",
    "    else: \n",
    "        l = k\n",
    "    \n",
    "print('The minimum time steps required: k_opt = ',(k_opt))\n"
   ]
  },
  {
   "cell_type": "markdown",
   "metadata": {},
   "source": [
    "### Plots"
   ]
  },
  {
   "cell_type": "code",
   "execution_count": 140,
   "metadata": {},
   "outputs": [
    {
     "data": {
      "image/png": "[encoded data removed]",
      "text/plain": [
       "<Figure size 432x288 with 1 Axes>"
      ]
     },
     "metadata": {
      "needs_background": "light"
     },
     "output_type": "display_data"
    },
    {
     "data": {
      "image/png": "[encoded data removed]",
      "text/plain": [
       "<Figure size 432x288 with 1 Axes>"
      ]
     },
     "metadata": {
      "needs_background": "light"
     },
     "output_type": "display_data"
    }
   ],
   "source": [
    "import matplotlib.pyplot as plt\n",
    "\n",
    "t = np.arange(T_opt.shape[1])*h\n",
    "\n",
    "#### Plot for trajectory\n",
    "plt.scatter(p_opt[0,:],p_opt[1,:])\n",
    "plt.scatter(p_init[0],p_init[1],marker = 'x')\n",
    "plt.scatter(p_des[0],p_des[1],marker = 'x')\n",
    "plt.annotate(\"p_init\", (0.3, 0))\n",
    "plt.annotate(\"p_des\", (9.5, 1.5))\n",
    "plt.xlabel('X axis')\n",
    "plt.ylabel('Y axis')\n",
    "plt.title('Load trajectory')\n",
    "plt.show()\n",
    "\n",
    "\n",
    "\n",
    "plt.plot(t,T_opt[0],label = 'T_left')\n",
    "plt.plot(t,T_opt[1],label = 'T_right')\n",
    "\n",
    "plt.xlabel('Time (in secs)')\n",
    "plt.ylabel('Tension')\n",
    "plt.title('Tension vs time')\n",
    "\n",
    "plt.legend()\n",
    "plt.show()"
   ]
  },
  {
   "cell_type": "markdown",
   "metadata": {},
   "source": [
    "###  Comments "
   ]
  },
  {
   "cell_type": "raw",
   "metadata": {},
   "source": [
    "1.  Minimum time steps  : 34 i.e 3.4 secs\n",
    "2. No, load does not move in the line-segment path .\n",
    "\n",
    "This is because of the maximum tension constraint levied on the controller.  We know that load should move toward right and top. \n",
    "\n",
    "Hence to achieve this we apply max tension in the right string while gradually decreasing it and increasing left string's tension for final velocity to be 0. \n",
    "\n",
    "Since max tension is applied , There is also a vertical component to it and hence it pulls the load towards up as well. Thus it does not travel in a line segment path"
   ]
  }
 ],
 "metadata": {
  "kernelspec": {
   "display_name": "Python 3",
   "language": "python",
   "name": "python3"
  },
  "language_info": {
   "codemirror_mode": {
    "name": "ipython",
    "version": 3
   },
   "file_extension": ".py",
   "mimetype": "text/x-python",
   "name": "python",
   "nbconvert_exporter": "python",
   "pygments_lexer": "ipython3",
   "version": "3.7.7"
  }
 },
 "nbformat": 4,
 "nbformat_minor": 4
}
