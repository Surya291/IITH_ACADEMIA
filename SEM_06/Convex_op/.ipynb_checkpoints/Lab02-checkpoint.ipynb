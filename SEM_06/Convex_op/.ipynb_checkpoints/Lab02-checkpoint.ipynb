{
 "cells": [
  {
   "cell_type": "code",
   "execution_count": 31,
   "metadata": {},
   "outputs": [],
   "source": [
    "import numpy as np\n",
    "\n",
    "# Exchange rate data.\n",
    "tickers = [\"USD\", \"EUR\", \"GBP\", \"CAD\", \"JPY\", \"CNY\", \"RUB\", \"MXN\", \"INR\", \"BRL\"]\n",
    "n = len(tickers)\n",
    "F = np.zeros((n, n))\n",
    "# USD\n",
    "data = ([1.0, 0.87, 0.76, 1.31, 108.90, 6.72, 65.45, 19.11, 71.13, 3.69],\n",
    "# EUR\n",
    "[1.0, 0.88, 1.51, 125.15, 7.72, 75.23, 21.96, 81.85, 4.24],\n",
    "# GBP\n",
    "[1.0, 1.72, 142.94, 8.82, 85.90, 25.08, 93.50, 4.84],\n",
    "# CAD\n",
    "[1.0, 82.93, 5.11, 49.82, 14.54, 54.23, 2.81],\n",
    "# JPY\n",
    "[1.0, 0.062, 0.60, 0.18, 0.65, 0.034],\n",
    "# CNY\n",
    "[1.0, 9.74, 2.85, 10.61, 0.55],\n",
    "# RUB\n",
    "[1.0, 0.29, 1.09, 0.056],\n",
    "# MXN\n",
    "[1.0, 3.73, 0.19],\n",
    "# INR\n",
    "[1.0, 0.052],\n",
    "# BRL\n",
    "[1.0])\n",
    "for i in range(n):\n",
    "    F[i,i:] = data[i]\n",
    "for j in range(n):\n",
    "    for i in range(j+1,n):\n",
    "        F[i,j] = 1.035/F[j,i]\n",
    "    \n",
    "\n",
    "# Initial and final portfolios.\n",
    "c_req = np.arange(1,n+1)\n",
    "c_req = 1e4*c_req/c_req.sum()\n",
    "c_init = c_req[::-1]"
   ]
  },
  {
   "cell_type": "code",
   "execution_count": 37,
   "metadata": {},
   "outputs": [
    {
     "name": "stdout",
     "output_type": "stream",
     "text": [
      "(10, 10)\n"
     ]
    }
   ],
   "source": []
  },
  {
   "cell_type": "code",
   "execution_count": 15,
   "metadata": {},
   "outputs": [
    {
     "name": "stdout",
     "output_type": "stream",
     "text": [
      "----------Servings of each item ------------\n",
      "\n",
      "Corn :  [1.94444445]\n",
      " Milk :  [10.]\n",
      "Bread :  [10.]\n",
      "\n",
      "Total Cost :  [[3.15]]\n"
     ]
    }
   ],
   "source": [
    "import numpy as np\n",
    "import cvxpy as cp\n",
    "\n",
    "### Declaring variable : \n",
    "X = cp.Variable((10,10))\n",
    "C_final = cp.Variable((10,1))\n",
    "\n",
    "\n",
    "F = np.array(F)\n",
    "c_req = c_req.reshape((10,1))\n",
    "\n",
    "\n",
    "### Defining the problem : \n",
    "\n",
    "## Objective :  min total bill \n",
    "obj = cp.Minimize\n",
    "\n",
    "## Constraints : \n",
    "constraint = [\n",
    "             ]\n",
    "\n",
    "\n",
    "prob = cp.Problem(obj, constraint)\n",
    "prob.solve()\n",
    "\n"
   ]
  }
 ],
 "metadata": {
  "kernelspec": {
   "display_name": "Python 3",
   "language": "python",
   "name": "python3"
  },
  "language_info": {
   "codemirror_mode": {
    "name": "ipython",
    "version": 3
   },
   "file_extension": ".py",
   "mimetype": "text/x-python",
   "name": "python",
   "nbconvert_exporter": "python",
   "pygments_lexer": "ipython3",
   "version": "3.7.7"
  }
 },
 "nbformat": 4,
 "nbformat_minor": 4
}
