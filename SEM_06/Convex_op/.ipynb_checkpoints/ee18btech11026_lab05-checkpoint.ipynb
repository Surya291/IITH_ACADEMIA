{
 "cells": [
  {
   "cell_type": "code",
   "execution_count": 2,
   "metadata": {},
   "outputs": [],
   "source": [
    "import cvxpy as cp\n",
    "import numpy as np "
   ]
  },
  {
   "cell_type": "code",
   "execution_count": 48,
   "metadata": {},
   "outputs": [],
   "source": [
    "## Data\n",
    "\n",
    "\n",
    "S = np.array([[40,50,45]]).T   ### Supply per factory (n x 1)\n",
    "D = np.array([[45,20,30,30,10]]).T ### Demand per destination (m x 1)\n",
    "\n",
    "C = np.array([[8,6,10,9,8],     ### Cost per route per unit\n",
    "              [9,12,13,7,5],\n",
    "              [14,9,16,5,2]])\n",
    "      \n",
    "i_n = np.ones(S.shape)\n",
    "i_m = np.ones(D.shape)\n",
    "\n",
    "m,_ = np.shape(i_m)\n",
    "n,_ = np.shape(i_n)\n"
   ]
  },
  {
   "cell_type": "code",
   "execution_count": 54,
   "metadata": {},
   "outputs": [
    {
     "name": "stdout",
     "output_type": "stream",
     "text": [
      "Units shipped : U[i][j] --> no. of units shipped from ith factory to jth destination\n",
      "\n",
      "\n",
      "==================  Units  ===================\n",
      "\n",
      "\n",
      "[[7.77167004e-09 1.50000000e+01 2.50000000e+01 1.19073612e-09\n",
      "  3.61569238e-11]\n",
      " [4.50000000e+01 8.72312941e-09 4.99999999e+00 6.65873823e-09\n",
      "  3.28452853e-09]\n",
      " [3.32563406e-09 5.00000000e+00 9.35542028e-09 3.00000000e+01\n",
      "  1.00000000e+01]]\n",
      "\n",
      "===========  Total Shipping cost  ===========  \n",
      "\n",
      "1025.0000000955836\n"
     ]
    }
   ],
   "source": [
    "### Variable..\n",
    "U = cp.Variable((n,m))\n",
    "\n",
    "### Objective \n",
    "\n",
    "cost_per_route = cp.multiply(U,C)\n",
    "obj = cp.Minimize(cp.sum(cp.sum(cost_per_route,axis = 0),axis = 0))\n",
    "\n",
    "### Constraints : \n",
    "\n",
    "d = U.T@i_n ## demand \n",
    "s = U@i_m\n",
    "constraints = [U >= 0, d >= D, s <= S]\n",
    "\n",
    "prob = cp.Problem(obj, constraints)\n",
    "prob.solve()\n",
    "\n",
    "print(\"Units shipped : U[i][j] --> no. of units shipped from ith factory to jth destination\\n\")\n",
    "\n",
    "print('\\n==================  Units  ===================\\n\\n')\n",
    "print(U.value)\n",
    "\n",
    "print(\"\\n===========  Total Shipping cost  ===========  \\n\")\n",
    "print(obj.value)"
   ]
  }
 ],
 "metadata": {
  "kernelspec": {
   "display_name": "Python 3",
   "language": "python",
   "name": "python3"
  },
  "language_info": {
   "codemirror_mode": {
    "name": "ipython",
    "version": 3
   },
   "file_extension": ".py",
   "mimetype": "text/x-python",
   "name": "python",
   "nbconvert_exporter": "python",
   "pygments_lexer": "ipython3",
   "version": "3.7.7"
  }
 },
 "nbformat": 4,
 "nbformat_minor": 4
}
