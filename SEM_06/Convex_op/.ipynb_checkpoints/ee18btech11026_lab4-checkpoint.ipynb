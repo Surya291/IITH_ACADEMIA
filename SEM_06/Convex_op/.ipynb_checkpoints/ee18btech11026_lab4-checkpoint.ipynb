{
 "cells": [
  {
   "cell_type": "code",
   "execution_count": 2,
   "metadata": {},
   "outputs": [],
   "source": [
    "import numpy as np\n",
    "import cvxpy as cp\n"
   ]
  },
  {
   "cell_type": "code",
   "execution_count": 35,
   "metadata": {},
   "outputs": [
    {
     "name": "stdout",
     "output_type": "stream",
     "text": [
      "[[-1. ]\n",
      " [-0.5]\n",
      " [ 0. ]\n",
      " [ 0.5]\n",
      " [ 1. ]]\n",
      "[[ 1.    1.    1.    1.    1.  ]\n",
      " [-1.   -0.5   0.    0.5   1.  ]\n",
      " [ 1.    0.25  0.    0.25  1.  ]]\n"
     ]
    }
   ],
   "source": [
    "### data creation : \n",
    "\n",
    "def create_data(N): ### creates 2N-1 points from [-1,1] \n",
    "    data =  np.linspace(-1,1,2*N + 1)\n",
    "    return data.reshape((2*N+1,1))\n",
    "\n",
    "def create_X_n_1(data,n):\n",
    "    X_n_1 = np.zeros((n,data.shape[0]))\n",
    "    \n",
    "    for p in range(n):\n",
    "        for i in range(data.shape[0]):\n",
    "            X_n_1[p][i] = data[i][0]**p\n",
    "            \n",
    "    return X_n_1\n",
    "\n",
    "def create_f_n(X,n):\n",
    "    f_n = X.copy()\n",
    "    for i in range(X.shape[0]):\n",
    "        f_n[i][0] = X[i][0]**n\n",
    "        \n",
    "    return f_n\n",
    "\n",
    "\n",
    "data = create_data(2)\n",
    "print(data)\n",
    "print(create_X_n_1(data,3))"
   ]
  },
  {
   "cell_type": "code",
   "execution_count": 38,
   "metadata": {},
   "outputs": [
    {
     "name": "stdout",
     "output_type": "stream",
     "text": [
      "[[ 1.  -1. ]\n",
      " [ 1.  -0.8]\n",
      " [ 1.  -0.6]\n",
      " [ 1.  -0.4]\n",
      " [ 1.  -0.2]\n",
      " [ 1.   0. ]\n",
      " [ 1.   0.2]\n",
      " [ 1.   0.4]\n",
      " [ 1.   0.6]\n",
      " [ 1.   0.8]\n",
      " [ 1.   1. ]] @ var59\n"
     ]
    }
   ],
   "source": [
    "N = 5  ### no. of data points\n",
    "n = 2  ### degree of polynomial\n",
    "\n",
    "A = cp.Variable((n,1))\n",
    "f_cap_n = cp.Variable((n,1))\n",
    "\n",
    "\n",
    "data = create_data(N)\n",
    "f_n = create_f_n(data,n)\n",
    "X_n_1 = create_X_n_1(data,n)\n",
    "\n",
    "f_cap_n = (X_n_1).T @ A\n",
    "    \n",
    "    \n"
   ]
  }
 ],
 "metadata": {
  "kernelspec": {
   "display_name": "Python 3",
   "language": "python",
   "name": "python3"
  },
  "language_info": {
   "codemirror_mode": {
    "name": "ipython",
    "version": 3
   },
   "file_extension": ".py",
   "mimetype": "text/x-python",
   "name": "python",
   "nbconvert_exporter": "python",
   "pygments_lexer": "ipython3",
   "version": "3.7.7"
  }
 },
 "nbformat": 4,
 "nbformat_minor": 4
}
