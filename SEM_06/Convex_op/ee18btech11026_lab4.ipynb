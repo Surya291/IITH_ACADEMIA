{
 "cells": [
  {
   "cell_type": "markdown",
   "metadata": {},
   "source": [
    "#  Lab 04\n",
    "## Koidala Surya Prakash\n",
    "### ee18btech11026"
   ]
  },
  {
   "cell_type": "code",
   "execution_count": 2,
   "metadata": {},
   "outputs": [],
   "source": [
    "import numpy as np\n",
    "import cvxpy as cp\n",
    "import matplotlib.pyplot as plt\n",
    "%matplotlib inline"
   ]
  },
  {
   "cell_type": "markdown",
   "metadata": {},
   "source": [
    "###  Creating data.."
   ]
  },
  {
   "cell_type": "code",
   "execution_count": 3,
   "metadata": {},
   "outputs": [],
   "source": [
    "### data creation : \n",
    "\n",
    "def create_data(N): ### creates 2N-1 points from [-1,1] \n",
    "    data =  np.linspace(-1,1,2*N + 1)\n",
    "    return data.reshape((2*N+1,1))\n",
    "\n",
    "def create_X_n_1(data,n):  #### creates the approx X value ie [x^0....... x^n-1] to be multiplied with A\n",
    "    X_n_1 = np.zeros((n,data.shape[0]))\n",
    "    \n",
    "    for p in range(n):\n",
    "        for i in range(data.shape[0]):\n",
    "            X_n_1[p][i] = data[i][0]**p\n",
    "            \n",
    "    return X_n_1\n",
    "\n",
    "def create_f_n(X,n):  ###3 The actual vector of X**n values\n",
    "    f_n = X.copy()\n",
    "    for i in range(X.shape[0]):\n",
    "        f_n[i][0] = X[i][0]**n\n",
    "        \n",
    "    return f_n\n",
    "\n"
   ]
  },
  {
   "cell_type": "markdown",
   "metadata": {},
   "source": [
    "###  Cvx optimisation for both L1 and L2 loss function.."
   ]
  },
  {
   "cell_type": "code",
   "execution_count": 4,
   "metadata": {},
   "outputs": [],
   "source": [
    "#### Code\n",
    "\n",
    "def function_approximator(n,N, loss):  ### n--> degree , N = data points\n",
    "\n",
    "    ### variables init\n",
    "\n",
    "    A = cp.Variable((n,1))\n",
    "    f_cap_n = cp.Variable((n,1))\n",
    "\n",
    "\n",
    "    ### creating data...\n",
    "    data = create_data(N)\n",
    "    f_n = create_f_n(data,n)\n",
    "    X_n_1 = create_X_n_1(data,n)\n",
    "\n",
    "\n",
    "    ### Approx function\n",
    "    f_cap_n = (X_n_1).T @ A\n",
    "\n",
    "\n",
    "    diff = f_n - f_cap_n\n",
    "\n",
    "\n",
    "    #### Objective   \n",
    "    \n",
    "    if (loss == 'L2'):   ### For L2 loss function\n",
    "        obj = cp.Minimize(cp.atoms.norm(diff,2)**2)   #### For L2 norm (but squared as given in the question)\n",
    "        \n",
    "    elif (loss == 'L1'): ### For L1 loss function\n",
    "        obj = cp.Minimize(cp.atoms.norm(diff,1))   #### For L1 norm\n",
    "\n",
    "    ### Constraints ... No constraints \n",
    "    constraints = []\n",
    "\n",
    "    ### Solving\n",
    "    prob = cp.Problem(obj, constraints)\n",
    "    prob.solve()\n",
    "    \n",
    "    return obj.value, A.value\n"
   ]
  },
  {
   "cell_type": "markdown",
   "metadata": {},
   "source": [
    "# 1. All  exersizes with L2 loss : N = 100"
   ]
  },
  {
   "cell_type": "markdown",
   "metadata": {},
   "source": [
    "### 1.B Printing coeffiecients of approximator polynomial"
   ]
  },
  {
   "cell_type": "code",
   "execution_count": 5,
   "metadata": {},
   "outputs": [
    {
     "name": "stdout",
     "output_type": "stream",
     "text": [
      " ************  For n = 5  *************\n",
      "\n",
      "cost = 0.3093\n",
      "\n",
      "Coeff are : \n",
      "[[ 1.92225195e-10]\n",
      " [-2.42800796e-01]\n",
      " [-2.69182579e-09]\n",
      " [ 1.12205556e+00]\n",
      " [ 4.03874847e-09]]\n",
      "\n",
      "<><><><><><><><><><><><><><><><><><><><><><><><><><><><><><>\n",
      "\n",
      " ************  For n = 10  *************\n",
      "\n",
      "cost = 0.0003\n",
      "\n",
      "Coeff are : \n",
      "[[ 1.42786637e-03]\n",
      " [-2.52418507e-09]\n",
      " [-7.78219148e-02]\n",
      " [ 4.37916438e-08]\n",
      " [ 6.68330515e-01]\n",
      " [-1.97240050e-07]\n",
      " [-1.98671442e+00]\n",
      " [ 3.19630325e-07]\n",
      " [ 2.39036834e+00]\n",
      " [-1.68847058e-07]]\n",
      "\n",
      "<><><><><><><><><><><><><><><><><><><><><><><><><><><><><><>\n",
      "\n",
      " ************  For n = 20  *************\n",
      "\n",
      "cost = 0.000000\n",
      "\n",
      "Coeff are : \n",
      "[[ 3.75687362e-06]\n",
      " [-2.47567450e-09]\n",
      " [-5.49880434e-04]\n",
      " [ 1.00607752e-07]\n",
      " [ 1.26693888e-02]\n",
      " [-1.04049704e-06]\n",
      " [-1.02766600e-01]\n",
      " [ 3.06089665e-06]\n",
      " [ 3.33818192e-01]\n",
      " [ 7.89349098e-06]\n",
      " [-1.48857465e-01]\n",
      " [-7.11437871e-05]\n",
      " [-1.88387355e+00]\n",
      " [ 1.85113995e-04]\n",
      " [ 5.46361985e+00]\n",
      " [-2.36703531e-04]\n",
      " [-6.81527768e+00]\n",
      " [ 1.51546295e-04]\n",
      " [ 4.14120269e+00]\n",
      " [-3.88309682e-05]]\n",
      "\n",
      "<><><><><><><><><><><><><><><><><><><><><><><><><><><><><><>\n"
     ]
    }
   ],
   "source": [
    "#### N = 100 .. 201 points between [-1,1]\n",
    "N = 100\n",
    "n1,n2,n3 = 5,10,20\n",
    "loss1,A1 = function_approximator(n1,N,loss = 'L2')\n",
    "\n",
    "print(\" ************  For n = %d  *************\" %n1)\n",
    "print(\"\\ncost = %.4f\" %loss1)\n",
    "print(\"\\nCoeff are : \")\n",
    "print(A1)\n",
    "\n",
    "print('\\n<><><><><><><><><><><><><><><><><><><><><><><><><><><><><><>\\n')\n",
    "loss2,A2 = function_approximator(n2,N,loss = 'L2')\n",
    "\n",
    "\n",
    "print(\" ************  For n = %d  *************\" %n2)\n",
    "print(\"\\ncost = %.4f\" %loss2)\n",
    "print(\"\\nCoeff are : \")\n",
    "print(A2)\n",
    "\n",
    "print('\\n<><><><><><><><><><><><><><><><><><><><><><><><><><><><><><>\\n')\n",
    "\n",
    "\n",
    "loss3,A3 = function_approximator(n3,N,loss = 'L2')\n",
    "\n",
    "print(\" ************  For n = %d  *************\" %n3)\n",
    "print(\"\\ncost = %f\" %loss3)\n",
    "print(\"\\nCoeff are : \")\n",
    "print(A3)\n",
    "\n",
    "print('\\n<><><><><><><><><><><><><><><><><><><><><><><><><><><><><><>')\n",
    "\n"
   ]
  },
  {
   "cell_type": "markdown",
   "metadata": {},
   "source": [
    "### 1.C Graph of loss vs n"
   ]
  },
  {
   "cell_type": "code",
   "execution_count": 6,
   "metadata": {},
   "outputs": [
    {
     "data": {
      "text/plain": [
       "Text(0.5, 1.0, 'Cost vs n for L2 loss')"
      ]
     },
     "execution_count": 6,
     "metadata": {},
     "output_type": "execute_result"
    },
    {
     "data": {
      "image/png": "[encoded data removed]",
      "text/plain": [
       "<Figure size 432x288 with 1 Axes>"
      ]
     },
     "metadata": {
      "needs_background": "light"
     },
     "output_type": "display_data"
    }
   ],
   "source": [
    "n_values = np.arange(3,21)\n",
    "\n",
    "loss_L2 = [0]*len(n_values)\n",
    "\n",
    "for i in range( len(n_values)):\n",
    "    \n",
    "    loss_L2[i],_ = function_approximator( n_values[i] ,N,loss = 'L2')\n",
    "\n",
    "plt.plot(n_values,loss_L2)\n",
    "plt.xlabel('Order of polynomial n')\n",
    "plt.ylabel('Cost of approximate function')\n",
    "plt.title(\"Cost vs n for L2 loss\")"
   ]
  },
  {
   "cell_type": "markdown",
   "metadata": {},
   "source": [
    "#  2. All the above exersizes with L1 loss"
   ]
  },
  {
   "cell_type": "markdown",
   "metadata": {},
   "source": [
    "### 2.B Printing coeffiecients of approximator polynomial"
   ]
  },
  {
   "cell_type": "code",
   "execution_count": 7,
   "metadata": {},
   "outputs": [
    {
     "name": "stdout",
     "output_type": "stream",
     "text": [
      " ************  For n = 5  *************\n",
      "\n",
      "cost = 6.4346\n",
      "\n",
      "Coeff are : \n",
      "[[-1.67453555e-21]\n",
      " [-1.89225000e-01]\n",
      " [ 1.99424659e-17]\n",
      " [ 1.00690000e+00]\n",
      " [-1.12655331e-16]]\n",
      "\n",
      "<><><><><><><><><><><><><><><><><><><><><><><><><><><><><><>\n",
      "\n",
      " ************  For n = 10  *************\n",
      "\n",
      "cost = 0.2059\n",
      "\n",
      "Coeff are : \n",
      "[[ 1.00281966e-03]\n",
      " [ 1.39090832e-17]\n",
      " [-6.16274578e-02]\n",
      " [-5.11125894e-16]\n",
      " [ 5.68114389e-01]\n",
      " [ 3.82760894e-15]\n",
      " [-1.79310458e+00]\n",
      " [-8.14183014e-15]\n",
      " [ 2.27569998e+00]\n",
      " [ 5.02120227e-15]]\n",
      "\n",
      "<><><><><><><><><><><><><><><><><><><><><><><><><><><><><><>\n",
      "\n",
      " ************  For n = 20  *************\n",
      "\n",
      "cost = 0.0002\n",
      "\n",
      "Coeff are : \n",
      "[[-8.91604821e-07]\n",
      " [ 1.81180199e-08]\n",
      " [ 2.18101867e-04]\n",
      " [-7.45184120e-07]\n",
      " [-7.98336139e-03]\n",
      " [ 1.06807568e-05]\n",
      " [ 1.10555304e-01]\n",
      " [-7.54297147e-05]\n",
      " [-7.69125669e-01]\n",
      " [ 3.01751861e-04]\n",
      " [ 3.05242329e+00]\n",
      " [-7.28883514e-04]\n",
      " [-7.33809054e+00]\n",
      " [ 1.08359186e-03]\n",
      " [ 1.08754272e+01]\n",
      " [-9.69413917e-04]\n",
      " [-9.70873913e+00]\n",
      " [ 4.78547002e-04]\n",
      " [ 4.78530029e+00]\n",
      " [-1.00118821e-04]]\n",
      "\n",
      "<><><><><><><><><><><><><><><><><><><><><><><><><><><><><><>\n",
      "\n"
     ]
    }
   ],
   "source": [
    "#### N = 100 .. 201 points between [-1,1]\n",
    "N = 100\n",
    "n1,n2,n3 = 5,10,20\n",
    "loss1,A1 = function_approximator(n1,N,loss = 'L1')\n",
    "\n",
    "print(\" ************  For n = %d  *************\" %n1)\n",
    "print(\"\\ncost = %.4f\" %loss1)\n",
    "print(\"\\nCoeff are : \")\n",
    "print(A1)\n",
    "\n",
    "print('\\n<><><><><><><><><><><><><><><><><><><><><><><><><><><><><><>\\n')\n",
    "\n",
    "loss2,A2 = function_approximator(n2,N,loss = 'L1')\n",
    "\n",
    "print(\" ************  For n = %d  *************\" %n2)\n",
    "print(\"\\ncost = %.4f\" %loss2)\n",
    "print(\"\\nCoeff are : \")\n",
    "print(A2)\n",
    "\n",
    "print('\\n<><><><><><><><><><><><><><><><><><><><><><><><><><><><><><>\\n')\n",
    "\n",
    "loss3,A3 = function_approximator(n3,N,loss = 'L1')\n",
    "print(\" ************  For n = %d  *************\" %n3)\n",
    "print(\"\\ncost = %.4f\" %loss3)\n",
    "print(\"\\nCoeff are : \")\n",
    "print(A3)\n",
    "\n",
    "print('\\n<><><><><><><><><><><><><><><><><><><><><><><><><><><><><><>\\n')\n"
   ]
  },
  {
   "cell_type": "markdown",
   "metadata": {},
   "source": [
    "### 2.C Graph of loss vs n"
   ]
  },
  {
   "cell_type": "code",
   "execution_count": 8,
   "metadata": {},
   "outputs": [
    {
     "data": {
      "text/plain": [
       "Text(0.5, 1.0, 'Cost vs n for L1 loss')"
      ]
     },
     "execution_count": 8,
     "metadata": {},
     "output_type": "execute_result"
    },
    {
     "data": {
      "image/png": "[encoded data removed]",
      "text/plain": [
       "<Figure size 432x288 with 1 Axes>"
      ]
     },
     "metadata": {
      "needs_background": "light"
     },
     "output_type": "display_data"
    }
   ],
   "source": [
    "n_values = np.arange(3,21)\n",
    "\n",
    "loss_L2 = [0]*len(n_values)\n",
    "\n",
    "for i in range( len(n_values)):\n",
    "    \n",
    "    loss_L2[i],_ = function_approximator( n_values[i] ,N,loss = 'L1')\n",
    "\n",
    "plt.plot(n_values,loss_L2)\n",
    "plt.xlabel('Order of polynomial n')\n",
    "plt.ylabel('Cost of approximate function')\n",
    "plt.title(\"Cost vs n for L1 loss\")"
   ]
  },
  {
   "cell_type": "markdown",
   "metadata": {},
   "source": [
    "# The End"
   ]
  }
 ],
 "metadata": {
  "kernelspec": {
   "display_name": "Python 3",
   "language": "python",
   "name": "python3"
  },
  "language_info": {
   "codemirror_mode": {
    "name": "ipython",
    "version": 3
   },
   "file_extension": ".py",
   "mimetype": "text/x-python",
   "name": "python",
   "nbconvert_exporter": "python",
   "pygments_lexer": "ipython3",
   "version": "3.7.7"
  }
 },
 "nbformat": 4,
 "nbformat_minor": 4
}
