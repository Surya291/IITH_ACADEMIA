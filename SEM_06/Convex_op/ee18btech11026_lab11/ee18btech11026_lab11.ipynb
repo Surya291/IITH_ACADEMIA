{
 "cells": [
  {
   "cell_type": "code",
   "execution_count": 2,
   "metadata": {},
   "outputs": [],
   "source": [
    "import numpy as np\n",
    "import cvxpy as cp\n",
    "import matplotlib.pyplot as plt"
   ]
  },
  {
   "cell_type": "markdown",
   "metadata": {},
   "source": [
    "# Lab 11\n",
    "## K. Surya Prakash\n",
    "## EE18BTECH11026"
   ]
  },
  {
   "cell_type": "markdown",
   "metadata": {},
   "source": [
    "# Problem 01"
   ]
  },
  {
   "cell_type": "raw",
   "metadata": {},
   "source": [
    "Theory solution , hand written and submitted in pdf format in the zip file"
   ]
  },
  {
   "cell_type": "markdown",
   "metadata": {},
   "source": [
    "# Problem 02"
   ]
  },
  {
   "cell_type": "raw",
   "metadata": {},
   "source": [
    "NOTE : For using the data available in .m file I saved data matrices into .mat file using matlab script\n",
    "\n",
    "The files are attached in the zip folder"
   ]
  },
  {
   "cell_type": "code",
   "execution_count": 3,
   "metadata": {},
   "outputs": [],
   "source": [
    "X = np.loadtxt('saveX.mat') ## n*N\n",
    "Y = np.loadtxt('saveY.mat') ## n*M\n",
    "\n",
    "def find_card(a):  ### Finds the cardinality : no. of non-zero values in a :: non-zero := abs(ai) >= 1e-4\n",
    "    a_bool = np.abs(a) >= 1e-4    \n",
    "    return a_bool,int(sum(a_bool))\n"
   ]
  },
  {
   "cell_type": "markdown",
   "metadata": {},
   "source": [
    "### Formulation.."
   ]
  },
  {
   "cell_type": "raw",
   "metadata": {},
   "source": [
    "1. Create a list of lamda values to be considered.\n",
    "2. Solve the optimisation problem for different lamda & collect thickness and cardinality of a for each lamda\n",
    "3. if Card is found to be 10 :  collect the non-zero indices of features (a_bool)"
   ]
  },
  {
   "cell_type": "code",
   "execution_count": 12,
   "metadata": {},
   "outputs": [
    {
     "name": "stdout",
     "output_type": "stream",
     "text": [
      "card: 10 first achieved @ lamda =  23.540849185135322\n",
      "Slab thickness here (with 50 dim a) :  77.02461928034643\n",
      "\n",
      "\n",
      "Cardinality for different lamda values\n",
      "\n",
      "[35, 35, 35, 34, 34, 34, 34, 34, 34, 34, 33, 33, 33, 33, 32, 32, 31, 31, 31, 30, 30, 30, 28, 28, 27, 27, 27, 27, 26, 26, 26, 25, 25, 23, 23, 23, 22, 22, 22, 21, 20, 19, 18, 18, 16, 13, 13, 13, 13, 13, 13, 13, 13, 13, 13, 13, 12, 12, 12, 12, 12, 11, 11, 11, 11, 11, 11, 11, 11, 11, 11, 11, 11, 11, 11, 11, 11, 11, 11, 11, 11, 11, 11, 11, 11, 11, 11, 10, 10, 10, 10, 10, 10, 10, 10, 10, 10, 10, 10, 10]\n",
      "\n",
      "The max thickness of the slab is  112.904 and is achieved at lamda = 0.100 \n"
     ]
    }
   ],
   "source": [
    "lamda_list = np.geomspace(0.1, 50.0, num=100) ### lamda spaced b/w 0.1 & 50\n",
    "\n",
    "#### Variable init\n",
    "\n",
    "n,N = np.shape(X)\n",
    "n,M = np.shape(Y)\n",
    "\n",
    "a = cp.Variable((n,1))\n",
    "i_x = np.ones((N,1))\n",
    "i_y = np.ones((M,1))\n",
    "\n",
    "b = cp.Variable()\n",
    "\n",
    "#### Constraints...\n",
    "constraints = [(X.T)@a - b*i_x >= 1,(Y.T)@a -b*i_y <= -1 ]\n",
    "\n",
    "#### Collecting thickness & card for each lamda\n",
    "slab_thick = [0]*len(lamda_list)\n",
    "card = [0]*len(lamda_list)\n",
    "\n",
    "flag = True\n",
    "### Solving the prob for diff lamda\n",
    "for i, _lam in enumerate(lamda_list):\n",
    "    obj = cp.Minimize( cp.norm(a, 2) + _lam*cp.norm(a, 1))\n",
    "    prob = cp.Problem(obj, constraints)\n",
    "    prob.solve()\n",
    "    slab_thick[i] = 2/(cp.norm(a, 2).value)\n",
    "    _,card[i] = find_card(a.value)\n",
    "    \n",
    "    if(card[i] == 10 and flag == True):\n",
    "        print(\"card: 10 first achieved @ lamda = \", _lam)\n",
    "        print(\"Slab thickness here (with 50 dim a) : \",slab_thick[i])\n",
    "        print('\\n')\n",
    "        a_bool,_ = find_card(a.value)\n",
    "        flag = False\n",
    "\n",
    "#print(lamda_list)\n",
    "print(\"Cardinality for different lamda values\\n\")\n",
    "print(card)\n",
    "\n",
    "\n",
    "\n",
    "print(\"\\nThe max thickness of the slab is  %.3f and is achieved at lamda = %.3f \" %(slab_thick[0],lamda_list[0]))"
   ]
  },
  {
   "cell_type": "code",
   "execution_count": 10,
   "metadata": {},
   "outputs": [
    {
     "data": {
      "text/plain": [
       "Text(0.5, 1.0, 'Obtained thickness & cardinality for various lamda')"
      ]
     },
     "execution_count": 10,
     "metadata": {},
     "output_type": "execute_result"
    },
    {
     "data": {
      "image/png": "[encoded data removed]",
      "text/plain": [
       "<Figure size 432x288 with 1 Axes>"
      ]
     },
     "metadata": {
      "needs_background": "light"
     },
     "output_type": "display_data"
    }
   ],
   "source": [
    "plt.scatter(card,slab_thick, marker = '.')\n",
    "plt.xlabel('Cardinality')\n",
    "plt.ylabel('Slab thickness')\n",
    "plt.title('Obtained thickness & cardinality for various lamda')"
   ]
  },
  {
   "cell_type": "code",
   "execution_count": 9,
   "metadata": {},
   "outputs": [
    {
     "name": "stdout",
     "output_type": "stream",
     "text": [
      "Extracted feat dim index [ 0  6  7 17 18 20 22 25 26 45]\n"
     ]
    }
   ],
   "source": [
    "a_bool = a_bool.reshape(a_bool.size)  ### has true for important features\n",
    "principle_feat_indices = np.where(a_bool == True)[0]\n",
    "print('Extracted feat dim index' ,principle_feat_indices)\n",
    "### Extracting important features from data\n",
    "X_reduced = X[principle_feat_indices,:]\n",
    "Y_reduced = Y[principle_feat_indices,:]"
   ]
  },
  {
   "cell_type": "code",
   "execution_count": 7,
   "metadata": {},
   "outputs": [
    {
     "name": "stdout",
     "output_type": "stream",
     "text": [
      "Slab thickness (with 10 dim a) =  78.46967629764835\n"
     ]
    }
   ],
   "source": [
    "#### Solving the same problem with reduced dimension data\n",
    "\n",
    "n,N = np.shape(X_reduced)\n",
    "n,M = np.shape(Y_reduced)\n",
    "\n",
    "a = cp.Variable((n,1))\n",
    "i_x = np.ones((N,1))\n",
    "i_y = np.ones((M,1))\n",
    "\n",
    "b = cp.Variable()\n",
    "\n",
    "#### Constraints...\n",
    "constraints = [(X_reduced.T)@a - b*i_x >= 1,(Y_reduced.T)@a -b*i_y <= -1 ]\n",
    "obj = cp.Minimize( cp.norm(a, 2) )\n",
    "prob = cp.Problem(obj, constraints)\n",
    "prob.solve()\n",
    "\n",
    "\n",
    "print(\"Slab thickness (with 10 dim a) = \",2/(cp.norm(a, 2).value))"
   ]
  },
  {
   "cell_type": "markdown",
   "metadata": {},
   "source": [
    "### Observations.."
   ]
  },
  {
   "cell_type": "raw",
   "metadata": {},
   "source": [
    "The max thickness of the slab is  112.904 and is achieved at lamda = 0.100\n",
    "\n",
    "We can see that thickness for 50 dim a is : 77.0246\n",
    "Similarly for a 10 dim a (which consists of 10 key features) : 78.469\n",
    "\n",
    "The non-sparse indices(0 indexing) in \"a\" are  : [ 0  6  7 17 18 20 22 25 26 45]\n",
    "\n",
    "The values are almost the same in both versions. Hence the feat reduction does not loose much information .\n"
   ]
  },
  {
   "cell_type": "markdown",
   "metadata": {},
   "source": [
    "# Problem :03\n",
    "\n"
   ]
  },
  {
   "cell_type": "markdown",
   "metadata": {},
   "source": [
    "### 3. a) Why a quasi convex problem ?"
   ]
  },
  {
   "cell_type": "code",
   "execution_count": null,
   "metadata": {},
   "outputs": [],
   "source": [
    "f:= (Ax + b) /(c.T x+d) ----> A linear fractional func ===>>> A Quasi convex function ; dem being positive\n",
    "g(x) := |Ax + b -y| <= t*|c.Tx + d| ; a 2nd order convex cone constraint..  \n",
    "\n",
    "Since its an intersection of a euclidean ball and a half space ===>  Convex sublevel sets \n",
    "\n",
    "Hence the problem is a quasi convex problem and solved using bisection method !!!"
   ]
  },
  {
   "cell_type": "markdown",
   "metadata": {},
   "source": [
    "### 3 b) Code & results"
   ]
  },
  {
   "cell_type": "code",
   "execution_count": 14,
   "metadata": {},
   "outputs": [],
   "source": [
    "\n",
    "### Creating data\n",
    "\n",
    "P1 = np.array([[1,0,0,0],\n",
    "               [0,1,0,0],\n",
    "               [0,0,1,0]])\n",
    "\n",
    "\n",
    "P2 = np.array([[1,0,0,0],\n",
    "               [0,0,1,0],\n",
    "               [0,-1,0,10]])\n",
    "\n",
    "P3 = np.array([[1,1,1,-10],\n",
    "               [-1,1,1,0],\n",
    "               [-1,-1,1,10]])\n",
    "\n",
    "P4 = np.array([[0,1,1,0],\n",
    "               [0,-1,1,0],\n",
    "               [-1,0,0,10]])\n",
    "\n",
    "y1 = np.array([[.98, .93]]).T\n",
    "\n",
    "y2 = np.array([[1.01, 1.01]]).T\n",
    "\n",
    "y3 = np.array([[.95, 1.05]]).T\n",
    "\n",
    "y4 = np.array([[2.04, 0]]).T\n",
    "\n",
    "\n",
    "### Extracting A,b,c,d from P matrices\n",
    "def extract(P):\n",
    "    A = P[0:2,0:3]\n",
    "    b = P[0:2,3:4]\n",
    "    c = P[2:3,0:3].T\n",
    "    d = P[2:3,3:4]\n",
    "\n",
    "    return A,b,c,d\n",
    "    \n",
    "A1,b1,c1,d1 = extract(P1)\n",
    "A2,b2,c2,d2 = extract(P2)\n",
    "A3,b3,c3,d3 = extract(P3)\n",
    "A4,b4,c4,d4 = extract(P4)\n"
   ]
  },
  {
   "cell_type": "raw",
   "metadata": {},
   "source": []
  },
  {
   "cell_type": "code",
   "execution_count": 15,
   "metadata": {},
   "outputs": [
    {
     "name": "stdout",
     "output_type": "stream",
     "text": [
      "Minimum value of g(x): t =  0.04949951171875\n",
      "\n",
      "x value for optimum g is:\n",
      " [[4.91286976]\n",
      " [5.01665726]\n",
      " [5.19803717]]\n"
     ]
    }
   ],
   "source": [
    "x = cp.Variable((3,1))\n",
    "\n",
    "u = 1\n",
    "l = 0\n",
    "eps = 1e-4\n",
    "\n",
    "f1 = (A1@x + b1)\n",
    "f2 = (A2@x + b2)\n",
    "f3 = (A3@x + b3)\n",
    "f4 = (A4@x + b4)\n",
    "\n",
    "res1 = cp.norm(f1-(c1.T@x + d1)*y1)\n",
    "res2 = cp.norm(f2-(c2.T@x + d2)*y2)\n",
    "res3 = cp.norm(f3-(c3.T@x + d3)*y3)\n",
    "res4 = cp.norm(f4-(c4.T@x + d4)*y4)\n",
    "\n",
    "\n",
    "######################### \n",
    "######  Sanity check to ensure there is a soln in the spocified [u,l] range!!\n",
    "##########################\n",
    "t = u\n",
    "\n",
    "obj = cp.Minimize(0)\n",
    "constraints = [res1 <= (c1.T@x + d1)*t,\n",
    "               res2 <= (c2.T@x + d2)*t,\n",
    "               res3 <= (c3.T@x + d3)*t,\n",
    "               res4 <= (c4.T@x + d4)*t]\n",
    "prob = cp.Problem(obj, constraints)\n",
    "prob.solve()\n",
    "\n",
    "if (prob.status != 'optimal'):\n",
    "    print(\" Solution does not exist in [l,u] -- > increase u\")\n",
    "\n",
    "\n",
    "\n",
    "else : \n",
    "\n",
    "    #### Bisection method : \n",
    "    while (u-l > eps):\n",
    "\n",
    "        t = (u+l)/2\n",
    "        constraints = [res1 <= (c1.T@x + d1)*t,\n",
    "                   res2 <= (c2.T@x + d2)*t,\n",
    "                   res3 <= (c3.T@x + d3)*t,\n",
    "                   res4 <= (c4.T@x + d4)*t]\n",
    "\n",
    "        prob = cp.Problem(obj, constraints)\n",
    "        prob.solve()\n",
    "\n",
    "        if (prob.status == 'optimal'):\n",
    "            u = t\n",
    "            x_opt = x.value\n",
    "            t_opt = t\n",
    "        else: \n",
    "            l = t\n",
    "\n",
    "    print('Minimum value of g(x): t = ',t_opt)\n",
    "    print('\\nx value for optimum g is:\\n',x_opt)\n"
   ]
  },
  {
   "cell_type": "markdown",
   "metadata": {},
   "source": [
    "### Results"
   ]
  },
  {
   "cell_type": "raw",
   "metadata": {},
   "source": [
    "The point x is: \n",
    " \n",
    " [[4.91286976]\n",
    " [5.01665726]\n",
    " [5.19803717]]"
   ]
  }
 ],
 "metadata": {
  "kernelspec": {
   "display_name": "Python 3",
   "language": "python",
   "name": "python3"
  },
  "language_info": {
   "codemirror_mode": {
    "name": "ipython",
    "version": 3
   },
   "file_extension": ".py",
   "mimetype": "text/x-python",
   "name": "python",
   "nbconvert_exporter": "python",
   "pygments_lexer": "ipython3",
   "version": "3.7.7"
  }
 },
 "nbformat": 4,
 "nbformat_minor": 4
}
