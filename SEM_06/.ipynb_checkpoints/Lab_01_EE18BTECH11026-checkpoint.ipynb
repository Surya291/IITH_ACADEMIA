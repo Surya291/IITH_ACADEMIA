{
 "cells": [
  {
   "cell_type": "markdown",
   "metadata": {},
   "source": [
    "# Diet Problem : \n",
    "## Koidala Surya Prakash\n",
    "### EE18BTECH11026"
   ]
  },
  {
   "cell_type": "code",
   "execution_count": 19,
   "metadata": {},
   "outputs": [
    {
     "name": "stdout",
     "output_type": "stream",
     "text": [
      "----------Servings of each item ------------\n",
      "\n",
      "Corn :  [1.94444445]\n",
      " Milk :  [10.]\n",
      "Bread :  [10.]\n",
      "\n",
      "Total Cost :  [[3.15]]\n"
     ]
    }
   ],
   "source": [
    "import numpy as np\n",
    "import cvxpy as cp\n",
    "\n",
    "### Declaring variable : \n",
    "s = cp.Variable((3,1))            ### Servings\n",
    "vit = np.array([[107, 500, 0]])   ### Vitamin constituents\n",
    "cal = np.array([[72, 121, 65]])   ### Calorie constituents\n",
    "price = np.array([[.18, .23, .05]]) ### Prices\n",
    "\n",
    "\n",
    "### Defining the problem : \n",
    "\n",
    "## Objective :  min total bill \n",
    "obj = cp.Minimize(price@s)\n",
    "\n",
    "## Constraints : \n",
    "constraint = [s<=10, s>=0, ### max no. of servings\n",
    "              vit@s >= 5e3, vit@s <= 5e4, ## vit requirements\n",
    "              cal@s >= 2000, cal@s <= 2250## cal reuirements \n",
    "             ]\n",
    "\n",
    "\n",
    "prob = cp.Problem(obj, constraint)\n",
    "prob.solve()\n",
    "\n",
    "print(\"----------Servings of each item ------------\\n\")\n",
    "\n",
    "print(\"Corn : \", s[0].value)\n",
    "print(\" Milk : \", s[1].value)\n",
    "print(\"Bread : \", s[2].value)\n",
    "print(\"\\nTotal Cost : \", price@s.value)"
   ]
  }
 ],
 "metadata": {
  "kernelspec": {
   "display_name": "Python 3",
   "language": "python",
   "name": "python3"
  },
  "language_info": {
   "codemirror_mode": {
    "name": "ipython",
    "version": 3
   },
   "file_extension": ".py",
   "mimetype": "text/x-python",
   "name": "python",
   "nbconvert_exporter": "python",
   "pygments_lexer": "ipython3",
   "version": "3.7.7"
  }
 },
 "nbformat": 4,
 "nbformat_minor": 4
}
