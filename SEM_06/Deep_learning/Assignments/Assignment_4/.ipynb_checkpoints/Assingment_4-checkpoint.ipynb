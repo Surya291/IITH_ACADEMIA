{
 "cells": [
  {
   "cell_type": "markdown",
   "metadata": {
    "id": "3z9l7S6RV8-2"
   },
   "source": [
    "#### **Welcome to Assignment 4 (part-1) on Deep Learning for Computer Vision.**\n",
    "In this assignment you will get a chance to implement LSTM cell from Scratch and Usage of Recurrent Neural Network for 1D time series Prediction task .\n",
    "\n",
    "#### **Instructions**\n",
    "1. Use Python 3.x to run this notebook\n",
    "3. Write your code only in between the lines 'YOUR CODE STARTS HERE' and 'YOUR CODE ENDS HERE'.\n",
    "you should not change anything else code cells, if you do, the answers you are supposed to get at the end of this assignment might be wrong.\n",
    "4. Read documentation of each function carefully."
   ]
  },
  {
   "cell_type": "markdown",
   "metadata": {
    "id": "GT8skzfOLu91"
   },
   "source": [
    "## Question 1:\n",
    "\n",
    "Given a sequence of values of a 1D input time series from time t = 1 to t = 5, predict the value of the time series at t = 6 using RNN.\n",
    "\n",
    "Here we trained an RNN in such a way that, given values of input time series from t = 1 to t=i ; it will predict the value at t= i+1.\n",
    "\n",
    "Hint : Design an RNN using pytorch's nn.RNN to create an RNN layer , then add a fully-connected layer to get the required output size.\n",
    "\n",
    "Choose 32 as the number of features in the RNN output and in the hidden state. Also, choose number of layers to be 1 to make up the RNN, typically such number varies depending on different tasks. The value greater than 1 means that you'll create a stacked RNN. Also, use \"batch_first =True\". Here, \"batch_first\" implies whether or not the input/output of the RNN will have the batch_size as the first dimension (batch_size, seq_length, hidden_dim). \n"
   ]
  },
  {
   "cell_type": "code",
   "execution_count": 2,
   "metadata": {
    "colab": {
     "base_uri": "https://localhost:8080/"
    },
    "id": "qoVHp8ZWqYpd",
    "outputId": "96edd767-d767-484f-8a0e-645cb581c879"
   },
   "outputs": [
    {
     "name": "stdout",
     "output_type": "stream",
     "text": [
      "0\n",
      "Loss:  1.5117348432540894\n",
      "Predicted Value:  [-0.18635052 -0.00746428  0.05009793  0.05678663 -0.02306957]\n",
      "True Value:  [-0.6117564  -0.5281718  -1.0729686   0.86540765 -2.3015387 ]\n",
      "11\n",
      "Loss:  0.13453072309494019\n",
      "Predicted Value:  [ 0.00849447 -0.31584212 -1.2586135   1.2727582  -2.5075972 ]\n",
      "True Value:  [-0.6117564  -0.5281718  -1.0729686   0.86540765 -2.3015387 ]\n",
      "22\n",
      "Loss:  0.19528236985206604\n",
      "Predicted Value:  [-1.2275374  -0.65807223 -0.54608953  0.45658743 -1.933278  ]\n",
      "True Value:  [-0.6117564  -0.5281718  -1.0729686   0.86540765 -2.3015387 ]\n",
      "33\n",
      "Loss:  0.08917436003684998\n",
      "Predicted Value:  [-0.07242055 -0.87209296 -1.0512483   0.8208605  -2.486608  ]\n",
      "True Value:  [-0.6117564  -0.5281718  -1.0729686   0.86540765 -2.3015387 ]\n",
      "44\n",
      "Loss:  0.03353014960885048\n",
      "Predicted Value:  [-0.893936  -0.4294107 -1.1992261  0.8064023 -2.0589504]\n",
      "True Value:  [-0.6117564  -0.5281718  -1.0729686   0.86540765 -2.3015387 ]\n",
      "55\n",
      "Loss:  0.009381274692714214\n",
      "Predicted Value:  [-0.52645415 -0.6100819  -0.98218405  0.9279828  -2.445633  ]\n",
      "True Value:  [-0.6117564  -0.5281718  -1.0729686   0.86540765 -2.3015387 ]\n",
      "66\n",
      "Loss:  0.005844640079885721\n",
      "Predicted Value:  [-0.6522238  -0.45216984 -1.0666144   0.76586753 -2.192632  ]\n",
      "True Value:  [-0.6117564  -0.5281718  -1.0729686   0.86540765 -2.3015387 ]\n",
      "Final predicted value of input time series at t=6:  -2.3214540481567383\n"
     ]
    },
    {
     "name": "stderr",
     "output_type": "stream",
     "text": [
      "/usr/local/lib/python3.7/dist-packages/torch/nn/modules/loss.py:528: UserWarning: Using a target size (torch.Size([5, 1])) that is different to the input size (torch.Size([1, 5, 1])). This will likely lead to incorrect results due to broadcasting. Please ensure they have the same size.\n",
      "  return F.mse_loss(input, target, reduction=self.reduction)\n"
     ]
    }
   ],
   "source": [
    "import torch\n",
    "from torch import nn\n",
    "import numpy as np\n",
    "import matplotlib.pyplot as plt\n",
    "import numpy as np\n",
    "%matplotlib inline\n",
    "\n",
    "\n",
    "## Fixing the seed for Reproducibility\n",
    "np.random.seed(1)\n",
    "torch.manual_seed(1)\n",
    "\n",
    "## Define 1D input time series, which spans from t= 1 to t=6.\n",
    "input_series = np.random.randn(6,1)\n",
    "\n",
    "\n",
    "class RNN(nn.Module):\n",
    "    def __init__(self, input_size, output_size, hidden_dim, n_layers):\n",
    "        super(RNN, self).__init__()\n",
    "\n",
    "        ### YOUR CODE STARTS HERE\n",
    "        self.RNN_blk = nn.RNN(input_size = input_size, hidden_size = hidden_dim, num_layers = n_layers ,batch_first = True)\n",
    "        self.fc      = nn.Linear(hidden_dim,n_layers)\n",
    "        \n",
    "    def forward(self, x, hidden):\n",
    "        out,h = self.RNN_blk(x,hidden)\n",
    "        out = self.fc(out)\n",
    "\n",
    "        return out,h\n",
    "        ### YOUR CODE ENDS HERE\n",
    "\n",
    "# decide on hyperparameters\n",
    "input_size=1    ## 1D input\n",
    "output_size=1   ## 1D output\n",
    "hidden_dim=32  ## Hidden state feature dimension of RNN\n",
    "n_layers=1     ## No. of stacked layers in RNN\n",
    "\n",
    "# instantiate an RNN\n",
    "rnn = RNN(input_size, output_size, hidden_dim, n_layers)\n",
    "\n",
    "# MSE loss and Adam optimizer with a learning rate of 0.01\n",
    "criterion = nn.MSELoss()\n",
    "optimizer = torch.optim.Adam(rnn.parameters(), lr=0.01)\n",
    "\n",
    "# train the RNN\n",
    "def train(rnn, n_steps, print_every):\n",
    "    \n",
    "    # initialize the hidden state\n",
    "    hidden = None      \n",
    "    \n",
    "    for batch_i, step in enumerate(range(n_steps)):\n",
    "        # defining the training data \n",
    "        x = input_series[:-1]\n",
    "        y = input_series[1:]\n",
    "        \n",
    "        # convert data into Tensors\n",
    "        x_tensor = torch.Tensor(x).unsqueeze(0) # unsqueeze gives a 1, batch_size dimension\n",
    "        y_tensor = torch.Tensor(y)\n",
    "\n",
    "        # outputs from the rnn\n",
    "        prediction, hidden = rnn(x_tensor, hidden)\n",
    "\n",
    "        ## Representing Memory ##\n",
    "        # make a new variable for hidden and detach the hidden state from its history\n",
    "        # this way, we don't backpropagate through the entire history\n",
    "        hidden = hidden.data\n",
    "\n",
    "        # calculate the loss\n",
    "        loss = criterion(prediction, y_tensor)\n",
    "        # zero gradients\n",
    "        optimizer.zero_grad()\n",
    "        # perform backprop and update weights\n",
    "        loss.backward()\n",
    "        optimizer.step()\n",
    "\n",
    "        # display loss and predictions\n",
    "        if batch_i%print_every == 0:  \n",
    "            print (batch_i)      \n",
    "            print('Loss: ', loss.item())\n",
    "            print ('Predicted Value: ', prediction.data.numpy().flatten())\n",
    "            print ('True Value: ', y_tensor.data.numpy().flatten())\n",
    "            \n",
    "    \n",
    "    return rnn,prediction[0][-1]\n",
    "\n",
    "# train the rnn and monitor results\n",
    "trained_rnn,final_prediction = train(rnn, n_steps = 75, print_every= 11)\n",
    "print ('Final predicted value of input time series at t=6: ',final_prediction.item())"
   ]
  },
  {
   "cell_type": "markdown",
   "metadata": {
    "id": "6zfAVRvIFjxh"
   },
   "source": [
    "## Question 2:\n",
    "\n",
    "Given a Multivariate input time sequence and all the trainable parameters of LSTM Cell; Implement all the functionalities of the LSTM cell in order to predict the hidden state and output at time=t; given LSTM \"cell state\" at previous time step (t= t-1), LSTM \"hidden state\" at previous time step ( t= t-1) and the input at time=t. Hint : Follow the following sets of equation for implementing the functionality of LSTM Cell.\n",
    "\n",
    "Forget GATE: $f_{t} = \\sigma(W_{f}[ a_{t-1} ; x_{t}]  + b_{f}) $ (Note that \";\" denotes contatenation operation.)\n",
    "\n",
    "Update GATE: $i_{t} = \\sigma(W_{i}[ a_{t-1} ; x_{t} ] + b_i )$\n",
    "\n",
    "Memory GATE: $\\tilde{c}_{t} = tanh(W_c[ a_{t-1} ; x_{t} ] + b_c )$\n",
    "            update step -> $c_{t} =  f_{t} * c_{t-1} + i_{t} * \\tilde{c}_{t}$  (This operation determines how much information to keep from past and how much to add from current step information)\n",
    "\n",
    "Output GATE: $o_{t} = \\sigma(W_o [ a_{t-1} ; x_{t} ] + b_o)$\n",
    "           Final Output: $a_{t} = o_{t}*tanh(c_t) $\n",
    "( Note: For implementing \"tanh\" operation; use numpy.tanh libary function)\n",
    "\n",
    "\n",
    "a> Compute the value of a specific component of LSTM cell \"Output\" (y), i.e. y[1, 3, 4]? \n",
    "\n",
    "b> Also find the value of a specific component of LSTM hidden state output(a) ; i.e. a[2,1,5].\n",
    "\n",
    "\n"
   ]
  },
  {
   "cell_type": "code",
   "execution_count": 3,
   "metadata": {
    "colab": {
     "base_uri": "https://localhost:8080/"
    },
    "id": "FOok6KSeaJ1o",
    "outputId": "99a5c6ee-b511-473d-d882-6a323b204168"
   },
   "outputs": [
    {
     "name": "stdout",
     "output_type": "stream",
     "text": [
      "y[1][3][4] = 0.21083866421151456\n",
      "y.shape =  (2, 10, 7)\n",
      "a[2][1][5] =  0.023019435434183624\n",
      "a.shape =  (5, 10, 7)\n"
     ]
    }
   ],
   "source": [
    "\n",
    "import numpy as np\n",
    "np.random.seed(2)\n",
    "\n",
    "## Function implements Sigmoid Activation\n",
    "def sigmoid(x):\n",
    "    return 1 / (1 + np.exp(-x))\n",
    "\n",
    "## Function implements Softmax Activation\n",
    "def softmax(x):\n",
    "    e_x = np.exp(x - np.max(x))\n",
    "    return e_x / e_x.sum(axis=0)\n",
    "\n",
    "## Function implements LSTM \"forward pass\" of a single time step..i.e. given x at time step t, hidden state \n",
    "##at previous time step Memory state at previous time step , this function computes predicted output y at time step t. \n",
    "\n",
    "def lstm_forward_pass(xt, a_prev, c_prev, parameters):\n",
    "    \"\"\"\n",
    "    Implement a single forward step of the LSTM-cell \n",
    "\n",
    "    Arguments:\n",
    "    xt -- your input data at timestep \"t\"\n",
    "    a_prev -- Hidden state at timestep \"t-1\"\n",
    "    c_prev -- Memory state at timestep \"t-1\"\n",
    "\n",
    "    # Trainable Parameters of a LSTM cell\n",
    "    Wf -- Weight matrix of the forget gate; bf -- Bias of the forget gate\n",
    "    Wi -- Weight matrix of the update gate; bi -- Bias of the update gate\n",
    "    Wc -- Weight matrix of the first \"tanh\"; bc --  Bias of the first \"tanh\"\n",
    "    Wo -- Weight matrix of the output gate; bo --  Bias of the output gate\n",
    "    Wy -- Weight matrix relating the hidden-state to the output; by -- Bias relating the hidden-state to the output\n",
    "                        \n",
    "    The LSTM Cell MUST Returns:\n",
    "    a_next -- next hidden state\n",
    "    c_next -- next memory state\n",
    "    yt_pred -- LSTM output prediction at timestep \"t\"\n",
    "    cache -- tuple of values needed for the backward pass, contains (a_next, c_next, a_prev, c_prev, xt, parameters)\n",
    "    Note: ft/it/ot stand for the forget/update/output gates, cct stands for the candidate value (c tilde),\n",
    "          c stands for the memory value\n",
    "    \"\"\"\n",
    "\n",
    "    # Retrieve parameters from \"parameters\"\n",
    "    Wf = parameters[\"Wf\"]; bf = parameters[\"bf\"]\n",
    "    Wi = parameters[\"Wi\"]; bi = parameters[\"bi\"]\n",
    "    Wc = parameters[\"Wc\"]; bc = parameters[\"bc\"]\n",
    "    Wo = parameters[\"Wo\"]; bo = parameters[\"bo\"]\n",
    "    Wy = parameters[\"Wy\"]; by = parameters[\"by\"]\n",
    "    \n",
    "    # Retrieve dimensions from shapes of xt and Wy\n",
    "    n_x, m = xt.shape\n",
    "    n_y, n_a = Wy.shape\n",
    "\n",
    "    ### YOUR CODE STARTS HERE ###\n",
    "    X = np.concatenate((a_prev,xt),axis = 0)  ## Concatenating  : X = (a,x_t)\n",
    "    ft = sigmoid( Wf@X + bf)\n",
    "    it = sigmoid( Wi@X + bi)\n",
    "    cct = np.tanh( Wc@X + bc)\n",
    "    c_next = ft*c_prev + it*cct\n",
    "    ot = sigmoid(Wo@X + bo)\n",
    "    a_next = ot* np.tanh(c_next)              ## hidden state\n",
    "    yt_pred = softmax(Wy@ a_next + by )       ## finding prediction\n",
    "    ### YOUR CODE ENDS HERE ###\n",
    "\n",
    "    # store values needed for backward propagation in cache\n",
    "    cache = (a_next, c_next, a_prev, c_prev, ft, it, cct, ot, xt, parameters)\n",
    "\n",
    "    return a_next, c_next, yt_pred, cache\n",
    "\n",
    "def lstm_forward(x, a0, parameters):\n",
    "    \"\"\"\n",
    "    Implement the forward propagation of the recurrent neural network using an LSTM-cell.\n",
    "\n",
    "    Arguments:\n",
    "    x -- Input data for every time-step\n",
    "    a0 -- Initial hidden state of LSTM cell\n",
    "    parameters \n",
    "    Wf -- Weight matrix of the forget gate ;bf -- Bias of the forget gate\n",
    "    Wi -- Weight matrix of the update gate ;bi -- Bias of the update gate\n",
    "    Wc -- Weight matrix of the first \"tanh\";bc -- Bias of the first \"tanh\"\n",
    "    Wo -- Weight matrix of the output gate; bo -- Bias of the output gate\n",
    "    Wy -- Weight matrix relating the hidden-state to the output; by -- Bias relating the hidden-state to the output\n",
    "                        \n",
    "    This Function call MUST Returns:\n",
    "    a -- Hidden states for every time-step, numpy array of shape (n_a, m, T_x)\n",
    "    y -- Predictions for every time-step, numpy array of shape (n_y, m, T_x)\n",
    "    c -- Memory states for every time-step\n",
    "    caches -- tuple of values needed for the backward pass, contains (list of all the caches, x)\n",
    "    \"\"\"\n",
    "\n",
    "    # Initialize \"caches\", which will track the list of all the caches\n",
    "    caches = []\n",
    "    \n",
    "    ### YOUR CODE STARTS HERE ###\n",
    "    a_prev = a0\n",
    "    c_prev = np.zeros(a_prev.shape)  \n",
    "\n",
    "    T_x = x.shape[2] ### gives the seq len : 7\n",
    "    n_a,m = a0.shape\n",
    "    n_y,_ = parameters['Wy'].shape\n",
    "\n",
    "    c = np.zeros((n_a,m,T_x))  ### Initialising c,a,y\n",
    "    a = np.zeros((n_a,m,T_x))\n",
    "    y = np.zeros((n_y,m,T_x))\n",
    "\n",
    "    for t in range(T_x):\n",
    "      xt = x[:,:,t]     ### picking the t instant sequence\n",
    "\n",
    "      a_next, c_next, yt_pred, cache = lstm_forward_pass(xt, a_prev, c_prev, parameters)\n",
    "      a_prev = a_next\n",
    "      c_prev = c_next\n",
    "\n",
    "      a[:,:,t],c[:,:,t],y[:,:,t] = a_prev,c_prev,yt_pred ### Updating a,c,y for every time step\n",
    "      caches.append(cache)\n",
    "\n",
    "    ### YOUR CODE ENDS HERE ###\n",
    "\n",
    "    # store values needed for backward propagation in cache\n",
    "    caches = (caches, x)\n",
    "    \n",
    "\n",
    "    return a, y, c, caches\n",
    "\n",
    "# Input time sequence\n",
    "x = np.random.randn(3,10,7)\n",
    "\n",
    "# Initial Hidden state of LSTM\n",
    "a0 = np.random.randn(5,10)\n",
    "\n",
    "# Weight and Bias Parameters of FORGET gate\n",
    "Weight_f = np.random.randn(5, 8); bias_f = np.random.randn(5,1)\n",
    "\n",
    "# Weight and Bias Parameters of UPDATE gate\n",
    "Weight_i = np.random.randn(5, 8); bias_i = np.random.randn(5,1)\n",
    "\n",
    "# Weight and Bias Parameters of OUTPUT gate\n",
    "Weight_o = np.random.randn(5, 8); bias_o = np.random.randn(5,1)\n",
    "\n",
    "# Weight and Bias Parameters of MEMORY gate (updating the cell)\n",
    "Weight_c = np.random.randn(5, 8); bias_c = np.random.randn(5,1)\n",
    "\n",
    "# Weight and bias for transforming hidden state output to final LSTM output for downstream application\n",
    "Weight_y = np.random.randn(2,5); bias_y = np.random.randn(2,1)\n",
    "\n",
    "LSTM_parameters = {\"Wf\": Weight_f, \"Wi\": Weight_i, \"Wo\": Weight_o, \"Wc\": Weight_c, \"Wy\": Weight_y, \"bf\": bias_f, \"bi\": bias_i, \"bo\": bias_o, \"bc\": bias_c, \"by\": bias_y}\n",
    "\n",
    "a, y, c, caches = lstm_forward(x, a0, LSTM_parameters)\n",
    "\n",
    "## Print the specific component value of LSTM cell \"Output\" (y) ;i.e. y[1,3,4]\n",
    "print(\"y[1][3][4] =\", y[1][3][4])\n",
    "print(\"y.shape = \", y.shape)\n",
    "\n",
    "## Print the specific component value of LSTM \"hidden state\" Output (a) ;i.e. a[2,1,5]\n",
    "print(\"a[2][1][5] = \", a[2][1][5])\n",
    "print(\"a.shape = \", a.shape)"
   ]
  },
  {
   "cell_type": "markdown",
   "metadata": {
    "id": "2SQRxSU9Tkwx"
   },
   "source": [
    "## Question 3:\n",
    "\n",
    "Time series prediction using recurrent models. \n",
    "\n",
    "Use the airline-passengers.csv file for this task.\n",
    "\n"
   ]
  },
  {
   "cell_type": "code",
   "execution_count": 5,
   "metadata": {
    "colab": {
     "base_uri": "https://localhost:8080/",
     "height": 265
    },
    "id": "5e5Athrzw-DA",
    "outputId": "bbc31c12-a958-4a9f-8412-aea8e3159fbb"
   },
   "outputs": [
    {
     "data": {
      "image/png": "[encoded data removed]",
      "text/plain": [
       "<Figure size 432x288 with 1 Axes>"
      ]
     },
     "metadata": {
      "needs_background": "light",
      "tags": []
     },
     "output_type": "display_data"
    }
   ],
   "source": [
    "import numpy as np\n",
    "import matplotlib.pyplot as plt\n",
    "import pandas as pd\n",
    "import torch\n",
    "import torch.nn as nn\n",
    "from torch.autograd import Variable\n",
    "from sklearn.preprocessing import MinMaxScaler\n",
    "\n",
    "training_set = pd.read_csv('airline-passengers.csv')\n",
    "#training_set = pd.read_csv('shampoo.csv')\n",
    "\n",
    "training_set = training_set.iloc[:,1:2].values\n",
    "\n",
    "#plt.plot(training_set, label = 'Shampoo Sales Data')\n",
    "plt.plot(training_set, label = 'Airline Passangers Data')\n",
    "plt.show()"
   ]
  },
  {
   "cell_type": "markdown",
   "metadata": {
    "id": "_qo-Bn3vxGvD"
   },
   "source": [
    "## Prepare the training and testing dataset.\n"
   ]
  },
  {
   "cell_type": "code",
   "execution_count": 6,
   "metadata": {
    "id": "ZCFod5yYxQXt"
   },
   "outputs": [],
   "source": [
    "def sliding_windows(data, seq_length):\n",
    "    x = []\n",
    "    y = []\n",
    "\n",
    "    for i in range(len(data)-seq_length-1):\n",
    "        _x = data[i:(i+seq_length)]\n",
    "        _y = data[i+seq_length]\n",
    "        x.append(_x)\n",
    "        y.append(_y)\n",
    "\n",
    "    return np.array(x),np.array(y)\n",
    "\n",
    "sc = MinMaxScaler()\n",
    "training_data = sc.fit_transform(training_set)\n",
    "\n",
    "seq_length = 4\n",
    "x, y = sliding_windows(training_data, seq_length)\n",
    "\n",
    "train_size = int(len(y) * 0.67)\n",
    "test_size = len(y) - train_size\n",
    "\n",
    "dataX = Variable(torch.Tensor(np.array(x)))\n",
    "dataY = Variable(torch.Tensor(np.array(y)))\n",
    "\n",
    "trainX = Variable(torch.Tensor(np.array(x[0:train_size])))\n",
    "trainY = Variable(torch.Tensor(np.array(y[0:train_size])))\n",
    "\n",
    "testX = Variable(torch.Tensor(np.array(x[train_size:len(x)])))\n",
    "testY = Variable(torch.Tensor(np.array(y[train_size:len(y)])))"
   ]
  },
  {
   "cell_type": "markdown",
   "metadata": {
    "id": "6-fbsv6_xVhu"
   },
   "source": [
    "## Create the model"
   ]
  },
  {
   "cell_type": "code",
   "execution_count": 7,
   "metadata": {
    "id": "KC_5L1NIxUsR"
   },
   "outputs": [],
   "source": [
    "class LSTM(nn.Module):\n",
    "\n",
    "    def __init__(self, num_classes, input_size, hidden_size, num_layers):\n",
    "        super(LSTM, self).__init__()\n",
    "        \n",
    "        self.num_classes = num_classes\n",
    "        self.num_layers = num_layers\n",
    "        self.input_size = input_size\n",
    "        self.hidden_size = hidden_size\n",
    "        self.seq_length = seq_length\n",
    "\n",
    "        # Your code goes here\n",
    "        # define a lstm block and a fc block\n",
    "        self.LSTM = nn.LSTM(input_size=self.input_size, num_layers = self.num_layers, hidden_size= self.hidden_size)\n",
    "        self.fc = nn.Linear(self.hidden_size,self.num_classes)\n",
    "\n",
    "    def forward(self, x):\n",
    "        # Your code goes here\n",
    "        # Define a forward function for the LSTM block\n",
    "\n",
    "        ### Initial x is in this format : [batch,seq,input_size]\n",
    "        x = x.permute(1,0,2) ### input of the shape [seq,batch,input_size]\n",
    "        self.seq_length,batch = x.shape[0],x.shape[1]\n",
    "        h0 = torch.zeros(self.num_layers, batch,self.hidden_size)\n",
    "        c0 = torch.zeros(self.num_layers, batch,self.hidden_size)\n",
    "\n",
    "        lstm_out,(h,c) = self.LSTM(x,(h0,c0))\n",
    "\n",
    "\n",
    "        '''\n",
    "        lstm_out shape: [seq, batch, hidden_state]\n",
    "        Here we require the last prediction only.(many to one)\n",
    "        '''\n",
    "        last_out = lstm_out[self.seq_length - 1 ,:,:] ## Choosing the last prediction\n",
    "        out = self.fc(last_out)\n",
    "        \n",
    "        return out"
   ]
  },
  {
   "cell_type": "markdown",
   "metadata": {
    "id": "sQKOnThFxxuJ"
   },
   "source": [
    "## Training"
   ]
  },
  {
   "cell_type": "code",
   "execution_count": 15,
   "metadata": {
    "colab": {
     "base_uri": "https://localhost:8080/"
    },
    "id": "vlj9F1Z6xxFR",
    "outputId": "e337b32b-5b6f-49c8-8e08-dfe8c9a9942c"
   },
   "outputs": [
    {
     "name": "stdout",
     "output_type": "stream",
     "text": [
      "Epoch: 0, loss: 0.06590\n",
      "Epoch: 100, loss: 0.00369\n",
      "Epoch: 200, loss: 0.00301\n",
      "Epoch: 300, loss: 0.00228\n",
      "Epoch: 400, loss: 0.00197\n",
      "Epoch: 500, loss: 0.00181\n",
      "Epoch: 600, loss: 0.00172\n",
      "Epoch: 700, loss: 0.00169\n",
      "Epoch: 800, loss: 0.00168\n",
      "Epoch: 900, loss: 0.00167\n",
      "Epoch: 1000, loss: 0.00166\n",
      "Epoch: 1100, loss: 0.00165\n",
      "Epoch: 1200, loss: 0.00164\n",
      "Epoch: 1300, loss: 0.00164\n",
      "Epoch: 1400, loss: 0.00163\n",
      "Epoch: 1500, loss: 0.00162\n",
      "Epoch: 1600, loss: 0.00162\n",
      "Epoch: 1700, loss: 0.00161\n",
      "Epoch: 1800, loss: 0.00160\n",
      "Epoch: 1900, loss: 0.00160\n"
     ]
    }
   ],
   "source": [
    "num_epochs = 2000\n",
    "learning_rate = 0.01\n",
    "\n",
    "input_size = 1\n",
    "hidden_size = 2\n",
    "num_layers = 1\n",
    "\n",
    "num_classes = 1\n",
    "\n",
    "lstm = LSTM(num_classes, input_size, hidden_size, num_layers)\n",
    "\n",
    "criterion = torch.nn.MSELoss()    # mean-squared error for regression\n",
    "optimizer = torch.optim.Adam(lstm.parameters(), lr=learning_rate)\n",
    "#optimizer = torch.optim.SGD(lstm.parameters(), lr=learning_rate)\n",
    "\n",
    "# Train the model\n",
    "for epoch in range(num_epochs):\n",
    "\n",
    "    # Your code goes here\n",
    "    # define a training iteration to the lstm model. Use loss variable to compute the training loss\n",
    "    optimizer.zero_grad()\n",
    "    preds = lstm.forward(trainX)\n",
    "    loss = criterion(preds,trainY)\n",
    "    loss.backward()\n",
    "    optimizer.step()\n",
    "\n",
    "    \n",
    "    if epoch % 100 == 0:\n",
    "      print(\"Epoch: %d, loss: %1.5f\" % (epoch, loss.item()))"
   ]
  },
  {
   "cell_type": "markdown",
   "metadata": {
    "id": "gF0UsfR8yFrO"
   },
   "source": [
    "## Test and Visualize the results. \n",
    "Plot the output of time series similar to the data plot above."
   ]
  },
  {
   "cell_type": "code",
   "execution_count": 16,
   "metadata": {
    "colab": {
     "base_uri": "https://localhost:8080/",
     "height": 545
    },
    "id": "y7-eERYByJ3O",
    "outputId": "740e34c5-de4d-48c1-86f8-778ae567fe60"
   },
   "outputs": [
    {
     "data": {
      "image/png": "[encoded data removed]",
      "text/plain": [
       "<Figure size 432x288 with 1 Axes>"
      ]
     },
     "metadata": {
      "needs_background": "light",
      "tags": []
     },
     "output_type": "display_data"
    },
    {
     "data": {
      "image/png": "[encoded data removed]",
      "text/plain": [
       "<Figure size 432x288 with 1 Axes>"
      ]
     },
     "metadata": {
      "needs_background": "light",
      "tags": []
     },
     "output_type": "display_data"
    }
   ],
   "source": [
    "lstm.eval()\n",
    "test_preds = lstm.forward(testX)\n",
    "\n",
    "pred_np = test_preds.detach().numpy()\n",
    "label_np = testY.numpy()\n",
    "\n",
    "plt.plot(label_np,label = 'Actual')\n",
    "plt.plot(pred_np,label = 'Predicted')\n",
    "plt.title('Plot for test set')\n",
    "plt.legend()\n",
    "plt.show()\n",
    "\n",
    "\n",
    "\n",
    "train_preds = lstm.forward(trainX)\n",
    "pred_np = train_preds.detach().numpy()\n",
    "label_np = trainY.numpy()\n",
    "plt.plot(label_np,label = 'Actual')\n",
    "plt.plot(pred_np,label = 'Predicted')\n",
    "plt.title('Plot for train set')\n",
    "plt.legend()\n",
    "plt.show()\n",
    "\n",
    "\n"
   ]
  },
  {
   "cell_type": "markdown",
   "metadata": {
    "id": "OPTjxV0G6g8X"
   },
   "source": [
    "#### **Welcome to Assignment 4 (part-2) on Deep Learning for Computer Vision.**\n",
    "This question consists of two subsection. In subsection-1 you'll have to code a Siamese Network, for subsection-2 you need to go through a official PyTorch tutorial on Object Detection, understand it and answer some questions.\n",
    "  \n",
    "#### **Instructions**\n",
    "1. Use Python 3.x to run this notebook\n",
    "2. Write your code only in between the lines 'YOUR CODE STARTS HERE' and 'YOUR CODE ENDS HERE'.\n",
    "you should not change anything else in the code cells, if you do, the answers you are supposed to get at the end of this assignment might be wrong.\n",
    "3. Read documentation of each function carefully.\n",
    "4. All the Best!"
   ]
  },
  {
   "cell_type": "code",
   "execution_count": 1,
   "metadata": {
    "colab": {
     "base_uri": "https://localhost:8080/"
    },
    "id": "tJwH6jxrqI-5",
    "outputId": "78f5de2a-669b-421a-d25f-4002dbfeda4b"
   },
   "outputs": [
    {
     "name": "stdout",
     "output_type": "stream",
     "text": [
      "--2021-04-01 10:42:47--  http://www.di.ens.fr/~lelarge/MNIST.tar.gz\n",
      "Resolving www.di.ens.fr (www.di.ens.fr)... 129.199.99.14\n",
      "Connecting to www.di.ens.fr (www.di.ens.fr)|129.199.99.14|:80... connected.\n",
      "HTTP request sent, awaiting response... 302 Found\n",
      "Location: https://www.di.ens.fr/~lelarge/MNIST.tar.gz [following]\n",
      "--2021-04-01 10:42:47--  https://www.di.ens.fr/~lelarge/MNIST.tar.gz\n",
      "Connecting to www.di.ens.fr (www.di.ens.fr)|129.199.99.14|:443... connected.\n",
      "HTTP request sent, awaiting response... 200 OK\n",
      "Length: unspecified [application/x-gzip]\n",
      "Saving to: ‘MNIST.tar.gz’\n",
      "\n",
      "MNIST.tar.gz            [             <=>    ]  33.20M  10.7MB/s    in 3.1s    \n",
      "\n",
      "2021-04-01 10:42:51 (10.7 MB/s) - ‘MNIST.tar.gz’ saved [34813078]\n",
      "\n",
      "MNIST/\n",
      "MNIST/raw/\n",
      "MNIST/raw/train-labels-idx1-ubyte\n",
      "MNIST/raw/t10k-labels-idx1-ubyte.gz\n",
      "MNIST/raw/t10k-labels-idx1-ubyte\n",
      "MNIST/raw/t10k-images-idx3-ubyte.gz\n",
      "MNIST/raw/train-images-idx3-ubyte\n",
      "MNIST/raw/train-labels-idx1-ubyte.gz\n",
      "MNIST/raw/t10k-images-idx3-ubyte\n",
      "MNIST/raw/train-images-idx3-ubyte.gz\n",
      "MNIST/processed/\n",
      "MNIST/processed/training.pt\n",
      "MNIST/processed/test.pt\n"
     ]
    }
   ],
   "source": [
    "import numpy as np\n",
    "import torch\n",
    "import torch.nn as nn\n",
    "import torch.optim as optim\n",
    "from torchvision import datasets, transforms\n",
    "import torch.nn.functional as F\n",
    "from torch.utils.data import Dataset\n",
    "from torch.utils.data.sampler import BatchSampler\n",
    "from torch.optim import lr_scheduler\n",
    "from PIL import Image\n",
    "import timeit\n",
    "\n",
    "## Please DONOT remove these lines. \n",
    "torch.manual_seed(0)\n",
    "torch.backends.cudnn.deterministic = True\n",
    "torch.backends.cudnn.benchmark = False\n",
    "np.random.seed(0)\n",
    "########################\n",
    "\n",
    "#### YOUR CODE STARTS HERE ####\n",
    "# Check availability of GPU and set the device accordingly\n",
    "if torch.cuda.is_available():  \n",
    "  dev = \"cuda:0\" \n",
    "else:  \n",
    "  dev = \"cpu\"   \n",
    "\n",
    "device = torch.device(dev)\n",
    "\n",
    "#### YOUR CODE ENDS HERE ####\n",
    "\n",
    "\n",
    "###  For downloading MNIST data\n",
    "!wget www.di.ens.fr/~lelarge/MNIST.tar.gz \n",
    "!tar -zxvf MNIST.tar.gz "
   ]
  },
  {
   "cell_type": "markdown",
   "metadata": {
    "id": "nhSvcqdYqJ6U"
   },
   "source": [
    "#### Prepare the dataset for Siamese Network"
   ]
  },
  {
   "cell_type": "code",
   "execution_count": 13,
   "metadata": {
    "id": "stYbGPoLqzDE"
   },
   "outputs": [],
   "source": [
    "class SiameseDataset(Dataset):\n",
    "    def __init__(self, train=True):\n",
    "        \n",
    "        self.train = train\n",
    "        #### YOUR CODE STARTS HERE ####\n",
    "        # Define a set of transforms for preparing the dataset\n",
    "        \n",
    "        mean = 0;std = 1   #### Choosing a mean and std for transformation..\n",
    "\n",
    "        self.transform = transforms.Compose([transforms.ToTensor(),\n",
    "                                             transforms.Normalize(mean,std)]) \n",
    "                          # convert the image to a pytorch tensor\n",
    "                          # normalise the images with mean and std of the dataset\n",
    "        \n",
    "        # Load the MNIST training, test datasets using `torchvision.datasets.MNIST\n",
    "        # Set the train parameter to self.train and transform parameter to self.transform\n",
    "        self.dataset = datasets.MNIST('./', train= self.train, download=True, transform=self.transform)\n",
    "\n",
    "        #### YOUR CODE ENDS HERE ####\n",
    "        if self.train:\n",
    "            #### YOUR CODE STARTS HERE ####\n",
    "            # assign input (x-values) of training data \n",
    "            self.train_data = self.dataset.data\n",
    "            # assign labels of training data \n",
    "            self.train_labels = self.dataset.targets\n",
    "            # get the set of all the labels in the dataset\n",
    "            self.labels_all = set(self.train_labels.numpy())  ### consists of {0...9\n",
    "            \n",
    "            self.label_to_idx = {} # assign a unique index to all labels in the dataset and store them in a dictionary \n",
    "            for i in self.labels_all:\n",
    "              indices = np.where(self.train_labels == i)[0]\n",
    "              self.label_to_idx[i] = indices\n",
    "            #### YOUR CODE ENDS HERE ####\n",
    "        else:\n",
    "            #### YOUR CODE STARTS HERE ####\n",
    "            # assign input (x-values) of test data \n",
    "            self.test_data = self.dataset.data\n",
    "            # assign labels of test data \n",
    "            self.test_labels = self.dataset.targets\n",
    "            # get the set of all the labels in the dataset\n",
    "            self.labels_all = set(self.test_labels.numpy())  ### consists of {0...9}\n",
    "\n",
    "            self.label_to_idx = {} # assign a unique index to all labels in the dataset and store them in a dictionary \n",
    "            for i in self.labels_all:\n",
    "              indices = np.where(self.test_labels == i)[0]\n",
    "              self.label_to_idx[i] = indices\n",
    "\n",
    "            #### YOUR CODE ENDS HERE ####\n",
    "            # DONOT change this line of code  \n",
    "            random_state = np.random.RandomState(0)\n",
    "\n",
    "            positive_samples = [] # this will be a list of lists\n",
    "            for ind in range(0, len(self.test_data), 2):\n",
    "              positive_samples.append([ind, random_state.choice(self.label_to_idx[self.test_labels[ind].item()]), 1])\n",
    "            \n",
    "            negative_samples = []\n",
    "            for ind in range(1, len(self.test_data), 2):\n",
    "              negative_samples.append([ind, random_state.choice(self.label_to_idx[np.random.choice(\n",
    "                                                           list(self.labels_all - set([self.test_labels[ind].item()])))]), 0])\n",
    "            \n",
    "            # combine both positive and negative samples into a single variable\n",
    "            #### YOUR CODE STARTS HERE ####\n",
    "            self.test_samples = positive_samples + negative_samples\n",
    "            #### YOUR CODE ENDS HERE ####\n",
    "    def __len__(self):\n",
    "        return len(self.dataset)\n",
    "\n",
    "    def __getitem__(self, index):\n",
    "        # get image pair, and the associated label (1 for similar, 0 for dissimilar)\n",
    "        \n",
    "        if self.train:\n",
    "            #### YOUR CODE STARTS HERE ####\n",
    "            # choose if training sample is similar or dissimilar\n",
    "            target = np.random.randint(0, 2)\n",
    "            first_image = self.train_data[index]\n",
    "            # choose two images call them `first_image` and `second_image`\n",
    "            random_state = np.random.RandomState(0)\n",
    "            if target == 1:  ## Similar image\n",
    "              second_image_index = random_state.choice(self.label_to_idx[self.train_labels[index].item()])\n",
    "              second_image = self.train_data[second_image_index]\n",
    "\n",
    "            else :  ## Dissimilar\n",
    "              second_image_index = random_state.choice(self.label_to_idx[np.random.choice(list(self.labels_all - set([self.train_labels[index].item()])))])\n",
    "              second_image = self.train_data[second_image_index]\n",
    "\n",
    "\n",
    "            #### YOUR CODE ENDS HERE ####\n",
    "        else:\n",
    "            #### YOUR CODE STARTS HERE ####\n",
    "            # select two images from self.test_samples, call them `first_image` and `second_image`\n",
    "            first_image = self.test_data[self.test_samples[index][0]]\n",
    "            second_image = self.test_data[self.test_samples[index][1]]\n",
    "            target = self.test_samples[index][2]\n",
    "            #### YOUR CODE ENDS HERE ####\n",
    "        \n",
    "        first_image = Image.fromarray(first_image.numpy(), mode='L')\n",
    "        second_image = Image.fromarray(second_image.numpy(), mode='L')\n",
    "        first_image = self.transform(first_image)\n",
    "        second_image = self.transform(second_image)\n",
    "        return (first_image, second_image), target\n"
   ]
  },
  {
   "cell_type": "code",
   "execution_count": 14,
   "metadata": {
    "id": "9gEE-dEarnvg"
   },
   "outputs": [],
   "source": [
    "class EmbeddingNet(nn.Module):\n",
    "    def __init__(self):\n",
    "        super(EmbeddingNet, self).__init__()\n",
    "        #### YOUR CODE STARTS HERE ####\n",
    "        # Define a sequential block as per the instructions below:\n",
    "        # Build three blocks with each block containing: Conv->PReLU->Maxpool layers\n",
    "        # Three conv layers should have 16, 32, 64 output channels respectively\n",
    "        # Use convolution kernel size 3\n",
    "        # For maxpool use a kernel size of 2 and stride of 2\n",
    "\n",
    "        self.convnet = nn.Sequential(\n",
    "                          ### blk 1\n",
    "                          nn.Conv2d(1,16,kernel_size=3),          ### torch.Size([bs, 16, 26, 26]) \n",
    "                          nn.PReLU(),\n",
    "                          nn.MaxPool2d(kernel_size=2,stride=2),   ### torch.Size([bs, 16, 13, 13])\n",
    "                          ### blk2 \n",
    "                          nn.Conv2d(16,32,kernel_size=3),         ### torch.Size([bs, 16, 11, 11])\n",
    "                          nn.PReLU(),\n",
    "                          nn.MaxPool2d(kernel_size=2,stride=2),   ### torch.Size([bs, 16, 5, 5])\n",
    "                          ### blk3\n",
    "                          nn.Conv2d(32,64,kernel_size=3),\n",
    "                          nn.PReLU(),\n",
    "                          nn.MaxPool2d(kernel_size=2,stride=2),   ###torch.Size([bs, 64, 1, 1])\n",
    "        )\n",
    "\n",
    "\n",
    "        # Define linear->PReLU->linear->PReLU->linear\n",
    "        # The first two linear layers should have 256 and 128 output nodes\n",
    "        # The final FC layer should have 2 nodes\n",
    "        self.fc = nn.Sequential(\n",
    "                    nn.Linear(64*1*1, 256),\n",
    "                    nn.PReLU(),\n",
    "                    nn.Linear(256,128),\n",
    "                    nn.PReLU(),\n",
    "                    nn.Linear(128,2)\n",
    "        )\n",
    "\n",
    "        #### YOUR CODE ENDS HERE ####\n",
    "\n",
    "    def forward(self, x):\n",
    "      #### YOUR CODE STARTS HERE ####\n",
    "        # Define the forward pass, convnet -> fc\n",
    "        output = self.convnet(x)\n",
    "        output = output.view(output.size()[0],-1) ## flattening\n",
    "        output = self.fc(output)\n",
    "        #### YOUR CODE ENDS HERE ####\n",
    "        return output"
   ]
  },
  {
   "cell_type": "code",
   "execution_count": 15,
   "metadata": {
    "id": "JPIClNjsrz78"
   },
   "outputs": [],
   "source": [
    "class SiameseNetwork(nn.Module):\n",
    "    def __init__(self, embedding_net):\n",
    "        super(SiameseNetwork, self).__init__()\n",
    "        self.embedding_net = embedding_net\n",
    "\n",
    "    def forward(self, x1, x2):\n",
    "        # Call the embedding network for both the inputs and return the output\n",
    "        #### YOUR CODE ENDS HERE ####\n",
    "        op1 = self.embedding_net.forward(x1)\n",
    "        op2 = self.embedding_net.forward(x2)\n",
    "        #### YOUR CODE ENDS HERE ####\n",
    "        return op1, op2"
   ]
  },
  {
   "cell_type": "markdown",
   "metadata": {
    "id": "nzlZzVgmM3hC"
   },
   "source": [
    "Pairwise contrastive loss\n",
    "$$\n",
    "L\\left(x_{0}, x_{1}, y\\right)=\\frac{1}{2} y\\left\\|f\\left(x_{0}\\right)-f\\left(x_{1}\\right)\\right\\|_{2}^{2}+\\frac{1}{2}(1-y)\\left\\{\\max (0, m-\\sqrt{\\|f(x_{0})-f(x_{1})\\|_{2}^{2} + \\epsilon)})\\right\\}^{2}\n",
    "$$"
   ]
  },
  {
   "cell_type": "code",
   "execution_count": 42,
   "metadata": {
    "id": "BclsdWZSr4RK"
   },
   "outputs": [],
   "source": [
    "class ContrastiveLossSiamese(nn.Module):\n",
    "\n",
    "    def __init__(self, margin):\n",
    "        super(ContrastiveLossSiamese, self).__init__()\n",
    "        self.margin = margin\n",
    "        self.eps = 1e-9\n",
    "\n",
    "    def forward(self, output1, output2, target):\n",
    "        # Use the equation mentioned above to define the loss\n",
    "        #### YOUR CODE STARTS HERE ####\n",
    "        \n",
    "        \n",
    "\n",
    "        norm = ((output1 - output2)**2).sum(1)    #### sum over dimensions\n",
    "        \n",
    "        loss_1 = 0.5*target*norm\n",
    "        loss_2 = 0.5*(1-target)* ( torch.relu(self.margin - (norm + self.eps)**0.5 ) )**2\n",
    "\n",
    "        loss_value = loss_1 + loss_2\n",
    "        #### YOUR CODE ENDS HERE ####\n",
    "        loss_value = loss_value.mean()\n",
    "\n",
    "        return loss_value"
   ]
  },
  {
   "cell_type": "code",
   "execution_count": 43,
   "metadata": {
    "id": "ZVrUkFLmca1I"
   },
   "outputs": [],
   "source": [
    "def train(model, train_loader, device, optimizer, criterion, epoch):\n",
    "    model.train()\n",
    "    losses = []\n",
    "    total_loss = 0\n",
    "\n",
    "    for batch_idx, (data, target) in enumerate(train_loader):\n",
    "        target = target if len(target) > 0 else None\n",
    "        #### YOUR CODE STARTS HERE ####\n",
    "        # send the image, target to the device\n",
    "        # data is not a single value here,\n",
    "        # ensure datatype of variable `data` is tuple\n",
    "        #data = \n",
    "        data[0],data[1]  = data[0].to(device),data[1].to(device)\n",
    "        target = target.to(device)\n",
    "        # flush out the gradients stored in optimizer\n",
    "        optimizer.zero_grad()\n",
    "        # pass the image to the model and assign the output to variable named outputs\n",
    "        # python star operator will be useful here\n",
    "        # if the datatype of outputs is not a tuple, make it to a tuple\n",
    "        \n",
    "        if(type(data)!= tuple):\n",
    "          data = (*data, )\n",
    "\n",
    "        outputs = model.forward(*data)\n",
    "\n",
    "        # create inputs to the contrastive loss (datatype should be tuple)\n",
    "        # calculate the loss using criterion \n",
    "        loss = criterion(*outputs,target)\n",
    "        # append the loss to losses list and update the total_loss variable\n",
    "        losses.append(loss.item())\n",
    "        total_loss += loss.item()\n",
    "        # do a backward pass\n",
    "        loss.backward()\n",
    "        # update the weights\n",
    "        optimizer.step()\n",
    "        #### YOUR CODE ENDS HERE ####\n",
    "\n",
    "        if batch_idx % 20 == 0:\n",
    "            print('Train Epoch: {} [{}/{} ({:.0f}%)]\\tLoss: {:.6f}'.format(\n",
    "                epoch, batch_idx * len(data[0]), len(train_loader.dataset),\n",
    "                100. * batch_idx / len(train_loader), np.mean(losses)))  \n",
    "    total_loss /= (batch_idx + 1)\n",
    "    print('Average loss on training set: {:.6f}'.format(total_loss))\n",
    "    return total_loss\n",
    "\n",
    "def test(model, test_loader, device, criterion):\n",
    "    model.eval()\n",
    "    test_loss = 0\n",
    "    with torch.no_grad():\n",
    "        for batch_idx, (data, target) in enumerate(test_loader):\n",
    "          target = target if len(target) > 0 else None\n",
    "          #### YOUR CODE STARTS HERE ####\n",
    "          # send the image, target to the device\n",
    "          # data is not a single value here,\n",
    "          # ensure datatype of variable `data` is tuple\n",
    "          #data =\n",
    "\n",
    "          data[0],data[1]  = data[0].to(device),data[1].to(device)\n",
    "          target = target.to(device)\n",
    "          # pass the image to the model and assign the output to variable named outputs\n",
    "          # python star operator will be useful here\n",
    "          # if the datatype of outputs is not a tuple, make it to a tuple\n",
    "          if(type(data)!= tuple):\n",
    "            data = (*data, )\n",
    "          outputs = model.forward(*data)\n",
    "\n",
    "          # create inputs to the contrastive loss\n",
    "          # datatype of target should be tuple\n",
    "          # calculate the loss\n",
    "          loss = criterion(*outputs,target)\n",
    "          # update the test_loss variable\n",
    "          test_loss +=loss.item()\n",
    "\n",
    "          #### YOUR CODE ENDS HERE ####\n",
    "\n",
    "    test_loss /= len(test_loader)\n",
    "    print('Average loss on test set: {:.6f}'.format(test_loss))\n",
    "    return test_loss\n"
   ]
  },
  {
   "cell_type": "code",
   "execution_count": 44,
   "metadata": {
    "id": "aDZAVVWVcAC5"
   },
   "outputs": [],
   "source": [
    "# define the training and test sets\n",
    "# use SiameseDataset\n",
    "train_dataset = SiameseDataset(train = True)\n",
    "test_dataset =  SiameseDataset(train = False)\n",
    "\n",
    "# create dataloaders for training and test datasets\n",
    "# use a batch size of 128 and set shuffle=True for the training set, set num_workers to 2 and pin_memory to True\n",
    "train_dataloader = torch.utils.data.DataLoader(train_dataset, batch_size=128,shuffle=True,num_workers=2,pin_memory=True )\n",
    "test_dataloader = torch.utils.data.DataLoader(test_dataset, batch_size=128,num_workers=2,pin_memory=True )\n",
    "\n",
    "margin = 1.\n",
    "# create a instance of the embedding network and pass it as input to Siamese network\n",
    "embedding_net = EmbeddingNet()\n",
    "model = SiameseNetwork(embedding_net).to(device)\n",
    "# define the contrative loss with the specified margin\n",
    "criterion = ContrastiveLossSiamese(margin).to(device)\n",
    "optimizer = optim.Adam(model.parameters(),lr = 0.01)"
   ]
  },
  {
   "cell_type": "code",
   "execution_count": 46,
   "metadata": {
    "colab": {
     "base_uri": "https://localhost:8080/"
    },
    "id": "CejgunVGzJPK",
    "outputId": "d5e7a753-9d44-477c-ea3e-700250bcf965"
   },
   "outputs": [
    {
     "name": "stdout",
     "output_type": "stream",
     "text": [
      "Train Epoch: 1 [0/60000 (0%)]\tLoss: 0.055305\n",
      "Train Epoch: 1 [2560/60000 (4%)]\tLoss: 0.037061\n",
      "Train Epoch: 1 [5120/60000 (9%)]\tLoss: 0.037326\n",
      "Train Epoch: 1 [7680/60000 (13%)]\tLoss: 0.037072\n",
      "Train Epoch: 1 [10240/60000 (17%)]\tLoss: 0.036853\n",
      "Train Epoch: 1 [12800/60000 (21%)]\tLoss: 0.036722\n",
      "Train Epoch: 1 [15360/60000 (26%)]\tLoss: 0.036758\n",
      "Train Epoch: 1 [17920/60000 (30%)]\tLoss: 0.036490\n",
      "Train Epoch: 1 [20480/60000 (34%)]\tLoss: 0.036596\n",
      "Train Epoch: 1 [23040/60000 (38%)]\tLoss: 0.036640\n",
      "Train Epoch: 1 [25600/60000 (43%)]\tLoss: 0.036180\n",
      "Train Epoch: 1 [28160/60000 (47%)]\tLoss: 0.036016\n",
      "Train Epoch: 1 [30720/60000 (51%)]\tLoss: 0.035500\n",
      "Train Epoch: 1 [33280/60000 (55%)]\tLoss: 0.035309\n",
      "Train Epoch: 1 [35840/60000 (60%)]\tLoss: 0.034994\n",
      "Train Epoch: 1 [38400/60000 (64%)]\tLoss: 0.034541\n",
      "Train Epoch: 1 [40960/60000 (68%)]\tLoss: 0.034279\n",
      "Train Epoch: 1 [43520/60000 (72%)]\tLoss: 0.033993\n",
      "Train Epoch: 1 [46080/60000 (77%)]\tLoss: 0.033847\n",
      "Train Epoch: 1 [48640/60000 (81%)]\tLoss: 0.033601\n",
      "Train Epoch: 1 [51200/60000 (85%)]\tLoss: 0.033339\n",
      "Train Epoch: 1 [53760/60000 (90%)]\tLoss: 0.033220\n",
      "Train Epoch: 1 [56320/60000 (94%)]\tLoss: 0.033082\n",
      "Train Epoch: 1 [58880/60000 (98%)]\tLoss: 0.032922\n",
      "Average loss on training set: 0.032928\n",
      "Average loss on test set: 0.042291\n",
      "Train Epoch: 2 [0/60000 (0%)]\tLoss: 0.034135\n",
      "Train Epoch: 2 [2560/60000 (4%)]\tLoss: 0.027738\n",
      "Train Epoch: 2 [5120/60000 (9%)]\tLoss: 0.027339\n",
      "Train Epoch: 2 [7680/60000 (13%)]\tLoss: 0.027072\n",
      "Train Epoch: 2 [10240/60000 (17%)]\tLoss: 0.027058\n",
      "Train Epoch: 2 [12800/60000 (21%)]\tLoss: 0.027792\n",
      "Train Epoch: 2 [15360/60000 (26%)]\tLoss: 0.027462\n",
      "Train Epoch: 2 [17920/60000 (30%)]\tLoss: 0.027322\n",
      "Train Epoch: 2 [20480/60000 (34%)]\tLoss: 0.027663\n",
      "Train Epoch: 2 [23040/60000 (38%)]\tLoss: 0.027448\n",
      "Train Epoch: 2 [25600/60000 (43%)]\tLoss: 0.027321\n",
      "Train Epoch: 2 [28160/60000 (47%)]\tLoss: 0.027591\n",
      "Train Epoch: 2 [30720/60000 (51%)]\tLoss: 0.027571\n",
      "Train Epoch: 2 [33280/60000 (55%)]\tLoss: 0.027421\n",
      "Train Epoch: 2 [35840/60000 (60%)]\tLoss: 0.027652\n",
      "Train Epoch: 2 [38400/60000 (64%)]\tLoss: 0.027545\n",
      "Train Epoch: 2 [40960/60000 (68%)]\tLoss: 0.027528\n",
      "Train Epoch: 2 [43520/60000 (72%)]\tLoss: 0.027527\n",
      "Train Epoch: 2 [46080/60000 (77%)]\tLoss: 0.027524\n",
      "Train Epoch: 2 [48640/60000 (81%)]\tLoss: 0.027485\n",
      "Train Epoch: 2 [51200/60000 (85%)]\tLoss: 0.027560\n",
      "Train Epoch: 2 [53760/60000 (90%)]\tLoss: 0.027469\n",
      "Train Epoch: 2 [56320/60000 (94%)]\tLoss: 0.027482\n",
      "Train Epoch: 2 [58880/60000 (98%)]\tLoss: 0.027447\n",
      "Average loss on training set: 0.027481\n",
      "Average loss on test set: 0.036039\n",
      "Train Epoch: 3 [0/60000 (0%)]\tLoss: 0.023770\n",
      "Train Epoch: 3 [2560/60000 (4%)]\tLoss: 0.024305\n",
      "Train Epoch: 3 [5120/60000 (9%)]\tLoss: 0.024148\n",
      "Train Epoch: 3 [7680/60000 (13%)]\tLoss: 0.024463\n",
      "Train Epoch: 3 [10240/60000 (17%)]\tLoss: 0.024493\n",
      "Train Epoch: 3 [12800/60000 (21%)]\tLoss: 0.024818\n",
      "Train Epoch: 3 [15360/60000 (26%)]\tLoss: 0.024762\n",
      "Train Epoch: 3 [17920/60000 (30%)]\tLoss: 0.024757\n",
      "Train Epoch: 3 [20480/60000 (34%)]\tLoss: 0.024870\n",
      "Train Epoch: 3 [23040/60000 (38%)]\tLoss: 0.024918\n",
      "Train Epoch: 3 [25600/60000 (43%)]\tLoss: 0.024946\n",
      "Train Epoch: 3 [28160/60000 (47%)]\tLoss: 0.024954\n",
      "Train Epoch: 3 [30720/60000 (51%)]\tLoss: 0.025200\n",
      "Train Epoch: 3 [33280/60000 (55%)]\tLoss: 0.025251\n",
      "Train Epoch: 3 [35840/60000 (60%)]\tLoss: 0.025416\n",
      "Train Epoch: 3 [38400/60000 (64%)]\tLoss: 0.025772\n",
      "Train Epoch: 3 [40960/60000 (68%)]\tLoss: 0.025846\n",
      "Train Epoch: 3 [43520/60000 (72%)]\tLoss: 0.025829\n",
      "Train Epoch: 3 [46080/60000 (77%)]\tLoss: 0.025782\n",
      "Train Epoch: 3 [48640/60000 (81%)]\tLoss: 0.025842\n",
      "Train Epoch: 3 [51200/60000 (85%)]\tLoss: 0.025790\n",
      "Train Epoch: 3 [53760/60000 (90%)]\tLoss: 0.025689\n",
      "Train Epoch: 3 [56320/60000 (94%)]\tLoss: 0.025610\n",
      "Train Epoch: 3 [58880/60000 (98%)]\tLoss: 0.025523\n",
      "Average loss on training set: 0.025430\n",
      "Average loss on test set: 0.035275\n",
      "Train Epoch: 4 [0/60000 (0%)]\tLoss: 0.025096\n",
      "Train Epoch: 4 [2560/60000 (4%)]\tLoss: 0.022058\n",
      "Train Epoch: 4 [5120/60000 (9%)]\tLoss: 0.022132\n",
      "Train Epoch: 4 [7680/60000 (13%)]\tLoss: 0.022539\n",
      "Train Epoch: 4 [10240/60000 (17%)]\tLoss: 0.022990\n",
      "Train Epoch: 4 [12800/60000 (21%)]\tLoss: 0.022811\n",
      "Train Epoch: 4 [15360/60000 (26%)]\tLoss: 0.022840\n",
      "Train Epoch: 4 [17920/60000 (30%)]\tLoss: 0.022836\n",
      "Train Epoch: 4 [20480/60000 (34%)]\tLoss: 0.022825\n",
      "Train Epoch: 4 [23040/60000 (38%)]\tLoss: 0.023014\n",
      "Train Epoch: 4 [25600/60000 (43%)]\tLoss: 0.023064\n",
      "Train Epoch: 4 [28160/60000 (47%)]\tLoss: 0.023101\n",
      "Train Epoch: 4 [30720/60000 (51%)]\tLoss: 0.022911\n",
      "Train Epoch: 4 [33280/60000 (55%)]\tLoss: 0.023000\n",
      "Train Epoch: 4 [35840/60000 (60%)]\tLoss: 0.022946\n",
      "Train Epoch: 4 [38400/60000 (64%)]\tLoss: 0.023035\n",
      "Train Epoch: 4 [40960/60000 (68%)]\tLoss: 0.022898\n",
      "Train Epoch: 4 [43520/60000 (72%)]\tLoss: 0.022981\n",
      "Train Epoch: 4 [46080/60000 (77%)]\tLoss: 0.022955\n",
      "Train Epoch: 4 [48640/60000 (81%)]\tLoss: 0.022787\n",
      "Train Epoch: 4 [51200/60000 (85%)]\tLoss: 0.022624\n",
      "Train Epoch: 4 [53760/60000 (90%)]\tLoss: 0.022565\n",
      "Train Epoch: 4 [56320/60000 (94%)]\tLoss: 0.022588\n",
      "Train Epoch: 4 [58880/60000 (98%)]\tLoss: 0.022712\n",
      "Average loss on training set: 0.022737\n",
      "Average loss on test set: 0.046091\n",
      "Train Epoch: 5 [0/60000 (0%)]\tLoss: 0.026756\n",
      "Train Epoch: 5 [2560/60000 (4%)]\tLoss: 0.023434\n",
      "Train Epoch: 5 [5120/60000 (9%)]\tLoss: 0.022701\n",
      "Train Epoch: 5 [7680/60000 (13%)]\tLoss: 0.022709\n",
      "Train Epoch: 5 [10240/60000 (17%)]\tLoss: 0.022734\n",
      "Train Epoch: 5 [12800/60000 (21%)]\tLoss: 0.022856\n",
      "Train Epoch: 5 [15360/60000 (26%)]\tLoss: 0.022660\n",
      "Train Epoch: 5 [17920/60000 (30%)]\tLoss: 0.022643\n",
      "Train Epoch: 5 [20480/60000 (34%)]\tLoss: 0.022442\n",
      "Train Epoch: 5 [23040/60000 (38%)]\tLoss: 0.022290\n",
      "Train Epoch: 5 [25600/60000 (43%)]\tLoss: 0.022315\n",
      "Train Epoch: 5 [28160/60000 (47%)]\tLoss: 0.022264\n",
      "Train Epoch: 5 [30720/60000 (51%)]\tLoss: 0.022264\n",
      "Train Epoch: 5 [33280/60000 (55%)]\tLoss: 0.022303\n",
      "Train Epoch: 5 [35840/60000 (60%)]\tLoss: 0.022198\n",
      "Train Epoch: 5 [38400/60000 (64%)]\tLoss: 0.022102\n",
      "Train Epoch: 5 [40960/60000 (68%)]\tLoss: 0.022012\n",
      "Train Epoch: 5 [43520/60000 (72%)]\tLoss: 0.022112\n",
      "Train Epoch: 5 [46080/60000 (77%)]\tLoss: 0.022148\n",
      "Train Epoch: 5 [48640/60000 (81%)]\tLoss: 0.022084\n",
      "Train Epoch: 5 [51200/60000 (85%)]\tLoss: 0.021932\n",
      "Train Epoch: 5 [53760/60000 (90%)]\tLoss: 0.021964\n",
      "Train Epoch: 5 [56320/60000 (94%)]\tLoss: 0.021956\n",
      "Train Epoch: 5 [58880/60000 (98%)]\tLoss: 0.021937\n",
      "Average loss on training set: 0.021922\n",
      "Average loss on test set: 0.033002\n",
      "Total time taken: 157 seconds\n"
     ]
    }
   ],
   "source": [
    "start = timeit.default_timer()\n",
    "\n",
    "\n",
    "epochs = 5\n",
    "e = np.arange(1,epochs + 1)\n",
    "train_loss = np.zeros(e.shape)\n",
    "test_loss = np.zeros(e.shape)\n",
    "\n",
    "for epoch in e:\n",
    "  train_loss[epoch-1] = train(model, train_dataloader, device, optimizer, criterion, epoch)\n",
    "  test_loss[epoch-1] = test(model, test_dataloader, device, criterion)\n",
    "\n",
    "stop = timeit.default_timer()\n",
    "print('Total time taken: {} seconds'.format(int(stop - start)) )"
   ]
  },
  {
   "cell_type": "markdown",
   "metadata": {
    "id": "5S0vb38a_o_r"
   },
   "source": [
    "### Question 4\n",
    "\n",
    "Run the code cell above and plot(on the same graph) the average train and test losses w.r.t epochs trained."
   ]
  },
  {
   "cell_type": "code",
   "execution_count": 47,
   "metadata": {
    "colab": {
     "base_uri": "https://localhost:8080/",
     "height": 295
    },
    "id": "vpBWlCMwDN6I",
    "outputId": "6ea88fea-6ca6-488c-a816-a0d13d6a00eb"
   },
   "outputs": [
    {
     "data": {
      "image/png": "[encoded data removed]",
      "text/plain": [
       "<Figure size 432x288 with 1 Axes>"
      ]
     },
     "metadata": {
      "needs_background": "light",
      "tags": []
     },
     "output_type": "display_data"
    }
   ],
   "source": [
    "### Plotting train and test losses\n",
    "import matplotlib.pyplot as plt\n",
    "\n",
    "plt.plot(e,train_loss,label = 'train loss')\n",
    "plt.plot(e,test_loss,label = 'test loss')\n",
    "plt.legend()\n",
    "plt.xlabel('epoch')\n",
    "plt.ylabel('loss')\n",
    "plt.title('Avg. losses vs epoch')\n",
    "plt.show()"
   ]
  },
  {
   "cell_type": "markdown",
   "metadata": {
    "id": "vgyN14PN5npM"
   },
   "source": [
    "### Question 5\n",
    "\n",
    "We have looked at training a Siamese Network with a pairwise contrastive loss. How would you modify the architecture above to use a triplet loss? The triplet loss is a ranking loss that uses image triplets consisting of an anchor $x_a$, a positive sample(similar to the anchor image) $x_p$ and a negative sample(dissimilar to the anchor image) $x_n$. Given triplet $(x_a, x_p, x_n)$ the teiplet loss is:\n",
    "\n",
    "$$\n",
    "L\\left(x_{a}, x_{p}, x_{n}\\right)=\\max \\left(0, m + \\|f(x_{a})-f(x_{p})\\|_{2}^{2} - \\|f(x_{a})-f(x_{n})\\|_{2}^{2}\\right)\n",
    "$$\n",
    "\n",
    "1. Write the dataloader to get triplets.\n",
    "2. Write code for class TripletLossSiamese. (the triplet loss)\n",
    "3. Describe in words how would you modify the network architecture to train it with a triplet loss."
   ]
  },
  {
   "cell_type": "code",
   "execution_count": null,
   "metadata": {
    "id": "s1UhDPNO5npM"
   },
   "outputs": [],
   "source": [
    "# Question 2.1, dataloader for triplets\n",
    "class TripletDataset(Dataset):\n",
    "    def __init__(self, train=True):\n",
    "        \n",
    "        self.train = train\n",
    "        #### YOUR CODE STARTS HERE ####\n",
    "        # Define a set of transforms for preparing the dataset\n",
    "\n",
    "        mean,std = 0,1\n",
    "        self.transform = transforms.Compose([transforms.ToTensor(),\n",
    "                                             transforms.Normalize(mean,std)]) \n",
    "         # convert the image to a pytorch tensor\n",
    "                          # normalise the images with mean and std of the dataset\n",
    "        \n",
    "        # Load the MNIST training, test datasets using `torchvision.datasets.MNIST\n",
    "        # Set the train parameter to self.train and transform parameter to self.transform\n",
    "        self.dataset = datasets.MNIST('./', train= self.train, download=True, transform=self.transform)\n",
    "\n",
    "        #### YOUR CODE ENDS HERE ####\n",
    "        if self.train:\n",
    "            #### YOUR CODE STARTS HERE ####\n",
    "            # assign input (x-values) of training data \n",
    "            self.train_data = self.dataset.data\n",
    "            # assign labels of training data \n",
    "            self.train_labels = self.dataset.targets\n",
    "            # get the set of all the labels in the dataset\n",
    "            self.labels_all = set(self.train_labels.numpy())  ### consists of {0...9}\n",
    "            self.label_to_idx = {} # assign a unique index to all labels in the dataset and store them in a dictionary \n",
    "\n",
    "            for i in self.labels_all:\n",
    "              indices = np.where(self.train_labels == i)[0]\n",
    "              self.label_to_idx[i] = indices\n",
    "            #### YOUR CODE ENDS HERE ####\n",
    "        else:\n",
    "            #### YOUR CODE STARTS HERE ####\n",
    "            # assign input (x-values) of test data \n",
    "            self.test_data = self.dataset.data\n",
    "            # assign labels of test data \n",
    "            self.test_labels = self.dataset.targets\n",
    "            # get the set of all the labels in the dataset\n",
    "            self.labels_all = set(self.test_labels.numpy())  ### consists of {0...9}\n",
    "            self.label_to_idx = {} # assign a unique index to all labels in the dataset and store them in a dictionary \n",
    "            for i in self.labels_all:\n",
    "              indices = np.where(self.test_labels == i)[0]\n",
    "              self.label_to_idx[i] = indices\n",
    "\n",
    "            #### YOUR CODE ENDS HERE ####\n",
    "            # DONOT change this line of code  \n",
    "            random_state = np.random.RandomState(0)\n",
    "            triplets = [] #this will be list of lists\n",
    "            for i in range(len(self.test_data)):\n",
    "                triplets.append([i, random_state.choice(self.label_to_idx[self.test_labels[i].item()]),\n",
    "                 random_state.choice(self.label_to_idx[np.random.choice(list(self.labels_all - set([self.test_labels[i].item()])))])\n",
    "                                ])\n",
    "            self.test_samples = triplets\n",
    "\n",
    "           \n",
    "    def __len__(self):\n",
    "        return len(self.dataset)\n",
    "\n",
    "    def __getitem__(self, index):\n",
    "        # get image triplet\n",
    "        if self.train:\n",
    "            anchor, anchor_label = self.train_data[index], self.train_labels[index].item()\n",
    "            #### YOUR CODE STARTS HERE ####\n",
    "            #choose positive and negative image call them `positive` and `negative` respectively\n",
    "            positive = self.train_data[random_state.choice(self.label_to_idx[anchor_label])]\n",
    "            negative = self.train_data[random_state.choice(self.label_to_idx[np.random.choice(list(self.labels_all - set([anchor_label])))])]\n",
    "            #### YOUR CODE ENDS HERE ####\n",
    "        else:\n",
    "            #### YOUR CODE STARTS HERE ####\n",
    "            # select three images from self.test_samples\n",
    "            anchor = self.test_data[self.test_samples[index][0]]\n",
    "            positive = self.test_data[self.test_samples[index][1]]\n",
    "            negative = self.test_data[self.test_samples[index][2]]\n",
    "            #### YOUR CODE ENDS HERE ####\n",
    "        \n",
    "        anchor = Image.fromarray(anchor.numpy(), mode='L')\n",
    "        positive = Image.fromarray(positive.numpy(), mode='L')\n",
    "        negative = Image.fromarray(negative.numpy(), mode='L')\n",
    "        anchor = self.transform(anchor)\n",
    "        positive = self.transform(positive)\n",
    "        negative = self.transform(negative)\n",
    "        return (anchor, positive, negative), []"
   ]
  },
  {
   "cell_type": "code",
   "execution_count": 49,
   "metadata": {
    "id": "Yz-LGiJN5npM"
   },
   "outputs": [],
   "source": [
    "# Question 2.2, define triplet loss\n",
    "class TripletLossSiamese(nn.Module):\n",
    "\n",
    "    def __init__(self, margin):\n",
    "        super(TripletLossSiamese, self).__init__()\n",
    "        self.margin = margin\n",
    "\n",
    "    def forward(self, output_anchor, output_positive, output_negative):\n",
    "        # Use the triplet loss equation mentioned above to define the loss\n",
    "        #### YOUR CODE STARTS HERE ####\n",
    "        norm_ap = ((output_anchor - output_positive)**2).sum(1) \n",
    "        norm_an = ((output_anchor - output_negative)**2).sum(1) \n",
    "\n",
    "        loss_value = torch.relu(self.margin + norm_ap - norm_an)\n",
    "        #### YOUR CODE ENDS HERE ####\n",
    "        loss_value = loss_value.mean()\n",
    "\n",
    "        return loss_value"
   ]
  },
  {
   "cell_type": "markdown",
   "metadata": {
    "id": "EaYbNylmJynu"
   },
   "source": [
    "## Answer :  Required Modification in the network for Triplet loss : \n",
    "\n",
    "Here an input consists of anchor , positive image and a negative image , and respective outputs(embeddings) are expected.\n",
    "\n",
    "Hence the forward function of the Siamese net\n",
    "should take in xa,xp,xn as input arguments and forward each input  through the model and return 3 embeddings for respective inputs.\n",
    "\n",
    "These embeddings will be used to compute the triplet loss.\n",
    "\n"
   ]
  },
  {
   "cell_type": "markdown",
   "metadata": {
    "id": "6oP275cQFPvA"
   },
   "source": [
    "## Object Detection\n",
    "\n",
    "Go through the [Torchvision Object Detection Tutorial](https://pytorch.org/tutorials/intermediate/torchvision_tutorial.html) and ensure you understand the tutorial completely!\n",
    "\n",
    "After you have completely gone through the tutorial answer the following questions!"
   ]
  },
  {
   "cell_type": "markdown",
   "metadata": {
    "id": "LtaG0iORIXid"
   },
   "source": [
    "### Question 6\n",
    "\n",
    "Consider the metrics `AP@IoU=0.5` and `AP@IoU=0.75` used in the tutorial. Which of the following statements is True?  \n",
    "\n",
    "1. `IoU@0.75` will always be less than `IoU@0.5`\n",
    "2. `IoU@0.75` will always be  greater than `IoU@0.5` \n",
    "3. `IoU@0.75` need not be always be less than `IoU@0.5`\n",
    "4. `IoU@0.75` need not always be  greater than `IoU@0.5` "
   ]
  },
  {
   "cell_type": "markdown",
   "metadata": {
    "id": "rqJYzvquJR2j"
   },
   "source": [
    " Option 3 and 4 are True\n",
    "\n",
    " AP can be equal for both IoU = 0.5 and IoU = 0.75\n",
    "\n",
    " This happens when the the ground truth is actually through IoU>=0.5 . Then the labels will be same in both the cases .hence results in equal AP"
   ]
  },
  {
   "cell_type": "markdown",
   "metadata": {
    "id": "n9yyqsuyPAMv"
   },
   "source": [
    "### Question 7\n",
    "\n",
    "Tutorial uses a network that is pre-trained on COCO dataset. Will training this model from scratch improve the performance? Provide justification for your answer. (Hint: You don't really have to re-train the model for this)"
   ]
  },
  {
   "cell_type": "markdown",
   "metadata": {
    "id": "nFkjfb3mNq8j"
   },
   "source": [
    "##No.\n",
    " A scratch model trained on the available dataset cannot improve performance . It might actally perform worse than pretrained.\n",
    "\n",
    "Justification : \n",
    "\n",
    "\n",
    "1.   The pretrained model has been trained on COCO dataset which has around 200k+ images with more than 2M instances . Human instances are abundant in that dataset , hence the pretrained model is trained on way more samples of humans/pedestrians .\n",
    "\n",
    "2.   But for training from scratch , our dataset has only 170 images with just over 345 instances , which is very very less.\n",
    "\n",
    "3. Since DL models are seen as data-hungry models , if we train the model with just this small data for more epochs .. this leads to overfitting of the model.\n",
    "\n",
    "4. It might not do well when exposed to unseen images.\n",
    "\n",
    "Therefore a pretrained model is always a goto option when there is scarcity of data . This is called as Transfer learning.\n",
    "\n"
   ]
  },
  {
   "cell_type": "markdown",
   "metadata": {
    "id": "71DVEZQf5hr8"
   },
   "source": [
    "### Question 8\n",
    "\n",
    "Write code to calculate IoU between aligned predicted bounding-boxes bbox_p and ground-truth bounding-boxes bbox_gt. Assume a co-ordinate system that has origin (0,0) at the upper-left corner of the image, and to the  right and down are +ve directions of x-axis and y-axis respectively."
   ]
  },
  {
   "cell_type": "markdown",
   "metadata": {
    "id": "Ds-SEyRqPprt"
   },
   "source": [
    "## Note : \n",
    "\n",
    "### I have considered inclusiveness while finding area. \n",
    "\n",
    "Meaning : distance between (0,0)-->(2,0) is 3 pixels."
   ]
  },
  {
   "cell_type": "code",
   "execution_count": 51,
   "metadata": {
    "id": "rngaSEln5npN"
   },
   "outputs": [],
   "source": [
    "\n",
    "\n",
    "\n",
    "def single_iou(p,g):                                                            ### Utility function\n",
    "\n",
    "  [x1,y1,x2,y2] = p\n",
    "  [x3,y3,x4,y4] = g\n",
    "\n",
    "  if (x2 < x3 or x4 < x1 or y2 < y3 or y4 < y1):\n",
    "    iou = 0\n",
    "  else : \n",
    "    x_a,_ = torch.sort(torch.tensor([x1,x2,x3,x4]))\n",
    "    y_a,_ = torch.sort(torch.tensor([y1,y2,y3,y4]))\n",
    "\n",
    "    intersection = (x_a[2] - x_a[1] + 1)*(y_a[2] - y_a[1] + 1)\n",
    "    union = (x2-x1 + 1)*(y2- y1 + 1) + (x4-x3 + 1)*(y4- y3 + 1) - intersection\n",
    "    iou = intersection/union\n",
    "\n",
    "  return iou\n",
    "\n",
    "\n",
    "\n",
    "def calculate_iou(bbox_p, bbox_gt):\n",
    "    #input: bbox_p and bbox_gt are (N,4) tensors\n",
    "    #output: ious (N,) vector\n",
    "    N = bbox_p.size(0)\n",
    "    ious = np.zeros((N,))\n",
    "    #### YOUR CODE STARTS HERE ####\n",
    "    # write code to compute the IoU between the bounding boxes\n",
    "    for i in range(bbox_p.shape[0]):\n",
    "      p = bbox_p[i]\n",
    "      g = bbox_g[i]\n",
    "      ious[i] = single_iou(p,g)                                     ### returns iou for one pair of bboxes \n",
    "    #### YOUR CODE ENDS HERE ####\n",
    "    \n",
    "    return ious"
   ]
  },
  {
   "cell_type": "markdown",
   "metadata": {
    "id": "jR10OiXy6SkR"
   },
   "source": [
    "# Example for above function"
   ]
  },
  {
   "cell_type": "code",
   "execution_count": 52,
   "metadata": {
    "colab": {
     "base_uri": "https://localhost:8080/"
    },
    "id": "3_qFgg_5PfBn",
    "outputId": "5f0c5442-38de-4caf-9762-8f16b60c41bf"
   },
   "outputs": [
    {
     "name": "stdout",
     "output_type": "stream",
     "text": [
      "[0.44444445 0.14285715 0.        ]\n"
     ]
    }
   ],
   "source": [
    "import numpy as np\n",
    "import torch\n",
    "bbox_p = torch.tensor([[0,0,2,2],[1,1,2,2],[0,0,2,2]])\n",
    "bbox_g = torch.tensor([[0,0,1,1],[2,2,3,3],[3,3,4,4]])\n",
    "\n",
    "print(calculate_iou(bbox_p,bbox_g))"
   ]
  }
 ],
 "metadata": {
  "accelerator": "GPU",
  "colab": {
   "collapsed_sections": [],
   "name": "Assingment_4.ipynb",
   "provenance": []
  },
  "kernelspec": {
   "display_name": "Python 3",
   "language": "python",
   "name": "python3"
  },
  "language_info": {
   "codemirror_mode": {
    "name": "ipython",
    "version": 3
   },
   "file_extension": ".py",
   "mimetype": "text/x-python",
   "name": "python",
   "nbconvert_exporter": "python",
   "pygments_lexer": "ipython3",
   "version": "3.7.7"
  }
 },
 "nbformat": 4,
 "nbformat_minor": 1
}
