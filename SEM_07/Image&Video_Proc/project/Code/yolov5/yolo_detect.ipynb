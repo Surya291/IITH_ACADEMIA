{
 "cells": [
  {
   "cell_type": "code",
   "execution_count": 2,
   "metadata": {},
   "outputs": [],
   "source": [
    "import argparse\n",
    "import sys\n",
    "from pathlib import Path\n",
    "\n",
    "import cv2\n",
    "import numpy as np\n",
    "import torch\n",
    "import torch.backends.cudnn as cudnn\n",
    "import matplotlib.pyplot as plt\n",
    "%matplotlib inline \n",
    "\n",
    "from models.experimental import attempt_load\n",
    "from utils.datasets import LoadImages, LoadStreams\n",
    "from utils.general import apply_classifier, check_img_size, check_imshow, check_requirements, check_suffix, colorstr, \\\n",
    "    increment_path, non_max_suppression, print_args, save_one_box, scale_coords, set_logging, \\\n",
    "    strip_optimizer, xyxy2xywh\n",
    "from utils.plots import Annotator, colors\n",
    "from utils.torch_utils import load_classifier, select_device, time_sync"
   ]
  },
  {
   "cell_type": "code",
   "execution_count": 3,
   "metadata": {},
   "outputs": [],
   "source": [
    "wout_head_dir = '/home/surya/Desktop/Lending_Kat/test_dir/jpg_files/MDSD-2018'"
   ]
  },
  {
   "cell_type": "code",
   "execution_count": 4,
   "metadata": {},
   "outputs": [
    {
     "name": "stdout",
     "output_type": "stream",
     "text": [
      "/home/surya/Desktop/Lending_Kat/Code/yolov5\r\n"
     ]
    }
   ],
   "source": [
    "!pwd"
   ]
  },
  {
   "cell_type": "code",
   "execution_count": 5,
   "metadata": {},
   "outputs": [
    {
     "name": "stdout",
     "output_type": "stream",
     "text": [
      ".\n"
     ]
    }
   ],
   "source": [
    "FILE = Path('/home/surya/Desktop/Lending_Kat/Code/yolov5/yolo_detect.ipynb').resolve()\n",
    "ROOT = FILE.parents[0]  # YOLOv5 root directory\n",
    "if str(ROOT) not in sys.path:\n",
    "    sys.path.append(str(ROOT))  # add ROOT to PATH\n",
    "ROOT = ROOT.relative_to(Path.cwd())  # relative\n",
    "\n",
    "print(ROOT)"
   ]
  },
  {
   "cell_type": "code",
   "execution_count": 6,
   "metadata": {},
   "outputs": [],
   "source": [
    "def parse_opt():\n",
    "    parser = argparse.ArgumentParser()\n",
    "    parser.add_argument('--weights', nargs='+', type=str, default=ROOT / 'yolov5s.pt', help='model path(s)')\n",
    "    parser.add_argument('--source', type=str, default=ROOT / 'data/images', help='file/dir/URL/glob, 0 for webcam')\n",
    "    parser.add_argument('--imgsz', '--img', '--img-size', nargs='+', type=int, default=[640], help='inference size h,w')\n",
    "    parser.add_argument('--conf-thres', type=float, default=0.25, help='confidence threshold')\n",
    "    parser.add_argument('--iou-thres', type=float, default=0.45, help='NMS IoU threshold')\n",
    "    parser.add_argument('--max-det', type=int, default=1000, help='maximum detections per image')\n",
    "    parser.add_argument('--device', default='', help='cuda device, i.e. 0 or 0,1,2,3 or cpu')\n",
    "    parser.add_argument('--view-img', action='store_true', help='show results')\n",
    "    parser.add_argument('--save-txt', action='store_true', help='save results to *.txt')\n",
    "    parser.add_argument('--save-conf', action='store_true', help='save confidences in --save-txt labels')\n",
    "    parser.add_argument('--save-crop', action='store_true', help='save cropped prediction boxes')\n",
    "    parser.add_argument('--nosave', action='store_true', help='do not save images/videos')\n",
    "    parser.add_argument('--classes', nargs='+', type=int, help='filter by class: --classes 0, or --classes 0 2 3')\n",
    "    parser.add_argument('--agnostic-nms', action='store_true', help='class-agnostic NMS')\n",
    "    parser.add_argument('--augment', action='store_true', help='augmented inference')\n",
    "    parser.add_argument('--visualize', action='store_true', help='visualize features')\n",
    "    parser.add_argument('--update', action='store_true', help='update all models')\n",
    "    parser.add_argument('--project', default=ROOT / 'runs/detect', help='save results to project/name')\n",
    "    parser.add_argument('--name', default='exp', help='save results to project/name')\n",
    "    parser.add_argument('--exist-ok', action='store_true', help='existing project/name ok, do not increment')\n",
    "    parser.add_argument('--line-thickness', default=3, type=int, help='bounding box thickness (pixels)')\n",
    "    parser.add_argument('--hide-labels', default=False, action='store_true', help='hide labels')\n",
    "    parser.add_argument('--hide-conf', default=False, action='store_true', help='hide confidences')\n",
    "    parser.add_argument('--half', action='store_true', help='use FP16 half-precision inference')\n",
    "    opt = parser.parse_args()\n",
    "    opt.imgsz *= 2 if len(opt.imgsz) == 1 else 1  # expand\n",
    "    print_args(FILE.stem, opt)\n",
    "    return opt\n",
    "\n",
    "\n"
   ]
  },
  {
   "cell_type": "code",
   "execution_count": null,
   "metadata": {},
   "outputs": [],
   "source": []
  },
  {
   "cell_type": "code",
   "execution_count": 7,
   "metadata": {},
   "outputs": [
    {
     "name": "stdout",
     "output_type": "stream",
     "text": [
      "wout_head12.jpg\n",
      "/home/surya/Desktop/Lending_Kat/test_dir/jpg_files_resized/MDSD-2018/wout_head12.jpg\n",
      "wout_head6.jpg\n",
      "/home/surya/Desktop/Lending_Kat/test_dir/jpg_files_resized/MDSD-2018/wout_head6.jpg\n",
      "wout_head2.jpg\n",
      "/home/surya/Desktop/Lending_Kat/test_dir/jpg_files_resized/MDSD-2018/wout_head2.jpg\n",
      "wout_head10.jpg\n",
      "/home/surya/Desktop/Lending_Kat/test_dir/jpg_files_resized/MDSD-2018/wout_head10.jpg\n",
      "wout_head4.jpg\n",
      "/home/surya/Desktop/Lending_Kat/test_dir/jpg_files_resized/MDSD-2018/wout_head4.jpg\n",
      "wout_head0.jpg\n",
      "/home/surya/Desktop/Lending_Kat/test_dir/jpg_files_resized/MDSD-2018/wout_head0.jpg\n",
      "wout_head8.jpg\n",
      "/home/surya/Desktop/Lending_Kat/test_dir/jpg_files_resized/MDSD-2018/wout_head8.jpg\n"
     ]
    }
   ],
   "source": [
    "import cv2\n",
    "import os\n",
    "\n",
    "base_dir = '/home/surya/Desktop/Lending_Kat/test_dir/jpg_files/MDSD-2018/'\n",
    "save_dir = '/home/surya/Desktop/Lending_Kat/test_dir/jpg_files_resized/MDSD-2018/'\n",
    "\n",
    "def resize2yolo(base_dir, save_dir, max_height = 640, max_width = 512):\n",
    "    if(not(os.path.isdir(save_dir)) ):\n",
    "       os.mkdir(save_dir) ### Creating a dir with parsed images\n",
    "\n",
    "    for filename in os.listdir(base_dir):\n",
    "        if filename.endswith(\".jpg\") or filename.endswith(\".png\"):\n",
    "            print(os.path.join( filename))\n",
    "            img = cv2.imread(base_dir + filename, 1)\n",
    "            page_height, page_width = img.shape[:2]\n",
    "            # computes the scaling factor\n",
    "            if max_height < page_height or max_width < page_width:\n",
    "                scaling_factor = max_height / float(page_height)\n",
    "                if max_width/float(page_width) < scaling_factor:\n",
    "                    scaling_factor = max_width / float(page_width)\n",
    "                # scale the image with the scaling factor\n",
    "                img = cv2.resize(img, None, fx=scaling_factor, fy=scaling_factor, interpolation=cv2.INTER_AREA)\n",
    "                new_file_path = save_dir+ filename\n",
    "                print(new_file_path)\n",
    "                cv2.imwrite(new_file_path, img)  # write the scales image\n",
    "\n",
    "\n",
    "        else:\n",
    "            continue\n",
    "resize2yolo(base_dir, save_dir)"
   ]
  },
  {
   "cell_type": "code",
   "execution_count": 8,
   "metadata": {},
   "outputs": [
    {
     "name": "stdout",
     "output_type": "stream",
     "text": [
      "(640, 480, 3)\n"
     ]
    }
   ],
   "source": [
    "img_rgb = cv2.imread('/home/surya/Desktop/Lending_Kat/test_dir/jpg_files_resized/MDSD-2018/wout_head0.jpg')\n",
    "#img_rgb = cv2.cvtColor(img_rgb, cv2.COLOR_RBG2RGB)\n",
    "img_rgb =  cv2.resize(img_rgb, (480, 640))\n",
    "print(img_rgb.shape)"
   ]
  },
  {
   "cell_type": "code",
   "execution_count": 9,
   "metadata": {},
   "outputs": [],
   "source": [
    "\n",
    "source = '/home/surya/Desktop/Lending_Kat/test_dir/jpg_files_resized/MDSD-2018/'\n",
    "weights = '/home/surya/Desktop/Lending_Kat/Code/yolov5/best.pt'\n",
    "line_thickness = 2\n",
    "conf_thres = 0.05\n",
    "cuda_device = 'cpu'"
   ]
  },
  {
   "cell_type": "code",
   "execution_count": 10,
   "metadata": {},
   "outputs": [],
   "source": [
    "@torch.no_grad()\n",
    "def run(weights=ROOT / 'best.pt',  # model.pt path(s)\n",
    "        source=ROOT / 'data/images',  # file/dir/URL/glob, 0 for webcam\n",
    "        imgsz=(640,480),  # inference size (pixels)\n",
    "        conf_thres=0.25,  # confidence threshold\n",
    "        iou_thres=0.45,  # NMS IOU threshold\n",
    "        max_det=1000,  # maximum detections per image\n",
    "        device='',  # cuda device, i.e. 0 or 0,1,2,3 or cpu\n",
    "        view_img=False,  # show results\n",
    "        save_txt=False,  # save results to *.txt\n",
    "        save_conf=False,  # save confidences in --save-txt labels\n",
    "        save_crop=False,  # save cropped prediction boxes\n",
    "        nosave=False,  # do not save images/videos\n",
    "        classes=None,  # filter by class: --class 0, or --class 0 2 3\n",
    "        agnostic_nms=False,  # class-agnostic NMS\n",
    "        augment=False,  # augmented inference\n",
    "        visualize=False,  # visualize features\n",
    "        update=False,  # update all models\n",
    "        project=ROOT / 'runs/detect',  # save results to project/name\n",
    "        name='exp',  # save results to project/name\n",
    "        exist_ok=False,  # existing project/name ok, do not increment\n",
    "        line_thickness=3,  # bounding box thickness (pixels)\n",
    "        hide_labels=False,  # hide labels\n",
    "        hide_conf=False,  # hide confidences\n",
    "        half=False,  # use FP16 half-precision inference\n",
    "        ):\n",
    "    source = str(source)\n",
    "    save_img = not nosave and not source.endswith('.txt')  # save inference images\n",
    "    #webcam = source.isnumeric() or source.endswith('.txt') or source.lower().startswith(('rtsp://', 'rtmp://', 'http://', 'https://'))\n",
    "\n",
    "    # Directories\n",
    "    save_dir = increment_path(Path(project) / name, exist_ok=exist_ok)  # increment run\n",
    "    print(save_dir)\n",
    "    (save_dir / 'labels' if save_txt else save_dir).mkdir(parents=True, exist_ok=True)  # make dir\n",
    "\n",
    "    # Initialize\n",
    "    set_logging()\n",
    "    device = select_device(device)\n",
    "    half &= device.type != 'cpu'  # half precision only supported on CUDA\n",
    "\n",
    "    # Load model\n",
    "    w = weights[0] if isinstance(weights, list) else weights\n",
    "    #classify, suffix, suffixes = False, Path(w).suffix.lower(), ['.pt', '.onnx', '.tflite', '.pb', '']]\n",
    "    classify, suffix, suffixes = False, Path(w).suffix.lower(), ['.pt','']\n",
    "    check_suffix(w, suffixes)  # check weights have acceptable suffix\n",
    "    #pt, onnx, tflite, pb, saved_model = (suffix == x for x in suffixes)  # backend booleans\n",
    "    pt,saved_model = (suffix == x for x in suffixes)  # backend booleans\n",
    "    stride, names = 64, [f'class{i}' for i in range(1000)]  # assign defaults\n",
    "    if pt:\n",
    "        model = attempt_load(weights, map_location=device)  # load FP32 model\n",
    "        stride = int(model.stride.max())  # model stride\n",
    "        names = model.module.names if hasattr(model, 'module') else model.names  # get class names\n",
    "        if half:\n",
    "            model.half()  # to FP16\n",
    "        if classify:  # second-stage classifier\n",
    "            modelc = load_classifier(name='resnet50', n=2)  # initialize\n",
    "            modelc.load_state_dict(torch.load('resnet50.pt', map_location=device)['model']).to(device).eval()\n",
    "#     elif onnx:\n",
    "#         check_requirements(('onnx', 'onnxruntime'))\n",
    "#         import onnxruntime\n",
    "#         session = onnxruntime.InferenceSession(w, None)\n",
    "#     else:  # TensorFlow models\n",
    "#         check_requirements(('tensorflow>=2.4.1',))\n",
    "#         import tensorflow as tf\n",
    "#         if pb:  # https://www.tensorflow.org/guide/migrate#a_graphpb_or_graphpbtxt\n",
    "#             def wrap_frozen_graph(gd, inputs, outputs):\n",
    "#                 x = tf.compat.v1.wrap_function(lambda: tf.compat.v1.import_graph_def(gd, name=\"\"), [])  # wrapped import\n",
    "#                 return x.prune(tf.nest.map_structure(x.graph.as_graph_element, inputs),\n",
    "#                                tf.nest.map_structure(x.graph.as_graph_element, outputs))\n",
    "\n",
    "#             graph_def = tf.Graph().as_graph_def()\n",
    "#             graph_def.ParseFromString(open(w, 'rb').read())\n",
    "#             frozen_func = wrap_frozen_graph(gd=graph_def, inputs=\"x:0\", outputs=\"Identity:0\")\n",
    "#         elif saved_model:\n",
    "#             model = tf.keras.models.load_model(w)\n",
    "#         elif tflite:\n",
    "#             interpreter = tf.lite.Interpreter(model_path=w)  # load TFLite model\n",
    "#             interpreter.allocate_tensors()  # allocate\n",
    "#             input_details = interpreter.get_input_details()  # inputs\n",
    "#             output_details = interpreter.get_output_details()  # outputs\n",
    "#             int8 = input_details[0]['dtype'] == np.uint8  # is TFLite quantized uint8 model\n",
    "    imgsz = check_img_size(imgsz, s=stride)  # check image size\n",
    "    print(\"<><><><><><><><><><><><<>><<><><><><><><><><>><<><><>\")\n",
    "    print(imgsz)\n",
    "#     # Dataloader\n",
    "#     if webcam:\n",
    "#         view_img = check_imshow()\n",
    "#         cudnn.benchmark = True  # set True to speed up constant image size inference\n",
    "#         dataset = LoadStreams(source, img_size=imgsz, stride=stride, auto=pt)\n",
    "#         bs = len(dataset)  # batch_size\n",
    "\n",
    "\n",
    "    #Dataloader\n",
    "    dataset = LoadImages(source, img_size=imgsz, stride=stride, auto=pt)\n",
    "    bs = 1  # batch_size\n",
    "    #vid_path, vid_writer = [None] * bs, [None] * bs\n",
    "\n",
    "    # Run inference\n",
    "    if pt and device.type != 'cpu':\n",
    "        model(torch.zeros(1, 3, *imgsz).to(device).type_as(next(model.parameters())))  # run once\n",
    "    dt, seen = [0.0, 0.0, 0.0], 0\n",
    "    for path, img, im0s, vid_cap in dataset:\n",
    "        t1 = time_sync()\n",
    "#         if onnx:\n",
    "#             img = img.astype('float32')\n",
    "#         else:\n",
    "        img = torch.from_numpy(img).to(device)\n",
    "        print(type(img))\n",
    "        print(\"The shape of img is :\", img.shape)\n",
    "        img = img.half() if half else img.float()  # uint8 to fp16/32\n",
    "        img = img / 255.0  # 0 - 255 to 0.0 - 1.0\n",
    "        if len(img.shape) == 3:\n",
    "            img = img[None]  # expand for batch dim\n",
    "        t2 = time_sync()\n",
    "        dt[0] += t2 - t1\n",
    "\n",
    "        # Inference\n",
    "        if pt:\n",
    "            visualize = increment_path(save_dir / Path(path).stem, mkdir=True) if visualize else False\n",
    "            pred = model(img, augment=augment, visualize=visualize)[0]\n",
    "#         elif onnx:\n",
    "#             pred = torch.tensor(session.run([session.get_outputs()[0].name], {session.get_inputs()[0].name: img}))\n",
    "#         else:  # tensorflow model (tflite, pb, saved_model)\n",
    "#             imn = img.permute(0, 2, 3, 1).cpu().numpy()  # image in numpy\n",
    "#             if pb:\n",
    "#                 pred = frozen_func(x=tf.constant(imn)).numpy()\n",
    "#             elif saved_model:\n",
    "#                 pred = model(imn, training=False).numpy()\n",
    "#             elif tflite:\n",
    "#                 if int8:\n",
    "#                     scale, zero_point = input_details[0]['quantization']\n",
    "#                     imn = (imn / scale + zero_point).astype(np.uint8)  # de-scale\n",
    "#                 interpreter.set_tensor(input_details[0]['index'], imn)\n",
    "#                 interpreter.invoke()\n",
    "#                 pred = interpreter.get_tensor(output_details[0]['index'])\n",
    "#                 if int8:\n",
    "#                     scale, zero_point = output_details[0]['quantization']\n",
    "#                     pred = (pred.astype(np.float32) - zero_point) * scale  # re-scale\n",
    "#             pred[..., 0] *= imgsz[1]  # x\n",
    "#             pred[..., 1] *= imgsz[0]  # y\n",
    "#             pred[..., 2] *= imgsz[1]  # w\n",
    "#             pred[..., 3] *= imgsz[0]  # h\n",
    "#             pred = torch.tensor(pred)\n",
    "        t3 = time_sync()\n",
    "        dt[1] += t3 - t2\n",
    "\n",
    "        # NMS\n",
    "        pred = non_max_suppression(pred, conf_thres, iou_thres, classes, agnostic_nms, max_det=max_det)\n",
    "\n",
    "\n",
    "        \n",
    "        \n",
    "        \n",
    "        dt[2] += time_sync() - t3\n",
    "\n",
    "        # Second-stage classifier (optional)\n",
    "        if classify:\n",
    "            pred = apply_classifier(pred, modelc, img, im0s)\n",
    "\n",
    "\n",
    "        # Process predictions\n",
    "        for i, det in enumerate(pred):  # per image\n",
    "            seen += 1\n",
    "#             if webcam:  # batch_size >= 1\n",
    "#                 p, s, im0, frame = path[i], f'{i}: ', im0s[i].copy(), dataset.count\n",
    "#             else:\n",
    "            p, s, im0, frame = path, '', im0s.copy(), getattr(dataset, 'frame', 0)\n",
    "            print(\"The shape of im0 is : \", im0.shape)\n",
    "            p = Path(p)  # to Path\n",
    "            save_path = str(save_dir / p.name)  # img.jpg\n",
    "            txt_path = str(save_dir / 'labels' / p.stem) + ('' if dataset.mode == 'image' else f'_{frame}')  # img.txt\n",
    "            s += '%gx%g ' % img.shape[2:]  # print string\n",
    "            gn = torch.tensor(im0.shape)[[1, 0, 1, 0]]  # normalization gain whwh\n",
    "            imc = im0.copy() if save_crop else im0  # for save_crop\n",
    "            \n",
    "\n",
    "            annotator = Annotator(im0, line_width=line_thickness, example=str(names))\n",
    "            if len(det):\n",
    "                # Rescale boxes from img_size to im0 size\n",
    "                det[:, :4] = scale_coords(img.shape[2:], det[:, :4], im0.shape).round()\n",
    "                # Print results\n",
    "                for c in det[:, -1].unique():\n",
    "                    n = (det[:, -1] == c).sum()  # detections per class\n",
    "                    s += f\"{n} {names[int(c)]}{'s' * (n > 1)}, \"  # add to string\n",
    "\n",
    "                # Write results\n",
    "                for *xyxy, conf, cls in reversed(det):\n",
    "\n",
    "#                     if save_txt:  # Write to file\n",
    "#                         xywh = (xyxy2xywh(torch.tensor(xyxy).view(1, 4)) / gn).view(-1).tolist()  # normalized xywh\n",
    "#                         line = (cls, *xywh, conf) if save_conf else (cls, *xywh)  # label format\n",
    "#                         with open(txt_path + '.txt', 'a') as f:\n",
    "#                             f.write(('%g ' * len(line)).rstrip() % line + '\\n')\n",
    "\n",
    "                    if save_img or save_crop or view_img:  # Add bbox to image\n",
    "                        c = int(cls)  # integer class\n",
    "                        label = None if hide_labels else (names[c] if hide_conf else f'{names[c]} {conf:.2f}')\n",
    "                        #annotator.box_label(xyxy, label, color=colors(c, True))\n",
    "#                         if save_crop:\n",
    "#                             save_one_box(xyxy, imc, file=save_dir / 'crops' / names[c] / f'{p.stem}.jpg', BGR=True)\n",
    "                        box = xyxy\n",
    "                        p1, p2 = (int(box[0]), int(box[1])), (int(box[2]), int(box[3]))\n",
    "                        cv2.rectangle(im0, p1, p2, (255, 255, 0), 3 )\n",
    "                plt.imshow(im0)\n",
    "                plt.show()\n",
    "            \n",
    "            # Print time (inference-only)\n",
    "            print(f'{s}Done. ({t3 - t2:.3f}s)')\n",
    "\n",
    "            # Stream results\n",
    "            im0 = annotator.result()\n",
    "            if view_img:\n",
    "                cv2.imshow(str(p), im0)\n",
    "                cv2.waitKey(1)  # 1 millisecond\n",
    "\n",
    "            # Save results (image with detections)\n",
    "            if save_img:\n",
    "                if dataset.mode == 'image':\n",
    "                    cv2.imwrite(save_path, im0)\n",
    "#                 else:  # 'video' or 'stream'\n",
    "#                     if vid_path[i] != save_path:  # new video\n",
    "#                         vid_path[i] = save_path\n",
    "#                         if isinstance(vid_writer[i], cv2.VideoWriter):\n",
    "#                             vid_writer[i].release()  # release previous video writer\n",
    "#                         if vid_cap:  # video\n",
    "#                             fps = vid_cap.get(cv2.CAP_PROP_FPS)\n",
    "#                             w = int(vid_cap.get(cv2.CAP_PROP_FRAME_WIDTH))\n",
    "#                             h = int(vid_cap.get(cv2.CAP_PROP_FRAME_HEIGHT))\n",
    "#                         else:  # stream\n",
    "#                             fps, w, h = 30, im0.shape[1], im0.shape[0]\n",
    "#                             save_path += '.mp4'\n",
    "#                         vid_writer[i] = cv2.VideoWriter(save_path, cv2.VideoWriter_fourcc(*'mp4v'), fps, (w, h))\n",
    "#                     vid_writer[i].write(im0)\n",
    "    \n",
    "    # Print results\n",
    "    t = tuple(x / seen * 1E3 for x in dt)  # speeds per image\n",
    "    #print(f'Speed: %.1fms pre-process, %.1fms inference, %.1fms NMS per image at shape {(1, 3, *imgsz)}' % t)\n",
    "    if save_txt or save_img:\n",
    "        s = f\"\\n{len(list(save_dir.glob('labels/*.txt')))} labels saved to {save_dir / 'labels'}\" if save_txt else ''\n",
    "        print(f\"Results saved to {colorstr('bold', save_dir)}{s}\")\n",
    "    if update:\n",
    "        strip_optimizer(weights)  # update model (to fix SourceChangeWarning)\n",
    "\n",
    "    "
   ]
  },
  {
   "cell_type": "code",
   "execution_count": 11,
   "metadata": {},
   "outputs": [
    {
     "name": "stderr",
     "output_type": "stream",
     "text": [
      "YOLOv5 🚀 v5.0-491-gcce7e78 torch 1.7.0 CUDA:0 (GeForce GTX 1050, 4040.0625MB)\n",
      "\n"
     ]
    },
    {
     "name": "stdout",
     "output_type": "stream",
     "text": [
      "runs/detect/exp53\n"
     ]
    },
    {
     "name": "stderr",
     "output_type": "stream",
     "text": [
      "Fusing layers... \n",
      "Model Summary: 476 layers, 87205423 parameters, 0 gradients\n"
     ]
    },
    {
     "name": "stdout",
     "output_type": "stream",
     "text": [
      "WARNING: --img-size (640, 480) must be multiple of max stride 32, updating to [640, 480]\n",
      "<><><><><><><><><><><><<>><<><><><><><><><><>><<><><>\n",
      "[640, 480]\n",
      "image 1/7 /home/surya/Desktop/Lending_Kat/test_dir/jpg_files_resized/MDSD-2018/wout_head0.jpg: <class 'torch.Tensor'>\n",
      "The shape of img is : torch.Size([3, 640, 448])\n",
      "The shape of im0 is :  (640, 436, 3)\n",
      "640x448 1 DLLogo, 3 DLSignatures, Done. (0.132s)\n",
      "image 2/7 /home/surya/Desktop/Lending_Kat/test_dir/jpg_files_resized/MDSD-2018/wout_head10.jpg: <class 'torch.Tensor'>\n",
      "The shape of img is : torch.Size([3, 640, 448])\n"
     ]
    },
    {
     "name": "stderr",
     "output_type": "stream",
     "text": [
      "/home/surya/anaconda3/lib/python3.7/site-packages/ipykernel_launcher.py:205: UserWarning: Matplotlib is currently using agg, which is a non-GUI backend, so cannot show the figure.\n",
      "/home/surya/anaconda3/lib/python3.7/site-packages/ipykernel_launcher.py:205: UserWarning: Matplotlib is currently using agg, which is a non-GUI backend, so cannot show the figure.\n"
     ]
    },
    {
     "name": "stdout",
     "output_type": "stream",
     "text": [
      "The shape of im0 is :  (640, 436, 3)\n",
      "640x448 6 DLSignatures, Done. (0.119s)\n",
      "image 3/7 /home/surya/Desktop/Lending_Kat/test_dir/jpg_files_resized/MDSD-2018/wout_head12.jpg: <class 'torch.Tensor'>\n",
      "The shape of img is : torch.Size([3, 640, 448])\n",
      "The shape of im0 is :  (640, 436, 3)\n",
      "640x448 5 DLSignatures, Done. (0.117s)\n",
      "image 4/7 /home/surya/Desktop/Lending_Kat/test_dir/jpg_files_resized/MDSD-2018/wout_head2.jpg: <class 'torch.Tensor'>\n",
      "The shape of img is : torch.Size([3, 640, 448])\n"
     ]
    },
    {
     "name": "stderr",
     "output_type": "stream",
     "text": [
      "/home/surya/anaconda3/lib/python3.7/site-packages/ipykernel_launcher.py:205: UserWarning: Matplotlib is currently using agg, which is a non-GUI backend, so cannot show the figure.\n",
      "/home/surya/anaconda3/lib/python3.7/site-packages/ipykernel_launcher.py:205: UserWarning: Matplotlib is currently using agg, which is a non-GUI backend, so cannot show the figure.\n"
     ]
    },
    {
     "name": "stdout",
     "output_type": "stream",
     "text": [
      "The shape of im0 is :  (640, 436, 3)\n",
      "640x448 10 DLSignatures, Done. (0.117s)\n",
      "image 5/7 /home/surya/Desktop/Lending_Kat/test_dir/jpg_files_resized/MDSD-2018/wout_head4.jpg: <class 'torch.Tensor'>\n",
      "The shape of img is : torch.Size([3, 640, 448])\n",
      "The shape of im0 is :  (640, 436, 3)\n",
      "640x448 6 DLSignatures, Done. (0.117s)\n",
      "image 6/7 /home/surya/Desktop/Lending_Kat/test_dir/jpg_files_resized/MDSD-2018/wout_head6.jpg: <class 'torch.Tensor'>\n",
      "The shape of img is : torch.Size([3, 640, 448])\n"
     ]
    },
    {
     "name": "stderr",
     "output_type": "stream",
     "text": [
      "/home/surya/anaconda3/lib/python3.7/site-packages/ipykernel_launcher.py:205: UserWarning: Matplotlib is currently using agg, which is a non-GUI backend, so cannot show the figure.\n",
      "/home/surya/anaconda3/lib/python3.7/site-packages/ipykernel_launcher.py:205: UserWarning: Matplotlib is currently using agg, which is a non-GUI backend, so cannot show the figure.\n"
     ]
    },
    {
     "name": "stdout",
     "output_type": "stream",
     "text": [
      "The shape of im0 is :  (640, 436, 3)\n",
      "640x448 6 DLSignatures, Done. (0.117s)\n",
      "image 7/7 /home/surya/Desktop/Lending_Kat/test_dir/jpg_files_resized/MDSD-2018/wout_head8.jpg: <class 'torch.Tensor'>\n",
      "The shape of img is : torch.Size([3, 640, 448])\n",
      "The shape of im0 is :  (640, 436, 3)\n",
      "640x448 6 DLSignatures, Done. (0.116s)\n",
      "Results saved to \u001b[1mruns/detect/exp53\u001b[0m\n"
     ]
    },
    {
     "name": "stderr",
     "output_type": "stream",
     "text": [
      "/home/surya/anaconda3/lib/python3.7/site-packages/ipykernel_launcher.py:205: UserWarning: Matplotlib is currently using agg, which is a non-GUI backend, so cannot show the figure.\n"
     ]
    }
   ],
   "source": [
    "run(source = source, weights = weights , line_thickness = line_thickness, conf_thres = conf_thres)"
   ]
  },
  {
   "cell_type": "code",
   "execution_count": 173,
   "metadata": {},
   "outputs": [
    {
     "name": "stdout",
     "output_type": "stream",
     "text": [
      "Defaulting to user installation because normal site-packages is not writeable\n",
      "Collecting PyQt5==5.9.2\n",
      "  Downloading PyQt5-5.9.2-5.9.3-cp35.cp36.cp37-abi3-manylinux1_x86_64.whl (105.3 MB)\n",
      "\u001b[K     |▏                               | 542 kB 733 kB/s eta 0:02:23^C\n",
      "\n",
      "\u001b[31mERROR: Operation cancelled by user\u001b[0m\n",
      "\u001b[33mWARNING: You are using pip version 20.2.4; however, version 21.2.4 is available.\n",
      "You should consider upgrading via the '/usr/bin/python3 -m pip install --upgrade pip' command.\u001b[0m\n",
      "\u001b[?25h"
     ]
    }
   ],
   "source": [
    "!pip3 install PyQt5==5.9.2"
   ]
  },
  {
   "cell_type": "code",
   "execution_count": null,
   "metadata": {},
   "outputs": [],
   "source": []
  }
 ],
 "metadata": {
  "celltoolbar": "Raw Cell Format",
  "kernelspec": {
   "display_name": "Python 3",
   "language": "python",
   "name": "python3"
  },
  "language_info": {
   "codemirror_mode": {
    "name": "ipython",
    "version": 3
   },
   "file_extension": ".py",
   "mimetype": "text/x-python",
   "name": "python",
   "nbconvert_exporter": "python",
   "pygments_lexer": "ipython3",
   "version": "3.7.7"
  }
 },
 "nbformat": 4,
 "nbformat_minor": 4
}
