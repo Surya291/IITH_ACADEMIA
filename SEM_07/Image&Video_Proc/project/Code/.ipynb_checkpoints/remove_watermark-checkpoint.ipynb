{
 "cells": [
  {
   "cell_type": "code",
   "execution_count": 2,
   "metadata": {},
   "outputs": [],
   "source": [
    "import cv2\n",
    "import numpy as np\n",
    "import matplotlib.pyplot as plt"
   ]
  },
  {
   "cell_type": "code",
   "execution_count": 41,
   "metadata": {},
   "outputs": [],
   "source": [
    "def remove_watermark( only_wmk,with_wmk , save_as ):\n",
    "    \n",
    "    '''\n",
    "    consider the image with only watermark for reference .. find those pixels and turn them into white..\n",
    "    otsu thresholding is to find the best threshold automatically when it is a bimodal pixels are present..\n",
    "    '''\n",
    "    wmk = cv2.imread(only_wmk)\n",
    "    gray_wmk = cv2.cvtColor(wmk, cv2.COLOR_BGR2GRAY)\n",
    "    thres, bin_wmk = cv2.threshold(gray_wmk,0,255,cv2.THRESH_BINARY+cv2.THRESH_OTSU)\n",
    "    \n",
    "    img = cv2.imread(with_wmk)\n",
    "    gray_img = cv2.cvtColor(img, cv2.COLOR_BGR2GRAY)\n",
    "    \n",
    "    # Finding the pixels of watermark and changing them ..\n",
    "    x_idx,y_idx = np.where(bin_wmk < thres)\n",
    "    \n",
    "    img_without_wmk = gray_img.copy()\n",
    "    \n",
    "    for i in range(len(x_idx)):\n",
    "        if(gray_img[x_idx[i]][y_idx[i]] <100): #100 chosen since the avg intensity of watermark pix is 180\n",
    "            img_without_wmk[x_idx[i]][y_idx[i]] = 0\n",
    "        else :\n",
    "            img_without_wmk[x_idx[i]][y_idx[i]] = 255\n",
    "    \n",
    "    print('Watermark removed !!')\n",
    "            \n",
    "    cv2.imwrite(save_as,img_without_wmk )\n",
    "    \n",
    "    \n",
    "    \n",
    "    \n",
    "    "
   ]
  },
  {
   "cell_type": "code",
   "execution_count": 44,
   "metadata": {},
   "outputs": [
    {
     "name": "stdout",
     "output_type": "stream",
     "text": [
      "Watermark removed !!\n"
     ]
    }
   ],
   "source": [
    "remove_watermark('just_watermark.jpg' , 'with_watermark2.jpg','without_wmk2.jpg' )"
   ]
  },
  {
   "cell_type": "code",
   "execution_count": 5,
   "metadata": {},
   "outputs": [],
   "source": [
    "# imports here!\n",
    "\n",
    "import numpy as np\n",
    "import matplotlib.pyplot as plt\n",
    "import matplotlib.image as mpimg\n",
    "import os \n",
    "import math\n",
    "import cv2"
   ]
  },
  {
   "cell_type": "code",
   "execution_count": 14,
   "metadata": {},
   "outputs": [
    {
     "data": {
      "image/png": "[encoded data removed]",
      "text/plain": [
       "<Figure size 432x288 with 1 Axes>"
      ]
     },
     "metadata": {
      "needs_background": "light"
     },
     "output_type": "display_data"
    }
   ],
   "source": [
    "def compute_hist(I,plot_hist = True):\n",
    "    hist = np.zeros(256)\n",
    "    for i in range(I.shape[0]):\n",
    "        for j in range(I.shape[1]):\n",
    "            hist[I[i][j]] = hist[I[i][j]] + 1\n",
    "    hist = hist/I.size\n",
    "    \n",
    "    hist[255] = 0\n",
    "    if(plot_hist):\n",
    "        plt.stem(np.arange(0,256),hist , use_line_collection = True)\n",
    "        plt.title('Hist for image')\n",
    "        plt.xlabel('Pixel intensity')\n",
    "        plt.ylabel('Normalized Frequency')\n",
    "        plt.show()\n",
    "\n",
    "\n",
    "\n",
    "img_path = '/home/surya/Desktop/Lending_Kat/test_dir/jpg_files/SD-2020/page0.jpg'\n",
    "img = cv2.imread(img_path, cv2.IMREAD_GRAYSCALE)\n",
    "compute_hist(img)"
   ]
  }
 ],
 "metadata": {
  "kernelspec": {
   "display_name": "Python 3",
   "language": "python",
   "name": "python3"
  },
  "language_info": {
   "codemirror_mode": {
    "name": "ipython",
    "version": 3
   },
   "file_extension": ".py",
   "mimetype": "text/x-python",
   "name": "python",
   "nbconvert_exporter": "python",
   "pygments_lexer": "ipython3",
   "version": "3.7.7"
  }
 },
 "nbformat": 4,
 "nbformat_minor": 4
}
