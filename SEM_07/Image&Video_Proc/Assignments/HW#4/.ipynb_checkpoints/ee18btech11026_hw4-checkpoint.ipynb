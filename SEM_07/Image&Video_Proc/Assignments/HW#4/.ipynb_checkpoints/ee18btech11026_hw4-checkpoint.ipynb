{
 "cells": [
  {
   "cell_type": "code",
   "execution_count": 1,
   "metadata": {},
   "outputs": [],
   "source": [
    "import numpy as np\n",
    "import random\n",
    "import matplotlib.pyplot as plt\n",
    "from sympy import Matrix, init_printing\n",
    "random.seed(40)"
   ]
  },
  {
   "cell_type": "markdown",
   "metadata": {},
   "source": [
    "## Problem 01"
   ]
  },
  {
   "cell_type": "code",
   "execution_count": null,
   "metadata": {},
   "outputs": [],
   "source": [
    "class MLP :\n",
    "    def __init__(self,X_train,Y_train,hidden_nodes = 2):\n",
    "        \n",
    "        \n",
    "        self.X = X_train\n",
    "        self.Y = Y_train\n",
    "        din,n = self.X.shape  ### din = 2 in this case ,n --> no. ofsamples\n",
    "        self.m = hidden_nodes\n",
    "        \n",
    "        #### H -> hidden nodes output\n",
    "        #### W_h -> weights between input and hidden layer\n",
    "        #### W_o -> weights between hidden and output layer\n",
    "        \n",
    "        self.H = np.ones((self.m +1,n))## initialising random weights\n",
    "        self.W_h = np.random.random((din,self.H.shape[0]))\n",
    "        self.W_o = np.random.random((self.H.shape[0],self.Y.shape[0]))\n",
    "    \n",
    "    def forward_pass(self,X):\n",
    "        H = self.H\n",
    "        W_h = self.W_h\n",
    "        W_o = self.W_o\n",
    "\n",
    "        def sigmoid (w,x) :\n",
    "            act = np.transpose(w)@x\n",
    "            return 1/(1+np.exp(-1*act))\n",
    "        \n",
    "        ######################################\n",
    "    \n",
    "        H = sigmoid(W_h,X)\n",
    "        H[0,:] = np.ones(H[0,:].shape)  ### resetting bias to 1\n",
    "        Y_pred = sigmoid(W_o,H) \n",
    "        \n",
    "        return H,Y_pred\n",
    "    \n",
    "    def back_prop(self,X,Y):\n",
    "        H= self.H\n",
    "        Y_pred = self.Y_pred\n",
    "        W_o  = self.W_o\n",
    "        W_h = self.W_h\n",
    "        \n",
    "        def output_loss(y,y_hat):\n",
    "            return (-1*(y - y_hat))\n",
    "        \n",
    "        def sig_loss(y_hat):\n",
    "            return np.multiply((1 - y_hat) , (y_hat))\n",
    "        \n",
    "        ########################################\n",
    "        \n",
    "        #### Back prop : \n",
    "        W_o_grad = W_o.copy()\n",
    "        W_h_grad = W_h.copy()\n",
    "        W_o_new = W_o.copy()\n",
    "        W_h_new = W_h.copy()\n",
    "        lr = self.lr\n",
    "            \n",
    "        #### Updating output weights : \n",
    "        for i in range(W_o_grad.shape[0]):\n",
    "            for j in range(W_o_grad.shape[1]):\n",
    "                W_o_grad[i][j] = np.mean( loss(Y[j],Y_pred[j]) * sig_loss(Y_pred[j]) * H[i] )\n",
    "                W_o_new[i][j] = W_o[i][j] - (lr* W_o_grad[i][j] ) \n",
    "                \n",
    "        ##### Updating input weights:\n",
    "        k = 0   #### TODO for multi dim op\n",
    "        for i in range(W_h_grad.shape[0]):\n",
    "            for j in range(W_h_grad.shape[1]):\n",
    "                W_h_grad[i][j] = np.mean( loss(Y[k],Y_pred[k]) * sig_loss(Y_pred[k]) * W_o[j][k] * sig_loss(H[j]) * X[i] )\n",
    "                W_h_new[i][j] = W_h[i][j] - ( lr*W_h_grad[i][j] )\n",
    "                \n",
    "                \n",
    "        def run_epochs(self,X,Y,epochs, bs, lr, train_val_ratio = 0.8, plot = False):\n",
    "            self.lr = lr\n",
    "            epoch_error = np.zeros(epochs)\n",
    "            X_train, X_val, Y_train, Y_val = split_train_val(X_xor,Y_xor, train_val_ratio)\n",
    "            \n",
    "            for e in range(epochs):\n",
    "                for "
   ]
  },
  {
   "cell_type": "code",
   "execution_count": 45,
   "metadata": {},
   "outputs": [
    {
     "name": "stdout",
     "output_type": "stream",
     "text": [
      "[[0.10554342 0.10126975 0.32440318]\n",
      " [0.98010135 0.72674682 0.66260076]\n",
      " [0.83768615 0.0427684  0.72459018]\n",
      " [0.33413959 0.09768944 0.02014227]\n",
      " [0.06023316 0.78103094 0.72504076]]\n",
      "[0, 2, 1]\n",
      "[[0.10554342 0.32440318 0.10126975]\n",
      " [0.98010135 0.66260076 0.72674682]\n",
      " [0.83768615 0.72459018 0.0427684 ]\n",
      " [0.33413959 0.02014227 0.09768944]\n",
      " [0.06023316 0.72504076 0.78103094]]\n"
     ]
    }
   ],
   "source": [
    "mat = np.random.random((5,3))\n",
    "print(mat)\n",
    "\n",
    "m = mat.shape[1]\n",
    "permutation = list(np.random.permutation(m))\n",
    "\n",
    "\n",
    "shuffled_matrix = mat[:, permutation]\n",
    "print(permutation)\n",
    "print(shuffled_matrix)"
   ]
  },
  {
   "cell_type": "code",
   "execution_count": null,
   "metadata": {},
   "outputs": [],
   "source": [
    "permuti"
   ]
  },
  {
   "cell_type": "code",
   "execution_count": null,
   "metadata": {},
   "outputs": [],
   "source": [
    "def split_into_batches(X,Y,bs):\n",
    "    '''\n",
    "    returns a list of batches\n",
    "    '''\n",
    "    \n",
    "    samples_no = X.shape[1]\n",
    "    \n",
    "    idx_permute = list(np.random.permutaion(m))\n",
    "    "
   ]
  },
  {
   "cell_type": "code",
   "execution_count": null,
   "metadata": {},
   "outputs": [],
   "source": [
    "    if axis == 0: # by column\n",
    "        m = matrix.shape[1]\n",
    "        permutation = list(np.random.permutation(m))\n",
    "        shuffled_matrix = matrix[:, permutation]"
   ]
  },
  {
   "cell_type": "code",
   "execution_count": null,
   "metadata": {},
   "outputs": [],
   "source": []
  },
  {
   "cell_type": "code",
   "execution_count": 5,
   "metadata": {},
   "outputs": [
    {
     "name": "stdout",
     "output_type": "stream",
     "text": [
      "[[0.95257413 0.95257413]\n",
      " [0.95257413 0.95257413]\n",
      " [0.95257413 0.95257413]]\n"
     ]
    }
   ],
   "source": [
    "def sigmoid (w,x) :\n",
    "    act = np.transpose(w)@x\n",
    "    return 1/(1+np.exp(-1*act))\n",
    "\n",
    "print(sigmoid(np.ones( (3,3) ), np.ones((3,2) )))"
   ]
  },
  {
   "cell_type": "code",
   "execution_count": 7,
   "metadata": {},
   "outputs": [
    {
     "data": {
      "text/plain": [
       "array([[1.],\n",
       "       [1.],\n",
       "       [1.]])"
      ]
     },
     "execution_count": 7,
     "metadata": {},
     "output_type": "execute_result"
    }
   ],
   "source": [
    "np.multiply(np.ones((3,1) ), np.ones((3,1) ))"
   ]
  },
  {
   "cell_type": "code",
   "execution_count": 11,
   "metadata": {},
   "outputs": [
    {
     "name": "stdout",
     "output_type": "stream",
     "text": [
      "[1. 1. 5.]\n"
     ]
    }
   ],
   "source": [
    "a = np.ones((3,3))\n",
    "a [0][2] = 5\n",
    "\n",
    "print(a[0])"
   ]
  },
  {
   "cell_type": "code",
   "execution_count": null,
   "metadata": {},
   "outputs": [],
   "source": []
  },
  {
   "cell_type": "code",
   "execution_count": 24,
   "metadata": {},
   "outputs": [
    {
     "name": "stdout",
     "output_type": "stream",
     "text": [
      "[[ 3.07482073e-03  9.14785553e-01 -3.77992787e-02 -2.37394224e-02\n",
      "   9.56839510e-01  9.34459740e-01  1.54931355e-02  5.15887513e-02\n",
      "  -1.62586308e-02  9.95145676e-01]\n",
      " [-2.07472679e-02  9.96906517e-01 -1.24017265e-02  1.03070640e+00\n",
      "   6.33461290e-02  7.01386312e-03  9.96789127e-01  9.81886415e-01\n",
      "  -5.70949376e-03 -7.60545299e-04]]\n",
      "[[0 0 0 1 1 1 1 1 0 1]]\n"
     ]
    },
    {
     "data": {
      "image/png": "[encoded data removed]",
      "text/plain": [
       "<Figure size 432x288 with 1 Axes>"
      ]
     },
     "metadata": {
      "needs_background": "light"
     },
     "output_type": "display_data"
    },
    {
     "data": {
      "text/plain": [
       "<Figure size 432x288 with 0 Axes>"
      ]
     },
     "metadata": {},
     "output_type": "display_data"
    }
   ],
   "source": [
    "####  Creating a dataset\n",
    "\n",
    "\n",
    "\n",
    "def create_XOR_data(data_size,var):\n",
    "    \n",
    "    A = np.random.binomial(size = data_size, n=1, p= 0.5)\n",
    "    B = np.random.binomial(size = data_size, n=1, p= 0.5)\n",
    "    X = np.array((A,B))\n",
    "    Y = np.logical_xor(X[0],X[1]) + 0\n",
    "    \n",
    "    \n",
    "    color = ['black'*(1-i) + 'cyan'*(i) for i in (Y) ]\n",
    "    \n",
    "    X_noise= X + np.random.normal(0, var, X.shape)\n",
    "    Y_final = Y.reshape((1,Y.shape[0]))\n",
    "    \n",
    "    ### plotting : \n",
    "    plt.scatter(X_noise[0],X_noise[1],color = color)\n",
    "    plt.figure()\n",
    "    \n",
    "    return X_noise,Y_final\n",
    "\n",
    "X_xor, Y_xor = create_XOR_data(10, 0.05)\n",
    "print(X_xor)\n",
    "\n",
    "print(Y_xor)"
   ]
  },
  {
   "cell_type": "code",
   "execution_count": 39,
   "metadata": {},
   "outputs": [
    {
     "name": "stdout",
     "output_type": "stream",
     "text": [
      "(2, 10)\n",
      "(2, 8)\n",
      "(2, 2)\n",
      "[[ 3.07482073e-03  9.14785553e-01 -3.77992787e-02 -2.37394224e-02\n",
      "   9.56839510e-01  9.34459740e-01  1.54931355e-02  5.15887513e-02\n",
      "  -1.62586308e-02  9.95145676e-01]\n",
      " [-2.07472679e-02  9.96906517e-01 -1.24017265e-02  1.03070640e+00\n",
      "   6.33461290e-02  7.01386312e-03  9.96789127e-01  9.81886415e-01\n",
      "  -5.70949376e-03 -7.60545299e-04]]\n",
      "[[ 0.00307482  0.91478555 -0.03779928 -0.02373942  0.95683951  0.93445974\n",
      "   0.01549314  0.05158875]\n",
      " [-0.02074727  0.99690652 -0.01240173  1.0307064   0.06334613  0.00701386\n",
      "   0.99678913  0.98188642]]\n",
      "[[-1.62586308e-02  9.95145676e-01]\n",
      " [-5.70949376e-03 -7.60545299e-04]]\n",
      "--------------\n",
      "[[0 0 0 1 1 1 1 1 0 1]]\n",
      "[[0 0 0 1 1 1 1 1]]\n",
      "[[0 1]]\n"
     ]
    }
   ],
   "source": [
    "print(X_xor.shape)\n",
    "\n",
    "\n",
    "\n",
    "def split_train_val(X,Y, train_percent):\n",
    "    n = X.shape[1]\n",
    "    X_train,X_val = X[:,:int(train_percent*n)], X[:,int(train_percent*n) :]\n",
    "    Y_train,Y_val = Y[:,:int(train_percent*n)], Y[:,int(train_percent*n) :]\n",
    "    return X_train, X_val , Y_train, Y_val\n",
    "\n",
    "X_train, X_val, Y_train, Y_val = split_train_val(X_xor,Y_xor, 0.8)\n",
    "\n",
    "print(X_train.shape)\n",
    "print(X_val.shape)\n",
    "\n",
    "\n",
    "print(X_xor)\n",
    "print(X_train)\n",
    "print(X_val)\n",
    "print('--------------')\n",
    "print(Y_xor)\n",
    "print(Y_train)\n",
    "print(Y_val)"
   ]
  },
  {
   "cell_type": "code",
   "execution_count": null,
   "metadata": {},
   "outputs": [],
   "source": []
  }
 ],
 "metadata": {
  "kernelspec": {
   "display_name": "Python 3",
   "language": "python",
   "name": "python3"
  },
  "language_info": {
   "codemirror_mode": {
    "name": "ipython",
    "version": 3
   },
   "file_extension": ".py",
   "mimetype": "text/x-python",
   "name": "python",
   "nbconvert_exporter": "python",
   "pygments_lexer": "ipython3",
   "version": "3.7.7"
  }
 },
 "nbformat": 4,
 "nbformat_minor": 4
}
