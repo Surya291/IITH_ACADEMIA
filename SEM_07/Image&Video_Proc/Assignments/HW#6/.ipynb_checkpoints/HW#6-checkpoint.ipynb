{
 "cells": [
  {
   "cell_type": "code",
   "execution_count": 2,
   "metadata": {},
   "outputs": [],
   "source": [
    "# imports here!\n",
    "\n",
    "import numpy as np\n",
    "import matplotlib.pyplot as plt\n",
    "import matplotlib.image as mpimg\n",
    "import os \n",
    "import math"
   ]
  },
  {
   "cell_type": "code",
   "execution_count": 9,
   "metadata": {},
   "outputs": [
    {
     "name": "stdout",
     "output_type": "stream",
     "text": [
      "(691, 691, 4)\n"
     ]
    }
   ],
   "source": [
    "class image :\n",
    "    \n",
    "    def disp_img(self, I, title = None): # A utility func for displaying images \n",
    "        plt.imshow(I, cmap = 'gray')\n",
    "        plt.axis('off')\n",
    "        plt.title(title)\n",
    "        plt.show()\n",
    "    \n",
    "    ##### -------------------- Common code for Both 2 & 3 reading and displaying images ---#\n",
    "    def __init__ (self, path, display = False):\n",
    "        self.path = path\n",
    "        self.I = mpimg.imread(self.path) ## Reading the contents of the image I \n",
    "        if(display): ## Displaying I\n",
    "            self.disp_img(self.I)\n",
    "            \n",
    "    #def add gaussian \n",
    "    # def add compression\n",
    "    # def blurring\n",
    "    \n",
    "    \n",
    "I1 = image('lighthouse.png')\n",
    "I2 = image('lighthouse.png')\n",
    "\n",
    "\n",
    "print(I1.I.shape)"
   ]
  },
  {
   "cell_type": "code",
   "execution_count": null,
   "metadata": {},
   "outputs": [],
   "source": [
    "class quality_mertics:\n",
    "    def __init__(self,I,J):\n",
    "        self.I = I\n",
    "        self.J = J\n",
    "        \n",
    "    def SSIM(self):\n",
    "        "
   ]
  }
 ],
 "metadata": {
  "kernelspec": {
   "display_name": "Python 3",
   "language": "python",
   "name": "python3"
  },
  "language_info": {
   "codemirror_mode": {
    "name": "ipython",
    "version": 3
   },
   "file_extension": ".py",
   "mimetype": "text/x-python",
   "name": "python",
   "nbconvert_exporter": "python",
   "pygments_lexer": "ipython3",
   "version": "3.7.7"
  }
 },
 "nbformat": 4,
 "nbformat_minor": 4
}
