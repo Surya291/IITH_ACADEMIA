{
 "cells": [
  {
   "cell_type": "code",
   "execution_count": 1,
   "metadata": {},
   "outputs": [],
   "source": [
    "with open (\"/home/surya/.mutt/cache/bodies/imaps:ee18btech11026@iith.ac.in@imap.gmail.com:993/INBOX/1-24023\", \"r\") as myfile:\n",
    "    data = myfile.read().splitlines()"
   ]
  },
  {
   "cell_type": "code",
   "execution_count": 2,
   "metadata": {},
   "outputs": [],
   "source": [
    "import os\n"
   ]
  },
  {
   "cell_type": "code",
   "execution_count": 3,
   "metadata": {
    "scrolled": true
   },
   "outputs": [
    {
     "ename": "NameError",
     "evalue": "name 'datetime' is not defined",
     "output_type": "error",
     "traceback": [
      "\u001b[0;31m---------------------------------------------------------------------------\u001b[0m",
      "\u001b[0;31mNameError\u001b[0m                                 Traceback (most recent call last)",
      "\u001b[0;32m<ipython-input-3-e24d3d24be87>\u001b[0m in \u001b[0;36m<module>\u001b[0;34m\u001b[0m\n\u001b[1;32m     16\u001b[0m \u001b[0;34m\u001b[0m\u001b[0m\n\u001b[1;32m     17\u001b[0m         \u001b[0mdata\u001b[0m \u001b[0;34m=\u001b[0m \u001b[0mdata\u001b[0m\u001b[0;34m[\u001b[0m\u001b[0;36m2\u001b[0m\u001b[0;34m]\u001b[0m\u001b[0;34m[\u001b[0m\u001b[0;36m13\u001b[0m\u001b[0;34m:\u001b[0m\u001b[0;36m32\u001b[0m\u001b[0;34m]\u001b[0m\u001b[0;34m\u001b[0m\u001b[0;34m\u001b[0m\u001b[0m\n\u001b[0;32m---> 18\u001b[0;31m         \u001b[0md\u001b[0m \u001b[0;34m=\u001b[0m \u001b[0mdatetime\u001b[0m\u001b[0;34m.\u001b[0m\u001b[0mstrptime\u001b[0m\u001b[0;34m(\u001b[0m\u001b[0mdata\u001b[0m\u001b[0;34m,\u001b[0m \u001b[0;34m\"%d %b %Y  %H:%M:%S\"\u001b[0m\u001b[0;34m)\u001b[0m\u001b[0;34m\u001b[0m\u001b[0;34m\u001b[0m\u001b[0m\n\u001b[0m\u001b[1;32m     19\u001b[0m         \u001b[0mday\u001b[0m\u001b[0;34m.\u001b[0m\u001b[0mappend\u001b[0m\u001b[0;34m(\u001b[0m\u001b[0md\u001b[0m\u001b[0;34m.\u001b[0m\u001b[0mday\u001b[0m\u001b[0;34m)\u001b[0m\u001b[0;34m\u001b[0m\u001b[0;34m\u001b[0m\u001b[0m\n\u001b[1;32m     20\u001b[0m         \u001b[0mmon\u001b[0m\u001b[0;34m.\u001b[0m\u001b[0mappend\u001b[0m\u001b[0;34m(\u001b[0m\u001b[0md\u001b[0m\u001b[0;34m.\u001b[0m\u001b[0mmonth\u001b[0m\u001b[0;34m)\u001b[0m\u001b[0;34m\u001b[0m\u001b[0;34m\u001b[0m\u001b[0m\n",
      "\u001b[0;31mNameError\u001b[0m: name 'datetime' is not defined"
     ]
    }
   ],
   "source": [
    "import os\n",
    "\n",
    "inbox_direc = '/home/surya/.mutt/cache/bodies/imaps:ee18btech11026@iith.ac.in@imap.gmail.com:993/INBOX'\n",
    "\n",
    "day = []\n",
    "mon = []\n",
    "year = []\n",
    "hour = []\n",
    "minute = []\n",
    "sec = []\n",
    "\n",
    "for filename in os.listdir(inbox_direc):\n",
    "    #print(os.path.join(inbox_direc, filename))\n",
    "    with open(os.path.join(inbox_direc, filename),\"r\") as f :\n",
    "        data= f.read().splitlines()\n",
    "        \n",
    "        data = data[2][13:32]\n",
    "        d = datetime.strptime(data, \"%d %b %Y  %H:%M:%S\")\n",
    "        day.append(d.day)\n",
    "        mon.append(d.month)\n",
    "        year.append(d.year)\n",
    "        hour.append(d.hour)\n",
    "        minute.append(d.minute)\n",
    "        sec.append(d.second)\n"
   ]
  },
  {
   "cell_type": "code",
   "execution_count": 4,
   "metadata": {},
   "outputs": [],
   "source": [
    "import pandas as pd\n",
    "df = pd.DataFrame()\n",
    "df['day'] = day\n",
    "df['mon'] = mon\n",
    "df['year'] = year\n",
    "df['hour'] = hour\n",
    "df['min'] = minute\n",
    "df['sec'] = sec"
   ]
  },
  {
   "cell_type": "code",
   "execution_count": 5,
   "metadata": {},
   "outputs": [
    {
     "data": {
      "text/html": [
       "<div>\n",
       "<style scoped>\n",
       "    .dataframe tbody tr th:only-of-type {\n",
       "        vertical-align: middle;\n",
       "    }\n",
       "\n",
       "    .dataframe tbody tr th {\n",
       "        vertical-align: top;\n",
       "    }\n",
       "\n",
       "    .dataframe thead th {\n",
       "        text-align: right;\n",
       "    }\n",
       "</style>\n",
       "<table border=\"1\" class=\"dataframe\">\n",
       "  <thead>\n",
       "    <tr style=\"text-align: right;\">\n",
       "      <th></th>\n",
       "      <th>day</th>\n",
       "      <th>mon</th>\n",
       "      <th>year</th>\n",
       "      <th>hour</th>\n",
       "      <th>min</th>\n",
       "      <th>sec</th>\n",
       "    </tr>\n",
       "  </thead>\n",
       "  <tbody>\n",
       "  </tbody>\n",
       "</table>\n",
       "</div>"
      ],
      "text/plain": [
       "Empty DataFrame\n",
       "Columns: [day, mon, year, hour, min, sec]\n",
       "Index: []"
      ]
     },
     "execution_count": 5,
     "metadata": {},
     "output_type": "execute_result"
    }
   ],
   "source": [
    "df.head()"
   ]
  },
  {
   "cell_type": "code",
   "execution_count": 6,
   "metadata": {
    "scrolled": true
   },
   "outputs": [
    {
     "name": "stdout",
     "output_type": "stream",
     "text": [
      "Empty DataFrame\n",
      "Columns: [day, mon, year, hour, min, sec]\n",
      "Index: []\n"
     ]
    }
   ],
   "source": [
    "print(df.to_string())"
   ]
  },
  {
   "cell_type": "code",
   "execution_count": 7,
   "metadata": {},
   "outputs": [],
   "source": [
    "recent_df = df.loc[df['mon'] == 10]"
   ]
  },
  {
   "cell_type": "code",
   "execution_count": 8,
   "metadata": {
    "scrolled": true
   },
   "outputs": [
    {
     "name": "stdout",
     "output_type": "stream",
     "text": [
      "Empty DataFrame\n",
      "Columns: [day, mon, year, hour, min, sec]\n",
      "Index: []\n"
     ]
    }
   ],
   "source": [
    "print(recent_df.to_string())"
   ]
  },
  {
   "cell_type": "code",
   "execution_count": 9,
   "metadata": {
    "scrolled": true
   },
   "outputs": [
    {
     "name": "stdout",
     "output_type": "stream",
     "text": [
      "Empty DataFrame\n",
      "Columns: [day, mon, hour, count]\n",
      "Index: []\n"
     ]
    }
   ],
   "source": [
    "mails_per_hour = recent_df.groupby(['day','mon', 'hour']).size().sort_values(ascending=False).reset_index(name='count') \n",
    "print(mails_per_hour)"
   ]
  },
  {
   "cell_type": "code",
   "execution_count": 10,
   "metadata": {},
   "outputs": [
    {
     "data": {
      "text/plain": [
       "(array([0., 0., 0., 0., 0.]),\n",
       " array([1, 2, 3, 4, 5, 6]),\n",
       " <BarContainer object of 5 artists>)"
      ]
     },
     "execution_count": 10,
     "metadata": {},
     "output_type": "execute_result"
    },
    {
     "data": {
      "image/png": "[encoded data removed]",
      "text/plain": [
       "<Figure size 432x288 with 1 Axes>"
      ]
     },
     "metadata": {
      "needs_background": "light"
     },
     "output_type": "display_data"
    }
   ],
   "source": [
    "### mails per hour..\n",
    "import matplotlib.pyplot as plt\n",
    "hour_dict = {}\n",
    "plt.hist(mails_per_hour['count'], bins = [1,2,3,4,5,6])"
   ]
  },
  {
   "cell_type": "code",
   "execution_count": 11,
   "metadata": {},
   "outputs": [
    {
     "name": "stdout",
     "output_type": "stream",
     "text": [
      "{}\n",
      "dict_values([])\n"
     ]
    }
   ],
   "source": [
    "    \n",
    "day_dict = {}\n",
    "\n",
    "for i in recent_df['day']:\n",
    "    if(i in day_dict):\n",
    "        day_dict[i] = day_dict[i] + 1\n",
    "    else :\n",
    "        day_dict[i] = 1\n",
    "print(day_dict)\n",
    "day_dict_count_list = day_dict.values()\n",
    "print(day_dict_count_list)"
   ]
  },
  {
   "cell_type": "code",
   "execution_count": 12,
   "metadata": {},
   "outputs": [
    {
     "data": {
      "text/plain": [
       "(array([0., 0., 0., 0., 0., 0., 0., 0., 0., 0.]),\n",
       " array([0. , 0.1, 0.2, 0.3, 0.4, 0.5, 0.6, 0.7, 0.8, 0.9, 1. ]),\n",
       " <BarContainer object of 10 artists>)"
      ]
     },
     "execution_count": 12,
     "metadata": {},
     "output_type": "execute_result"
    },
    {
     "data": {
      "image/png": "[encoded data removed]",
      "text/plain": [
       "<Figure size 432x288 with 1 Axes>"
      ]
     },
     "metadata": {
      "needs_background": "light"
     },
     "output_type": "display_data"
    }
   ],
   "source": [
    "import matplotlib.pyplot as plt\n",
    "plt.hist(day_dict_count_list)"
   ]
  },
  {
   "cell_type": "markdown",
   "metadata": {},
   "source": [
    "# analysing mails per hour.."
   ]
  },
  {
   "cell_type": "code",
   "execution_count": 13,
   "metadata": {},
   "outputs": [],
   "source": [
    "import os\n",
    "import pandas as pd\n",
    "import matplotlib.pyplot as plt\n",
    "from datetime import datetime\n",
    "import numpy as np\n",
    "import math"
   ]
  },
  {
   "cell_type": "markdown",
   "metadata": {},
   "source": [
    "### Only Sept."
   ]
  },
  {
   "cell_type": "code",
   "execution_count": 14,
   "metadata": {
    "scrolled": true
   },
   "outputs": [
    {
     "name": "stdout",
     "output_type": "stream",
     "text": [
      "     day  mon  hour  count\n",
      "0     12    9    15     10\n",
      "1      2    9     9      9\n",
      "2     29    9    17      8\n",
      "3     13    9    10      8\n",
      "4     16    9    13      7\n",
      "..   ...  ...   ...    ...\n",
      "401   11    9    22      1\n",
      "402   11    9    20      1\n",
      "403   11    9    18      1\n",
      "404   11    9    17      1\n",
      "405    9    9    19      1\n",
      "\n",
      "[406 rows x 4 columns]\n"
     ]
    }
   ],
   "source": [
    "inbox_direc = '/home/surya/.mutt/cache/bodies/imaps:ee18btech11026@iith.ac.in@imap.gmail.com:993/mails_sept'\n",
    "\n",
    "day = []\n",
    "mon = []\n",
    "year = []\n",
    "hour = []\n",
    "minute = []\n",
    "sec = []\n",
    "\n",
    "for filename in os.listdir(inbox_direc):\n",
    "    with open(os.path.join(inbox_direc, filename),\"r\") as f :\n",
    "        data= f.read().splitlines()\n",
    "        \n",
    "        data = data[2][13:32]\n",
    "        try : \n",
    "            d = datetime.strptime(data, \"%d %b %Y  %H:%M:%S\")\n",
    "        except:\n",
    "            continue\n",
    "        day.append(d.day)\n",
    "        mon.append(d.month)\n",
    "        year.append(d.year)\n",
    "        hour.append( (d.hour +12)%24 ) \n",
    "        minute.append(d.minute)\n",
    "        sec.append(d.second)\n",
    "\n",
    "df = pd.DataFrame()\n",
    "df['day'] = day\n",
    "df['mon'] = mon\n",
    "df['year'] = year\n",
    "df['hour'] = hour\n",
    "df['min'] = minute\n",
    "df['sec'] = sec\n",
    "\n",
    "mails_per_hour = df.groupby(['day','mon', 'hour']).size().sort_values(ascending=False).reset_index(name='count') \n",
    "print(mails_per_hour)"
   ]
  },
  {
   "cell_type": "code",
   "execution_count": 15,
   "metadata": {},
   "outputs": [
    {
     "name": "stdout",
     "output_type": "stream",
     "text": [
      "8\n",
      "398\n",
      "0\n"
     ]
    }
   ],
   "source": [
    "print( len(mails_per_hour.loc[mails_per_hour['mon'] == 8]) )\n",
    "print( len(mails_per_hour.loc[mails_per_hour['mon'] == 9]) )\n",
    "print( len(mails_per_hour.loc[mails_per_hour['mon'] == 10]) )\n"
   ]
  },
  {
   "cell_type": "code",
   "execution_count": 16,
   "metadata": {},
   "outputs": [
    {
     "data": {
      "image/png": "[encoded data removed]",
      "text/plain": [
       "<Figure size 432x288 with 1 Axes>"
      ]
     },
     "metadata": {
      "needs_background": "light"
     },
     "output_type": "display_data"
    }
   ],
   "source": [
    "plt.hist( mails_per_hour['hour'],bins = 23 )\n",
    "plt.xlabel(\"hour\")\n",
    "plt.ylabel(\"no. of mails received in the hour\")\n",
    "plt.title(\"mails received in respective hours through out the day\")\n",
    "plt.show()"
   ]
  },
  {
   "cell_type": "code",
   "execution_count": 17,
   "metadata": {},
   "outputs": [
    {
     "name": "stdout",
     "output_type": "stream",
     "text": [
      "288\n"
     ]
    },
    {
     "data": {
      "text/plain": [
       "(array([108.,  73.,  55.,  20.,  21.,   6.,   2.,   2.,   0.,   1.]),\n",
       " array([ 1. ,  1.9,  2.8,  3.7,  4.6,  5.5,  6.4,  7.3,  8.2,  9.1, 10. ]),\n",
       " <BarContainer object of 10 artists>)"
      ]
     },
     "execution_count": 17,
     "metadata": {},
     "output_type": "execute_result"
    },
    {
     "data": {
      "image/png": "[encoded data removed]",
      "text/plain": [
       "<Figure size 432x288 with 1 Axes>"
      ]
     },
     "metadata": {
      "needs_background": "light"
     },
     "output_type": "display_data"
    }
   ],
   "source": [
    "'''\n",
    "Filtering all the mails received throughout september from 10 am to 7pm \n",
    "'''\n",
    "\n",
    "working_hrs = mails_per_hour.loc[ (mails_per_hour['mon'] ==9 ) & ( (mails_per_hour['hour'] >= 10)  & (mails_per_hour['hour'] <= 22) ) ]\n",
    "working_hrs = working_hrs.sort_values(by=\"day\", axis=0, ascending=True, inplace=False, kind='quicksort')\n",
    "print(len(working_hrs))\n",
    "plt.hist( working_hrs['count'] )\n"
   ]
  },
  {
   "cell_type": "code",
   "execution_count": 18,
   "metadata": {},
   "outputs": [
    {
     "name": "stdout",
     "output_type": "stream",
     "text": [
      "{0: 102, 3: 55, 1: 108, 2: 73, 4: 20, 5: 21, 10: 1, 8: 2, 6: 6, 7: 2}\n"
     ]
    },
    {
     "data": {
      "text/plain": [
       "<BarContainer object of 10 artists>"
      ]
     },
     "execution_count": 18,
     "metadata": {},
     "output_type": "execute_result"
    },
    {
     "data": {
      "image/png": "[encoded data removed]",
      "text/plain": [
       "<Figure size 432x288 with 1 Axes>"
      ]
     },
     "metadata": {
      "needs_background": "light"
     },
     "output_type": "display_data"
    }
   ],
   "source": [
    "hr_dict = {0: 30*(13) - len(working_hrs)}\n",
    "for i in working_hrs['count']:\n",
    "    if(i in hr_dict):\n",
    "        hr_dict[i] = hr_dict[i] + 1\n",
    "    else :\n",
    "        hr_dict[i] = 1\n",
    "print(hr_dict)\n",
    "plt.bar(hr_dict.keys(), hr_dict.values())"
   ]
  },
  {
   "cell_type": "code",
   "execution_count": 19,
   "metadata": {},
   "outputs": [
    {
     "name": "stdout",
     "output_type": "stream",
     "text": [
      "{0: 102, 3: 55, 1: 108, 2: 73, 4: 20, 5: 21, 10: 1, 8: 2, 6: 6, 7: 2}\n",
      "1.7435897435897436\n"
     ]
    }
   ],
   "source": [
    "print(hr_dict)\n",
    "\n",
    "count = 0\n",
    "mean = 0\n",
    "for key, val in hr_dict.items():\n",
    "    count = count + val\n",
    "    mean = mean +  key*val\n",
    "    \n",
    "mean = mean/count\n",
    "print(mean)"
   ]
  },
  {
   "cell_type": "code",
   "execution_count": 20,
   "metadata": {},
   "outputs": [
    {
     "ename": "NameError",
     "evalue": "name 'x' is not defined",
     "output_type": "error",
     "traceback": [
      "\u001b[0;31m---------------------------------------------------------------------------\u001b[0m",
      "\u001b[0;31mNameError\u001b[0m                                 Traceback (most recent call last)",
      "\u001b[0;32m<ipython-input-20-2149e6ff8580>\u001b[0m in \u001b[0;36m<module>\u001b[0;34m\u001b[0m\n\u001b[1;32m      6\u001b[0m     \u001b[0;32mreturn\u001b[0m \u001b[0mans\u001b[0m\u001b[0;34m\u001b[0m\u001b[0;34m\u001b[0m\u001b[0m\n\u001b[1;32m      7\u001b[0m \u001b[0;34m\u001b[0m\u001b[0m\n\u001b[0;32m----> 8\u001b[0;31m \u001b[0ma\u001b[0m \u001b[0;34m=\u001b[0m \u001b[0mnp\u001b[0m\u001b[0;34m.\u001b[0m\u001b[0msort\u001b[0m\u001b[0;34m(\u001b[0m\u001b[0mx\u001b[0m\u001b[0;34m.\u001b[0m\u001b[0mcopy\u001b[0m\u001b[0;34m(\u001b[0m\u001b[0;34m)\u001b[0m\u001b[0;34m)\u001b[0m\u001b[0;34m\u001b[0m\u001b[0;34m\u001b[0m\u001b[0m\n\u001b[0m\u001b[1;32m      9\u001b[0m \u001b[0mf\u001b[0m \u001b[0;34m=\u001b[0m \u001b[0mpoisson_pmf\u001b[0m\u001b[0;34m(\u001b[0m\u001b[0ma\u001b[0m\u001b[0;34m,\u001b[0m \u001b[0mmean\u001b[0m\u001b[0;34m)\u001b[0m\u001b[0;34m\u001b[0m\u001b[0;34m\u001b[0m\u001b[0m\n\u001b[1;32m     10\u001b[0m \u001b[0mplt\u001b[0m\u001b[0;34m.\u001b[0m\u001b[0mplot\u001b[0m\u001b[0;34m(\u001b[0m\u001b[0ma\u001b[0m\u001b[0;34m,\u001b[0m\u001b[0mf\u001b[0m\u001b[0;34m)\u001b[0m\u001b[0;34m\u001b[0m\u001b[0;34m\u001b[0m\u001b[0m\n",
      "\u001b[0;31mNameError\u001b[0m: name 'x' is not defined"
     ]
    }
   ],
   "source": [
    "def poisson_pmf(x_list, lam):\n",
    "    ans = []\n",
    "    for x in x_list:\n",
    "        y = np.exp(-1*lam)*pow(lam,x)/(math.factorial(x))\n",
    "        ans.append(y)\n",
    "    return ans\n",
    "\n",
    "a = np.sort(x.copy())\n",
    "f = poisson_pmf(a, mean)\n",
    "plt.plot(a,f)"
   ]
  },
  {
   "cell_type": "code",
   "execution_count": null,
   "metadata": {},
   "outputs": [],
   "source": [
    "pmf = list(hr_dict.values())\n",
    "pmf = pmf / np.sum(pmf)\n",
    "x = list(hr_dict.keys())\n",
    "plt.bar(x, pmf, color = 'blue', label = 'Bar plot of frequency') \n",
    "plt.plot(a,f, color = 'red', label = 'poisson modelling for calculated mean')\n",
    "plt.xlabel('k : mails received per hour')\n",
    "plt.ylabel(' pmf (k)')\n",
    "plt.legend()\n",
    "plt.title(\"Modelling as a poisson distribution (lam = %.2f)\"%(lam))\n",
    "plt.show()\n"
   ]
  },
  {
   "cell_type": "markdown",
   "metadata": {},
   "source": [
    "The above plot is for the month of september : mails received between 10 am to 10 pm"
   ]
  },
  {
   "cell_type": "markdown",
   "metadata": {},
   "source": [
    "# Sept + Aug"
   ]
  },
  {
   "cell_type": "code",
   "execution_count": null,
   "metadata": {},
   "outputs": [],
   "source": [
    "inbox_direc = '/home/surya/.mutt/cache/bodies/imaps:ee18btech11026@iith.ac.in@imap.gmail.com:993/INBOX'\n",
    "\n",
    "day = []\n",
    "mon = []\n",
    "year = []\n",
    "hour = []\n",
    "minute = []\n",
    "sec = []\n",
    "\n",
    "for filename in os.listdir(inbox_direc):\n",
    "    with open(os.path.join(inbox_direc, filename),\"r\") as f :\n",
    "        data= f.read().splitlines()\n",
    "        \n",
    "        data = data[2][13:32]\n",
    "        try : \n",
    "            d = datetime.strptime(data, \"%d %b %Y  %H:%M:%S\")\n",
    "        except:\n",
    "            continue\n",
    "        day.append(d.day)\n",
    "        mon.append(d.month)\n",
    "        year.append(d.year)\n",
    "        hour.append( (d.hour + 12)%24 ) \n",
    "        minute.append(d.minute)\n",
    "        sec.append(d.second)\n",
    "\n",
    "df = pd.DataFrame()\n",
    "df['day'] = day\n",
    "df['mon'] = mon\n",
    "df['year'] = year\n",
    "df['hour'] = hour\n",
    "df['min'] = minute\n",
    "df['sec'] = sec\n",
    "\n",
    "mails_per_hour = df.groupby(['day','mon', 'hour']).size().sort_values(ascending=False).reset_index(name='count') \n",
    "print(mails_per_hour)"
   ]
  },
  {
   "cell_type": "code",
   "execution_count": null,
   "metadata": {},
   "outputs": [],
   "source": [
    "print( len(mails_per_hour.loc[mails_per_hour['mon'] == 8]) )\n",
    "print( len(mails_per_hour.loc[mails_per_hour['mon'] == 9]) )\n",
    "print( len(mails_per_hour.loc[mails_per_hour['mon'] == 10]) )\n"
   ]
  },
  {
   "cell_type": "code",
   "execution_count": null,
   "metadata": {},
   "outputs": [],
   "source": [
    "plt.hist( mails_per_hour['hour'],bins = 23 )\n",
    "plt.xlabel(\"hour\")\n",
    "plt.ylabel(\"no. of mails received in the hour\")\n",
    "plt.title(\"mails received in respective hours through out the day\")\n",
    "plt.show()"
   ]
  },
  {
   "cell_type": "code",
   "execution_count": null,
   "metadata": {},
   "outputs": [],
   "source": [
    "'''\n",
    "Filtering all the mails received throughout september from 10 am to 7pm \n",
    "'''\n",
    "\n",
    "working_hrs = mails_per_hour.loc[ (mails_per_hour['mon'] >=8 ) & np.logical_and( (mails_per_hour['hour'] >= 10) , (mails_per_hour['hour'] <= 22) ) ]\n",
    "working_hrs = working_hrs.sort_values(by=\"day\", axis=0, ascending=True, inplace=False, kind='quicksort')\n",
    "print(len(working_hrs))\n",
    "plt.hist( working_hrs['count'] )\n"
   ]
  },
  {
   "cell_type": "code",
   "execution_count": null,
   "metadata": {},
   "outputs": [],
   "source": [
    "hr_dict = {0: 60*(13) - len(working_hrs)}\n",
    "for i in working_hrs['count']:\n",
    "    if(i in hr_dict):\n",
    "        hr_dict[i] = hr_dict[i] + 1\n",
    "    else :\n",
    "        hr_dict[i] = 1\n",
    "print(hr_dict)\n",
    "plt.bar(hr_dict.keys(), hr_dict.values())"
   ]
  },
  {
   "cell_type": "code",
   "execution_count": null,
   "metadata": {},
   "outputs": [],
   "source": [
    "print(hr_dict)\n",
    "\n",
    "count = 0\n",
    "mean = 0\n",
    "for key, val in hr_dict.items():\n",
    "    count = count + val\n",
    "    mean = mean +  key*val\n",
    "    \n",
    "mean = mean/count\n",
    "print(mean)"
   ]
  },
  {
   "cell_type": "code",
   "execution_count": null,
   "metadata": {},
   "outputs": [],
   "source": [
    "def poisson_pmf(x_list, lam):\n",
    "    ans = []\n",
    "    for x in x_list:\n",
    "        y = np.exp(-1*lam)*pow(lam,x)/(math.factorial(x))\n",
    "        ans.append(y)\n",
    "    return ans\n",
    "\n",
    "a = np.sort(x.copy())\n",
    "f = poisson_pmf(a, mean)\n",
    "plt.plot(a,f)"
   ]
  },
  {
   "cell_type": "code",
   "execution_count": null,
   "metadata": {},
   "outputs": [],
   "source": [
    "pmf = list(hr_dict.values())\n",
    "pmf = pmf / np.sum(pmf)\n",
    "x = list(hr_dict.keys())\n",
    "plt.bar(x, pmf, color = 'blue', label = 'Bar plot of frequency') \n",
    "plt.plot(a,f, color = 'red', label = 'poisson modelling for calculated mean')\n",
    "plt.xlabel('k : mails received per hour')\n",
    "plt.ylabel(' pmf (k)')\n",
    "plt.legend()\n",
    "plt.title(\"Modelling as a poisson distribution (lam = %.2f)\"%(mean))\n",
    "plt.show()\n"
   ]
  },
  {
   "cell_type": "markdown",
   "metadata": {},
   "source": [
    "Both for Sept and Oct ... during hours 10 t0 22 pm"
   ]
  },
  {
   "cell_type": "code",
   "execution_count": null,
   "metadata": {},
   "outputs": [],
   "source": []
  },
  {
   "cell_type": "code",
   "execution_count": null,
   "metadata": {},
   "outputs": [],
   "source": []
  },
  {
   "cell_type": "code",
   "execution_count": null,
   "metadata": {},
   "outputs": [],
   "source": []
  }
 ],
 "metadata": {
  "kernelspec": {
   "display_name": "Python 3",
   "language": "python",
   "name": "python3"
  },
  "language_info": {
   "codemirror_mode": {
    "name": "ipython",
    "version": 3
   },
   "file_extension": ".py",
   "mimetype": "text/x-python",
   "name": "python",
   "nbconvert_exporter": "python",
   "pygments_lexer": "ipython3",
   "version": "3.7.7"
  }
 },
 "nbformat": 4,
 "nbformat_minor": 4
}
