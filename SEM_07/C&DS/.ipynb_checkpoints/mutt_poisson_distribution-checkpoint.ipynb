{
 "cells": [
  {
   "cell_type": "code",
   "execution_count": 2,
   "metadata": {},
   "outputs": [],
   "source": [
    "with open (\"/home/surya/.mutt/cache/bodies/imaps:ee18btech11026@iith.ac.in@imap.gmail.com:993/INBOX/1-24023\", \"r\") as myfile:\n",
    "    data = myfile.read().splitlines()"
   ]
  },
  {
   "cell_type": "code",
   "execution_count": 12,
   "metadata": {},
   "outputs": [],
   "source": [
    "import os\n"
   ]
  },
  {
   "cell_type": "code",
   "execution_count": 15,
   "metadata": {
    "scrolled": true
   },
   "outputs": [],
   "source": [
    "import os\n",
    "\n",
    "inbox_direc = '/home/surya/.mutt/cache/bodies/imaps:ee18btech11026@iith.ac.in@imap.gmail.com:993/INBOX'\n",
    "\n",
    "day = []\n",
    "mon = []\n",
    "year = []\n",
    "hour = []\n",
    "minute = []\n",
    "sec = []\n",
    "\n",
    "for filename in os.listdir(inbox_direc):\n",
    "    #print(os.path.join(inbox_direc, filename))\n",
    "    with open(os.path.join(inbox_direc, filename),\"r\") as f :\n",
    "        data= f.read().splitlines()\n",
    "        \n",
    "        data = data[2][13:32]\n",
    "        d = datetime.strptime(data, \"%d %b %Y  %H:%M:%S\")\n",
    "        day.append(d.day)\n",
    "        mon.append(d.month)\n",
    "        year.append(d.year)\n",
    "        hour.append(d.hour)\n",
    "        minute.append(d.minute)\n",
    "        sec.append(d.second)\n"
   ]
  },
  {
   "cell_type": "code",
   "execution_count": 16,
   "metadata": {},
   "outputs": [],
   "source": [
    "import pandas as pd\n",
    "df = pd.DataFrame()\n",
    "df['day'] = day\n",
    "df['mon'] = mon\n",
    "df['year'] = year\n",
    "df['hour'] = hour\n",
    "df['min'] = minute\n",
    "df['sec'] = sec"
   ]
  },
  {
   "cell_type": "code",
   "execution_count": 17,
   "metadata": {},
   "outputs": [
    {
     "data": {
      "text/html": [
       "<div>\n",
       "<style scoped>\n",
       "    .dataframe tbody tr th:only-of-type {\n",
       "        vertical-align: middle;\n",
       "    }\n",
       "\n",
       "    .dataframe tbody tr th {\n",
       "        vertical-align: top;\n",
       "    }\n",
       "\n",
       "    .dataframe thead th {\n",
       "        text-align: right;\n",
       "    }\n",
       "</style>\n",
       "<table border=\"1\" class=\"dataframe\">\n",
       "  <thead>\n",
       "    <tr style=\"text-align: right;\">\n",
       "      <th></th>\n",
       "      <th>day</th>\n",
       "      <th>mon</th>\n",
       "      <th>year</th>\n",
       "      <th>hour</th>\n",
       "      <th>min</th>\n",
       "      <th>sec</th>\n",
       "    </tr>\n",
       "  </thead>\n",
       "  <tbody>\n",
       "    <tr>\n",
       "      <th>0</th>\n",
       "      <td>7</td>\n",
       "      <td>10</td>\n",
       "      <td>2021</td>\n",
       "      <td>4</td>\n",
       "      <td>49</td>\n",
       "      <td>32</td>\n",
       "    </tr>\n",
       "    <tr>\n",
       "      <th>1</th>\n",
       "      <td>4</td>\n",
       "      <td>10</td>\n",
       "      <td>2021</td>\n",
       "      <td>7</td>\n",
       "      <td>15</td>\n",
       "      <td>17</td>\n",
       "    </tr>\n",
       "    <tr>\n",
       "      <th>2</th>\n",
       "      <td>14</td>\n",
       "      <td>8</td>\n",
       "      <td>2021</td>\n",
       "      <td>23</td>\n",
       "      <td>49</td>\n",
       "      <td>1</td>\n",
       "    </tr>\n",
       "    <tr>\n",
       "      <th>3</th>\n",
       "      <td>3</td>\n",
       "      <td>10</td>\n",
       "      <td>2021</td>\n",
       "      <td>4</td>\n",
       "      <td>27</td>\n",
       "      <td>8</td>\n",
       "    </tr>\n",
       "    <tr>\n",
       "      <th>4</th>\n",
       "      <td>4</td>\n",
       "      <td>10</td>\n",
       "      <td>2021</td>\n",
       "      <td>8</td>\n",
       "      <td>11</td>\n",
       "      <td>40</td>\n",
       "    </tr>\n",
       "  </tbody>\n",
       "</table>\n",
       "</div>"
      ],
      "text/plain": [
       "   day  mon  year  hour  min  sec\n",
       "0    7   10  2021     4   49   32\n",
       "1    4   10  2021     7   15   17\n",
       "2   14    8  2021    23   49    1\n",
       "3    3   10  2021     4   27    8\n",
       "4    4   10  2021     8   11   40"
      ]
     },
     "execution_count": 17,
     "metadata": {},
     "output_type": "execute_result"
    }
   ],
   "source": [
    "df.head()"
   ]
  },
  {
   "cell_type": "code",
   "execution_count": 18,
   "metadata": {
    "scrolled": true
   },
   "outputs": [
    {
     "name": "stdout",
     "output_type": "stream",
     "text": [
      "    day  mon  year  hour  min  sec\n",
      "0     7   10  2021     4   49   32\n",
      "1     4   10  2021     7   15   17\n",
      "2    14    8  2021    23   49    1\n",
      "3     3   10  2021     4   27    8\n",
      "4     4   10  2021     8   11   40\n",
      "5     6   10  2021    21   55   17\n",
      "6    15    8  2021    22   58    1\n",
      "7    15    8  2021     8   47    3\n",
      "8     6   10  2021     7   10   22\n",
      "9    13    8  2021    22   41    5\n",
      "10   15    8  2021     7   46    2\n",
      "11   15    8  2021    12    5    4\n",
      "12    5   10  2021     5   25   19\n",
      "13    5   10  2021     5   10   24\n",
      "14    4   10  2021     4   11   37\n",
      "15   28    8  2021     0   15    1\n",
      "16    3   10  2021    23   41   41\n",
      "17    7   10  2021     4   41   42\n",
      "18    2   10  2021    22   20   17\n",
      "19    6   10  2021     7   15   18\n",
      "20    8   10  2021    11   56   57\n",
      "21    2   10  2021    21   25   15\n",
      "22   23    8  2021     7   16    2\n",
      "23    2   10  2021    21   10   18\n",
      "24    4   10  2021     6   15   19\n",
      "25    6   10  2021     7   15   18\n",
      "26   15    8  2021     2   39    1\n",
      "27    6   10  2021    23   33   58\n",
      "28    4   10  2021     4   11    9\n",
      "29    7   10  2021    23   15   20\n",
      "30    7   10  2021     4   10   28\n",
      "31    6   10  2021    12   13    0\n",
      "32    6   10  2021    21   55   18\n",
      "33    5   10  2021    10   25   21\n",
      "34    4   10  2021     4   14   32\n",
      "35    7   10  2021    23   20   19\n",
      "36    2   10  2021    21   30   17\n",
      "37    5   10  2021     5   15   19\n",
      "38   14    8  2021    23   12    4\n",
      "39    4   10  2021     8    8   23\n",
      "40    6   10  2021    13    4   21\n",
      "41   18    8  2021    21   44    2\n",
      "42   23    8  2021     1   45    3\n",
      "43   15    8  2021     2   50    0\n",
      "44    4   10  2021     4   11   12\n",
      "45    2   10  2021    22   20   17\n",
      "46    2   10  2021    23   35   58\n",
      "47    4   10  2021     7    5   19\n",
      "48    4   10  2021    12   24   31\n",
      "49   15    8  2021    20   43    0\n",
      "50    5   10  2021     5    5   20\n",
      "51    5   10  2021    10   10   28\n",
      "52    4   10  2021     9   25    6\n",
      "53    5   10  2021    10    5   29\n"
     ]
    }
   ],
   "source": [
    "print(df.to_string())"
   ]
  },
  {
   "cell_type": "code",
   "execution_count": 19,
   "metadata": {},
   "outputs": [],
   "source": [
    "recent_df = df.loc[df['mon'] == 10]"
   ]
  },
  {
   "cell_type": "code",
   "execution_count": 20,
   "metadata": {
    "scrolled": true
   },
   "outputs": [
    {
     "name": "stdout",
     "output_type": "stream",
     "text": [
      "    day  mon  year  hour  min  sec\n",
      "0     7   10  2021     4   49   32\n",
      "1     4   10  2021     7   15   17\n",
      "3     3   10  2021     4   27    8\n",
      "4     4   10  2021     8   11   40\n",
      "5     6   10  2021    21   55   17\n",
      "8     6   10  2021     7   10   22\n",
      "12    5   10  2021     5   25   19\n",
      "13    5   10  2021     5   10   24\n",
      "14    4   10  2021     4   11   37\n",
      "16    3   10  2021    23   41   41\n",
      "17    7   10  2021     4   41   42\n",
      "18    2   10  2021    22   20   17\n",
      "19    6   10  2021     7   15   18\n",
      "20    8   10  2021    11   56   57\n",
      "21    2   10  2021    21   25   15\n",
      "23    2   10  2021    21   10   18\n",
      "24    4   10  2021     6   15   19\n",
      "25    6   10  2021     7   15   18\n",
      "27    6   10  2021    23   33   58\n",
      "28    4   10  2021     4   11    9\n",
      "29    7   10  2021    23   15   20\n",
      "30    7   10  2021     4   10   28\n",
      "31    6   10  2021    12   13    0\n",
      "32    6   10  2021    21   55   18\n",
      "33    5   10  2021    10   25   21\n",
      "34    4   10  2021     4   14   32\n",
      "35    7   10  2021    23   20   19\n",
      "36    2   10  2021    21   30   17\n",
      "37    5   10  2021     5   15   19\n",
      "39    4   10  2021     8    8   23\n",
      "40    6   10  2021    13    4   21\n",
      "44    4   10  2021     4   11   12\n",
      "45    2   10  2021    22   20   17\n",
      "46    2   10  2021    23   35   58\n",
      "47    4   10  2021     7    5   19\n",
      "48    4   10  2021    12   24   31\n",
      "50    5   10  2021     5    5   20\n",
      "51    5   10  2021    10   10   28\n",
      "52    4   10  2021     9   25    6\n",
      "53    5   10  2021    10    5   29\n"
     ]
    }
   ],
   "source": [
    "print(recent_df.to_string())"
   ]
  },
  {
   "cell_type": "code",
   "execution_count": 22,
   "metadata": {
    "scrolled": true
   },
   "outputs": [
    {
     "name": "stdout",
     "output_type": "stream",
     "text": [
      "    day  mon  hour  count\n",
      "0     4   10     4      4\n",
      "1     5   10     5      4\n",
      "2     2   10    21      3\n",
      "3     7   10     4      3\n",
      "4     6   10     7      3\n",
      "5     5   10    10      3\n",
      "6     2   10    22      2\n",
      "7     6   10    21      2\n",
      "8     7   10    23      2\n",
      "9     4   10     8      2\n",
      "10    4   10     7      2\n",
      "11    2   10    23      1\n",
      "12    3   10     4      1\n",
      "13    3   10    23      1\n",
      "14    8   10    11      1\n",
      "15    4   10     6      1\n",
      "16    4   10     9      1\n",
      "17    6   10    12      1\n",
      "18    6   10    13      1\n",
      "19    6   10    23      1\n",
      "20    4   10    12      1\n"
     ]
    }
   ],
   "source": [
    "mails_per_hour = recent_df.groupby(['day','mon', 'hour']).size().sort_values(ascending=False).reset_index(name='count') \n",
    "print(mails_per_hour)"
   ]
  },
  {
   "cell_type": "code",
   "execution_count": 26,
   "metadata": {},
   "outputs": [
    {
     "data": {
      "text/plain": [
       "(array([10.,  5.,  4.,  2.,  0.]),\n",
       " array([1, 2, 3, 4, 5, 6]),\n",
       " <BarContainer object of 5 artists>)"
      ]
     },
     "execution_count": 26,
     "metadata": {},
     "output_type": "execute_result"
    },
    {
     "data": {
      "image/png": "[encoded data removed]",
      "text/plain": [
       "<Figure size 432x288 with 1 Axes>"
      ]
     },
     "metadata": {
      "needs_background": "light"
     },
     "output_type": "display_data"
    }
   ],
   "source": [
    "### mails per hour..\n",
    "import matplotlib.pyplot as plt\n",
    "hour_dict = {}\n",
    "plt.hist(mails_per_hour['count'], bins = [1,2,3,4,5,6])"
   ]
  },
  {
   "cell_type": "code",
   "execution_count": 68,
   "metadata": {},
   "outputs": [
    {
     "name": "stdout",
     "output_type": "stream",
     "text": [
      "{7: 5, 4: 11, 3: 2, 6: 8, 5: 7, 2: 6, 8: 1}\n",
      "dict_values([5, 11, 2, 8, 7, 6, 1])\n"
     ]
    }
   ],
   "source": [
    "    \n",
    "day_dict = {}\n",
    "\n",
    "for i in recent_df['day']:\n",
    "    if(i in day_dict):\n",
    "        day_dict[i] = day_dict[i] + 1\n",
    "    else :\n",
    "        day_dict[i] = 1\n",
    "print(day_dict)\n",
    "day_dict_count_list = day_dict.values()\n",
    "print(day_dict_count_list)"
   ]
  },
  {
   "cell_type": "code",
   "execution_count": 69,
   "metadata": {},
   "outputs": [
    {
     "data": {
      "text/plain": [
       "(array([1., 1., 0., 0., 1., 1., 1., 1., 0., 1.]),\n",
       " array([ 1.,  2.,  3.,  4.,  5.,  6.,  7.,  8.,  9., 10., 11.]),\n",
       " <BarContainer object of 10 artists>)"
      ]
     },
     "execution_count": 69,
     "metadata": {},
     "output_type": "execute_result"
    },
    {
     "data": {
      "image/png": "[encoded data removed]",
      "text/plain": [
       "<Figure size 432x288 with 1 Axes>"
      ]
     },
     "metadata": {
      "needs_background": "light"
     },
     "output_type": "display_data"
    }
   ],
   "source": [
    "import matplotlib.pyplot as plt\n",
    "plt.hist(day_dict_count_list)"
   ]
  },
  {
   "cell_type": "markdown",
   "metadata": {},
   "source": [
    "# analysing mails per hour.."
   ]
  },
  {
   "cell_type": "code",
   "execution_count": 156,
   "metadata": {},
   "outputs": [],
   "source": [
    "import os\n",
    "import pandas as pd\n",
    "import matplotlib.pyplot as plt\n",
    "from datetime import datetime\n",
    "import numpy as np\n",
    "import math"
   ]
  },
  {
   "cell_type": "code",
   "execution_count": 157,
   "metadata": {
    "scrolled": true
   },
   "outputs": [
    {
     "name": "stdout",
     "output_type": "stream",
     "text": [
      "     day  mon  hour  count\n",
      "0     12    9    15     10\n",
      "1     15    8    10     10\n",
      "2     18    8     9      9\n",
      "3      2    9     9      9\n",
      "4      6    8    12      9\n",
      "..   ...  ...   ...    ...\n",
      "760   12    8    17      1\n",
      "761   23    9     7      1\n",
      "762   23    9     6      1\n",
      "763   23    9     2      1\n",
      "764    1    8     0      1\n",
      "\n",
      "[765 rows x 4 columns]\n"
     ]
    }
   ],
   "source": [
    "inbox_direc = '/home/surya/.mutt/cache/bodies/imaps:ee18btech11026@iith.ac.in@imap.gmail.com:993/INBOX'\n",
    "\n",
    "day = []\n",
    "mon = []\n",
    "year = []\n",
    "hour = []\n",
    "minute = []\n",
    "sec = []\n",
    "\n",
    "for filename in os.listdir(inbox_direc):\n",
    "    with open(os.path.join(inbox_direc, filename),\"r\") as f :\n",
    "        data= f.read().splitlines()\n",
    "        \n",
    "        data = data[2][13:32]\n",
    "        try : \n",
    "            d = datetime.strptime(data, \"%d %b %Y  %H:%M:%S\")\n",
    "        except:\n",
    "            continue\n",
    "        day.append(d.day)\n",
    "        mon.append(d.month)\n",
    "        year.append(d.year)\n",
    "        hour.append( (d.hour + 12)%24 ) \n",
    "        minute.append(d.minute)\n",
    "        sec.append(d.second)\n",
    "\n",
    "df = pd.DataFrame()\n",
    "df['day'] = day\n",
    "df['mon'] = mon\n",
    "df['year'] = year\n",
    "df['hour'] = hour\n",
    "df['min'] = minute\n",
    "df['sec'] = sec\n",
    "\n",
    "mails_per_hour = df.groupby(['day','mon', 'hour']).size().sort_values(ascending=False).reset_index(name='count') \n",
    "print(mails_per_hour)"
   ]
  },
  {
   "cell_type": "code",
   "execution_count": 158,
   "metadata": {},
   "outputs": [
    {
     "name": "stdout",
     "output_type": "stream",
     "text": [
      "364\n",
      "398\n",
      "0\n"
     ]
    }
   ],
   "source": [
    "print( len(mails_per_hour.loc[mails_per_hour['mon'] == 8]) )\n",
    "print( len(mails_per_hour.loc[mails_per_hour['mon'] == 9]) )\n",
    "print( len(mails_per_hour.loc[mails_per_hour['mon'] == 10]) )\n",
    "\n"
   ]
  },
  {
   "cell_type": "code",
   "execution_count": 160,
   "metadata": {},
   "outputs": [
    {
     "data": {
      "text/plain": [
       "(array([26., 14., 11.,  2.,  8., 11., 14., 27., 37., 51., 47., 50., 47.,\n",
       "        40., 42., 46., 48., 44., 37., 30., 37., 40., 56.]),\n",
       " array([ 0.,  1.,  2.,  3.,  4.,  5.,  6.,  7.,  8.,  9., 10., 11., 12.,\n",
       "        13., 14., 15., 16., 17., 18., 19., 20., 21., 22., 23.]),\n",
       " <BarContainer object of 23 artists>)"
      ]
     },
     "execution_count": 160,
     "metadata": {},
     "output_type": "execute_result"
    },
    {
     "data": {
      "image/png": "[encoded data removed]",
      "text/plain": [
       "<Figure size 432x288 with 1 Axes>"
      ]
     },
     "metadata": {
      "needs_background": "light"
     },
     "output_type": "display_data"
    }
   ],
   "source": [
    "plt.hist( mails_per_hour['hour'],bins = 23 )"
   ]
  },
  {
   "cell_type": "code",
   "execution_count": 161,
   "metadata": {},
   "outputs": [
    {
     "data": {
      "text/plain": [
       "(array([345., 218., 106.,  44.,  31.,  11.,   3.,   2.,   3.,   2.]),\n",
       " array([ 1. ,  1.9,  2.8,  3.7,  4.6,  5.5,  6.4,  7.3,  8.2,  9.1, 10. ]),\n",
       " <BarContainer object of 10 artists>)"
      ]
     },
     "execution_count": 161,
     "metadata": {},
     "output_type": "execute_result"
    },
    {
     "data": {
      "image/png": "[encoded data removed]",
      "text/plain": [
       "<Figure size 432x288 with 1 Axes>"
      ]
     },
     "metadata": {
      "needs_background": "light"
     },
     "output_type": "display_data"
    }
   ],
   "source": [
    "plt.hist( mails_per_hour['count'] )"
   ]
  },
  {
   "cell_type": "code",
   "execution_count": 177,
   "metadata": {},
   "outputs": [
    {
     "name": "stdout",
     "output_type": "stream",
     "text": [
      "613\n"
     ]
    },
    {
     "data": {
      "text/plain": [
       "(array([232., 191.,  97.,  41.,  31.,  11.,   3.,   2.,   3.,   2.]),\n",
       " array([ 1. ,  1.9,  2.8,  3.7,  4.6,  5.5,  6.4,  7.3,  8.2,  9.1, 10. ]),\n",
       " <BarContainer object of 10 artists>)"
      ]
     },
     "execution_count": 177,
     "metadata": {},
     "output_type": "execute_result"
    },
    {
     "data": {
      "image/png": "[encoded data removed]",
      "text/plain": [
       "<Figure size 432x288 with 1 Axes>"
      ]
     },
     "metadata": {
      "needs_background": "light"
     },
     "output_type": "display_data"
    }
   ],
   "source": [
    "'''\n",
    "Filtering all the mails received throughout september from 9 am to 7pm \n",
    "'''\n",
    "\n",
    "working_hrs = mails_per_hour.loc[ (mails_per_hour['mon'] >=8 ) & ( (mails_per_hour['hour'] >= 9)  & (mails_per_hour['hour'] <= 21) ) ]\n",
    "working_hrs = working_hrs.sort_values(by=\"day\", axis=0, ascending=True, inplace=False, kind='quicksort')\n",
    "print(len(working_hrs))\n",
    "plt.hist( working_hrs['count'] )\n"
   ]
  },
  {
   "cell_type": "code",
   "execution_count": 178,
   "metadata": {},
   "outputs": [
    {
     "name": "stdout",
     "output_type": "stream",
     "text": [
      "{0: 347, 2: 191, 1: 232, 4: 41, 3: 97, 9: 3, 5: 31, 6: 11, 10: 2, 8: 2, 7: 3}\n"
     ]
    },
    {
     "data": {
      "text/plain": [
       "<BarContainer object of 11 artists>"
      ]
     },
     "execution_count": 178,
     "metadata": {},
     "output_type": "execute_result"
    },
    {
     "data": {
      "image/png": "[encoded data removed]",
      "text/plain": [
       "<Figure size 432x288 with 1 Axes>"
      ]
     },
     "metadata": {
      "needs_background": "light"
     },
     "output_type": "display_data"
    }
   ],
   "source": [
    "hr_dict = {0: 60*(16) - len(working_hrs)}\n",
    "for i in working_hrs['count']:\n",
    "    if(i in hr_dict):\n",
    "        hr_dict[i] = hr_dict[i] + 1\n",
    "    else :\n",
    "        hr_dict[i] = 1\n",
    "print(hr_dict)\n",
    "plt.bar(hr_dict.keys(), hr_dict.values())"
   ]
  },
  {
   "cell_type": "code",
   "execution_count": 179,
   "metadata": {},
   "outputs": [
    {
     "name": "stdout",
     "output_type": "stream",
     "text": [
      "{0: 347, 2: 191, 1: 232, 4: 41, 3: 97, 9: 3, 5: 31, 6: 11, 10: 2, 8: 2, 7: 3}\n",
      "1.43125\n"
     ]
    }
   ],
   "source": [
    "print(hr_dict)\n",
    "\n",
    "count = 0\n",
    "mean = 0\n",
    "for key, val in hr_dict.items():\n",
    "    count = count + val\n",
    "    mean = mean +  key*val\n",
    "    \n",
    "mean = mean/count\n",
    "print(mean)"
   ]
  },
  {
   "cell_type": "code",
   "execution_count": 180,
   "metadata": {},
   "outputs": [
    {
     "data": {
      "text/plain": [
       "[<matplotlib.lines.Line2D at 0x7f97e7cca390>]"
      ]
     },
     "execution_count": 180,
     "metadata": {},
     "output_type": "execute_result"
    },
    {
     "data": {
      "image/png": "[encoded data removed]",
      "text/plain": [
       "<Figure size 432x288 with 1 Axes>"
      ]
     },
     "metadata": {
      "needs_background": "light"
     },
     "output_type": "display_data"
    }
   ],
   "source": [
    "def poisson_pmf(x_list, lam):\n",
    "    ans = []\n",
    "    for x in x_list:\n",
    "        y = np.exp(-1*lam)*pow(lam,x)/(math.factorial(x))\n",
    "        ans.append(y)\n",
    "    return ans\n",
    "\n",
    "a = np.sort(x.copy())\n",
    "f = poisson_pmf(a, mean)\n",
    "plt.plot(a,f)"
   ]
  },
  {
   "cell_type": "code",
   "execution_count": 181,
   "metadata": {},
   "outputs": [
    {
     "data": {
      "image/png": "[encoded data removed]",
      "text/plain": [
       "<Figure size 432x288 with 1 Axes>"
      ]
     },
     "metadata": {
      "needs_background": "light"
     },
     "output_type": "display_data"
    },
    {
     "name": "stdout",
     "output_type": "stream",
     "text": [
      "1.4312499999999997\n"
     ]
    }
   ],
   "source": [
    "pmf = list(hr_dict.values())\n",
    "pmf = pmf / np.sum(pmf)\n",
    "x = list(hr_dict.keys())\n",
    "plt.bar(x, pmf, color = 'blue') \n",
    "plt.plot(a,f, color = 'red')\n",
    "plt.show()\n",
    "\n",
    "lam = np.dot(x,pmf)\n",
    "print(lam)"
   ]
  },
  {
   "cell_type": "code",
   "execution_count": null,
   "metadata": {},
   "outputs": [],
   "source": []
  },
  {
   "cell_type": "code",
   "execution_count": null,
   "metadata": {},
   "outputs": [],
   "source": []
  },
  {
   "cell_type": "code",
   "execution_count": null,
   "metadata": {},
   "outputs": [],
   "source": []
  }
 ],
 "metadata": {
  "kernelspec": {
   "display_name": "Python 3",
   "language": "python",
   "name": "python3"
  },
  "language_info": {
   "codemirror_mode": {
    "name": "ipython",
    "version": 3
   },
   "file_extension": ".py",
   "mimetype": "text/x-python",
   "name": "python",
   "nbconvert_exporter": "python",
   "pygments_lexer": "ipython3",
   "version": "3.7.7"
  }
 },
 "nbformat": 4,
 "nbformat_minor": 4
}
